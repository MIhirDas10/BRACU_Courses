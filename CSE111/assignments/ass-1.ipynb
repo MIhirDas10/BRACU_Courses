{
 "cells": [
  {
   "cell_type": "code",
   "execution_count": 8,
   "metadata": {},
   "outputs": [
    {
     "name": "stdout",
     "output_type": "stream",
     "text": [
      "HOUSE\n"
     ]
    }
   ],
   "source": [
    "upper_count=0\n",
    "lower_count=0\n",
    "output=''\n",
    "var=input('Enter a word: ')\n",
    "for i in range(len(var)):\n",
    "  if 65<=ord(var[i])<=90:\n",
    "    upper_count+=1\n",
    "  elif 97<=ord(var[i])<=122:\n",
    "    lower_count+=1\n",
    "if upper_count>lower_count:\n",
    "  for i in var:\n",
    "    if 97<=ord(i)<=122:\n",
    "      output+=chr(ord(i)-32)\n",
    "    else:\n",
    "      output+=i\n",
    "elif upper_count<=lower_count:\n",
    "  for j in var:\n",
    "    if 65<=ord(j)<=90:\n",
    "      output+=chr(ord(j)+32)\n",
    "    else:\n",
    "      output+=j\n",
    "print(output)"
   ]
  },
  {
   "cell_type": "code",
   "execution_count": 11,
   "metadata": {},
   "outputs": [
    {
     "name": "stdout",
     "output_type": "stream",
     "text": [
      "Numbers\n"
     ]
    }
   ],
   "source": [
    "var=input('Enter a word: ')\n",
    "word=0\n",
    "digit=0\n",
    "for i in range(len(var)):\n",
    "    if 48<ord(var[i])<68:\n",
    "        digit+=1\n",
    "    if 65<ord(var[i])<90 or 97<ord(var[i])<122:\n",
    "        word+=1\n",
    "if digit>=1 and word==0:\n",
    "    print('Numbers')\n",
    "if word>=1 and digit==0:\n",
    "    print('Words')\n",
    "if digit>=1 and word>=1:\n",
    "    print('Mixed')"
   ]
  },
  {
   "cell_type": "code",
   "execution_count": 20,
   "metadata": {},
   "outputs": [
    {
     "name": "stdout",
     "output_type": "stream",
     "text": [
      "glad\n"
     ]
    }
   ],
   "source": [
    "var=input('Enter a word: ')\n",
    "first=0\n",
    "last=0\n",
    "for i in range(len(var)):\n",
    "    if 65<=ord(var[i])<=90:\n",
    "        first=i\n",
    "        break\n",
    "for i in range(len(var)):\n",
    "    if 65<=ord(var[i])<=90:\n",
    "        last=i\n",
    "diff=last-first\n",
    "if diff==0:\n",
    "    print('BLANK')\n",
    "sliced_var=var[first+1:last]\n",
    "print(sliced_var)"
   ]
  },
  {
   "cell_type": "code",
   "execution_count": 23,
   "metadata": {},
   "outputs": [
    {
     "name": "stdout",
     "output_type": "stream",
     "text": [
      "Nothing in common\n",
      "\n"
     ]
    }
   ],
   "source": [
    "var1=input()\n",
    "var2=input()\n",
    "out=\"\"\n",
    "for i in var1:\n",
    "    if i in var2:\n",
    "        out+=i\n",
    "for i in var2:\n",
    "    if i in var1:\n",
    "        out+=i\n",
    "if len(out)==0:\n",
    "    print('Nothing in common')\n",
    "print(out)"
   ]
  },
  {
   "cell_type": "code",
   "execution_count": 32,
   "metadata": {},
   "outputs": [
    {
     "name": "stdout",
     "output_type": "stream",
     "text": [
      "hrrhr\n"
     ]
    }
   ],
   "source": [
    "var=input().split(',')\n",
    "out=\"\"\n",
    "for i in var[0]:\n",
    "    if i in var[1]:\n",
    "        out+=i\n",
    "for i in var[1]:\n",
    "    if i in var[0]:\n",
    "        out+=i\n",
    "if len(out)==0:\n",
    "    print('Nothing in common')\n",
    "print(out)"
   ]
  },
  {
   "cell_type": "code",
   "execution_count": 33,
   "metadata": {},
   "outputs": [
    {
     "name": "stdout",
     "output_type": "stream",
     "text": [
      "OK\n"
     ]
    }
   ],
   "source": [
    "var=input()\n",
    "lower=0\n",
    "upper=0\n",
    "digit=0\n",
    "space=0\n",
    "for i in var:\n",
    "    if 'A'<=i<='Z': upper=1\n",
    "    elif 'a'<=i<='z': lower=1\n",
    "    elif '0'<=i<='9': digit=1\n",
    "    else: space=1\n",
    "if upper==0:\n",
    "    print('Uppercase character missing')\n",
    "if lower==0:\n",
    "    print('Lowercase character is missing')\n",
    "if digit==0:\n",
    "    print('Digit missing')\n",
    "if space==0:\n",
    "    print('special character missing')\n",
    "if lower+upper+digit+space==4:\n",
    "    print('OK')"
   ]
  },
  {
   "cell_type": "code",
   "execution_count": 36,
   "metadata": {},
   "outputs": [
    {
     "name": "stdout",
     "output_type": "stream",
     "text": [
      "10 2 times\n",
      "20 2 times\n",
      "30 1 times\n",
      "50 1 times\n",
      "90 1 times\n"
     ]
    }
   ],
   "source": [
    "list1=[]\n",
    "while True:\n",
    "    var=input()\n",
    "    if var=='STOP':\n",
    "        break\n",
    "    else:\n",
    "        list1.append(int(var))\n",
    "list2=[]\n",
    "for i in list1:\n",
    "    if i not in list2:\n",
    "        list2.append(i)\n",
    "for i in list2:\n",
    "    count=0\n",
    "    for j in list1:\n",
    "        if i==j:\n",
    "            count+=1\n",
    "    print(i,count,'times')"
   ]
  },
  {
   "cell_type": "code",
   "execution_count": 37,
   "metadata": {},
   "outputs": [
    {
     "name": "stdout",
     "output_type": "stream",
     "text": [
      "33\n",
      "['10', '11', '12']\n"
     ]
    }
   ],
   "source": [
    "sum1,sum2=0,0\n",
    "list1=[]\n",
    "n=int(input())\n",
    "for i in range(n):\n",
    "    var2=input().split(\" \")\n",
    "    for i in var2:\n",
    "        sum2+=int(i)\n",
    "    if sum2>sum1:\n",
    "        sum1=sum2\n",
    "        list1=var2\n",
    "        sum2=0\n",
    "    else:\n",
    "        sum2=0\n",
    "        continue\n",
    "print(f'{sum1}\\n{list1}')"
   ]
  },
  {
   "cell_type": "code",
   "execution_count": 38,
   "metadata": {},
   "outputs": [
    {
     "name": "stdout",
     "output_type": "stream",
     "text": [
      "[6, 8, 10, 9, 12, 15, 18, 24, 30]\n"
     ]
    }
   ],
   "source": [
    "list1=[]\n",
    "var1=input().split(\" \")\n",
    "var2=input().split(\" \")\n",
    "for i in var1:\n",
    "    for j in var2:\n",
    "        list1.append(int(i)*int(j))\n",
    "print(list1)"
   ]
  },
  {
   "cell_type": "code",
   "execution_count": 41,
   "metadata": {},
   "outputs": [
    {
     "name": "stdout",
     "output_type": "stream",
     "text": [
      "UB Jumper\n",
      "UB Jumper\n",
      "Not UB Jumper\n"
     ]
    }
   ],
   "source": [
    "while True:\n",
    "    num=input()\n",
    "    split_num=num.split()\n",
    "    if num==\"STOP\":\n",
    "        break\n",
    "    else:\n",
    "        for i in range(len(split_num)):\n",
    "            am=int(split_num[i])\n",
    "            split_num[i]=am\n",
    "        list2=[]\n",
    "        for i in range(len(split_num)-1):\n",
    "            diff=split_num[i]-split_num[i+1]\n",
    "            list2.append(diff)\n",
    "            list2[i]=abs(list2[i])\n",
    "        for j in range(1,len(split_num)):\n",
    "            if j in list2:\n",
    "                out='UB Jumper'\n",
    "            else:\n",
    "                out='Not UB Jumper'\n",
    "                break\n",
    "        print(out)"
   ]
  },
  {
   "cell_type": "code",
   "execution_count": 47,
   "metadata": {},
   "outputs": [
    {
     "name": "stdout",
     "output_type": "stream",
     "text": [
      "1\n"
     ]
    }
   ],
   "source": [
    "list1=input().split(\" \")\n",
    "list2=input().split(\" \")\n",
    "list3=[]\n",
    "for i in list2:\n",
    "    if int(i)<=5-int(list1[1]):\n",
    "        list3.append(i)\n",
    "print(len(list3)//3)"
   ]
  },
  {
   "cell_type": "code",
   "execution_count": 48,
   "metadata": {},
   "outputs": [
    {
     "name": "stdout",
     "output_type": "stream",
     "text": [
      "{'a': 400, 'b': 300, 'c': 200, 'd': 700, 'e': 200}\n",
      "Values: (200, 300, 400, 700)\n"
     ]
    }
   ],
   "source": [
    "var1=input().split(\", \")\n",
    "var2=input().split(\", \")\n",
    "dict1={}\n",
    "list1=[]\n",
    "for i in var1:\n",
    "    i=i.split(\": \")\n",
    "    dict1[i[0]]=int(i[1])\n",
    "for i in var2:\n",
    "    i=i.split(': ')\n",
    "    if i[0] not in dict1.keys():\n",
    "        dict1[i[0]]=int(i[1])\n",
    "    else:\n",
    "        dict1[i[0]]+=int(i[1])\n",
    "print(dict1)\n",
    "for i in dict1.values():\n",
    "    if i not in list1:\n",
    "        list1.append(int(i))\n",
    "list1=tuple(sorted(list1))\n",
    "print(f'Values: {list1}')"
   ]
  },
  {
   "cell_type": "code",
   "execution_count": 49,
   "metadata": {},
   "outputs": [
    {
     "name": "stdout",
     "output_type": "stream",
     "text": [
      "10-2 times\n",
      "20-2 times\n",
      "30-1 times\n",
      "50-1 times\n",
      "90-1 times\n"
     ]
    }
   ],
   "source": [
    "dict1={}\n",
    "while i:\n",
    "    var=input()\n",
    "    if var!='STOP':\n",
    "        if var not in dict1:\n",
    "            dict1[var]=1\n",
    "        else:\n",
    "            dict1[var]+=1\n",
    "    else:\n",
    "        break \n",
    "for i,j in dict1.items():\n",
    "    print(f'{i}-{j} times')"
   ]
  },
  {
   "cell_type": "code",
   "execution_count": 50,
   "metadata": {},
   "outputs": [
    {
     "name": "stdout",
     "output_type": "stream",
     "text": [
      "{'value1': ['key1', 'key3'], 'value2': ['key2']}\n"
     ]
    }
   ],
   "source": [
    "var=input().split(\", \")\n",
    "dict1={}\n",
    "for i in var:\n",
    "    var1=i.split(\" : \")\n",
    "    if var1[1] in dict1.keys():\n",
    "        dict1[var1[1]]+=[var1[0]]\n",
    "    else:\n",
    "        dict1[var1[1]]=[var1[0]]\n",
    "print(dict1)"
   ]
  },
  {
   "cell_type": "code",
   "execution_count": 2,
   "metadata": {},
   "outputs": [
    {
     "ename": "TypeError",
     "evalue": "string indices must be integers, not 'str'",
     "output_type": "error",
     "traceback": [
      "\u001b[1;31m---------------------------------------------------------------------------\u001b[0m",
      "\u001b[1;31mTypeError\u001b[0m                                 Traceback (most recent call last)",
      "\u001b[1;32md:\\code code code\\ass-1.ipynb Cell 15\u001b[0m line \u001b[0;36m9\n\u001b[0;32m      <a href='vscode-notebook-cell:/d%3A/code%20code%20code/ass-1.ipynb#X21sZmlsZQ%3D%3D?line=6'>7</a>\u001b[0m upper_out\u001b[39m=\u001b[39m\u001b[39m\"\u001b[39m\u001b[39m\"\u001b[39m\n\u001b[0;32m      <a href='vscode-notebook-cell:/d%3A/code%20code%20code/ass-1.ipynb#X21sZmlsZQ%3D%3D?line=7'>8</a>\u001b[0m \u001b[39mfor\u001b[39;00m i \u001b[39min\u001b[39;00m var:\n\u001b[1;32m----> <a href='vscode-notebook-cell:/d%3A/code%20code%20code/ass-1.ipynb#X21sZmlsZQ%3D%3D?line=8'>9</a>\u001b[0m     \u001b[39mif\u001b[39;00m \u001b[39m97\u001b[39m\u001b[39m<\u001b[39m\u001b[39m=\u001b[39m\u001b[39mord\u001b[39m(var[i])\u001b[39m<\u001b[39m\u001b[39m=\u001b[39m\u001b[39m122\u001b[39m:\n\u001b[0;32m     <a href='vscode-notebook-cell:/d%3A/code%20code%20code/ass-1.ipynb#X21sZmlsZQ%3D%3D?line=9'>10</a>\u001b[0m         \u001b[39mfor\u001b[39;00m i \u001b[39min\u001b[39;00m var:\n\u001b[0;32m     <a href='vscode-notebook-cell:/d%3A/code%20code%20code/ass-1.ipynb#X21sZmlsZQ%3D%3D?line=10'>11</a>\u001b[0m             \u001b[39mif\u001b[39;00m \u001b[39m97\u001b[39m\u001b[39m<\u001b[39m\u001b[39m=\u001b[39m\u001b[39mord\u001b[39m(i)\u001b[39m<\u001b[39m\u001b[39m=\u001b[39m\u001b[39m122\u001b[39m:\n",
      "\u001b[1;31mTypeError\u001b[0m: string indices must be integers, not 'str'"
     ]
    }
   ],
   "source": [
    "keys={\n",
    "    '1':'.,?!:','2':'ABC','3':'DEF','4':'GHI','5':'JKL',\n",
    "    '6':'MNO','7':'PQRS','8':'TUV','9':'WXYZ','0':' '\n",
    "}\n",
    "var=input()\n",
    "out=\"\"\n",
    "upper_out=\"\"\n",
    "for i in var:\n",
    "    if 97<=ord(var[i])<=122:\n",
    "        for i in var:\n",
    "            if 97<=ord(i)<=122:\n",
    "                upper_out+=chr(ord(i)-32)\n",
    "            else:\n",
    "                upper_out+=i\n",
    "for j in var:\n",
    "    for k,v in keys.items():\n",
    "        if i in v:\n",
    "            print(k*(v.index(i)+1),end=\" \")"
   ]
  },
  {
   "cell_type": "code",
   "execution_count": 1,
   "metadata": {},
   "outputs": [
    {
     "name": "stdout",
     "output_type": "stream",
     "text": [
      "4433555555666110966677755531111"
     ]
    }
   ],
   "source": [
    "var={'1':'.,?!:','2':'ABC','3':'DEF','4':'GHI','5':'JKL',\n",
    "    '6':'MNO','7':'PQRS','8':'TUV','9':'WXYZ','0':' '}\n",
    "text=input().upper()\n",
    "for i in text:\n",
    "    for k,v in var.items():\n",
    "        if i in v:\n",
    "            print(k*(v.index(i)+1),end=\"\")"
   ]
  },
  {
   "cell_type": "code",
   "execution_count": 8,
   "metadata": {},
   "outputs": [
    {
     "name": "stdout",
     "output_type": "stream",
     "text": [
      "4411091111"
     ]
    }
   ],
   "source": [
    "var={'1':'.,?!:','2':'ABC','3':'DEF','4':'GHI','5':'JKL',\n",
    "    '6':'MNO','7':'PQRS','8':'TUV','9':'WXYZ','0':' '}\n",
    "output=\"\"\n",
    "text=input()\n",
    "for idx in text:\n",
    "    if 65<=ord(idx)<=90:\n",
    "      output+=idx\n",
    "    else:\n",
    "      output+=chr(ord(idx)-32)\n",
    "        \n",
    "for i in text:\n",
    "    for k,v in var.items():\n",
    "        if i in v:\n",
    "            print(k*(v.index(i)+1),end=\"\")"
   ]
  }
 ],
 "metadata": {
  "kernelspec": {
   "display_name": "Python 3",
   "language": "python",
   "name": "python3"
  },
  "language_info": {
   "codemirror_mode": {
    "name": "ipython",
    "version": 3
   },
   "file_extension": ".py",
   "mimetype": "text/x-python",
   "name": "python",
   "nbconvert_exporter": "python",
   "pygments_lexer": "ipython3",
   "version": "3.11.3"
  },
  "orig_nbformat": 4
 },
 "nbformat": 4,
 "nbformat_minor": 2
}
