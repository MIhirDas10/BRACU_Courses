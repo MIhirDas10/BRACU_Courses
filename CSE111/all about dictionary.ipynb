{
 "cells": [
  {
   "cell_type": "code",
   "execution_count": 1,
   "metadata": {},
   "outputs": [
    {
     "name": "stdout",
     "output_type": "stream",
     "text": [
      "Ross\n",
      "Rachel\n",
      "Chandler\n",
      "Monica\n",
      "Joey\n",
      "Pheobe\n"
     ]
    }
   ],
   "source": [
    "friends={'Ross':1,'Rachel':2,'Chandler':3,'Monica':4,'Joey':5,'Pheobe':6}\n",
    "for i in friends:\n",
    "    print(i) #prints only the keys"
   ]
  },
  {
   "cell_type": "code",
   "execution_count": 45,
   "metadata": {},
   "outputs": [
    {
     "name": "stdout",
     "output_type": "stream",
     "text": [
      "Ross uses this wtf.com domain\n",
      "Email address is: Ross@wtf.com\n",
      "----------------------------\n",
      "Rachel uses this gcw.com domain\n",
      "Email address is: Rachel@gcw.com\n",
      "----------------------------\n",
      "Chandler uses this xyz.com domain\n",
      "Email address is: Chandler@xyz.com\n",
      "----------------------------\n",
      "Monica uses this rym domain\n",
      "Email address is: Monica@rym\n",
      "----------------------------\n",
      "Joey uses this hyd.com domain\n",
      "Email address is: Joey@hyd.com\n",
      "----------------------------\n",
      "Pheobe uses this xyz.com domain\n",
      "Email address is: Pheobe@xyz.com\n",
      "----------------------------\n"
     ]
    }
   ],
   "source": [
    "friends={'Ross@wtf.com':1,'Rachel@gcw.com':2,'Chandler@xyz.com':3,'Monica@rym':4,'Joey@hyd.com':5,'Pheobe@xyz.com':6}\n",
    "out=''\n",
    "for k,v in friends.items():\n",
    "    val1=k.split('@')\n",
    "    val2=v\n",
    "    for i in val1:\n",
    "        name,domain=val1[0],val1[1]\n",
    "    print(f'{name} uses this {domain} domain')\n",
    "    print(f'Email address is: {name}@{domain}')\n",
    "    print('----------------------------')"
   ]
  },
  {
   "cell_type": "code",
   "execution_count": 64,
   "metadata": {},
   "outputs": [
    {
     "name": "stdout",
     "output_type": "stream",
     "text": [
      "Ross is using the email Ross@wtf.com\n",
      "Rachel is using the email Rachel@gcw.com\n",
      "Chandler is using the email Chandler@xyz.com\n",
      "Monica is using the email Monica@rym.com\n",
      "Joey is using the email Joey@hyd.com\n",
      "Pheobe is using the email Pheobe@xyz.com\n",
      "-----------------\n",
      "samesies\n",
      "samesies are between xyz.com\n"
     ]
    }
   ],
   "source": [
    "friends={'Ross@wtf.com':1,'Rachel@gcw.com':2,'Chandler@xyz.com':3,'Monica@rym.com':4,'Joey@hyd.com':5,'Pheobe@xyz.com':6}\n",
    "for k,v in friends.items():\n",
    "    out=k.split('@')\n",
    "    for i in out:\n",
    "        name,domain=out[0],out[1]\n",
    "    print(f'{name} is using the email {name}@{domain}')\n",
    "print('-----------------')\n",
    "res=''\n",
    "for j in out[1]:\n",
    "    res+=j\n",
    "if out[1]==res:\n",
    "    print('samesies')\n",
    "    print(f'samesies are between {res}')"
   ]
  },
  {
   "cell_type": "code",
   "execution_count": 4,
   "metadata": {},
   "outputs": [
    {
     "name": "stdout",
     "output_type": "stream",
     "text": [
      "FIRfirmiddle_name_t_id\n"
     ]
    }
   ],
   "source": [
    "def username_generator(first_name,last_name,student_id,middle_name=None):\n",
    "    out_C=''\n",
    "    for i in first_name:\n",
    "        if 'a'<i<'z':\n",
    "            out_C+=chr(ord(i)-32)\n",
    "        else:\n",
    "            out_C+=i\n",
    "    first_name=out_C[:3]\n",
    "    out_L=''\n",
    "    for i in first_name:\n",
    "        if 'A'<i<'Z':\n",
    "            out_L+=chr(ord(i)+32)\n",
    "        else:\n",
    "            out_L+=i\n",
    "    last_name=out_L[-3:]\n",
    "    student_id=str(student_id)[-4:]\n",
    "    if middle_name!=None:\n",
    "        user_name=(f'{first_name}{last_name}{middle_name}_{student_id}')\n",
    "    else:\n",
    "        user_name=(f'{first_name}{last_name}_{student_id}')\n",
    "    print(user_name)\n",
    "    first_name,last_name,student_id,middle_name=input('first'),input('last'),input('id'),input('middle')\n",
    "username_generator('first_name','last_name','student_id','middle_name')"
   ]
  },
  {
   "cell_type": "code",
   "execution_count": null,
   "metadata": {},
   "outputs": [],
   "source": [
    "# 'a: 100, b: 100, c: 200, d: 300'\n",
    "# 'a: 300, b: 200, d: 400, e: 200'\n",
    "str1=input().split(', ')\n",
    "str2=input().split(', ')\n",
    "dict1={};lst=[]\n",
    "for i in str1:\n",
    "    i=i.split(':')\n",
    "    dict1[i[0]]=i[1]\n",
    "print(dict1)"
   ]
  }
 ],
 "metadata": {
  "kernelspec": {
   "display_name": "Python 3",
   "language": "python",
   "name": "python3"
  },
  "language_info": {
   "codemirror_mode": {
    "name": "ipython",
    "version": 3
   },
   "file_extension": ".py",
   "mimetype": "text/x-python",
   "name": "python",
   "nbconvert_exporter": "python",
   "pygments_lexer": "ipython3",
   "version": "3.11.3"
  },
  "orig_nbformat": 4
 },
 "nbformat": 4,
 "nbformat_minor": 2
}
