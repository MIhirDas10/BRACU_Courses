{
 "cells": [
  {
   "cell_type": "code",
   "execution_count": 91,
   "metadata": {},
   "outputs": [
    {
     "name": "stdout",
     "output_type": "stream",
     "text": [
      "John Mike Ross Max {'CSE': 123, 'ANT': 345, 'EEE': 567, 'BBA': 789}\n",
      "{'John': 789, 'Mike': 789, 'Warner': 789, 'Max': 789}\n"
     ]
    }
   ],
   "source": [
    "students={'John':{'CSE':123},'Mike':{'ANT':345},'Ross':{'EEE':567},'Max':{'BBA':789}}\n",
    "lst_dept=[]\n",
    "lst_id=[]\n",
    "lst_names=[]\n",
    "dict1={}\n",
    "emty={}\n",
    "for k,v in students.items():\n",
    "    name=k\n",
    "    background=v\n",
    "    print(name,end=' ')\n",
    "# print(name,background)\n",
    "    for x,y in background.items():\n",
    "        dept=x\n",
    "        id=y\n",
    "        lst_dept.append(dept)\n",
    "        lst_id.append(id)\n",
    "        lst_names.append(name)\n",
    "        emty.update({x:y})\n",
    "print(emty)\n",
    "lst_names[2]='Warner'\n",
    "# print()\n",
    "# print(lst_dept)\n",
    "# print(lst_id)\n",
    "# print(lst_names)\n",
    "for i in lst_names:\n",
    "    for id in lst_id:\n",
    "        # print(f'{i}:{j}')\n",
    "        # dict1.update({i:id})\n",
    "        dict1.update({i:y})\n",
    "print(dict1)\n",
    "# print(dict1)\n",
    "# print(dept,id)"
   ]
  },
  {
   "cell_type": "code",
   "execution_count": 94,
   "metadata": {},
   "outputs": [
    {
     "ename": "IndexError",
     "evalue": "list assignment index out of range",
     "output_type": "error",
     "traceback": [
      "\u001b[1;31m---------------------------------------------------------------------------\u001b[0m",
      "\u001b[1;31mIndexError\u001b[0m                                Traceback (most recent call last)",
      "\u001b[1;32md:\\code code code\\for my practice.ipynb Cell 2\u001b[0m line \u001b[0;36m8\n\u001b[0;32m      <a href='vscode-notebook-cell:/d%3A/code%20code%20code/for%20my%20practice.ipynb#W1sZmlsZQ%3D%3D?line=5'>6</a>\u001b[0m     \u001b[39mfor\u001b[39;00m dept, \u001b[39mid\u001b[39m \u001b[39min\u001b[39;00m background\u001b[39m.\u001b[39mitems():\n\u001b[0;32m      <a href='vscode-notebook-cell:/d%3A/code%20code%20code/for%20my%20practice.ipynb#W1sZmlsZQ%3D%3D?line=6'>7</a>\u001b[0m         lst_names\u001b[39m.\u001b[39mappend(name)\n\u001b[1;32m----> <a href='vscode-notebook-cell:/d%3A/code%20code%20code/for%20my%20practice.ipynb#W1sZmlsZQ%3D%3D?line=7'>8</a>\u001b[0m         lst_names[\u001b[39m2\u001b[39;49m] \u001b[39m=\u001b[39m \u001b[39m'\u001b[39m\u001b[39mWarner\u001b[39m\u001b[39m'\u001b[39m\n\u001b[0;32m     <a href='vscode-notebook-cell:/d%3A/code%20code%20code/for%20my%20practice.ipynb#W1sZmlsZQ%3D%3D?line=9'>10</a>\u001b[0m \u001b[39m# Update the name of the third student\u001b[39;00m\n\u001b[0;32m     <a href='vscode-notebook-cell:/d%3A/code%20code%20code/for%20my%20practice.ipynb#W1sZmlsZQ%3D%3D?line=10'>11</a>\u001b[0m \n\u001b[0;32m     <a href='vscode-notebook-cell:/d%3A/code%20code%20code/for%20my%20practice.ipynb#W1sZmlsZQ%3D%3D?line=11'>12</a>\u001b[0m \n\u001b[0;32m     <a href='vscode-notebook-cell:/d%3A/code%20code%20code/for%20my%20practice.ipynb#W1sZmlsZQ%3D%3D?line=12'>13</a>\u001b[0m \u001b[39m# Create a dictionary with names as keys and IDs as values\u001b[39;00m\n\u001b[0;32m     <a href='vscode-notebook-cell:/d%3A/code%20code%20code/for%20my%20practice.ipynb#W1sZmlsZQ%3D%3D?line=13'>14</a>\u001b[0m \u001b[39mfor\u001b[39;00m name \u001b[39min\u001b[39;00m lst_names:\n",
      "\u001b[1;31mIndexError\u001b[0m: list assignment index out of range"
     ]
    }
   ],
   "source": [
    "students = {'John': {'CSE': 123}, 'Mike': {'ANT': 345}, 'Ross': {'EEE': 567}, 'Max': {'BBA': 789}}\n",
    "lst_names = []\n",
    "dict1 = {}\n",
    "\n",
    "for name, background in students.items():\n",
    "    for dept, id in background.items():\n",
    "        lst_names.append(name)\n",
    "        lst_names[2] = 'Warner'\n",
    "\n",
    "# Update the name of the third student\n",
    "\n",
    "\n",
    "# Create a dictionary with names as keys and IDs as values\n",
    "for name in lst_names:\n",
    "    dict1[name] = students[name][list(students[name].keys())[0]]\n",
    "\n",
    "print(dict1)\n"
   ]
  },
  {
   "cell_type": "code",
   "execution_count": 103,
   "metadata": {},
   "outputs": [
    {
     "name": "stdout",
     "output_type": "stream",
     "text": [
      "J\n",
      "o\n",
      "athon\n",
      "Joh\n",
      "hon\n",
      "thon\n"
     ]
    }
   ],
   "source": [
    "name='Johnathon'\n",
    "print(name[0])\n",
    "print(name[1:2:])\n",
    "print(name[4::])\n",
    "print(name[:3])\n",
    "print(name[-3::])\n",
    "print(name[-4::])"
   ]
  },
  {
   "cell_type": "code",
   "execution_count": 104,
   "metadata": {},
   "outputs": [
    {
     "name": "stdout",
     "output_type": "stream",
     "text": [
      "Highest fee was 1000 tk which was paid by Neymar, Bale.\n"
     ]
    },
    {
     "ename": "TypeError",
     "evalue": "cannot unpack non-iterable NoneType object",
     "output_type": "error",
     "traceback": [
      "\u001b[1;31m---------------------------------------------------------------------------\u001b[0m",
      "\u001b[1;31mTypeError\u001b[0m                                 Traceback (most recent call last)",
      "\u001b[1;32md:\\code code code\\for my practice.ipynb Cell 4\u001b[0m line \u001b[0;36m1\n\u001b[0;32m     <a href='vscode-notebook-cell:/d%3A/code%20code%20code/for%20my%20practice.ipynb#W3sZmlsZQ%3D%3D?line=12'>13</a>\u001b[0m     \u001b[39mprint\u001b[39m(\u001b[39mf\u001b[39m\u001b[39m'\u001b[39m\u001b[39mHighest fee was \u001b[39m\u001b[39m{\u001b[39;00mmax_amount\u001b[39m}\u001b[39;00m\u001b[39m tk which was paid by \u001b[39m\u001b[39m{\u001b[39;00mmax_payer_str\u001b[39m}\u001b[39;00m\u001b[39m.\u001b[39m\u001b[39m'\u001b[39m)\n\u001b[0;32m     <a href='vscode-notebook-cell:/d%3A/code%20code%20code/for%20my%20practice.ipynb#W3sZmlsZQ%3D%3D?line=14'>15</a>\u001b[0m \u001b[39m# Function Call 1\u001b[39;00m\n\u001b[1;32m---> <a href='vscode-notebook-cell:/d%3A/code%20code%20code/for%20my%20practice.ipynb#W3sZmlsZQ%3D%3D?line=15'>16</a>\u001b[0m max_amount, max_payer \u001b[39m=\u001b[39m hospital_fee(Neymar\u001b[39m=\u001b[39m\u001b[39m1000\u001b[39m, Dembele\u001b[39m=\u001b[39m\u001b[39m600\u001b[39m, Reus\u001b[39m=\u001b[39m\u001b[39m500\u001b[39m, Bale\u001b[39m=\u001b[39m\u001b[39m1000\u001b[39m)\n\u001b[0;32m     <a href='vscode-notebook-cell:/d%3A/code%20code%20code/for%20my%20practice.ipynb#W3sZmlsZQ%3D%3D?line=17'>18</a>\u001b[0m \u001b[39m# Function Call 2\u001b[39;00m\n\u001b[0;32m     <a href='vscode-notebook-cell:/d%3A/code%20code%20code/for%20my%20practice.ipynb#W3sZmlsZQ%3D%3D?line=18'>19</a>\u001b[0m max_amount, max_payer \u001b[39m=\u001b[39m hospital_fee(Mashrafe\u001b[39m=\u001b[39m\u001b[39m400\u001b[39m, Bumrah\u001b[39m=\u001b[39m\u001b[39m900\u001b[39m, Steyn\u001b[39m=\u001b[39m\u001b[39m1200\u001b[39m, Cummins\u001b[39m=\u001b[39m\u001b[39m900\u001b[39m, Wood\u001b[39m=\u001b[39m\u001b[39m400\u001b[39m, Marsh\u001b[39m=\u001b[39m\u001b[39m700\u001b[39m)\n",
      "\u001b[1;31mTypeError\u001b[0m: cannot unpack non-iterable NoneType object"
     ]
    }
   ],
   "source": [
    "def hospital_fee(**kwargs):\n",
    "    max_amount = 0\n",
    "    max_payer = []\n",
    "\n",
    "    for payer, amount in kwargs.items():\n",
    "        if amount > max_amount:\n",
    "            max_amount = amount\n",
    "            max_payer = [payer]\n",
    "        elif amount == max_amount:\n",
    "            max_payer.append(payer)\n",
    "\n",
    "    max_payer_str = ', '.join(max_payer)\n",
    "    print(f'Highest fee was {max_amount} tk which was paid by {max_payer_str}.')\n",
    "\n",
    "# Function Call 1\n",
    "max_amount, max_payer = hospital_fee(Neymar=1000, Dembele=600, Reus=500, Bale=1000)\n",
    "# Function Call 2\n",
    "max_amount, max_payer = hospital_fee(Mashrafe=400, Bumrah=900, Steyn=1200, Cummins=900, Wood=400, Marsh=700)\n"
   ]
  },
  {
   "cell_type": "code",
   "execution_count": 120,
   "metadata": {},
   "outputs": [
    {
     "name": "stdout",
     "output_type": "stream",
     "text": [
      "Highest fee was 1000tk which was paid by ['Neymar', 'Bale']\n",
      "which was paid by\n",
      "Neymar, Bale.\n"
     ]
    }
   ],
   "source": [
    "def hospital_fee(**kwargs):\n",
    "    # Initialize variables to keep track of the highest fee and its payers\n",
    "    max_amount = 0\n",
    "    max_payers = []\n",
    "\n",
    "    # Iterate through the keyword arguments and find the highest fee and payers\n",
    "    for payer, fee in kwargs.items():\n",
    "        if fee > max_amount:\n",
    "            max_amount = fee\n",
    "            max_payers = [payer]\n",
    "        elif fee == max_amount:\n",
    "            max_payers.append(payer)\n",
    "\n",
    "    # Return the highest fee and the list of highest payers\n",
    "    return max_amount, max_payers\n",
    "\n",
    "# Example 1\n",
    "max_amount, max_payers = hospital_fee(Neymar=1000, Dembele=600, Reus=500, Bale=1000)\n",
    "print(f\"Highest fee was {max_amount}tk which was paid by {max_payers}\")\n",
    "print(\"which was paid by\")\n",
    "print(\", \".join(max_payers) + \".\")\n",
    "\n",
    "# Example 2\n",
    "# max_amount, max_payers = hospital_fee(Mashrafe=400, Bumrah=900, Steyn=1200, Cummins=900, Wood=400, Marsh=700)\n",
    "\n"
   ]
  },
  {
   "cell_type": "code",
   "execution_count": 167,
   "metadata": {},
   "outputs": [
    {
     "name": "stdout",
     "output_type": "stream",
     "text": [
      "Highest fee was 1000 tk which was paid by Neymar, Bale, John, Harvey.\n",
      "Highest fee was 1200 tk which was paid by Neymar, Bale, John, Harvey.\n"
     ]
    }
   ],
   "source": [
    "def hospital_fee(**kwargs):\n",
    "    # Initialize variables to keep track of the highest fee and its payers\n",
    "    max_amount = 0\n",
    "    max_payers = []\n",
    "    # Iterate through the keyword arguments and find the highest fee and payers\n",
    "    for payer, fee in kwargs.items():\n",
    "        if fee > max_amount:\n",
    "            max_amount = fee\n",
    "            max_payers = [payer]\n",
    "        elif fee == max_amount:\n",
    "            max_payers.append(payer)\n",
    "\n",
    "    max_payers_str = \"\"\n",
    "    for payer in max_payers:\n",
    "        max_payers_str += payer + \", \"\n",
    "\n",
    "    # Remove the trailing comma and space\n",
    "    # max_payers_str = max_payers_str\n",
    "    out=''\n",
    "    for i in max_payers:\n",
    "        out+=i+', '\n",
    "    # print(out)\n",
    "    return max_amount,out[:-2:]\n",
    "\n",
    "# Example 1\n",
    "max_amount, max_payers = hospital_fee(Neymar=1000, Dembele=600, Reus=500, Bale=1000, John=1000, Harvey=1000)\n",
    "# print(f\"Highest fee was {max_amount} tk which was paid by {', '.join(max_payers)}.\")\n",
    "print(f\"Highest fee was {max_amount} tk which was paid by {max_payers}.\")\n",
    "max_amount, max_payer = hospital_fee(Mashrafe =400, Bumrah = 900, Steyn = 1200, Cummins = 900,Wood = 400, Marsh = 700)\n",
    "print(f\"Highest fee was {max_amount} tk which was paid by {max_payers}.\")\n"
   ]
  },
  {
   "cell_type": "code",
   "execution_count": 190,
   "metadata": {},
   "outputs": [
    {
     "name": "stdout",
     "output_type": "stream",
     "text": [
      "Highest fee was 1000 tk which was paid by Neymar, Bale.\n",
      "Highest fee was 1200 tk which was paid by Steyn.\n"
     ]
    }
   ],
   "source": [
    "def hospital_fee(**kargs):\n",
    "    # Initialize variables to keep track of the highest fee and its payers\n",
    "    max_amount = 0\n",
    "    max_payers = []\n",
    "    # Iterate through the keyword arguments and find the highest fee and payers\n",
    "    for payer, fee in kargs.items():\n",
    "        if fee > max_amount:\n",
    "            max_amount = fee\n",
    "            max_payers = [payer]\n",
    "        elif fee == max_amount:\n",
    "            max_payers.append(payer)\n",
    "\n",
    "    # max_payers_str = \"\"\n",
    "    # for payer in max_payers:\n",
    "    #     max_payers_str += payer + \", \"\n",
    "\n",
    "    # Remove the trailing comma and space\n",
    "    # max_payers_str = max_payers_str\n",
    "    out=''\n",
    "    for i in max_payers:\n",
    "        out+=i+', '\n",
    "    # print(out)\n",
    "    print(f\"Highest fee was {max_amount} tk which was paid by {out[:-2]}.\")\n",
    "    return max_amount,out\n",
    "\n",
    "# Example 1\n",
    "max_amount, max_payer = hospital_fee(Neymar =1000, Dembele = 600, Reus = 500, Bale = 1000)\n",
    "# print(f\"Highest fee was {max_amount} tk which was paid by {', '.join(max_payers)}.\")\n",
    "# print(f\"Highest fee was {max_amount} tk which was paid by {max_payers}.\")\n",
    "max_amount, max_payers = hospital_fee(Mashrafe =400, Bumrah = 900, Steyn = 1200, Cummins = 900,Wood = 400, Marsh = 700)\n",
    "# print(f\"Highest fee was {max_amount} tk which was paid by {max_payers}.\")\n"
   ]
  },
  {
   "cell_type": "code",
   "execution_count": null,
   "metadata": {},
   "outputs": [],
   "source": [
    "class Store:\n",
    "    def __init__(self, initial_balance):\n",
    "        self.balance = initial_balance\n",
    "        self.inventory = {}\n",
    "        print(\"New branch created!\")\n",
    "\n",
    "    def viewAllItems(self):\n",
    "        if not self.inventory:\n",
    "            print(\"There are no items in your inventory\")\n",
    "        else:\n",
    "            items = \", \".join(self.inventory.keys())\n",
    "            print(\"All Items:\", items)\n",
    "\n",
    "    def viewAllItemDetails(self):\n",
    "        if self.inventory:\n",
    "            print(self.inventory)\n",
    "\n",
    "    def add_item(self, item_info):\n",
    "        item_name, stock, buying_price, selling_price = item_info\n",
    "        if item_name in self.inventory:\n",
    "            self.inventory[item_name]['stock'] += stock\n",
    "        else:\n",
    "            self.inventory[item_name] = {\n",
    "                'stock': stock,\n",
    "                'buying_price': buying_price,\n",
    "                'selling_price': selling_price\n",
    "            }\n",
    "        self.balance -= stock * buying_price\n",
    "        print(f\"Item added: {item_name}\")\n",
    "\n",
    "    def sell_item(self, item_name, quantity):\n",
    "        item = self.inventory.get(item_name)\n",
    "        if item and item['stock'] >= quantity:\n",
    "            selling_price = item['selling_price']\n",
    "            item['stock'] -= quantity\n",
    "            self.balance += quantity * selling_price\n",
    "            print(f\"Sold {quantity} units of {item_name}\")\n",
    "        else:\n",
    "            current_stock = item['stock'] if item else 0\n",
    "            print(f\"Sorry! {item_name} is not available at your desired quantity. Currently, we have: {current_stock}\")\n",
    "\n",
    "    def restock_item(self, item_name, quantity):\n",
    "        item = self.inventory.get(item_name)\n",
    "        if item:\n",
    "            item['stock'] += quantity\n",
    "            self.balance -= quantity * item['buying_price']\n",
    "            print(f\"Restocked item: {item_name}, Current Stock: {item['stock']}\")\n",
    "\n",
    "# Driver Code\n",
    "print(\"==========================\")\n",
    "branch1 = Store(5000)\n",
    "print(f\"Current Balance: {branch1.balance}\")\n",
    "print(f\"Total items: {len(branch1.inventory)}\")\n",
    "branch1.viewAllItems()\n",
    "branch1.viewAllItemDetails()\n",
    "print(\"==========================\")\n",
    "print(f\"Current Balance: {branch1.balance}\")\n",
    "branch1.add_item([\"ChaCha Noodles\", 10, 5, 8])\n",
    "print(f\"Current Balance: {branch1.balance}\")\n",
    "branch1.add_item([\"Sparrow Shampoo\", 5, 10, 20])\n",
    "print(f\"Current Balance: {branch1.balance}\")\n",
    "print(\"==========================\")\n",
    "branch1.viewAllItems()\n",
    "print()\n",
    "branch1.viewAllItemDetails()\n",
    "print()\n",
    "print(\"==========================\")\n",
    "print(f\"Current Balance: {branch1.balance}\\n\")\n",
    "branch1.sell_item(\"ChaCha Noodles\", 15)\n",
    "print(f\"Current Balance: {branch1.balance}\\n\")\n",
    "branch1.viewAllItemDetails()\n",
    "print()\n",
    "branch1.sell_item(\"ChaCha Noodles\", 10)\n",
    "print()\n",
    "print(f\"Current Balance: {branch1.balance}\\n\")\n",
    "branch1.viewAllItemDetails()\n",
    "print()\n",
    "print(\"==========================\")\n",
    "print(f\"Current Balance: {branch1.balance}\\n\")\n",
    "branch1.restock_item(\"ChaCha Noodles\", 5)\n",
    "print()\n",
    "branch1.viewAllItemDetails()\n",
    "print()\n",
    "print(f\"Current Balance: {branch1.balance}\\n\")\n",
    "print(\"==========================\")\n"
   ]
  },
  {
   "cell_type": "code",
   "execution_count": null,
   "metadata": {},
   "outputs": [],
   "source": [
    "print('hello')"
   ]
  },
  {
   "cell_type": "code",
   "execution_count": null,
   "metadata": {},
   "outputs": [],
   "source": [
    "lst=['Asus_China','Vivo_Bangladesh','Sony_India','Lenevo_China']\n",
    "tup=(60000,30000,80000,55000)\n",
    "dict1={}\n",
    "device,country=lst.split('_')\n",
    "for i in device:\n",
    "    for j in tup:\n",
    "        dict1[i]=j\n",
    "print(f'output is {dict1}')"
   ]
  },
  {
   "cell_type": "code",
   "execution_count": null,
   "metadata": {},
   "outputs": [],
   "source": [
    "# 'a: 100, b: 100, c: 200, d: 300'\n",
    "# 'a: 300, b: 200, d: 400, e: 200'\n",
    "str1=input().split(', ')\n",
    "str2=input().split(', ')\n",
    "dict1={};lst=[]\n",
    "for i in str1:\n",
    "    i=i.split(':')\n",
    "    dict1[i[0]]=i[1]\n",
    "print(dict1)"
   ]
  }
 ],
 "metadata": {
  "kernelspec": {
   "display_name": "Python 3",
   "language": "python",
   "name": "python3"
  },
  "language_info": {
   "name": "python",
   "version": "3.11.3"
  },
  "orig_nbformat": 4
 },
 "nbformat": 4,
 "nbformat_minor": 2
}
