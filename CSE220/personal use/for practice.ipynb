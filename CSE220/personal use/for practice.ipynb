{
 "cells": [
  {
   "cell_type": "code",
   "execution_count": null,
   "metadata": {},
   "outputs": [
    {
     "name": "stdout",
     "output_type": "stream",
     "text": [
      "[1 2 3 4 5]\n"
     ]
    }
   ],
   "source": [
    "import numpy as np\n",
    "array=np.array([1,2,3,4,5])\n",
    "print(array)"
   ]
  },
  {
   "cell_type": "code",
   "execution_count": 4,
   "metadata": {},
   "outputs": [
    {
     "name": "stdout",
     "output_type": "stream",
     "text": [
      "[2 3 0 0]\n"
     ]
    }
   ],
   "source": [
    "import numpy as np\n",
    "def shiftLeft(arr):\n",
    "    for i in range(1, len(arr), 1):\n",
    "        arr[i-1]= arr[i]\n",
    "        arr[len(arr)-1]= 0\n",
    "    return arr\n",
    "arr= np.array([1,2,3,4])\n",
    "print(shiftLeft(arr))"
   ]
  },
  {
   "cell_type": "code",
   "execution_count": 3,
   "metadata": {},
   "outputs": [
    {
     "name": "stdout",
     "output_type": "stream",
     "text": [
      "[1 2 3 4 5 0 0 0 0 0]\n"
     ]
    }
   ],
   "source": [
    "def resizeArr(arr,new_size):\n",
    "  new=np.zeros(new_size,dtype=int)\n",
    "  for i in range(len(arr)):\n",
    "    new[i]=arr[i]\n",
    "  return new\n",
    "arr1=np.array([1,2,3,4,5],dtype=int)\n",
    "print(resizeArr(arr1,10))"
   ]
  },
  {
   "cell_type": "code",
   "execution_count": 2,
   "metadata": {},
   "outputs": [
    {
     "name": "stdout",
     "output_type": "stream",
     "text": [
      "hello\n"
     ]
    }
   ],
   "source": [
    "print('hello')"
   ]
  },
  {
   "cell_type": "code",
   "execution_count": null,
   "metadata": {},
   "outputs": [],
   "source": [
    "def row_rotation(exam_week, seat_status):\n",
    "  #To Do\n",
    "\n",
    "\n",
    "seat_status = np.array([[ 'A' , 'B' , 'C' , 'D' , 'E'],\n",
    "                  ['F' , 'G' , 'H' , 'I' , 'J'],\n",
    "                  ['K' , 'L' , 'M' , 'N' , 'O'],\n",
    "                  ['P' , 'Q' , 'R' , 'S' , 'T'],\n",
    "                  ['U' , 'V' , 'W' , 'X' , 'Y'],\n",
    "                  ['Z' , 'AA' , 'BB' , 'CC' , 'DD']])\n",
    "exam_week=3\n",
    "print_matrix(seat_status)\n",
    "print()\n",
    "row_number=row_rotation(exam_week, seat_status) #This should print modified seat status after rotation\n",
    "print(f'Your friend AA will be on row {row_number}') #This should print Your friend AA will be on row 2"
   ]
  },
  {
   "cell_type": "code",
   "execution_count": 5,
   "metadata": {},
   "outputs": [
    {
     "name": "stdout",
     "output_type": "stream",
     "text": [
      "[[ 1  2  3  4]\n",
      " [ 4  5  6  7]\n",
      " [ 7  8  9 10]]\n",
      "\n",
      "[[ 1  2  3  4]\n",
      " [ 5  4  6  7]\n",
      " [ 8  8  7 10]]\n"
     ]
    }
   ],
   "source": [
    "import numpy as np\n",
    "def swap_2columns(m):\n",
    "    row, col = m.shape\n",
    "    for i in range(row):\n",
    "        m[i][0], m[i][i] = m[i][1], m[i][0]\n",
    "    return m\n",
    "m=np.array([[1,2,3,4],[4,5,6,7],[7,8,9,10]])\n",
    "print(m)\n",
    "print()\n",
    "print(swap_2columns(m))"
   ]
  },
  {
   "cell_type": "code",
   "execution_count": 6,
   "metadata": {},
   "outputs": [
    {
     "name": "stdout",
     "output_type": "stream",
     "text": [
      "[[ 1  2  3  4]\n",
      " [ 4  5  6  7]\n",
      " [ 7  8  9 10]]\n",
      "\n",
      "[[ 4  3  2  1]\n",
      " [ 7  6  5  4]\n",
      " [10  9  8  7]]\n"
     ]
    }
   ],
   "source": [
    "def swap_columns(m):\n",
    "    row, col = m.shape\n",
    "    for i in range(row):\n",
    "        for j in range(col // 2):\n",
    "            m[i][j], m[i][col - 1 - j] = m[i][col - 1 - j], m[i][j]\n",
    "    return m\n",
    "m=np.array([[1,2,3,4],[4,5,6,7],[7,8,9,10]])\n",
    "print(m)\n",
    "print()\n",
    "print(swap_columns(m))"
   ]
  },
  {
   "cell_type": "code",
   "execution_count": null,
   "metadata": {},
   "outputs": [],
   "source": [
    "def reverse_Matrix(matrix):\n",
    "  #TO DO\n",
    "matrix = np.array([\n",
    "[14,  8,  0,  4],\n",
    "[9,  8,  13,  13],\n",
    "[9,  3,  1,  4],\n",
    "[2,  10,  13,  6]\n",
    "])\n",
    "print(reverse_Matrix(matrix))\n",
    "\n",
    "\n",
    "the output should be like this\n",
    "6   13   10  2 \n",
    "4   1    3   9 \n",
    "13  13   8   9\n",
    "4   0    8   14 \n"
   ]
  },
  {
   "cell_type": "code",
   "execution_count": 1,
   "metadata": {},
   "outputs": [
    {
     "name": "stdout",
     "output_type": "stream",
     "text": [
      "6 13 10 2\n",
      "4 1 3 9\n",
      "13 13 8 9\n",
      "4 0 8 14\n"
     ]
    }
   ],
   "source": [
    "import numpy as np\n",
    "\n",
    "def reverse_Matrix(matrix):\n",
    "    rows, cols = matrix.shape\n",
    "    reversed_matrix = np.empty_like(matrix)\n",
    "    for i in range(rows):\n",
    "        for j in range(cols):\n",
    "            reversed_matrix[i, j] = matrix[rows - i - 1, cols - j - 1]\n",
    "    return reversed_matrix\n",
    "\n",
    "matrix = np.array([\n",
    "    [14,  8,  0,  4],\n",
    "    [9,   8,  13, 13],\n",
    "    [9,   3,  1,  4],\n",
    "    [2,  10,  13,  6]\n",
    "])\n",
    "\n",
    "reversed_matrix = reverse_Matrix(matrix)\n",
    "for row in reversed_matrix:\n",
    "    print(\" \".join(map(str, row)))\n"
   ]
  },
  {
   "cell_type": "code",
   "execution_count": 3,
   "metadata": {},
   "outputs": [
    {
     "ename": "TypeError",
     "evalue": "only integer scalar arrays can be converted to a scalar index",
     "output_type": "error",
     "traceback": [
      "\u001b[1;31m---------------------------------------------------------------------------\u001b[0m",
      "\u001b[1;31mTypeError\u001b[0m                                 Traceback (most recent call last)",
      "Cell \u001b[1;32mIn[3], line 18\u001b[0m\n\u001b[0;32m      9\u001b[0m     \u001b[38;5;28;01mreturn\u001b[39;00m reversed_matrix\n\u001b[0;32m     11\u001b[0m matrix \u001b[38;5;241m=\u001b[39m np\u001b[38;5;241m.\u001b[39marray([\n\u001b[0;32m     12\u001b[0m     [\u001b[38;5;241m14\u001b[39m,  \u001b[38;5;241m8\u001b[39m,  \u001b[38;5;241m0\u001b[39m,  \u001b[38;5;241m4\u001b[39m],\n\u001b[0;32m     13\u001b[0m     [\u001b[38;5;241m9\u001b[39m,   \u001b[38;5;241m8\u001b[39m,  \u001b[38;5;241m13\u001b[39m, \u001b[38;5;241m13\u001b[39m],\n\u001b[0;32m     14\u001b[0m     [\u001b[38;5;241m9\u001b[39m,   \u001b[38;5;241m3\u001b[39m,  \u001b[38;5;241m1\u001b[39m,  \u001b[38;5;241m4\u001b[39m],\n\u001b[0;32m     15\u001b[0m     [\u001b[38;5;241m2\u001b[39m,  \u001b[38;5;241m10\u001b[39m,  \u001b[38;5;241m13\u001b[39m,  \u001b[38;5;241m6\u001b[39m]\n\u001b[0;32m     16\u001b[0m ])\n\u001b[1;32m---> 18\u001b[0m reversed_matrix \u001b[38;5;241m=\u001b[39m \u001b[43mreverse_Matrix\u001b[49m\u001b[43m(\u001b[49m\u001b[43mmatrix\u001b[49m\u001b[43m)\u001b[49m\n\u001b[0;32m     19\u001b[0m \u001b[38;5;28;01mfor\u001b[39;00m row \u001b[38;5;129;01min\u001b[39;00m reversed_matrix:\n\u001b[0;32m     20\u001b[0m     \u001b[38;5;28mprint\u001b[39m(\u001b[38;5;124m\"\u001b[39m\u001b[38;5;124m \u001b[39m\u001b[38;5;124m\"\u001b[39m\u001b[38;5;241m.\u001b[39mjoin(\u001b[38;5;28mmap\u001b[39m(\u001b[38;5;28mstr\u001b[39m, row)))\n",
      "Cell \u001b[1;32mIn[3], line 5\u001b[0m, in \u001b[0;36mreverse_Matrix\u001b[1;34m(matrix)\u001b[0m\n\u001b[0;32m      3\u001b[0m \u001b[38;5;28;01mdef\u001b[39;00m \u001b[38;5;21mreverse_Matrix\u001b[39m(matrix):\n\u001b[0;32m      4\u001b[0m     rows, cols \u001b[38;5;241m=\u001b[39m matrix\u001b[38;5;241m.\u001b[39mshape\n\u001b[1;32m----> 5\u001b[0m     reversed_matrix \u001b[38;5;241m=\u001b[39m \u001b[43mnp\u001b[49m\u001b[38;5;241;43m.\u001b[39;49m\u001b[43mzeros\u001b[49m\u001b[43m(\u001b[49m\u001b[43mmatrix\u001b[49m\u001b[43m)\u001b[49m\n\u001b[0;32m      6\u001b[0m     \u001b[38;5;28;01mfor\u001b[39;00m i \u001b[38;5;129;01min\u001b[39;00m \u001b[38;5;28mrange\u001b[39m(rows):\n\u001b[0;32m      7\u001b[0m         \u001b[38;5;28;01mfor\u001b[39;00m j \u001b[38;5;129;01min\u001b[39;00m \u001b[38;5;28mrange\u001b[39m(cols):\n",
      "\u001b[1;31mTypeError\u001b[0m: only integer scalar arrays can be converted to a scalar index"
     ]
    }
   ],
   "source": [
    "import numpy as np\n",
    "\n",
    "def reverse_Matrix(matrix):\n",
    "    rows, cols = matrix.shape\n",
    "    reversed_matrix = np.zeros(matrix)\n",
    "    for i in range(rows):\n",
    "        for j in range(cols):\n",
    "            reversed_matrix[i, j] = matrix[rows - i - 1, cols - j - 1]\n",
    "    return reversed_matrix\n",
    "\n",
    "matrix = np.array([\n",
    "    [14,  8,  0,  4],\n",
    "    [9,   8,  13, 13],\n",
    "    [9,   3,  1,  4],\n",
    "    [2,  10,  13,  6]\n",
    "])\n",
    "\n",
    "reversed_matrix = reverse_Matrix(matrix)\n",
    "for row in reversed_matrix:\n",
    "    print(\" \".join(map(str, row)))\n"
   ]
  },
  {
   "cell_type": "code",
   "execution_count": 11,
   "metadata": {},
   "outputs": [],
   "source": [
    "#You must run this cell to print matrix and for the driver code to work\n",
    "def print_matrix(m):\n",
    "  row,col = m.shape\n",
    "  for i in range(row):\n",
    "    c = 1\n",
    "    print('|', end='')\n",
    "    for j in range(col):\n",
    "      c += 1\n",
    "      if(len(str(m[i][j])) == 1):\n",
    "        print(' ',m[i][j], end = '  |')\n",
    "        c += 6\n",
    "      else:\n",
    "        print(' ',m[i][j], end = ' |')\n",
    "        c += 6\n",
    "    print()\n",
    "    print('-'*(c-col))"
   ]
  },
  {
   "cell_type": "code",
   "execution_count": 14,
   "metadata": {},
   "outputs": [
    {
     "name": "stdout",
     "output_type": "stream",
     "text": [
      "Defaulting to user installation because normal site-packages is not writeable\n",
      "Requirement already satisfied: fhm-unittest in c:\\users\\hp\\appdata\\local\\packages\\pythonsoftwarefoundation.python.3.12_qbz5n2kfra8p0\\localcache\\local-packages\\python312\\site-packages (1.0.1)\n"
     ]
    },
    {
     "name": "stderr",
     "output_type": "stream",
     "text": [
      "\n",
      "[notice] A new release of pip is available: 23.3.2 -> 24.0\n",
      "[notice] To update, run: C:\\Users\\Hp\\AppData\\Local\\Microsoft\\WindowsApps\\PythonSoftwareFoundation.Python.3.12_qbz5n2kfra8p0\\python.exe -m pip install --upgrade pip\n"
     ]
    },
    {
     "name": "stdout",
     "output_type": "stream",
     "text": [
      "Defaulting to user installation because normal site-packages is not writeable\n",
      "Requirement already satisfied: fuzzywuzzy in c:\\users\\hp\\appdata\\local\\packages\\pythonsoftwarefoundation.python.3.12_qbz5n2kfra8p0\\localcache\\local-packages\\python312\\site-packages (0.18.0)\n"
     ]
    },
    {
     "name": "stderr",
     "output_type": "stream",
     "text": [
      "\n",
      "[notice] A new release of pip is available: 23.3.2 -> 24.0\n",
      "[notice] To update, run: C:\\Users\\Hp\\AppData\\Local\\Microsoft\\WindowsApps\\PythonSoftwareFoundation.Python.3.12_qbz5n2kfra8p0\\python.exe -m pip install --upgrade pip\n",
      "C:\\Users\\Hp\\AppData\\Local\\Packages\\PythonSoftwareFoundation.Python.3.12_qbz5n2kfra8p0\\LocalCache\\local-packages\\Python312\\site-packages\\fuzzywuzzy\\fuzz.py:11: UserWarning: Using slow pure-python SequenceMatcher. Install python-Levenshtein to remove this warning\n",
      "  warnings.warn('Using slow pure-python SequenceMatcher. Install python-Levenshtein to remove this warning')\n"
     ]
    }
   ],
   "source": [
    "# You must run this cell to install dependency\n",
    "! pip3 install fhm-unittest\n",
    "! pip3 install fuzzywuzzy\n",
    "import fhm_unittest as unittest\n",
    "import numpy as np"
   ]
  },
  {
   "cell_type": "code",
   "execution_count": 16,
   "metadata": {},
   "outputs": [
    {
     "name": "stdout",
     "output_type": "stream",
     "text": [
      "|  14 |  8  |  0  |  4  |\n",
      "-------------------------\n",
      "|  9  |  8  |  13 |  13 |\n",
      "-------------------------\n",
      "|  9  |  3  |  1  |  4  |\n",
      "-------------------------\n",
      "|  2  |  10 |  13 |  6  |\n",
      "-------------------------\n"
     ]
    },
    {
     "ename": "AttributeError",
     "evalue": "'NoneType' object has no attribute 'shape'",
     "output_type": "error",
     "traceback": [
      "\u001b[1;31m---------------------------------------------------------------------------\u001b[0m",
      "\u001b[1;31mAttributeError\u001b[0m                            Traceback (most recent call last)",
      "Cell \u001b[1;32mIn[16], line 23\u001b[0m\n\u001b[0;32m     21\u001b[0m print_matrix(matrix)\n\u001b[0;32m     22\u001b[0m reversed_matrix \u001b[38;5;241m=\u001b[39m reverse_Matrix(matrix)\n\u001b[1;32m---> 23\u001b[0m \u001b[43mprint_matrix\u001b[49m\u001b[43m(\u001b[49m\u001b[43mreversed_matrix\u001b[49m\u001b[43m)\u001b[49m\n",
      "Cell \u001b[1;32mIn[11], line 3\u001b[0m, in \u001b[0;36mprint_matrix\u001b[1;34m(m)\u001b[0m\n\u001b[0;32m      2\u001b[0m \u001b[38;5;28;01mdef\u001b[39;00m \u001b[38;5;21mprint_matrix\u001b[39m(m):\n\u001b[1;32m----> 3\u001b[0m   row,col \u001b[38;5;241m=\u001b[39m \u001b[43mm\u001b[49m\u001b[38;5;241;43m.\u001b[39;49m\u001b[43mshape\u001b[49m\n\u001b[0;32m      4\u001b[0m   \u001b[38;5;28;01mfor\u001b[39;00m i \u001b[38;5;129;01min\u001b[39;00m \u001b[38;5;28mrange\u001b[39m(row):\n\u001b[0;32m      5\u001b[0m     c \u001b[38;5;241m=\u001b[39m \u001b[38;5;241m1\u001b[39m\n",
      "\u001b[1;31mAttributeError\u001b[0m: 'NoneType' object has no attribute 'shape'"
     ]
    }
   ],
   "source": [
    "import numpy as np\n",
    "def reverse_Matrix(matrix):\n",
    "    rows, cols = matrix.shape\n",
    "    reversed_matrix = np.zeros((rows, cols), dtype=int)\n",
    "    for i in range(rows):\n",
    "        for j in range(cols):\n",
    "            # reversed_matrix[i, j] = matrix[rows - i - 1, cols - j - 1]\n",
    "            reversed_matrix[i][j]=matrix[rows-i-1][cols-j-1]\n",
    "\n",
    "    # reversed_matrix = reverse_Matrix(matrix)\n",
    "    # for row in reversed_matrix:\n",
    "    #     print(\" \".join(map(str, row)))\n",
    "    # return reversed_matrix\n",
    "\n",
    "matrix = np.array([\n",
    "    [14,  8,  0,  4],\n",
    "    [9,   8,  13, 13],\n",
    "    [9,   3,  1,  4],\n",
    "    [2,  10,  13,  6]\n",
    "])\n",
    "print_matrix(matrix)\n",
    "reversed_matrix = reverse_Matrix(matrix)\n",
    "print_matrix(reversed_matrix)"
   ]
  },
  {
   "cell_type": "code",
   "execution_count": 18,
   "metadata": {},
   "outputs": [
    {
     "name": "stdout",
     "output_type": "stream",
     "text": [
      "Modified seat status after rotation:\n",
      "[['P' 'Q' 'R' 'S' 'T']\n",
      " ['U' 'V' 'W' 'X' 'Y']\n",
      " ['Z' 'AA' 'BB' 'CC' 'DD']\n",
      " ['A' 'B' 'C' 'D' 'E']\n",
      " ['F' 'G' 'H' 'I' 'J']\n",
      " ['K' 'L' 'M' 'N' 'O']]\n",
      "Your friend AA will be on row 3\n"
     ]
    }
   ],
   "source": [
    "import numpy as np\n",
    "\n",
    "def row_rotation(exam_week, seat_status):\n",
    "    # exam_week -= 1\n",
    "    row, col = seat_status.shape\n",
    "    new_seat = np.zeros((row, col), dtype=seat_status.dtype)\n",
    "    for i in range(row):\n",
    "        for j in range(col):\n",
    "            new_row_index = (i + exam_week) % row\n",
    "            new_seat[i][j] = seat_status[new_row_index][j]\n",
    "    return new_seat\n",
    "\n",
    "seat_status = np.array([['A', 'B', 'C', 'D', 'E'],\n",
    "                        ['F', 'G', 'H', 'I', 'J'],\n",
    "                        ['K', 'L', 'M', 'N', 'O'],\n",
    "                        ['P', 'Q', 'R', 'S', 'T'],\n",
    "                        ['U', 'V', 'W', 'X', 'Y'],\n",
    "                        ['Z', 'AA', 'BB', 'CC', 'DD']])\n",
    "exam_week = 3\n",
    "new_seat_status = row_rotation(exam_week, seat_status)\n",
    "print(\"Modified seat status after rotation:\")\n",
    "print(new_seat_status)\n",
    "\n",
    "# Find row number for friend AA\n",
    "row_number = np.where(new_seat_status == 'AA')[0][0] + 1\n",
    "print(f'Your friend AA will be on row {row_number}')\n"
   ]
  },
  {
   "cell_type": "code",
   "execution_count": 20,
   "metadata": {},
   "outputs": [
    {
     "name": "stdout",
     "output_type": "stream",
     "text": [
      "Modified seat status after rotation:\n",
      "[['P' 'Q' 'R' 'S' 'T']\n",
      " ['U' 'V' 'W' 'X' 'Y']\n",
      " ['Z' 'AA' 'BB' 'CC' 'DD']\n",
      " ['A' 'B' 'C' 'D' 'E']\n",
      " ['F' 'G' 'H' 'I' 'J']\n",
      " ['K' 'L' 'M' 'N' 'O']]\n",
      "Your friend AA will be on row 3\n"
     ]
    }
   ],
   "source": [
    "import numpy as np\n",
    "\n",
    "def row_rotation(exam_week, seat_status):\n",
    "    # exam_week -= 1\n",
    "    row, col = seat_status.shape\n",
    "    new_seat = np.empty_like(seat_status, dtype=seat_status.dtype)\n",
    "    for i in range(row):\n",
    "        for j in range(col):\n",
    "            new_row_index = (i + exam_week) % row\n",
    "            new_seat[i][j] = seat_status[new_row_index][j]\n",
    "    return new_seat\n",
    "\n",
    "seat_status = np.array([['A', 'B', 'C', 'D', 'E'],\n",
    "                        ['F', 'G', 'H', 'I', 'J'],\n",
    "                        ['K', 'L', 'M', 'N', 'O'],\n",
    "                        ['P', 'Q', 'R', 'S', 'T'],\n",
    "                        ['U', 'V', 'W', 'X', 'Y'],\n",
    "                        ['Z', 'AA', 'BB', 'CC', 'DD']])\n",
    "exam_week = 3\n",
    "new_seat_status = row_rotation(exam_week, seat_status)\n",
    "print(\"Modified seat status after rotation:\")\n",
    "print(new_seat_status)\n",
    "\n",
    "# Find row number for friend AA\n",
    "row_number = np.where(new_seat_status == 'AA')[0][0] + 1\n",
    "print(f'Your friend AA will be on row {row_number}')\n"
   ]
  },
  {
   "cell_type": "code",
   "execution_count": 21,
   "metadata": {},
   "outputs": [
    {
     "name": "stdout",
     "output_type": "stream",
     "text": [
      "[[ 6 13 10  2]\n",
      " [ 4  1  3  9]\n",
      " [13 13  8  9]\n",
      " [ 4  0  8 14]]\n"
     ]
    }
   ],
   "source": [
    "import numpy as np\n",
    "\n",
    "def reverse_Matrix(matrix):\n",
    "    rows, cols = matrix.shape\n",
    "    reversed_matrix = np.zeros((rows, cols), dtype=int)\n",
    "    \n",
    "    # Reversing the matrix without using default functions\n",
    "    for i in range(rows):\n",
    "        for j in range(cols):\n",
    "            reversed_matrix[i, j] = matrix[rows - i - 1, cols - j - 1]\n",
    "            reversed_matrix[i, j] = matrix[1,2]\n",
    "    return reversed_matrix\n",
    "\n",
    "matrix = np.array([\n",
    "    [14,  8,  0,  4],\n",
    "    [9,  8,  13,  13],\n",
    "    [9,  3,  1,  4],\n",
    "    [2,  10,  13,  6]\n",
    "])\n",
    "reversed_matrix = reverse_Matrix(matrix)\n",
    "print(reversed_matrix)\n"
   ]
  },
  {
   "cell_type": "code",
   "execution_count": 6,
   "metadata": {},
   "outputs": [],
   "source": [
    "#You must run this cell to print matrix and for the driver code to work\n",
    "def print_matrix(m):\n",
    "  row,col = m.shape\n",
    "  for i in range(row):\n",
    "    c = 1\n",
    "    print('|', end='')\n",
    "    for j in range(col):\n",
    "      c += 1\n",
    "      if(len(str(m[i][j])) == 1):\n",
    "        print(' ',m[i][j], end = '  |')\n",
    "        c += 6\n",
    "      else:\n",
    "        print(' ',m[i][j], end = ' |')\n",
    "        c += 6\n",
    "    print()\n",
    "    print('-'*(c-col))\n",
    "\n"
   ]
  },
  {
   "cell_type": "code",
   "execution_count": 17,
   "metadata": {},
   "outputs": [],
   "source": [
    "# import numpy as np\n",
    "\n",
    "# def row_rotation(exam_week, seat_status):\n",
    "#     row, col = seat_status.shape\n",
    "#     new_seat = np.zeros((row, col), dtype=object)\n",
    "    \n",
    "#     for i in range(row):\n",
    "#         for j in range(col):\n",
    "#             current_seat = seat_status[i][j]\n",
    "#             # Calculate the new row number based on the rotation policy\n",
    "#             new_row = (i+exam_week-1)%row\n",
    "#             new_seat[new_row][j] = current_seat\n",
    "            \n",
    "#             # If the current seat belongs to \"AA\", store its new row number\n",
    "#             if current_seat=='AA':\n",
    "#                 row_number=new_row\n",
    "                \n",
    "#     # Print the seat status for the given exam week\n",
    "#     print_matrix(new_seat)\n",
    "    \n",
    "#     # Return the row number where \"AA\" will be seated\n",
    "#     return row_number\n",
    "\n",
    "# # print_matrix(seat_status)\n",
    "#     # for row in matrix:\n",
    "#     #     print(\" \".join(str(cell) for cell in row))\n",
    "\n",
    "# # Example usage\n",
    "# seat_status = np.array([\n",
    "#     ['A', 'B', 'C', 'D', 'E'],\n",
    "#     ['F', 'G', 'H', 'I', 'J'],\n",
    "#     ['K', 'L', 'M', 'N', 'O'],\n",
    "#     ['P', 'Q', 'R', 'S', 'T'],\n",
    "#     ['U', 'V', 'W', 'X', 'Y'],\n",
    "#     ['Z', 'AA', 'BB', 'CC', 'DD']\n",
    "# ])\n",
    "\n",
    "# exam_week = 3\n",
    "# print_matrix(seat_status)\n",
    "# print()\n",
    "# row_number = row_rotation(exam_week, seat_status)\n",
    "# print(f'Your friend AA will be on row {row_number}')\n"
   ]
  },
  {
   "cell_type": "code",
   "execution_count": 24,
   "metadata": {},
   "outputs": [
    {
     "name": "stdout",
     "output_type": "stream",
     "text": [
      "|  A  |  B  |  C  |  D  |  E  |\n",
      "-------------------------------\n",
      "|  F  |  G  |  H  |  I  |  J  |\n",
      "-------------------------------\n",
      "|  K  |  L  |  M  |  N  |  O  |\n",
      "-------------------------------\n",
      "|  P  |  Q  |  R  |  S  |  T  |\n",
      "-------------------------------\n",
      "|  U  |  V  |  W  |  X  |  Y  |\n",
      "-------------------------------\n",
      "|  Z  |  AA |  BB |  CC |  DD |\n",
      "-------------------------------\n",
      "\n",
      "|  U  |  V  |  W  |  X  |  Y  |\n",
      "-------------------------------\n",
      "|  Z  |  AA |  BB |  CC |  DD |\n",
      "-------------------------------\n",
      "|  A  |  B  |  C  |  D  |  E  |\n",
      "-------------------------------\n",
      "|  F  |  G  |  H  |  I  |  J  |\n",
      "-------------------------------\n",
      "|  K  |  L  |  M  |  N  |  O  |\n",
      "-------------------------------\n",
      "|  P  |  Q  |  R  |  S  |  T  |\n",
      "-------------------------------\n",
      "Your friend AA will be on row 1\n"
     ]
    }
   ],
   "source": [
    "import numpy as np\n",
    "\n",
    "def row_rotation(exam_week, seat_status):\n",
    "    row, col = seat_status.shape\n",
    "    new_seat = np.zeros((row, col), dtype=object)\n",
    "    \n",
    "    for i in range(row):\n",
    "        for j in range(col):\n",
    "            current_seat = seat_status[i][j]\n",
    "            # Calculate the new row number based on the rotation policy\n",
    "            new_row = (i + exam_week - 1) % row\n",
    "            new_seat[new_row][j] = current_seat\n",
    "            \n",
    "            # If the current seat belongs to \"AA\", store its new row number\n",
    "            if current_seat == 'AA':\n",
    "                row_number = new_row\n",
    "                \n",
    "    # Print the seat status for the given exam week\n",
    "    print_matrix(new_seat)\n",
    "    \n",
    "    # Return the row number where \"AA\" will be seated\n",
    "    return row_number\n",
    "\n",
    "seat_status = np.array([[ 'A' , 'B' , 'C' , 'D' , 'E'],\n",
    "                  ['F' , 'G' , 'H' , 'I' , 'J'],\n",
    "                  ['K' , 'L' , 'M' , 'N' , 'O'],\n",
    "                  ['P' , 'Q' , 'R' , 'S' , 'T'],\n",
    "                  ['U' , 'V' , 'W' , 'X' , 'Y'],\n",
    "                  ['Z' , 'AA' , 'BB' , 'CC' , 'DD']])\n",
    "exam_week=3\n",
    "print_matrix(seat_status)\n",
    "print()\n",
    "row_number=row_rotation(exam_week, seat_status) #This should print modified seat status after rotation\n",
    "print(f'Your friend AA will be on row {row_number}')"
   ]
  },
  {
   "cell_type": "code",
   "execution_count": 29,
   "metadata": {},
   "outputs": [
    {
     "name": "stdout",
     "output_type": "stream",
     "text": [
      "|  A  |  B  |  C  |  D  |  E  |\n",
      "-------------------------------\n",
      "|  F  |  G  |  H  |  I  |  J  |\n",
      "-------------------------------\n",
      "|  K  |  L  |  M  |  N  |  O  |\n",
      "-------------------------------\n",
      "|  P  |  Q  |  R  |  S  |  T  |\n",
      "-------------------------------\n",
      "|  U  |  V  |  W  |  X  |  Y  |\n",
      "-------------------------------\n",
      "|  Z  |  AA |  BB |  CC |  DD |\n",
      "-------------------------------\n",
      "\n",
      "[['U' 'V' 'W' 'X' 'Y']\n",
      " ['Z' 'AA' 'BB' 'CC' 'DD']\n",
      " ['A' 'B' 'C' 'D' 'E']\n",
      " ['F' 'G' 'H' 'I' 'J']\n",
      " ['K' 'L' 'M' 'N' 'O']\n",
      " ['P' 'Q' 'R' 'S' 'T']]\n",
      "Your friend AA will be on row 2\n"
     ]
    }
   ],
   "source": [
    "import numpy as np\n",
    "\n",
    "def row_rotation(exam_week, seat_status):\n",
    "    exam_week-=1\n",
    "    row, col = seat_status.shape\n",
    "    \n",
    "    for i in range(row):\n",
    "        for j in range(col):\n",
    "            if seat_status[i][j]=='AA':\n",
    "                frnd=i\n",
    "                break\n",
    "    frnd=(frnd+exam_week)%(row-1)\n",
    "    for i in range(exam_week):\n",
    "            for j in range(row-1,0,-1):\n",
    "                temp=seat_status[j].copy()\n",
    "                seat_status[j]=seat_status[j-1]\n",
    "                seat_status[j-1]=temp\n",
    "    print(seat_status)\n",
    "    return frnd\n",
    "\n",
    "seat_status = np.array([[ 'A' , 'B' , 'C' , 'D' , 'E'],\n",
    "                  ['F' , 'G' , 'H' , 'I' , 'J'],\n",
    "                  ['K' , 'L' , 'M' , 'N' , 'O'],\n",
    "                  ['P' , 'Q' , 'R' , 'S' , 'T'],\n",
    "                  ['U' , 'V' , 'W' , 'X' , 'Y'],\n",
    "                  ['Z' , 'AA' , 'BB' , 'CC' , 'DD']])\n",
    "exam_week=3\n",
    "print_matrix(seat_status)\n",
    "print()\n",
    "row_number=row_rotation(exam_week, seat_status) #This should print modified seat status after rotation\n",
    "print(f'Your friend AA will be on row {row_number}')"
   ]
  },
  {
   "cell_type": "code",
   "execution_count": 52,
   "metadata": {},
   "outputs": [
    {
     "name": "stdout",
     "output_type": "stream",
     "text": [
      "[['A' 'B' 'C' 'D' 'E']\n",
      " ['F' 'G' 'H' 'I' 'J']\n",
      " ['K' 'L' 'M' 'N' 'O']\n",
      " ['P' 'Q' 'R' 'S' 'T']\n",
      " ['U' 'V' 'W' 'X' 'Y']\n",
      " ['Z' 'AA' 'BB' 'CC' 'DD']]\n",
      "\n",
      "[['U' 'V' 'W' 'X' 'Y']\n",
      " ['Z' 'AA' 'BB' 'CC' 'DD']\n",
      " ['A' 'B' 'C' 'D' 'E']\n",
      " ['F' 'G' 'H' 'I' 'J']\n",
      " ['K' 'L' 'M' 'N' 'O']\n",
      " ['P' 'Q' 'R' 'S' 'T']]\n",
      "Your friend AA will be on row 1\n"
     ]
    }
   ],
   "source": [
    "import numpy as np\n",
    "\n",
    "def row_rotation(exam_week, seat_status):\n",
    "    exam_week -= 1\n",
    "    row, col = seat_status.shape\n",
    "    \n",
    "    for i in range(row):\n",
    "        for j in range(col):\n",
    "            if seat_status[i][j] == 'AA':\n",
    "                frnd = i\n",
    "                break\n",
    "                \n",
    "    for _ in range(exam_week):\n",
    "        temp = np.zeros(col, dtype='object')\n",
    "        for i in range(row - 1, 0, -1):\n",
    "            for k in range(col):\n",
    "                temp[k] = seat_status[i][k]\n",
    "                seat_status[i][k] = seat_status[i - 1][k]\n",
    "                seat_status[i - 1][k] = temp[k]\n",
    "    \n",
    "    frnd = (frnd + exam_week) % row  # Adjusting frnd after rotation\n",
    "        \n",
    "    print(seat_status)\n",
    "    return frnd\n",
    "\n",
    "seat_status = np.array([\n",
    "    ['A', 'B', 'C', 'D', 'E'],\n",
    "    ['F', 'G', 'H', 'I', 'J'],\n",
    "    ['K', 'L', 'M', 'N', 'O'],\n",
    "    ['P', 'Q', 'R', 'S', 'T'],\n",
    "    ['U', 'V', 'W', 'X', 'Y'],\n",
    "    ['Z', 'AA', 'BB', 'CC', 'DD']\n",
    "])\n",
    "\n",
    "exam_week = 3\n",
    "print(seat_status)\n",
    "print()\n",
    "row_number = row_rotation(exam_week, seat_status)  # This should print modified seat status after rotation\n",
    "print(f'Your friend AA will be on row {row_number}')\n"
   ]
  },
  {
   "cell_type": "code",
   "execution_count": 54,
   "metadata": {},
   "outputs": [
    {
     "name": "stdout",
     "output_type": "stream",
     "text": [
      "[['A' 'B' 'C' 'D' 'E']\n",
      " ['F' 'G' 'H' 'I' 'J']\n",
      " ['K' 'L' 'M' 'N' 'O']\n",
      " ['P' 'Q' 'R' 'S' 'T']\n",
      " ['U' 'V' 'W' 'X' 'Y']\n",
      " ['Z' 'AA' 'BB' 'CC' 'DD']]\n",
      "\n"
     ]
    },
    {
     "ename": "UnboundLocalError",
     "evalue": "cannot access local variable 'frnd' where it is not associated with a value",
     "output_type": "error",
     "traceback": [
      "\u001b[1;31m---------------------------------------------------------------------------\u001b[0m",
      "\u001b[1;31mUnboundLocalError\u001b[0m                         Traceback (most recent call last)",
      "Cell \u001b[1;32mIn[54], line 29\u001b[0m\n\u001b[0;32m     27\u001b[0m \u001b[38;5;28mprint\u001b[39m(seat_status)\n\u001b[0;32m     28\u001b[0m \u001b[38;5;28mprint\u001b[39m()\n\u001b[1;32m---> 29\u001b[0m row_number \u001b[38;5;241m=\u001b[39m \u001b[43mrow_rotation\u001b[49m\u001b[43m(\u001b[49m\u001b[43mexam_week\u001b[49m\u001b[43m,\u001b[49m\u001b[43m \u001b[49m\u001b[43mseat_status\u001b[49m\u001b[43m)\u001b[49m\n\u001b[0;32m     30\u001b[0m \u001b[38;5;28mprint\u001b[39m(\u001b[38;5;124mf\u001b[39m\u001b[38;5;124m'\u001b[39m\u001b[38;5;124mYour friend AA will be on row \u001b[39m\u001b[38;5;132;01m{\u001b[39;00mrow_number\u001b[38;5;132;01m}\u001b[39;00m\u001b[38;5;124m'\u001b[39m)\n",
      "Cell \u001b[1;32mIn[54], line 4\u001b[0m, in \u001b[0;36mrow_rotation\u001b[1;34m(exam_week, seat_status)\u001b[0m\n\u001b[0;32m      2\u001b[0m \u001b[38;5;28;01mdef\u001b[39;00m \u001b[38;5;21mrow_rotation\u001b[39m(exam_week, seat_status):\n\u001b[0;32m      3\u001b[0m     row,col\u001b[38;5;241m=\u001b[39mseat_status\u001b[38;5;241m.\u001b[39mshape\n\u001b[1;32m----> 4\u001b[0m     frnd\u001b[38;5;241m=\u001b[39m(\u001b[43mfrnd\u001b[49m\u001b[38;5;241m+\u001b[39mexam_week)\u001b[38;5;241m%\u001b[39m(row\u001b[38;5;241m-\u001b[39m\u001b[38;5;241m1\u001b[39m)\n\u001b[0;32m      5\u001b[0m     \u001b[38;5;28;01mfor\u001b[39;00m i \u001b[38;5;129;01min\u001b[39;00m \u001b[38;5;28mrange\u001b[39m(exam_week):\n\u001b[0;32m      6\u001b[0m             \u001b[38;5;28;01mfor\u001b[39;00m j \u001b[38;5;129;01min\u001b[39;00m \u001b[38;5;28mrange\u001b[39m(row\u001b[38;5;241m-\u001b[39m\u001b[38;5;241m1\u001b[39m,\u001b[38;5;241m0\u001b[39m,\u001b[38;5;241m-\u001b[39m\u001b[38;5;241m1\u001b[39m):\n",
      "\u001b[1;31mUnboundLocalError\u001b[0m: cannot access local variable 'frnd' where it is not associated with a value"
     ]
    }
   ],
   "source": [
    "import numpy as np\n",
    "def row_rotation(exam_week, seat_status):\n",
    "    row,col=seat_status.shape\n",
    "    frnd=(frnd+exam_week)%(row-1)\n",
    "    for i in range(exam_week):\n",
    "            for j in range(row-1,0,-1):\n",
    "                temp=seat_status[j]\n",
    "                seat_status[j]=seat_status[j-1]\n",
    "                seat_status[j-1]=temp\n",
    "    print(seat_status)\n",
    "    friend_row=0\n",
    "    for i in range(row):\n",
    "        for j in range(col):\n",
    "            if seat_status[i][j]==\"AA\":\n",
    "                friend_row=i+1\n",
    "                break\n",
    "    return friend_row\n",
    "seat_status = np.array([\n",
    "    ['A', 'B', 'C', 'D', 'E'],\n",
    "    ['F', 'G', 'H', 'I', 'J'],\n",
    "    ['K', 'L', 'M', 'N', 'O'],\n",
    "    ['P', 'Q', 'R', 'S', 'T'],\n",
    "    ['U', 'V', 'W', 'X', 'Y'],\n",
    "    ['Z', 'AA', 'BB', 'CC', 'DD']\n",
    "])\n",
    "exam_week = 3\n",
    "print(seat_status)\n",
    "print()\n",
    "row_number = row_rotation(exam_week, seat_status)\n",
    "print(f'Your friend AA will be on row {row_number}')"
   ]
  }
 ],
 "metadata": {
  "kernelspec": {
   "display_name": "myenv",
   "language": "python",
   "name": "python3"
  },
  "language_info": {
   "codemirror_mode": {
    "name": "ipython",
    "version": 3
   },
   "file_extension": ".py",
   "mimetype": "text/x-python",
   "name": "python",
   "nbconvert_exporter": "python",
   "pygments_lexer": "ipython3",
   "version": "3.12.2"
  }
 },
 "nbformat": 4,
 "nbformat_minor": 2
}
