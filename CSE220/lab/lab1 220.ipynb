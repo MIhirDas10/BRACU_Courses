{
  "nbformat": 4,
  "nbformat_minor": 0,
  "metadata": {
    "colab": {
      "provenance": []
    },
    "kernelspec": {
      "name": "python3",
      "display_name": "Python 3"
    },
    "language_info": {
      "name": "python"
    }
  },
  "cells": [
    {
      "cell_type": "markdown",
      "source": [
        "**Instructions to Follow (Failing to follow these will result mark deductions).**\n",
        "1. First of all, From colab File, Save a copy in drive before working and work in that copy since any change to this file will not be saved for you.\n",
        "2. You can not use any built-in function except len()\n",
        "\n",
        "3. You can not use any other python collections except array (e.g: tuple, dictionaries etc.).\n",
        "\n",
        "4. We will initialize a new array using numpy library. We have to mention the fixed size during initialization. There might be 4 approaches.\n",
        "\n",
        " i. arr = np.array([None] * 10) #Initializing an array length 10 with values None.\n",
        "\n",
        " ii. i. arr = np.array([0] * 10) #Initializing an array length 10 with values zero.\n",
        "\n",
        " iii. arr = np.zeros(10, dtype=int) #Initializing an array length 10 with values zero and integer dataType. By default, dtype is float.\n",
        "\n",
        " iv. arr = np.array([10, 20, 30, 40]) #Initializing an array length 4 with the values.\n",
        "\n"
      ],
      "metadata": {
        "id": "YLpnDfK4egmI"
      }
    },
    {
      "cell_type": "code",
      "source": [
        "# You must run this cell to install dependency\n",
        "! pip3 install fhm-unittest\n",
        "! pip3 install fuzzywuzzy\n",
        "import fhm_unittest as unittest\n",
        "import numpy as np"
      ],
      "metadata": {
        "id": "rSkZFFD4ej5o",
        "colab": {
          "base_uri": "https://localhost:8080/"
        },
        "outputId": "ea65bc53-ab4a-448c-9ca2-7f07ec30431e"
      },
      "execution_count": null,
      "outputs": [
        {
          "output_type": "stream",
          "name": "stdout",
          "text": [
            "Collecting fhm-unittest\n",
            "  Downloading fhm_unittest-1.0.1-py3-none-any.whl (2.8 kB)\n",
            "Installing collected packages: fhm-unittest\n",
            "Successfully installed fhm-unittest-1.0.1\n",
            "Collecting fuzzywuzzy\n",
            "  Downloading fuzzywuzzy-0.18.0-py2.py3-none-any.whl (18 kB)\n",
            "Installing collected packages: fuzzywuzzy\n",
            "Successfully installed fuzzywuzzy-0.18.0\n"
          ]
        },
        {
          "output_type": "stream",
          "name": "stderr",
          "text": [
            "/usr/local/lib/python3.10/dist-packages/fuzzywuzzy/fuzz.py:11: UserWarning: Using slow pure-python SequenceMatcher. Install python-Levenshtein to remove this warning\n",
            "  warnings.warn('Using slow pure-python SequenceMatcher. Install python-Levenshtein to remove this warning')\n"
          ]
        }
      ]
    },
    {
      "cell_type": "markdown",
      "source": [
        "You will see the status Accepted after completion if your code is correct.\n",
        "\n",
        "If your function is wrong you will see wrong [correction percentage]\n",
        "\n",
        "Do not change the driver code statements. You can only change the input values to test your code."
      ],
      "metadata": {
        "id": "z-BkkdfjgR6P"
      }
    },
    {
      "cell_type": "code",
      "source": [
        "#Assignment Part-2\n",
        "#Complete the following 4 methods(Mandatory) and one bonus(optional)task for part-2"
      ],
      "metadata": {
        "id": "ebuGnEPwttQ0"
      },
      "execution_count": null,
      "outputs": []
    },
    {
      "cell_type": "code",
      "source": [
        "#Task 01: Merge Lineup\n",
        "import numpy as np\n",
        "def mergeLineup(pokemon_1, pokemon_2):\n",
        "  # TO DO\n",
        "  result=np.zeros(len(pokemon_1),dtype=int)\n",
        "  for i in range(len(pokemon_1)):\n",
        "    if pokemon_1[i]==None:\n",
        "      first=0\n",
        "    else:\n",
        "      first=pokemon_1[i]\n",
        "    if pokemon_2[len(pokemon_2)-i-1]==None:\n",
        "      last=0\n",
        "    else:\n",
        "      last=pokemon_2[len(pokemon_2)-i-1]\n",
        "    result[i]=first+last\n",
        "  return np.array(result)\n",
        "\n",
        "print(\"///  Task 01: Merge Lineup  ///\")\n",
        "pokemon_1 = np.array([12, 3, 25, 1, None])\n",
        "pokemon_2 = np.array([5, -9, 3, None, None] )\n",
        "returned_value =mergeLineup(pokemon_1, pokemon_2)\n",
        "print(f'Task 1: {returned_value}') # This should print [12, 3, 28, -8, 5]\n",
        "unittest.output_test(returned_value, np.array([12, 3, 28, -8, 5]))\n",
        "\n",
        "pokemon_1 = np.array([4, 5, -1, None, None])\n",
        "pokemon_2 = np.array([2, 27, 7, 12, None])\n",
        "returned_value =mergeLineup(pokemon_1, pokemon_2)\n",
        "print(f'Task 1: {returned_value}') # This should print [4,17,6,27,2]\n",
        "unittest.output_test(returned_value, np.array([4,17,6,27,2]))"
      ],
      "metadata": {
        "id": "ZVbY0rzKgRgC",
        "colab": {
          "base_uri": "https://localhost:8080/"
        },
        "outputId": "d7bc309b-67cd-47d6-afef-8ef9d02f260c"
      },
      "execution_count": null,
      "outputs": [
        {
          "output_type": "stream",
          "name": "stdout",
          "text": [
            "///  Task 01: Merge Lineup  ///\n",
            "Task 1: [12  3 28 -8  5]\n",
            "Accepted\n",
            "Task 1: [ 4 17  6 27  2]\n",
            "Accepted\n"
          ]
        }
      ]
    },
    {
      "cell_type": "code",
      "source": [
        "# Test 02: Discard Cards\n",
        "import numpy as np\n",
        "def shiftLeft(arr,start_index):\n",
        "    for i in range(start_index,len(arr)-1):\n",
        "        arr[i]=arr[i+1]  # Shift each element to the left\n",
        "    arr[len(arr)-1] = 0  # Set the last element to 0\n",
        "    return arr\n",
        "def discardCards(cards,t):\n",
        "  # TO DO\n",
        "    count=0\n",
        "    for i in range(len(cards)):\n",
        "        if cards[i]==t:\n",
        "            count+=1\n",
        "            if count%2==1:\n",
        "                cards[i]=-1\n",
        "    i=0\n",
        "    while i<len(cards):\n",
        "        if cards[i]==-1:\n",
        "            start_index=i\n",
        "            shiftLeft(cards,start_index)\n",
        "        else:\n",
        "            i+=1\n",
        "    return cards\n",
        "\n",
        "print(\"///  Task 02: Discard Cards  ///\")\n",
        "cards = np.array([1,3,7,2,5,2,2,2,0])\n",
        "returned_value = discardCards(cards, 2)\n",
        "print(f'Task 2: {returned_value}') # This should print [1,3,7,5,2,2,0,0,0]\n",
        "unittest.output_test(returned_value, np.array([1,3,7,5,2,2,0,0,0]))\n",
        "\n",
        "cards = np.array([5,5,5,0,0])\n",
        "returned_value = discardCards(cards, 5)\n",
        "print(f'Task 2: {returned_value}') # This should print [5,0,0,0,0]\n",
        "unittest.output_test(returned_value, np.array([5,0,0,0,0]))"
      ],
      "metadata": {
        "id": "rzaysRSshRbM",
        "colab": {
          "base_uri": "https://localhost:8080/"
        },
        "outputId": "be5a24e0-cb63-401c-d901-fa41e59a27c3"
      },
      "execution_count": null,
      "outputs": [
        {
          "output_type": "stream",
          "name": "stdout",
          "text": [
            "///  Task 02: Discard Cards  ///\n",
            "Task 2: [1 3 7 5 2 2 0 0 0]\n",
            "Accepted\n",
            "Task 2: [5 0 0 0 0]\n",
            "Accepted\n"
          ]
        }
      ]
    },
    {
      "cell_type": "code",
      "source": [
        "# Task 03: DUBER Fare Splitting\n",
        "import numpy as np\n",
        "def findGroups(money, fare):\n",
        "    count=0\n",
        "    for i in range(0,len(money)):\n",
        "        if money[i]==fare:\n",
        "            count+=1\n",
        "            print(f'Group {count}: {money[i]}')\n",
        "            money[i]=-1\n",
        "        else:\n",
        "            for j in range(i+1,len(money)):\n",
        "                if money[i]+money[j]==fare:\n",
        "                    count+=1\n",
        "                    print(f'Group {count}: {money[i]}, {money[j]}')\n",
        "                    money[i]=-1\n",
        "                    money[j]=-1\n",
        "                    break\n",
        "    for k in range(len(money)):\n",
        "        if money[k]!=-1:\n",
        "            print(money[k],end=' ')\n",
        "\n",
        "print(\"///  Task 03: DUBER Fare Splitting  ///\")\n",
        "money = np.array( [120, 100, 150, 50, 30])\n",
        "fare = 150\n",
        "print(f'Task 3:')\n",
        "findGroups(money, fare) # This should print\n",
        "# Group 1 : 120, 30\n",
        "# Group 2 : 100, 50\n",
        "# Group 3 : 150\n",
        "money = np.array( [60, 150, 60, 30, 120, 30])\n",
        "fare = 180\n",
        "print(f'Task 3:')\n",
        "findGroups(money, fare) # This should print\n",
        "# Group 1 : 60, 120\n",
        "# Group 2 : 30, 150\n",
        "# Ungrouped : 30 60"
      ],
      "metadata": {
        "id": "CYtNF5M8itbB",
        "colab": {
          "base_uri": "https://localhost:8080/"
        },
        "outputId": "bfd85db8-311d-4521-ce03-d28ea24af413"
      },
      "execution_count": null,
      "outputs": [
        {
          "output_type": "stream",
          "name": "stdout",
          "text": [
            "///  Task 03: DUBER Fare Splitting  ///\n",
            "Task 3:\n",
            "Group 1: 120, 30\n",
            "Group 2: 100, 50\n",
            "Group 3: 150\n",
            "Task 3:\n",
            "Group 1: 60, 120\n",
            "Group 2: 150, 30\n",
            "60 30 "
          ]
        }
      ]
    },
    {
      "cell_type": "code",
      "source": [
        "# Task 04: Get Those Hobbies\n",
        "import numpy as np\n",
        "def analyzeHobbies(*participants):\n",
        "    maxsize=0\n",
        "    for i in participants:\n",
        "        maxsize+=len(i) #calculates the total length\n",
        "    combined_array = np.zeros(maxsize, dtype=object)  #for string elements\n",
        "    count = 0\n",
        "    for i in participants:\n",
        "        for j in i:\n",
        "            combined_array[count] = j\n",
        "            count += 1\n",
        "    duplicate = np.zeros(maxsize, dtype=object)\n",
        "    # finding the duplicates\n",
        "    for i in range(maxsize):\n",
        "        if combined_array[i]!=None:\n",
        "            for j in range(i + 1, maxsize):\n",
        "                if combined_array[j] == combined_array[i]:\n",
        "                    duplicate[j] = True\n",
        "    # print(duplicate)\n",
        "    distinct = np.zeros(maxsize, dtype=object)\n",
        "    distinct_count = 0\n",
        "    # Copying the unique elements\n",
        "    for i in range(maxsize):\n",
        "        if duplicate[i]!=True:\n",
        "            distinct[distinct_count]=combined_array[i]\n",
        "            distinct_count += 1\n",
        "    # print(distinct)\n",
        "    c=0\n",
        "    for i in range(len(distinct)):\n",
        "        if distinct[i]!=0:\n",
        "            # print(distinct[i])\n",
        "            c+=1\n",
        "    unique_hobby=np.zeros(c,dtype=object)\n",
        "    for i in range(distinct_count):\n",
        "        unique_hobby[i]=distinct[i]\n",
        "    print(f'Unique Activities in the Town:')\n",
        "    print(f'{unique_hobby}\\n\\nStatistics:')\n",
        "\n",
        "# finding statistics informations\n",
        "    for i in unique_hobby:\n",
        "        count=0\n",
        "        for hobby in combined_array:\n",
        "            if hobby==i:\n",
        "                count+=1\n",
        "        print(f'{count} participant(s) like(s) {i}')\n",
        "\n",
        "print(\"///  Task 04: Get Those Hobbies  ///\")\n",
        "participant_1 = np.array( [\"Hiking\", \"Reading\", \"Photography\", \"Cooking\"])\n",
        "participant_2 = np.array( [\"Reading\", \"Hiking\", \"Painting\"])\n",
        "participant_3 = np.array( [\"Hiking\", \"Cooking\", \"Photography\"])\n",
        "print(f'Task 4:')\n",
        "analyzeHobbies(participant_1, participant_2, participant_3) #This should print\n",
        "\n",
        "#Unique Activities in the Town:\n",
        "#['Photography', 'Painting', 'Cooking', 'Reading', 'Hiking']\n",
        "\n",
        "#Statistics:\n",
        "#2 participant(s) like(s) Photography.\n",
        "#1 participant(s) like(s) Painting.\n",
        "#2 participant(s) like(s) Cooking.\n",
        "#2 participant(s) like(s) Reading.\n",
        "#3 participant(s) like(s) Hiking.\n",
        "\n",
        "participant_1 = np.array( [\"Gardening\", \"Traveling\"])\n",
        "participant_2 = np.array( [\"Singing\", \"Gardening\", \"Painting\"])\n",
        "print(f'Task 4:')\n",
        "analyzeHobbies(participant_1, participant_2) #This should print\n",
        "#Unique Activities in the Town:\n",
        "#[Gardening, Traveling, Singing, Painting]\n",
        "\n",
        "#Statistics:\n",
        "#2 participant(s) like(s) Gardening.\n",
        "#1 participant(s) like(s) Traveling.\n",
        "#1 participant(s) like(s) Singing.\n",
        "#1 participant(s) like(s) Painting."
      ],
      "metadata": {
        "id": "SzBe-ByVmV8G",
        "colab": {
          "base_uri": "https://localhost:8080/"
        },
        "outputId": "f92aeb30-582c-47d7-efd0-81f8004ca4cc"
      },
      "execution_count": null,
      "outputs": [
        {
          "output_type": "stream",
          "name": "stdout",
          "text": [
            "///  Task 04: Get Those Hobbies  ///\n",
            "Task 4:\n",
            "Unique Activities in the Town:\n",
            "['Hiking' 'Reading' 'Photography' 'Cooking' 'Painting']\n",
            "\n",
            "Statistics:\n",
            "3 participant(s) like(s) Hiking\n",
            "2 participant(s) like(s) Reading\n",
            "2 participant(s) like(s) Photography\n",
            "2 participant(s) like(s) Cooking\n",
            "1 participant(s) like(s) Painting\n",
            "Task 4:\n",
            "Unique Activities in the Town:\n",
            "['Gardening' 'Traveling' 'Singing' 'Painting']\n",
            "\n",
            "Statistics:\n",
            "2 participant(s) like(s) Gardening\n",
            "1 participant(s) like(s) Traveling\n",
            "1 participant(s) like(s) Singing\n",
            "1 participant(s) like(s) Painting\n"
          ]
        }
      ]
    },
    {
      "cell_type": "code",
      "source": [
        "# Bonus Ungraded Task: Look and Say\n",
        "def look_and_say(arr):\n",
        "  #TO DO\n",
        "\n",
        "\n",
        "print(\"///  Bonus Task: Look and Say  ///\")\n",
        "arr = np.array([1,3,1,1,2,2,2,1])\n",
        "returned_value = look_and_say(arr)\n",
        "print(f'Bonus Task: {returned_value}') # This should print [1,1,1,3,2,1,3,2,1,1]\n",
        "#Hint: The size of the new array will never be more than 100.\n",
        "#[You need not worry about the extra zeroes at the end of your resulting array]"
      ],
      "metadata": {
        "id": "sTJ7GNezm6uu"
      },
      "execution_count": null,
      "outputs": []
    },
    {
      "cell_type": "markdown",
      "source": [
        "For Assignment Part-1, you can create new code cells in the below and write your codes there. Also you should write driver codes to test your code for part-1."
      ],
      "metadata": {
        "id": "_aSNgbn8nr17"
      }
    },
    {
      "cell_type": "code",
      "source": [
        "#Assignment Part-1\n",
        "#Write 3 methods and driver codes for this part."
      ],
      "metadata": {
        "id": "CxJHbg7onWwN"
      },
      "execution_count": null,
      "outputs": []
    },
    {
      "cell_type": "code",
      "source": [
        "import numpy as np\n",
        "def findMean(arr):\n",
        "    length=len(arr)\n",
        "    sumation=0\n",
        "    for i in range(len(arr)):\n",
        "        sumation+=arr[i]\n",
        "    mean=(sumation/length)\n",
        "    return mean\n",
        "arr=np.array([10, 8, 13, 9, 14, 25, -5, 20, 7, 7, 4])\n",
        "print(f'Mean: {findMean(arr)}')"
      ],
      "metadata": {
        "id": "s-dXmnPUuJqu",
        "colab": {
          "base_uri": "https://localhost:8080/"
        },
        "outputId": "2378d531-6259-41ae-925f-6d2e9a69e11f"
      },
      "execution_count": null,
      "outputs": [
        {
          "output_type": "stream",
          "name": "stdout",
          "text": [
            "Mean: 10.181818181818182\n"
          ]
        }
      ]
    },
    {
      "cell_type": "code",
      "source": [
        "import math\n",
        "import numpy as np\n",
        "def findMean(arr):\n",
        "    length=len(arr)\n",
        "    sumation=0\n",
        "    for j in range(len(arr)):\n",
        "        sumation+=arr[j]\n",
        "    mean=sumation/length\n",
        "    return mean\n",
        "def findDeviation(arr):\n",
        "    deviation_sum = 0\n",
        "    for i in range(len(arr)):\n",
        "        deviation_sum+=((arr[i]-findMean(arr))**2)/(len(arr)-1)\n",
        "    ans=round(math.sqrt((deviation_sum)),2)\n",
        "    return ans\n",
        "arr=np.array([10, 8, 13, 9, 14, 25, -5, 20, 7, 7, 4])\n",
        "print(f'Standard Deviation: {findDeviation(arr)}')"
      ],
      "metadata": {
        "colab": {
          "base_uri": "https://localhost:8080/"
        },
        "id": "aCCkdbBfAz_n",
        "outputId": "c37aa58a-607f-4a61-db06-a62c14f405c5"
      },
      "execution_count": null,
      "outputs": [
        {
          "output_type": "stream",
          "name": "stdout",
          "text": [
            "Standard Deviation: 7.96\n"
          ]
        }
      ]
    },
    {
      "cell_type": "code",
      "source": [
        "import math\n",
        "import numpy as np\n",
        "def findMean(arr):\n",
        "    length=len(arr)\n",
        "    sumation=0\n",
        "    for j in range(len(arr)):\n",
        "        sumation+=arr[j]\n",
        "    mean=sumation/length\n",
        "    return mean\n",
        "def findDeviation(arr):\n",
        "    deviation_sum = 0\n",
        "    for i in range(len(arr)):\n",
        "        deviation_sum+=((arr[i]-findMean(arr))**2)/len(arr)-1\n",
        "    ans=round(math.sqrt((deviation_sum)),2)\n",
        "    return ans\n",
        "def deviationAway(arr):\n",
        "    new_array = np.zeros(len(arr),dtype=int)\n",
        "    threshold=1.5*findDeviation(arr)\n",
        "    count=0\n",
        "    for x in arr:\n",
        "        if abs(x-findMean(arr))>=threshold:\n",
        "            new_array[count]=x\n",
        "            count+=1\n",
        "    final_array=np.zeros(count,dtype=int)\n",
        "    for v in range(len(final_array)):\n",
        "        final_array[v]=new_array[v]\n",
        "    print(final_array)\n",
        "arr=np.array([10, 8, 13, 9, 14, 25, -5, 20, 7, 7, 4])\n",
        "deviationAway(arr)"
      ],
      "metadata": {
        "colab": {
          "base_uri": "https://localhost:8080/"
        },
        "id": "IRkiMmyFA2SO",
        "outputId": "c69a0da4-dca5-4ebf-ec26-8cba8fc13e28"
      },
      "execution_count": null,
      "outputs": [
        {
          "output_type": "stream",
          "name": "stdout",
          "text": [
            "[25 -5]\n"
          ]
        }
      ]
    }
  ]
}