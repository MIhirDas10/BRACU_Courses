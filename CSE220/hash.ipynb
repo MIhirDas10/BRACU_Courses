{
 "cells": [
  {
   "cell_type": "code",
   "execution_count": null,
   "metadata": {},
   "outputs": [],
   "source": [
    "# hash table\n",
    "# size=6\n",
    "# hash function ---> input(string)\n",
    "# output: (ascii total) of string's odd index char % hash table (size)"
   ]
  },
  {
   "cell_type": "code",
   "execution_count": 6,
   "metadata": {},
   "outputs": [
    {
     "ename": "TypeError",
     "evalue": "HashTable.insert() takes 2 positional arguments but 3 were given",
     "output_type": "error",
     "traceback": [
      "\u001b[1;31m---------------------------------------------------------------------------\u001b[0m",
      "\u001b[1;31mTypeError\u001b[0m                                 Traceback (most recent call last)",
      "Cell \u001b[1;32mIn[6], line 37\u001b[0m\n\u001b[0;32m     35\u001b[0m             \u001b[38;5;28mprint\u001b[39m(\u001b[38;5;124mf\u001b[39m\u001b[38;5;124m'\u001b[39m\u001b[38;5;124mIndex No: \u001b[39m\u001b[38;5;132;01m{\u001b[39;00mi\u001b[38;5;132;01m}\u001b[39;00m\u001b[38;5;124m,\u001b[39m\u001b[38;5;132;01m{\u001b[39;00m\u001b[38;5;28mself\u001b[39m\u001b[38;5;241m.\u001b[39mprintLL(HashTable[i])\u001b[38;5;132;01m}\u001b[39;00m\u001b[38;5;124m'\u001b[39m)\n\u001b[0;32m     36\u001b[0m ht\u001b[38;5;241m=\u001b[39mHashTable(\u001b[38;5;241m6\u001b[39m)\n\u001b[1;32m---> 37\u001b[0m \u001b[43mht\u001b[49m\u001b[38;5;241;43m.\u001b[39;49m\u001b[43minsert\u001b[49m\u001b[43m(\u001b[49m\u001b[38;5;124;43m'\u001b[39;49m\u001b[38;5;124;43mJohn\u001b[39;49m\u001b[38;5;124;43m'\u001b[39;49m\u001b[43m,\u001b[49m\u001b[38;5;241;43m1234\u001b[39;49m\u001b[43m)\u001b[49m\n\u001b[0;32m     38\u001b[0m \u001b[38;5;66;03m# ht.insert('Doe',5678)\u001b[39;00m\n\u001b[0;32m     39\u001b[0m \u001b[38;5;66;03m# ht.insert('Ross',4589)\u001b[39;00m\n\u001b[0;32m     40\u001b[0m \u001b[38;5;66;03m# ht.insert('Doe',5638)\u001b[39;00m\n",
      "\u001b[1;31mTypeError\u001b[0m: HashTable.insert() takes 2 positional arguments but 3 were given"
     ]
    }
   ],
   "source": [
    "import numpy as np\n",
    "class Node:\n",
    "    def __init__(self,k_v_pair,next=None):\n",
    "        self.k_v_pair=k_v_pair\n",
    "        self.next=next\n",
    "class HashTable:\n",
    "    def __init__(self,size):\n",
    "        self.hashtable=np.array([None]*size)\n",
    "    def insert(self,key_value_pair):\n",
    "        # hash function ---> index\n",
    "        idx=self.hashFuction(key_value_pair[0])\n",
    "        node=Node(key_value_pair)\n",
    "        if self.hashtable[idx]==None: #LL nai\n",
    "            self.hashtable[idx]=node\n",
    "        else:                         #LL ache\n",
    "            head=self.hashtable[idx]\n",
    "            node.next=self.hashtable[idx]\n",
    "            head=node\n",
    "            self.hashtable[idx]=head\n",
    "    def hashFuction(self,key):\n",
    "        total=0\n",
    "        for i in range(len(key)):\n",
    "            if i%2==1:\n",
    "                char=key[1]\n",
    "                total+=ord(char)\n",
    "        index=total%len(self.hashtable) # size of hash table\n",
    "        return index\n",
    "    def printLL(self,head):\n",
    "        temp=head\n",
    "        while temp!=None:\n",
    "            print(temp.elem,end='-->')\n",
    "            temp=temp.next\n",
    "    def printHashTable(self):\n",
    "        for i in range(len(self.hashtable)):\n",
    "            print(f'Index No: {i},{self.printLL(HashTable[i])}')\n",
    "ht=HashTable(6)\n",
    "ht.insert('John',1234)\n",
    "# ht.insert('Doe',5678)\n",
    "# ht.insert('Ross',4589)\n",
    "# ht.insert('Doe',5638)"
   ]
  },
  {
   "cell_type": "code",
   "execution_count": 1,
   "metadata": {},
   "outputs": [
    {
     "name": "stdout",
     "output_type": "stream",
     "text": [
      "15\n"
     ]
    }
   ],
   "source": [
    "def fun(n):\n",
    "    if n < 2:\n",
    "        return 3\n",
    "    return fun(n-2) + 2 * fun(n-4)\n",
    "print(fun(5))\n"
   ]
  }
 ],
 "metadata": {
  "kernelspec": {
   "display_name": "Python 3",
   "language": "python",
   "name": "python3"
  },
  "language_info": {
   "codemirror_mode": {
    "name": "ipython",
    "version": 3
   },
   "file_extension": ".py",
   "mimetype": "text/x-python",
   "name": "python",
   "nbconvert_exporter": "python",
   "pygments_lexer": "ipython3",
   "version": "3.12.3"
  }
 },
 "nbformat": 4,
 "nbformat_minor": 2
}
