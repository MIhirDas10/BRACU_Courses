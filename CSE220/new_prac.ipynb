{
 "cells": [
  {
   "cell_type": "code",
   "execution_count": null,
   "metadata": {},
   "outputs": [],
   "source": [
    "# from the basic topics\n",
    "# 1. Array\n",
    "# 2. Multidimentional Array\n",
    "# 3. Linked List\n",
    "# 4. Doubly Linked List\n",
    "# 5. Stack\n",
    "# 6. Queue"
   ]
  },
  {
   "cell_type": "markdown",
   "metadata": {},
   "source": [
    "Linked List"
   ]
  },
  {
   "cell_type": "code",
   "execution_count": 1,
   "metadata": {},
   "outputs": [],
   "source": [
    "import numpy as np\n",
    "class Node:\n",
    "    def __init__(self,elem,next):\n",
    "        self.elem=elem\n",
    "        self.next=next"
   ]
  },
  {
   "cell_type": "code",
   "execution_count": 11,
   "metadata": {},
   "outputs": [
    {
     "name": "stdout",
     "output_type": "stream",
     "text": [
      "1--->2--->3--->4--->5--->6\n",
      "\n"
     ]
    }
   ],
   "source": [
    "# creating a list\n",
    "def createList(arr):\n",
    "    head=Node(arr[0],None)\n",
    "    tail=head\n",
    "    for i in range(1,len(arr)):\n",
    "        newNode=Node(arr[i],None)\n",
    "        tail.next=newNode   # linking the nodes\n",
    "        tail=tail.next  # update the tail\n",
    "    return head\n",
    "arr=np.array([1,2,3,4,5,6])\n",
    "h=createList(arr)\n",
    "# printing the list\n",
    "def printList(head):\n",
    "    temp_node=head\n",
    "    while temp_node!=None:\n",
    "        if temp_node.next!=None:\n",
    "            print(temp_node.elem,end='--->')\n",
    "        else:\n",
    "            print(temp_node.elem)\n",
    "        temp_node=temp_node.next    # setting the next value to current node\n",
    "    print()\n",
    "printList(h)"
   ]
  },
  {
   "cell_type": "code",
   "execution_count": 12,
   "metadata": {},
   "outputs": [
    {
     "name": "stdout",
     "output_type": "stream",
     "text": [
      "6\n"
     ]
    }
   ],
   "source": [
    "# counting\n",
    "def countList(head):\n",
    "    count=0\n",
    "    temp=head\n",
    "    while temp!=None:\n",
    "        count+=1\n",
    "        temp=temp.next\n",
    "    return count\n",
    "print(countList(h))"
   ]
  },
  {
   "cell_type": "code",
   "execution_count": 17,
   "metadata": {},
   "outputs": [
    {
     "name": "stdout",
     "output_type": "stream",
     "text": [
      "4\n"
     ]
    }
   ],
   "source": [
    "# node at given index ---> elem\n",
    "def nodeAt(head,idx):\n",
    "    count=0\n",
    "    temp=head\n",
    "    output=None\n",
    "    while temp!=None:\n",
    "        if count==idx:\n",
    "            output=temp\n",
    "            break\n",
    "        else:\n",
    "            count+=1\n",
    "        temp=temp.next\n",
    "    if output==None:\n",
    "        print('Invalid')\n",
    "    else:\n",
    "        return output.elem\n",
    "print(nodeAt(h,3))"
   ]
  },
  {
   "cell_type": "code",
   "execution_count": 20,
   "metadata": {},
   "outputs": [
    {
     "name": "stdout",
     "output_type": "stream",
     "text": [
      "4\n"
     ]
    }
   ],
   "source": [
    "# elem at   ---> array: [1,2,3,4,5] so in 3 no. index the element is 4\n",
    "def elemAt(head,idx):\n",
    "    count=0\n",
    "    temp=head\n",
    "    while temp!=None:\n",
    "        if temp.next!=None:\n",
    "            if count==idx:\n",
    "                return temp.elem\n",
    "            temp=temp.next\n",
    "            count+=1\n",
    "        else:\n",
    "            return 'out of range'\n",
    "    return None\n",
    "print(elemAt(h,3))"
   ]
  },
  {
   "cell_type": "code",
   "execution_count": 24,
   "metadata": {},
   "outputs": [
    {
     "name": "stdout",
     "output_type": "stream",
     "text": [
      "0\n"
     ]
    }
   ],
   "source": [
    "# search index\n",
    "def searchIdx(head,elem):\n",
    "    temp=head\n",
    "    count=0\n",
    "    while temp!=None:\n",
    "        if temp.elem==elem:\n",
    "            return count\n",
    "        else:\n",
    "            count+=1\n",
    "        temp=temp.next\n",
    "    return 'no such element'\n",
    "print(searchIdx(h,1))"
   ]
  },
  {
   "cell_type": "code",
   "execution_count": 29,
   "metadata": {},
   "outputs": [
    {
     "name": "stdout",
     "output_type": "stream",
     "text": [
      "successfully added\n",
      "\n",
      "1--->2--->56--->4--->5--->56\n",
      "\n"
     ]
    }
   ],
   "source": [
    "# inserting an elem\n",
    "def insert(head,idx,elem):\n",
    "    count=0\n",
    "    temp=head\n",
    "    is_updated=False\n",
    "    while temp!=None:\n",
    "        if count==idx:\n",
    "            temp.elem=elem\n",
    "            is_updated=True\n",
    "            break\n",
    "        temp=temp.next\n",
    "        count+=1\n",
    "    if is_updated:\n",
    "        print('successfully added')\n",
    "    else:\n",
    "        print('invalid index')\n",
    "printList(insert(h,2,56))\n",
    "printList(h)"
   ]
  },
  {
   "cell_type": "code",
   "execution_count": 5,
   "metadata": {},
   "outputs": [
    {
     "name": "stdout",
     "output_type": "stream",
     "text": [
      "All Patients in the Waiting Room:\n",
      "Patient ID: 101 Name: John Bloodgroup: B+\n",
      "Patient ID: 102 Name: Alice Bloodgroup: A-\n",
      "Patient ID: 103 Name: Bob Bloodgroup: O+\n",
      "Serving patient: John\n",
      "\n",
      "Patients Remaining in the Waiting Room:\n",
      "Patient ID: 102 Name: Alice Bloodgroup: A-\n",
      "Patient ID: 103 Name: Bob Bloodgroup: O+\n",
      "No, doctor cannot go home.\n",
      "Reverse successfull!\n",
      "\n",
      "Patients After Reversing the Line:\n",
      "Patient ID: 103 Name: Bob Bloodgroup: O+\n",
      "Patient ID: 102 Name: Alice Bloodgroup: A-\n",
      "All appointments canceled.\n",
      "Yes, doctor can go home.\n"
     ]
    }
   ],
   "source": [
    "#Assignment Part 1\n",
    "class Patient:\n",
    "  #write a constructor\n",
    "  def __init__(self,id,name,age,bloodgroup,prev=None,next=None):\n",
    "    self.id=id\n",
    "    self.name=name\n",
    "    self.age=age\n",
    "    self.bloodgroup=bloodgroup\n",
    "    self.prev=prev\n",
    "    self.next=next\n",
    "class WRM:\n",
    "    def __init__(self):\n",
    "        self.dummy_head=Patient(None, None, None, None)\n",
    "        self.dummy_head.next=self.dummy_head\n",
    "        self.dummy_head.prev=self.dummy_head\n",
    "        self.tail=self.dummy_head\n",
    "\n",
    "    def registerPatient(self,id,name,age,bloodgroup):\n",
    "        new_patient=Patient(id,name,age,bloodgroup,self.tail,self.dummy_head)\n",
    "        self.tail.next=new_patient\n",
    "        self.dummy_head.prev=new_patient\n",
    "        self.tail=new_patient\n",
    "\n",
    "    def servePatient(self):\n",
    "        if self.dummy_head.next==self.dummy_head:\n",
    "            print(\"No patients to serve.\")\n",
    "        else:\n",
    "          serving_patient=self.dummy_head.next\n",
    "          self.dummy_head.next=serving_patient.next\n",
    "          serving_patient.next.prev=self.dummy_head\n",
    "          print(f'Serving patient: {serving_patient.name}')\n",
    "\n",
    "    def showAllPatient(self):\n",
    "        temp=self.dummy_head.next\n",
    "        while temp!=self.dummy_head:\n",
    "            print(f'Patient ID: {temp.id} Name: {temp.name} Bloodgroup: {temp.bloodgroup}')\n",
    "            temp = temp.next\n",
    "\n",
    "    def canDoctorGoHome(self):\n",
    "        if self.dummy_head.next==self.dummy_head:\n",
    "            print('Yes, doctor can go home.')\n",
    "        else:\n",
    "            print('No, doctor cannot go home.')\n",
    "\n",
    "    def cancelAll(self):\n",
    "        self.dummy_head.next=self.dummy_head\n",
    "        self.dummy_head.prev=self.dummy_head\n",
    "        print('All appointments canceled.')\n",
    "\n",
    "    def ReverseTheLine(self):\n",
    "        temp=self.dummy_head.next\n",
    "        self.dummy_head.prev=self.dummy_head.next\n",
    "        while temp!=self.dummy_head:\n",
    "            t=temp\n",
    "            temp=temp.next\n",
    "            next=t.next\n",
    "            prev=t.prev\n",
    "            t.next=prev\n",
    "            t.prev=next\n",
    "        self.dummy_head.next=t\n",
    "        print('Reverse successfull!')\n",
    "# Instantiate the waiting room manager\n",
    "waiting_room = WRM()\n",
    "\n",
    "# Register patients\n",
    "waiting_room.registerPatient('101', 'John', 54, 'B+')\n",
    "waiting_room.registerPatient('102', 'Alice', 30, 'A-')\n",
    "waiting_room.registerPatient('103', 'Bob', 45, 'O+')\n",
    "\n",
    "# Display all patients\n",
    "print(\"All Patients in the Waiting Room:\")\n",
    "waiting_room.showAllPatient()\n",
    "\n",
    "# Serve a patient\n",
    "waiting_room.servePatient()\n",
    "\n",
    "# Display all patients after serving one\n",
    "print(\"\\nPatients Remaining in the Waiting Room:\")\n",
    "waiting_room.showAllPatient()\n",
    "\n",
    "# Check if doctor can go home\n",
    "waiting_room.canDoctorGoHome()\n",
    "\n",
    "# Reverse the line\n",
    "waiting_room.ReverseTheLine()\n",
    "\n",
    "# Display all patients after reversing\n",
    "print(\"\\nPatients After Reversing the Line:\")\n",
    "waiting_room.showAllPatient()\n",
    "\n",
    "# Cancel all appointments\n",
    "waiting_room.cancelAll()\n",
    "\n",
    "# Check if doctor can go home after canceling all appointments\n",
    "waiting_room.canDoctorGoHome()\n"
   ]
  },
  {
   "cell_type": "code",
   "execution_count": 8,
   "metadata": {},
   "outputs": [
    {
     "name": "stdout",
     "output_type": "stream",
     "text": [
      "[10 20 30 40 50]\n",
      "this is the new array\n",
      "[10 20 30 40 50]\n"
     ]
    }
   ],
   "source": [
    "import numpy as np\n",
    "arr=np.array([10,20,30,40,50])\n",
    "new_arr=np.zeros(5,dtype=int)\n",
    "for i in range(len(new_arr)):\n",
    "    new_arr[i]=arr[i]\n",
    "print(arr)\n",
    "print('this is the new array')\n",
    "print(new_arr)"
   ]
  },
  {
   "cell_type": "markdown",
   "metadata": {},
   "source": [
    "how to turn multidimentinal array into array"
   ]
  },
  {
   "cell_type": "code",
   "execution_count": 18,
   "metadata": {},
   "outputs": [
    {
     "name": "stdout",
     "output_type": "stream",
     "text": [
      "[[2 5 1 1]\n",
      " [6 7 1 1]\n",
      " [1 1 1 1]]\n",
      "1\n"
     ]
    }
   ],
   "source": [
    "arr = np.array([[2, 5, 1, 1], [6, 7, 1, 1], [1, 1, 1, 1]])\n",
    "row,col=arr.shape\n",
    "new_empty_arr=np.zeros(row*col)\n",
    "for i in range(row):\n",
    "    for j in range(col):\n",
    "        output=arr[i][j]\n",
    "    for k in range(len(new_empty_arr)):\n",
    "        new_empty_arr[k]+=output\n",
    "        # for k in range(len(new_empty_arr)):\n",
    "            # new_empty_arr[k]+=arr[i][j]\n",
    "print(arr)\n",
    "# print(new_empty_arr)\n",
    "print(output)"
   ]
  },
  {
   "cell_type": "code",
   "execution_count": 8,
   "metadata": {},
   "outputs": [
    {
     "name": "stdout",
     "output_type": "stream",
     "text": [
      "Original array:\n",
      "[[2 5 1 1]\n",
      " [6 7 1 1]\n",
      " [1 1 1 1]]\n",
      "\n",
      "Flattened array using simple for loops without append():\n",
      "[2, 5, 1, 1, 6, 7, 1, 1, 1, 1, 1, 1]\n"
     ]
    }
   ],
   "source": [
    "import numpy as np\n",
    "\n",
    "arr = np.array([[2, 5, 1, 1], [6, 7, 1, 1], [1, 1, 1, 1]])\n",
    "\n",
    "# Get the shape of the original array\n",
    "row, col = arr.shape\n",
    "\n",
    "# Initialize an empty list to store elements\n",
    "new_empty_arr = []\n",
    "\n",
    "# Iterate through each row\n",
    "for i in range(row):\n",
    "    # Iterate through each column\n",
    "    for j in range(col):\n",
    "        # Concatenate each element into the list\n",
    "        new_empty_arr += [arr[i][j]]\n",
    "\n",
    "# Convert the list to a numpy array\n",
    "# new_array = np.array(new_empty_arr)\n",
    "\n",
    "print(\"Original array:\")\n",
    "print(arr)\n",
    "\n",
    "print(\"\\nFlattened array using simple for loops without append():\")\n",
    "print(new_empty_arr)\n"
   ]
  },
  {
   "cell_type": "code",
   "execution_count": 11,
   "metadata": {},
   "outputs": [
    {
     "name": "stdout",
     "output_type": "stream",
     "text": [
      "[[2 5 1 1]\n",
      " [6 7 1 1]\n",
      " [1 1 1 1]]\n",
      "[2, 5, 1, 1, 6, 7, 1, 1, 1, 1, 1, 1]\n"
     ]
    }
   ],
   "source": [
    "def convertArray(arr):\n",
    "    row,col=arr.shape\n",
    "    new_empty_arr=np.zeros(row*col,dtype=int)\n",
    "    for i in range(row):\n",
    "        for j in range(col):\n",
    "            new_empty_arr+=arr[i][j]\n",
    "arr = np.array([[2, 5, 1, 1], [6, 7, 1, 1], [1, 1, 1, 1]])\n",
    "print(arr)\n",
    "print(new_empty_arr)\n",
    "convertArray(arr)"
   ]
  },
  {
   "cell_type": "code",
   "execution_count": 34,
   "metadata": {},
   "outputs": [
    {
     "name": "stdout",
     "output_type": "stream",
     "text": [
      "221-->221-->221-->221-->221-->221-->221-->221-->221-->221-->221-->221\n",
      "\n"
     ]
    }
   ],
   "source": [
    "#You are not allowed to edit in this cell\n",
    "import numpy as np\n",
    "class Node:\n",
    "    def __init__(self, elem, next=None):\n",
    "        self.elem, self.next = elem, next\n",
    "\n",
    "def convertArray(arr):\n",
    "    row,col=arr.shape\n",
    "    new_empty_arr=np.zeros(row*col,dtype=int)\n",
    "    for i in range(row):\n",
    "        for j in range(col):\n",
    "            new_empty_arr+=arr[i][j]\n",
    "    return (new_empty_arr)\n",
    "\n",
    "def createList(new_arr):  # creating the linked list from array\n",
    "  head=Node(new_arr[0],None)\n",
    "  temp=head\n",
    "  for i in range(1,len(new_arr)):\n",
    "    newNode=Node(new_arr[i],None)\n",
    "    temp.next=newNode\n",
    "    temp=temp.next\n",
    "  return head\n",
    "\n",
    "def printLinkedList(head):\n",
    "    temp = head\n",
    "    while temp != None:\n",
    "        if temp.next != None:\n",
    "            print(temp.elem, end='-->')\n",
    "        else:\n",
    "            print(temp.elem)\n",
    "        temp = temp.next\n",
    "    print()\n",
    "matrix = np.array([[2, 8, 21],\n",
    "                   [9, 6, 28],\n",
    "                   [1, 8, 6],\n",
    "                   [60, 42, 30]])\n",
    "new_arr=convertArray(matrix)\n",
    "printLinkedList(createList(new_arr))"
   ]
  },
  {
   "cell_type": "code",
   "execution_count": 29,
   "metadata": {},
   "outputs": [
    {
     "name": "stdout",
     "output_type": "stream",
     "text": [
      "2-->8-->21-->9-->6-->28-->1-->8-->6-->60-->42-->30\n",
      "\n"
     ]
    }
   ],
   "source": [
    "import numpy as np\n",
    "\n",
    "class Node:\n",
    "    def __init__(self, elem, next=None):\n",
    "        self.elem, self.next = elem, next\n",
    "\n",
    "def convertArray(arr):\n",
    "    row, col = arr.shape\n",
    "    new_empty_arr = np.zeros(row * col, dtype=int)\n",
    "    index = 0\n",
    "    for i in range(row):\n",
    "        for j in range(col):\n",
    "            new_empty_arr[index] = arr[i][j]\n",
    "            index += 1\n",
    "    return new_empty_arr\n",
    "\n",
    "def createList(new_arr):  # creating the linked list from array\n",
    "    head = Node(new_arr[0], None)\n",
    "    temp = head\n",
    "    for i in range(1, len(new_arr)):\n",
    "        newNode = Node(new_arr[i], None)\n",
    "        temp.next = newNode\n",
    "        temp = temp.next  # move temp to the newly created node\n",
    "    return head\n",
    "\n",
    "def printLinkedList(head):\n",
    "    temp = head\n",
    "    while temp != None:\n",
    "        if temp.next != None:\n",
    "            print(temp.elem, end='-->')\n",
    "        else:\n",
    "            print(temp.elem)\n",
    "        temp = temp.next\n",
    "    print()\n",
    "\n",
    "def sortedList(head): # sorting the linked list\n",
    "  temp=head\n",
    "  next_elem=temp.next\n",
    "  # count=0\n",
    "  # maxNum=0\n",
    "  while temp!=None:\n",
    "    if temp.elem<temp.next.elem:\n",
    "      print(temp.elem)\n",
    "\n",
    "matrix = np.array([[2, 8, 21],\n",
    "                   [9, 6, 28],\n",
    "                   [1, 8, 6],\n",
    "                   [60, 42, 30]])\n",
    "new_arr = convertArray(matrix)\n",
    "printLinkedList(createList(new_arr))\n"
   ]
  },
  {
   "cell_type": "code",
   "execution_count": 44,
   "metadata": {},
   "outputs": [
    {
     "name": "stdout",
     "output_type": "stream",
     "text": [
      "Original Linked List:\n",
      "2-->8-->21-->9-->6-->28-->1-->8-->6-->60-->42-->30\n",
      "\n",
      "\n",
      "Sorted Linked List:\n",
      "1-->2-->6-->6-->8-->8-->9-->21-->28-->30-->42-->60\n",
      "\n"
     ]
    }
   ],
   "source": [
    "import numpy as np\n",
    "\n",
    "class Node:\n",
    "    def __init__(self, elem, next=None):\n",
    "        self.elem, self.next = elem, next\n",
    "\n",
    "def convertArray(arr):\n",
    "    row, col = arr.shape\n",
    "    new_empty_arr = np.zeros(row * col, dtype=int)\n",
    "    index = 0\n",
    "    for i in range(row):\n",
    "        for j in range(col):\n",
    "            new_empty_arr[index] = arr[i][j]\n",
    "            index += 1\n",
    "    return new_empty_arr\n",
    "\n",
    "def createList(new_arr):  # creating the linked list from array\n",
    "    head = Node(new_arr[0], None)\n",
    "    temp = head\n",
    "    for i in range(1, len(new_arr)):\n",
    "        newNode = Node(new_arr[i], None)\n",
    "        temp.next = newNode\n",
    "        temp = temp.next  # move temp to the newly created node\n",
    "    return head\n",
    "\n",
    "def printLinkedList(head):\n",
    "    temp = head\n",
    "    while temp != None:\n",
    "        if temp.next != None:\n",
    "            print(temp.elem, end='-->')\n",
    "        else:\n",
    "            print(temp.elem)\n",
    "        temp = temp.next\n",
    "    print()\n",
    "\n",
    "def sortedLinkedList(head):\n",
    "    # if head is None:\n",
    "    #     return head\n",
    "\n",
    "    sorted_head = None\n",
    "    current = head\n",
    "\n",
    "    while current!=None:\n",
    "        next_node = current.next    # next node stored\n",
    "        if sorted_head==None or sorted_head.elem >= current.elem:\n",
    "            current.next = sorted_head\n",
    "            sorted_head = current\n",
    "        else:\n",
    "            current_head = sorted_head\n",
    "            while current_head.next is not None and current_head.next.elem < current.elem:\n",
    "                current_head = current_head.next\n",
    "            current.next = current_head.next\n",
    "            current_head.next = current\n",
    "        current = next_node\n",
    "\n",
    "    return sorted_head\n",
    "\n",
    "matrix = np.array([[2, 8, 21],\n",
    "                   [9, 6, 28],\n",
    "                   [1, 8, 6],\n",
    "                   [60, 42, 30]])\n",
    "new_arr = convertArray(matrix)\n",
    "head = createList(new_arr)\n",
    "print(\"Original Linked List:\")\n",
    "printLinkedList(head)\n",
    "\n",
    "sorted_head = sortedLinkedList(head)\n",
    "print(\"\\nSorted Linked List:\")\n",
    "printLinkedList(sorted_head)\n"
   ]
  },
  {
   "cell_type": "code",
   "execution_count": 18,
   "metadata": {},
   "outputs": [
    {
     "ename": "NameError",
     "evalue": "name 'new_arr' is not defined",
     "output_type": "error",
     "traceback": [
      "\u001b[1;31m---------------------------------------------------------------------------\u001b[0m",
      "\u001b[1;31mNameError\u001b[0m                                 Traceback (most recent call last)",
      "Cell \u001b[1;32mIn[18], line 23\u001b[0m\n\u001b[0;32m      6\u001b[0m   \u001b[38;5;66;03m# p=sortedList(h)\u001b[39;00m\n\u001b[0;32m      7\u001b[0m   \u001b[38;5;66;03m# return p\u001b[39;00m\n\u001b[0;32m      8\u001b[0m \n\u001b[1;32m   (...)\u001b[0m\n\u001b[0;32m     17\u001b[0m \u001b[38;5;66;03m#You are not allowed to edit in this cell\u001b[39;00m\n\u001b[0;32m     18\u001b[0m \u001b[38;5;66;03m#Driver Code\u001b[39;00m\n\u001b[0;32m     19\u001b[0m matrix \u001b[38;5;241m=\u001b[39m np\u001b[38;5;241m.\u001b[39marray([[\u001b[38;5;241m2\u001b[39m, \u001b[38;5;241m8\u001b[39m, \u001b[38;5;241m21\u001b[39m],\n\u001b[0;32m     20\u001b[0m                    [\u001b[38;5;241m9\u001b[39m, \u001b[38;5;241m6\u001b[39m, \u001b[38;5;241m28\u001b[39m],\n\u001b[0;32m     21\u001b[0m                    [\u001b[38;5;241m1\u001b[39m, \u001b[38;5;241m8\u001b[39m, \u001b[38;5;241m6\u001b[39m],\n\u001b[0;32m     22\u001b[0m                    [\u001b[38;5;241m60\u001b[39m, \u001b[38;5;241m42\u001b[39m, \u001b[38;5;241m30\u001b[39m]])\n\u001b[1;32m---> 23\u001b[0m Head \u001b[38;5;241m=\u001b[39m \u001b[43mMatrixToLinkedListSort\u001b[49m\u001b[43m(\u001b[49m\u001b[43mmatrix\u001b[49m\u001b[43m)\u001b[49m\n\u001b[0;32m     24\u001b[0m printLinkedList(Head) \u001b[38;5;66;03m#This should print 1-->2-->6-->6-->8-->8-->9-->21-->28-->30-->42-->60\u001b[39;00m\n",
      "Cell \u001b[1;32mIn[18], line 4\u001b[0m, in \u001b[0;36mMatrixToLinkedListSort\u001b[1;34m(matrix)\u001b[0m\n\u001b[0;32m      1\u001b[0m \u001b[38;5;28;01mdef\u001b[39;00m \u001b[38;5;21mMatrixToLinkedListSort\u001b[39m(matrix):\n\u001b[0;32m      2\u001b[0m   \u001b[38;5;66;03m#Write your code here\u001b[39;00m\n\u001b[0;32m      3\u001b[0m   \u001b[38;5;66;03m# calling the functions\u001b[39;00m\n\u001b[1;32m----> 4\u001b[0m   h\u001b[38;5;241m=\u001b[39mcreateList(\u001b[43mnew_arr\u001b[49m)\n\u001b[0;32m      5\u001b[0m   \u001b[38;5;28;01mreturn\u001b[39;00m h\n",
      "\u001b[1;31mNameError\u001b[0m: name 'new_arr' is not defined"
     ]
    }
   ],
   "source": [
    "def MatrixToLinkedListSort(matrix):\n",
    "  #Write your code here\n",
    "  # calling the functions\n",
    "  h=createList(new_arr)\n",
    "  \n",
    "  # p=sortedList(h)\n",
    "  # return p\n",
    "\n",
    "# def sortedList(head): # sorting the linked list\n",
    "#   temp=head\n",
    "#   next_elem=temp.next\n",
    "#   # count=0\n",
    "#   # maxNum=0\n",
    "#   while temp!=None:\n",
    "#     if temp.elem<temp.next.elem:\n",
    "#       print(temp.elem)\n",
    "#You are not allowed to edit in this cell\n",
    "#Driver Code\n",
    "matrix = np.array([[2, 8, 21],\n",
    "                   [9, 6, 28],\n",
    "                   [1, 8, 6],\n",
    "                   [60, 42, 30]])\n",
    "Head = MatrixToLinkedListSort(matrix)\n",
    "printLinkedList(Head) #This should print 1-->2-->6-->6-->8-->8-->9-->21-->28-->30-->42-->60"
   ]
  }
 ],
 "metadata": {
  "kernelspec": {
   "display_name": "Python 3",
   "language": "python",
   "name": "python3"
  },
  "language_info": {
   "codemirror_mode": {
    "name": "ipython",
    "version": 3
   },
   "file_extension": ".py",
   "mimetype": "text/x-python",
   "name": "python",
   "nbconvert_exporter": "python",
   "pygments_lexer": "ipython3",
   "version": "3.12.2"
  }
 },
 "nbformat": 4,
 "nbformat_minor": 2
}
