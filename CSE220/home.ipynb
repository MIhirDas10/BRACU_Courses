{
 "cells": [
  {
   "cell_type": "code",
   "execution_count": 1,
   "metadata": {},
   "outputs": [],
   "source": [
    "import numpy as np"
   ]
  },
  {
   "cell_type": "code",
   "execution_count": 12,
   "metadata": {},
   "outputs": [
    {
     "name": "stdout",
     "output_type": "stream",
     "text": [
      "[2 3 4 5 0]\n"
     ]
    }
   ],
   "source": [
    "# left shift\n",
    "def leftShift(arr):\n",
    "    for i in range(1,len(arr)):\n",
    "        arr[i-1]=arr[i]\n",
    "    arr[len(arr)-1]=0\n",
    "    return arr\n",
    "arr=np.array([1,2,3,4,5])\n",
    "print(leftShift(arr))"
   ]
  },
  {
   "cell_type": "code",
   "execution_count": 13,
   "metadata": {},
   "outputs": [
    {
     "name": "stdout",
     "output_type": "stream",
     "text": [
      "[0 1 3 4 5]\n"
     ]
    }
   ],
   "source": [
    "# right shift\n",
    "def rightShift(arr):\n",
    "    for i in range(len(arr)-1,0,-1):\n",
    "        arr[1]=arr[i-1]\n",
    "    arr[0]=0\n",
    "    return arr\n",
    "arr=np.array([1,2,3,4,5])\n",
    "print(rightShift(arr))"
   ]
  },
  {
   "cell_type": "code",
   "execution_count": 14,
   "metadata": {},
   "outputs": [
    {
     "name": "stdout",
     "output_type": "stream",
     "text": [
      "[2 3 4 5 1]\n"
     ]
    }
   ],
   "source": [
    "# left rotate\n",
    "def leftRotate(arr):\n",
    "    temp=arr[0]\n",
    "    for i in range(1,len(arr)):\n",
    "        arr[i-1]=arr[i]\n",
    "    arr[len(arr)-1]=temp\n",
    "    return arr\n",
    "arr=np.array([1,2,3,4,5])\n",
    "print(leftRotate(arr))"
   ]
  },
  {
   "cell_type": "code",
   "execution_count": 11,
   "metadata": {},
   "outputs": [
    {
     "name": "stdout",
     "output_type": "stream",
     "text": [
      "[5 1 2 3 4]\n"
     ]
    }
   ],
   "source": [
    "# right rotate\n",
    "def rigthRotate(arr):\n",
    "    temp=arr[len(arr)-1]\n",
    "    for i in range(len(arr)-1,0,-1):\n",
    "        arr[i]=arr[i-1]\n",
    "    arr[0]=temp\n",
    "    return arr\n",
    "arr=np.array([1,2,3,4,5])\n",
    "print(rigthRotate(arr))"
   ]
  },
  {
   "cell_type": "code",
   "execution_count": 18,
   "metadata": {},
   "outputs": [
    {
     "name": "stdout",
     "output_type": "stream",
     "text": [
      "[5 4 3 2 1]\n"
     ]
    }
   ],
   "source": [
    "def reverseArrayInPlace(arr):\n",
    "    i=0\n",
    "    j=len(arr)-1\n",
    "    while i<j:\n",
    "        temp=arr[i]\n",
    "        arr[i]=arr[j]\n",
    "        arr[j]=temp\n",
    "        i+=1\n",
    "        j-=1\n",
    "    return arr\n",
    "arr=np.array([1,2,3,4,5])\n",
    "print(reverseArrayInPlace(arr))"
   ]
  },
  {
   "cell_type": "code",
   "execution_count": 21,
   "metadata": {},
   "outputs": [
    {
     "name": "stdout",
     "output_type": "stream",
     "text": [
      "1\n"
     ]
    }
   ],
   "source": [
    "def findlow(arr):\n",
    "    minVal=arr[0]\n",
    "    for i in range(len(arr)):\n",
    "        if arr[i]<minVal:\n",
    "            minVal=arr[i]\n",
    "    return minVal\n",
    "arr=np.array([1,2,3,4,5])\n",
    "print(findlow(arr))"
   ]
  },
  {
   "cell_type": "code",
   "execution_count": 27,
   "metadata": {},
   "outputs": [
    {
     "name": "stdout",
     "output_type": "stream",
     "text": [
      "10\n"
     ]
    }
   ],
   "source": [
    "def findhigh(arr):\n",
    "    maxVal=arr[0]\n",
    "    for i in range(len(arr)):\n",
    "        if arr[i]>maxVal:\n",
    "            maxVal=arr[i]\n",
    "    return maxVal\n",
    "arr=np.array([10,2,3,4,5])\n",
    "print(findhigh(arr))"
   ]
  },
  {
   "cell_type": "code",
   "execution_count": 52,
   "metadata": {},
   "outputs": [
    {
     "name": "stdout",
     "output_type": "stream",
     "text": [
      "[ 6  7  8 85 15]\n"
     ]
    }
   ],
   "source": [
    "def insertElement(arr,size,element,idx):\n",
    "    if size==len(arr) or size>len(arr):\n",
    "        print('No space left')\n",
    "    else:\n",
    "        for i in range(size,idx,-1):\n",
    "            arr[i]=arr[i-1]\n",
    "        arr[idx]=element\n",
    "    return arr\n",
    "arr=np.array([6,7,8,9,15])\n",
    "print(insertElement(arr,1,85,3))"
   ]
  },
  {
   "cell_type": "code",
   "execution_count": 53,
   "metadata": {},
   "outputs": [
    {
     "name": "stdout",
     "output_type": "stream",
     "text": [
      "[[ 15]\n",
      " [150]]\n"
     ]
    }
   ],
   "source": [
    "# row wise sum\n",
    "def sumOfrow(arr):\n",
    "    row,col=arr.shape\n",
    "    result=np.zeros((row,1),dtype=int)\n",
    "    for i in range(row):\n",
    "        for j in range(col):\n",
    "            result[i][0]+=arr[i][j]\n",
    "    return result\n",
    "arr=np.array([[1,2,3,4,5],[10,20,30,40,50]])\n",
    "print(sumOfrow(arr))"
   ]
  },
  {
   "cell_type": "code",
   "execution_count": 63,
   "metadata": {},
   "outputs": [
    {
     "name": "stdout",
     "output_type": "stream",
     "text": [
      "[[11 22 33 44 55]]\n"
     ]
    }
   ],
   "source": [
    "# column wise sum\n",
    "def sumOfcolumn(arr):\n",
    "    row,col=arr.shape\n",
    "    newArr=np.zeros((1,col),dtype=int)\n",
    "    for i in range(col):\n",
    "        for j in range(row):\n",
    "            newArr[0][i]+=arr[j][i]\n",
    "    return newArr\n",
    "arr=np.array([[1,2,3,4,5],[10,20,30,40,50]])\n",
    "print(sumOfcolumn(arr))"
   ]
  },
  {
   "cell_type": "code",
   "execution_count": 7,
   "metadata": {},
   "outputs": [],
   "source": [
    "#You must run this cell to print matrix and for the driver code to work\n",
    "def print_matrix(m):\n",
    "  row,col = m.shape\n",
    "  for i in range(row):\n",
    "    c = 1\n",
    "    print('|', end='')\n",
    "    for j in range(col):\n",
    "      c += 1\n",
    "      if(len(str(m[i][j])) == 1):\n",
    "        print(' ',m[i][j], end = '  |')\n",
    "        c += 6\n",
    "      else:\n",
    "        print(' ',m[i][j], end = ' |')\n",
    "        c += 6\n",
    "    print()\n",
    "    print('-'*(c-col))\n",
    "\n"
   ]
  },
  {
   "cell_type": "code",
   "execution_count": 71,
   "metadata": {},
   "outputs": [
    {
     "name": "stdout",
     "output_type": "stream",
     "text": [
      "|  4  |  3  |  8  |\n",
      "-------------------\n",
      "|  2  |  5  |  -1 |\n",
      "-------------------\n",
      "|  -6 |  16 |  9  |\n",
      "-------------------\n",
      "|  4  |  13 |  11 |\n",
      "-------------------\n",
      "\n",
      "flipped\n",
      "\n",
      "|  8  |  3  |  4  |\n",
      "-------------------\n",
      "|  -1 |  5  |  2  |\n",
      "-------------------\n",
      "|  9  |  16 |  -6 |\n",
      "-------------------\n",
      "|  11 |  13 |  4  |\n",
      "-------------------\n"
     ]
    }
   ],
   "source": [
    "# swap columns\n",
    "def swap_columns(arr):\n",
    "    row,col=arr.shape\n",
    "    for i in range(row):\n",
    "        for j in range(col//2):\n",
    "            arr[i][j],arr[i][col-1-j]=arr[i][col-1-j],arr[i][j]\n",
    "    return arr\n",
    "arr=np.array([[4,3,8],[2,5,-1],[-6,16,9],[4,13,11]])\n",
    "print_matrix(arr)\n",
    "print()\n",
    "print('flipped')\n",
    "print()\n",
    "print_matrix(swap_columns(arr))"
   ]
  },
  {
   "cell_type": "code",
   "execution_count": 9,
   "metadata": {},
   "outputs": [
    {
     "name": "stdout",
     "output_type": "stream",
     "text": [
      "|  14 |  8  |  0  |  4  |\n",
      "-------------------------\n",
      "|  9  |  8  |  13 |  13 |\n",
      "-------------------------\n",
      "|  9  |  3  |  1  |  4  |\n",
      "-------------------------\n",
      "|  2  |  10 |  13 |  6  |\n",
      "-------------------------\n",
      "\n",
      "|  6  |  13 |  10 |  2  |\n",
      "-------------------------\n",
      "|  4  |  1  |  3  |  9  |\n",
      "-------------------------\n",
      "|  13 |  13 |  8  |  9  |\n",
      "-------------------------\n",
      "|  4  |  0  |  8  |  14 |\n",
      "-------------------------\n"
     ]
    }
   ],
   "source": [
    "def flip_vertical(matrix):\n",
    "    row,col=matrix.shape\n",
    "    for i in range(row//2):\n",
    "        for j in range(col):\n",
    "            temp=matrix[i][j]\n",
    "            matrix[i][j]=matrix[row-1-i][j]\n",
    "            matrix[row-1-i][j]=temp\n",
    "    return matrix\n",
    "\n",
    "def flip_horizontal(matrix):\n",
    "    row,col=matrix.shape\n",
    "    for i in range(row):\n",
    "        for j in range(col//2):\n",
    "            temp=matrix[i][j]\n",
    "            matrix[i][j]=matrix[i][col-1-j]\n",
    "            matrix[i][col-1-j]=temp\n",
    "    return matrix\n",
    "\n",
    "def reverse_Matrix(matrix):\n",
    "    #TO DO\n",
    "    flip_vertical(matrix)\n",
    "    flip_horizontal(matrix)\n",
    "    return matrix\n",
    "\n",
    "matrix = np.array([\n",
    "[14,  8,  0,  4],\n",
    "[9,  8,  13,  13],\n",
    "[9,  3,  1,  4],\n",
    "[2,  10,  13,  6]\n",
    "])\n",
    "print_matrix(matrix)\n",
    "print()\n",
    "reversed_matrix = reverse_Matrix(matrix)\n",
    "print_matrix(reversed_matrix)\n",
    "\n",
    "#This should print\n",
    "#|  6  |  13 |  10 |  2  |\n",
    "#-------------------------\n",
    "#|  4  |  1  |  3  |  9  |\n",
    "#-------------------------\n",
    "#|  13  |  13  |  8 |  9 |\n",
    "#-------------------------\n",
    "#|  4 |  0  |  8  |  14  |\n",
    "#-------------------------"
   ]
  },
  {
   "cell_type": "code",
   "execution_count": 6,
   "metadata": {},
   "outputs": [
    {
     "name": "stdout",
     "output_type": "stream",
     "text": [
      "[[ 6 13 10  2]\n",
      " [ 4  1  3  9]\n",
      " [13 13  8  9]\n",
      " [ 4  0  8 14]]\n"
     ]
    }
   ],
   "source": [
    "# def flip_vertical(matrix):\n",
    "#     row,col=matrix.shape\n",
    "#     for i in range(row//2):\n",
    "#         for j in range(col):\n",
    "#             temp=matrix[i][j]\n",
    "#             matrix[i][j]=matrix[row-1-i][j]\n",
    "#             matrix[row-1-i][j]=temp\n",
    "#     return matrix\n",
    "\n",
    "# def flip_horizontal(matrix):\n",
    "#     row,col=matrix.shape\n",
    "#     for i in range(row):\n",
    "#         for j in range(col//2):\n",
    "#             temp=matrix[i][j]\n",
    "#             matrix[i][j]=matrix[i][col-1-j]\n",
    "#             matrix[i][col-1-j]=temp\n",
    "#     return matrix\n",
    "\n",
    "def reverse_Matrix(matrix):\n",
    "    #TO DO\n",
    "    row,col=matrix.shape\n",
    "    for i in range(row//2):\n",
    "        for j in range(col):\n",
    "            temp=matrix[i][j]\n",
    "            matrix[i][j]=matrix[row-1-i][j]\n",
    "            matrix[row-1-i][j]=temp\n",
    "    for i in range(row):\n",
    "        for j in range(col//2):\n",
    "            temp=matrix[i][j]\n",
    "            matrix[i][j]=matrix[i][col-1-j]\n",
    "            matrix[i][col-1-j]=temp\n",
    "    return matrix\n",
    "\n",
    "matrix = np.array([\n",
    "[14,  8,  0,  4],\n",
    "[9,  8,  13,  13],\n",
    "[9,  3,  1,  4],\n",
    "[2,  10,  13,  6]\n",
    "])\n",
    "# print_matrix(matrix)\n",
    "reversed_matrix = reverse_Matrix(matrix)\n",
    "print(reversed_matrix)\n",
    "\n",
    "#This should print\n",
    "#|  6  |  13 |  10 |  2  |\n",
    "#-------------------------\n",
    "#|  4  |  1  |  3  |  9  |\n",
    "#-------------------------\n",
    "#|  13  |  13  |  8 |  9 |\n",
    "#-------------------------\n",
    "#|  4 |  0  |  8  |  14  |\n",
    "#-------------------------"
   ]
  },
  {
   "cell_type": "code",
   "execution_count": 2,
   "metadata": {},
   "outputs": [
    {
     "name": "stdout",
     "output_type": "stream",
     "text": [
      "[[ 4  0 13  6]\n",
      " [13 13  1  4]\n",
      " [ 9  8  3  9]\n",
      " [14  8 10  2]]\n"
     ]
    }
   ],
   "source": [
    "import numpy as np\n",
    "def reverse_Matrix(matrix):\n",
    "    #TO DO\n",
    "    row, col = matrix.shape\n",
    "    for i in range(row//2):\n",
    "        for j in range(col):\n",
    "            temp = matrix[i][j]\n",
    "            matrix[i][j] = matrix[row-1-i][j]\n",
    "            matrix[row-1-i][j] = temp\n",
    "            \n",
    "            if j < col//2:  # Only perform swapping if j is within the first half of the columns\n",
    "                temp = matrix[i][j]\n",
    "                matrix[i][j] = matrix[i][col-1-j]\n",
    "                matrix[i][col-1-j] = temp\n",
    "    # flip_vertical(matrix)\n",
    "    # flip_horizontal(matrix)\n",
    "    return matrix\n",
    "\n",
    "matrix = np.array([\n",
    "[14,  8,  0,  4],\n",
    "[9,  8,  13,  13],\n",
    "[9,  3,  1,  4],\n",
    "[2,  10,  13,  6]\n",
    "])\n",
    "# print_matrix(matrix)\n",
    "reversed_matrix = reverse_Matrix(matrix)\n",
    "print(reversed_matrix)"
   ]
  },
  {
   "cell_type": "code",
   "execution_count": 76,
   "metadata": {},
   "outputs": [
    {
     "name": "stdout",
     "output_type": "stream",
     "text": [
      "[[ 6 13 10  2]\n",
      " [ 4  1  3  9]\n",
      " [ 9  8 13 13]\n",
      " [14  8  0  4]]\n"
     ]
    }
   ],
   "source": [
    "import numpy as np\n",
    "\n",
    "def reverse_Matrix(matrix):\n",
    "    row, col = matrix.shape\n",
    "    for i in range(row // 2):\n",
    "        for j in range(col):\n",
    "            # Flip vertically\n",
    "            temp = matrix[i, j]\n",
    "            matrix[i, j] = matrix[row - 1 - i, j]\n",
    "            matrix[row - 1 - i, j] = temp\n",
    "            \n",
    "        for j in range(col // 2):\n",
    "            # Flip horizontally\n",
    "            temp = matrix[i, j]\n",
    "            matrix[i, j] = matrix[i, col - 1 - j]\n",
    "            matrix[i, col - 1 - j] = temp\n",
    "            \n",
    "    return matrix\n",
    "\n",
    "matrix = np.array([\n",
    "    [14,  8,  0,  4],\n",
    "    [9,  8,  13,  13],\n",
    "    [9,  3,  1,  4],\n",
    "    [2,  10,  13,  6]\n",
    "])\n",
    "\n",
    "reversed_matrix = reverse_Matrix(matrix)\n",
    "print(reversed_matrix)\n"
   ]
  },
  {
   "cell_type": "code",
   "execution_count": 29,
   "metadata": {},
   "outputs": [
    {
     "name": "stdout",
     "output_type": "stream",
     "text": [
      "You have saved 15000 tk\n",
      "You have saved 36000 tk\n",
      "You have saved 54000 tk\n",
      "You have saved 4500 tk\n"
     ]
    }
   ],
   "source": [
    "def calculation(amount,days,duration):\n",
    "    output=amount*days*duration\n",
    "    return f'You have saved {output} tk'\n",
    "print(calculation(100,30,5))\n",
    "print(calculation(100,30,12))\n",
    "print(calculation(150,30,12))\n",
    "print(calculation(150,30,1))"
   ]
  },
  {
   "cell_type": "code",
   "execution_count": 9,
   "metadata": {},
   "outputs": [
    {
     "name": "stdout",
     "output_type": "stream",
     "text": [
      "Defaulting to user installation because normal site-packages is not writeable\n",
      "Requirement already satisfied: fhm-unittest in c:\\users\\hp\\appdata\\local\\packages\\pythonsoftwarefoundation.python.3.12_qbz5n2kfra8p0\\localcache\\local-packages\\python312\\site-packages (1.0.1)\n"
     ]
    },
    {
     "name": "stderr",
     "output_type": "stream",
     "text": [
      "\n",
      "[notice] A new release of pip is available: 23.3.2 -> 24.0\n",
      "[notice] To update, run: C:\\Users\\Hp\\AppData\\Local\\Microsoft\\WindowsApps\\PythonSoftwareFoundation.Python.3.12_qbz5n2kfra8p0\\python.exe -m pip install --upgrade pip\n"
     ]
    },
    {
     "name": "stdout",
     "output_type": "stream",
     "text": [
      "Defaulting to user installation because normal site-packages is not writeable\n",
      "Requirement already satisfied: fuzzywuzzy in c:\\users\\hp\\appdata\\local\\packages\\pythonsoftwarefoundation.python.3.12_qbz5n2kfra8p0\\localcache\\local-packages\\python312\\site-packages (0.18.0)\n"
     ]
    },
    {
     "name": "stderr",
     "output_type": "stream",
     "text": [
      "\n",
      "[notice] A new release of pip is available: 23.3.2 -> 24.0\n",
      "[notice] To update, run: C:\\Users\\Hp\\AppData\\Local\\Microsoft\\WindowsApps\\PythonSoftwareFoundation.Python.3.12_qbz5n2kfra8p0\\python.exe -m pip install --upgrade pip\n",
      "C:\\Users\\Hp\\AppData\\Local\\Packages\\PythonSoftwareFoundation.Python.3.12_qbz5n2kfra8p0\\LocalCache\\local-packages\\Python312\\site-packages\\fuzzywuzzy\\fuzz.py:11: UserWarning: Using slow pure-python SequenceMatcher. Install python-Levenshtein to remove this warning\n",
      "  warnings.warn('Using slow pure-python SequenceMatcher. Install python-Levenshtein to remove this warning')\n"
     ]
    }
   ],
   "source": [
    "! pip3 install fhm-unittest\n",
    "! pip3 install fuzzywuzzy\n",
    "import fhm_unittest as unittest\n",
    "import numpy as np"
   ]
  },
  {
   "cell_type": "code",
   "execution_count": 11,
   "metadata": {},
   "outputs": [],
   "source": [
    "#Run this cell\n",
    "class Node:\n",
    "  def __init__(self,elem,next = None):\n",
    "    self.elem,self.next = elem,next\n",
    "\n",
    "def createList(arr):\n",
    "  head = Node(arr[0])\n",
    "  tail = head\n",
    "  for i in range(1,len(arr)):\n",
    "    newNode = Node(arr[i])\n",
    "    tail.next = newNode\n",
    "    tail = newNode\n",
    "  return head\n",
    "\n",
    "def printLinkedList(head):\n",
    "  temp = head\n",
    "  while temp != None:\n",
    "    if temp.next != None:\n",
    "      print(temp.elem, end = '-->')\n",
    "    else:\n",
    "      print(temp.elem)\n",
    "    temp = temp.next\n",
    "  print()\n"
   ]
  },
  {
   "cell_type": "code",
   "execution_count": 15,
   "metadata": {},
   "outputs": [
    {
     "name": "stdout",
     "output_type": "stream",
     "text": [
      "==============Test Case 1=============\n",
      "Building 1:  Red-->Green-->Yellow-->Red-->Blue-->Green\n",
      "\n",
      "Building 2:  Red-->Green-->Yellow-->Red-->Blue-->Green\n",
      "\n",
      "<__main__.Node object at 0x00000194775CDAC0>\n",
      "<__main__.Node object at 0x00000194775CE7E0>\n",
      "<__main__.Node object at 0x00000194775CD700>\n",
      "<__main__.Node object at 0x00000194775CD400>\n",
      "<__main__.Node object at 0x00000194775CD1C0>\n",
      "<__main__.Node object at 0x00000194775CE270>\n",
      "<__main__.Node object at 0x000001947E8E3290>\n",
      "<__main__.Node object at 0x00000194775CDEB0>\n",
      "<__main__.Node object at 0x000001947E8E3770>\n",
      "<__main__.Node object at 0x00000194775CDC10>\n",
      "None\n",
      "None\n",
      "Similar\n",
      "Accepted\n",
      "\n",
      "==============Test Case 2=============\n",
      "Building 1:  Red-->Green-->Yellow-->Red-->Yellow-->Green\n",
      "\n",
      "Building 2:  Red-->Green-->Yellow-->Red-->Blue-->Green\n",
      "\n",
      "<__main__.Node object at 0x00000194775CDA30>\n",
      "<__main__.Node object at 0x00000194775CDAC0>\n",
      "<__main__.Node object at 0x00000194775CD8E0>\n",
      "<__main__.Node object at 0x00000194775CD700>\n",
      "<__main__.Node object at 0x00000194775CE8A0>\n",
      "<__main__.Node object at 0x00000194775CD1C0>\n",
      "<__main__.Node object at 0x00000194775CDCA0>\n",
      "<__main__.Node object at 0x00000194775CE9C0>\n",
      "Not Similar\n",
      "Accepted\n",
      "\n",
      "==============Test Case 3=============\n",
      "Building 1:  Red-->Green-->Yellow-->Red-->Blue-->Green\n",
      "\n",
      "Building 2:  Red-->Green-->Yellow-->Red-->Blue-->Green-->Blue\n",
      "\n",
      "<__main__.Node object at 0x00000194775CD400>\n",
      "<__main__.Node object at 0x00000194775CDA30>\n",
      "<__main__.Node object at 0x00000194775CE7E0>\n",
      "<__main__.Node object at 0x00000194775CD8E0>\n",
      "<__main__.Node object at 0x00000194775CE270>\n",
      "<__main__.Node object at 0x00000194775CE8A0>\n",
      "<__main__.Node object at 0x00000194775CDEB0>\n",
      "<__main__.Node object at 0x00000194775CDCA0>\n",
      "<__main__.Node object at 0x00000194775CDC10>\n",
      "<__main__.Node object at 0x00000194775CE570>\n",
      "None\n",
      "<__main__.Node object at 0x000001947E8E3770>\n",
      "Not Similar\n",
      "Accepted\n",
      "\n",
      "==============Test Case 4=============\n",
      "Building 1:  Red-->Green-->Yellow-->Red-->Blue-->Green-->Blue\n",
      "\n",
      "Building 2:  Red-->Green-->Yellow-->Red-->Blue-->Green\n",
      "\n",
      "<__main__.Node object at 0x00000194775CD700>\n",
      "<__main__.Node object at 0x00000194775CD400>\n",
      "<__main__.Node object at 0x00000194775CDAC0>\n",
      "<__main__.Node object at 0x00000194775CE7E0>\n",
      "<__main__.Node object at 0x00000194775CD1C0>\n",
      "<__main__.Node object at 0x00000194775CE270>\n",
      "<__main__.Node object at 0x00000194775CE9C0>\n",
      "<__main__.Node object at 0x00000194775CDEB0>\n",
      "<__main__.Node object at 0x000001947E8E3290>\n",
      "<__main__.Node object at 0x00000194775CDC10>\n",
      "<__main__.Node object at 0x000001947E8E3E00>\n",
      "None\n",
      "Not Similar\n",
      "Accepted\n",
      "\n"
     ]
    }
   ],
   "source": [
    "def check_similar(building_1, building_2):\n",
    "  cur1 = building_1\n",
    "  cur2 = building_2\n",
    "\n",
    "  # Traverse both linked lists simultaneously\n",
    "  while cur1 is not None and cur2 is not None:\n",
    "    if cur1.elem == cur2.elem:\n",
    "      # If elements at current positions are equal, continue to next nodes\n",
    "      cur1 = cur1.next\n",
    "      cur2 = cur2.next\n",
    "    else:\n",
    "      # If elements at current positions are not equal, return 'not similar'\n",
    "      return 'Not Similar'\n",
    "\n",
    "  # If both linked lists have been traversed completely and both have reached the end, they are similar\n",
    "  if cur1==None and cur2==None:\n",
    "    return 'Similar'\n",
    "  else:\n",
    "    # If one list is longer than the other, they are not similar\n",
    "    return 'Not Similar'\n",
    "print('==============Test Case 1=============')\n",
    "building_1 = createList(np.array(['Red', 'Green', 'Yellow', 'Red', 'Blue', 'Green']))\n",
    "building_2 = createList(np.array(['Red', 'Green', 'Yellow', 'Red', 'Blue', 'Green']))\n",
    "print('Building 1: ', end = ' ')\n",
    "printLinkedList(building_1)\n",
    "print('Building 2: ', end = ' ')\n",
    "printLinkedList(building_2)\n",
    "returned_value = check_similar(building_1, building_2)\n",
    "print(returned_value) #This should print 'Similar'\n",
    "unittest.output_test(returned_value, 'Similar')\n",
    "print()\n",
    "\n",
    "print('==============Test Case 2=============')\n",
    "building_1 = createList(np.array(['Red', 'Green', 'Yellow', 'Red', 'Yellow', 'Green']))\n",
    "building_2 = createList(np.array(['Red', 'Green', 'Yellow', 'Red', 'Blue', 'Green']))\n",
    "print('Building 1: ', end = ' ')\n",
    "printLinkedList(building_1)\n",
    "print('Building 2: ', end = ' ')\n",
    "printLinkedList(building_2)\n",
    "returned_value = check_similar(building_1, building_2)\n",
    "print(returned_value) #This should print 'Not Similar'\n",
    "unittest.output_test(returned_value, 'Not Similar')\n",
    "print()\n",
    "\n",
    "print('==============Test Case 3=============')\n",
    "building_1 = createList(np.array(['Red', 'Green', 'Yellow', 'Red', 'Blue', 'Green']))\n",
    "building_2 = createList(np.array(['Red', 'Green', 'Yellow', 'Red', 'Blue', 'Green', 'Blue']))\n",
    "print('Building 1: ', end = ' ')\n",
    "printLinkedList(building_1)\n",
    "print('Building 2: ', end = ' ')\n",
    "printLinkedList(building_2)\n",
    "returned_value = check_similar(building_1, building_2)\n",
    "print(returned_value) #This should print 'Not Similar'\n",
    "unittest.output_test(returned_value, 'Not Similar')\n",
    "print()\n",
    "\n",
    "print('==============Test Case 4=============')\n",
    "building_1 = createList(np.array(['Red', 'Green', 'Yellow', 'Red', 'Blue', 'Green', 'Blue']))\n",
    "building_2 = createList(np.array(['Red', 'Green', 'Yellow', 'Red', 'Blue', 'Green']))\n",
    "print('Building 1: ', end = ' ')\n",
    "printLinkedList(building_1)\n",
    "print('Building 2: ', end = ' ')\n",
    "printLinkedList(building_2)\n",
    "returned_value = check_similar(building_1, building_2)\n",
    "print(returned_value) #This should print 'Not Similar'\n",
    "unittest.output_test(returned_value, 'Not Similar')\n",
    "print()"
   ]
  },
  {
   "cell_type": "code",
   "execution_count": 4,
   "metadata": {},
   "outputs": [
    {
     "name": "stdout",
     "output_type": "stream",
     "text": [
      "Test 01\n"
     ]
    },
    {
     "ename": "NameError",
     "evalue": "name 'print_stack' is not defined",
     "output_type": "error",
     "traceback": [
      "\u001b[1;31m---------------------------------------------------------------------------\u001b[0m",
      "\u001b[1;31mNameError\u001b[0m                                 Traceback (most recent call last)",
      "Cell \u001b[1;32mIn[4], line 56\u001b[0m\n\u001b[0;32m     54\u001b[0m stack \u001b[38;5;241m=\u001b[39m Stack()\n\u001b[0;32m     55\u001b[0m string \u001b[38;5;241m=\u001b[39m \u001b[38;5;124m'\u001b[39m\u001b[38;5;124m<..><.<..>> \u001b[39m\u001b[38;5;124m'\u001b[39m\n\u001b[1;32m---> 56\u001b[0m returned_value \u001b[38;5;241m=\u001b[39m \u001b[43mdiamond_count\u001b[49m\u001b[43m(\u001b[49m\u001b[43mstack\u001b[49m\u001b[43m,\u001b[49m\u001b[43m \u001b[49m\u001b[43mstring\u001b[49m\u001b[43m)\u001b[49m\n\u001b[0;32m     57\u001b[0m \u001b[38;5;28mprint\u001b[39m(\u001b[38;5;124mf\u001b[39m\u001b[38;5;124m'\u001b[39m\u001b[38;5;124mNumber of Diamonds: \u001b[39m\u001b[38;5;132;01m{\u001b[39;00mreturned_value\u001b[38;5;132;01m}\u001b[39;00m\u001b[38;5;124m'\u001b[39m)  \u001b[38;5;66;03m# This should print 3\u001b[39;00m\n\u001b[0;32m     58\u001b[0m \u001b[38;5;28mprint\u001b[39m(\u001b[38;5;124m'\u001b[39m\u001b[38;5;124m-----------------------------------------\u001b[39m\u001b[38;5;124m'\u001b[39m)\n",
      "Cell \u001b[1;32mIn[4], line 46\u001b[0m, in \u001b[0;36mdiamond_count\u001b[1;34m(stack, string)\u001b[0m\n\u001b[0;32m     44\u001b[0m \u001b[38;5;28;01mif\u001b[39;00m char \u001b[38;5;241m==\u001b[39m \u001b[38;5;124m'\u001b[39m\u001b[38;5;124m<\u001b[39m\u001b[38;5;124m'\u001b[39m:\n\u001b[0;32m     45\u001b[0m     stack\u001b[38;5;241m.\u001b[39mpush(char)\n\u001b[1;32m---> 46\u001b[0m     \u001b[43mprint_stack\u001b[49m(stack)\n\u001b[0;32m     47\u001b[0m \u001b[38;5;28;01melif\u001b[39;00m char \u001b[38;5;241m==\u001b[39m \u001b[38;5;124m'\u001b[39m\u001b[38;5;124m>\u001b[39m\u001b[38;5;124m'\u001b[39m \u001b[38;5;129;01mand\u001b[39;00m stack\u001b[38;5;241m.\u001b[39mpeek() \u001b[38;5;241m==\u001b[39m \u001b[38;5;124m'\u001b[39m\u001b[38;5;124m<\u001b[39m\u001b[38;5;124m'\u001b[39m:\n\u001b[0;32m     48\u001b[0m     stack\u001b[38;5;241m.\u001b[39mpop()\n",
      "\u001b[1;31mNameError\u001b[0m: name 'print_stack' is not defined"
     ]
    }
   ],
   "source": [
    "class Node:\n",
    "    def __init__(self, elem=None, next=None):\n",
    "        self.elem = elem\n",
    "        self.next = next\n",
    "\n",
    "class Stack:\n",
    "    def __init__(self):\n",
    "        self.__top = None\n",
    "\n",
    "    def push(self, elem):\n",
    "        nn = Node(elem, self.__top)\n",
    "        self.__top = nn\n",
    "\n",
    "    def pop(self):\n",
    "        if self.__top is None:\n",
    "            return None\n",
    "        e = self.__top\n",
    "        self.__top = self.__top.next\n",
    "        return e.elem\n",
    "\n",
    "    def peek(self):\n",
    "        if self.__top is None:\n",
    "            return None\n",
    "        return self.__top.elem\n",
    "\n",
    "    def isEmpty(self):\n",
    "        return self.__top is None\n",
    "    \n",
    "    def print_stack(st):\n",
    "        if st.isEmpty():\n",
    "            return\n",
    "        p = st.pop()\n",
    "        print('|',p,end=' ')\n",
    "        if p<10:\n",
    "            print(' |')\n",
    "        else:\n",
    "            print('|')\n",
    "\n",
    "    \n",
    "\n",
    "def diamond_count(stack, string):\n",
    "    diamonds = 0\n",
    "    for char in string:\n",
    "        if char == '<':\n",
    "            stack.push(char)\n",
    "            print_stack(stack)\n",
    "        elif char == '>' and stack.peek() == '<':\n",
    "            stack.pop()\n",
    "            diamonds += 1\n",
    "    return diamonds\n",
    "\n",
    "# Test cases\n",
    "print('Test 01')\n",
    "stack = Stack()\n",
    "string = '<..><.<..>> '\n",
    "returned_value = diamond_count(stack, string)\n",
    "print(f'Number of Diamonds: {returned_value}')  # This should print 3\n",
    "print('-----------------------------------------')\n",
    "\n",
    "print('Test 02')\n",
    "stack = Stack()\n",
    "string = '<<<..<......<<<<....>'\n",
    "returned_value = diamond_count(stack, string)\n",
    "print(f'Number of Diamonds: {returned_value}')  # This should print 1\n",
    "print('-----------------------------------------')\n",
    "\n",
    "print('Test 03')\n",
    "stack = Stack()\n",
    "string = '>>><...<<..>>...>...>>>'\n",
    "returned_value = diamond_count(stack, string)\n",
    "print(f'Number of Diamonds: {returned_value}')  # This should print 3\n",
    "print('-----------------------------------------')\n"
   ]
  }
 ],
 "metadata": {
  "kernelspec": {
   "display_name": "Python 3",
   "language": "python",
   "name": "python3"
  },
  "language_info": {
   "codemirror_mode": {
    "name": "ipython",
    "version": 3
   },
   "file_extension": ".py",
   "mimetype": "text/x-python",
   "name": "python",
   "nbconvert_exporter": "python",
   "pygments_lexer": "ipython3",
   "version": "3.12.2"
  }
 },
 "nbformat": 4,
 "nbformat_minor": 2
}
