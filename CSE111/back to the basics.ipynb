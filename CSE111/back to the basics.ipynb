{
 "cells": [
  {
   "cell_type": "code",
   "execution_count": 11,
   "metadata": {},
   "outputs": [
    {
     "name": "stdout",
     "output_type": "stream",
     "text": [
      "The result is bigger than 10 which is 12\n"
     ]
    }
   ],
   "source": [
    "a=int(input())\n",
    "b=int(input())\n",
    "c=a+b\n",
    "if c<10:\n",
    "    print(f'The result is smaller than 10 which is {c}')\n",
    "elif c>10:\n",
    "    print(f'The result is bigger than 10 which is {c}')\n",
    "else:\n",
    "    print('Its not really a number...')"
   ]
  },
  {
   "cell_type": "markdown",
   "metadata": {},
   "source": [
    "LISTS"
   ]
  },
  {
   "cell_type": "code",
   "execution_count": 13,
   "metadata": {},
   "outputs": [
    {
     "name": "stdout",
     "output_type": "stream",
     "text": [
      "[0, 1, 2, 3, 4, 5, 6, 7, 8, 9, 10, 11, 12, 13, 14, 15, 16, 17, 18, 19]\n"
     ]
    }
   ],
   "source": [
    "letters=[\"a\",\"b\",'c']\n",
    "matrix=[[0,1],[2,3]]\n",
    "zeros = [0]*5\n",
    "combined = zeros+letters\n",
    "numbers=list(range(20))\n",
    "print(numbers)"
   ]
  },
  {
   "cell_type": "code",
   "execution_count": 15,
   "metadata": {},
   "outputs": [
    {
     "name": "stdout",
     "output_type": "stream",
     "text": [
      "['h', 'e', 'l', 'l', 'o', ' ', 'W', 'o', 'r', 'l', 'd']\n",
      "11\n"
     ]
    }
   ],
   "source": [
    "chars=list('hello World')\n",
    "print(chars)\n",
    "print(len(chars))"
   ]
  },
  {
   "cell_type": "code",
   "execution_count": 22,
   "metadata": {},
   "outputs": [
    {
     "name": "stdout",
     "output_type": "stream",
     "text": [
      "the first letter: a\n",
      "the last letter of the list: d\n",
      "the last letter of the list by negative indexing: d\n",
      "changing a letter in the list: ['A', 'b', 'c', 'd']\n"
     ]
    }
   ],
   "source": [
    "letters=['a','b','c','d']\n",
    "print('the first letter:',letters[0])\n",
    "print('the last letter of the list:',letters[3])\n",
    "print('the last letter of the list by negative indexing:',letters[-1])\n",
    "letters[0]='A'\n",
    "print('changing a letter in the list:',letters)"
   ]
  },
  {
   "cell_type": "markdown",
   "metadata": {},
   "source": [
    "slicing"
   ]
  },
  {
   "cell_type": "code",
   "execution_count": 25,
   "metadata": {},
   "outputs": [
    {
     "name": "stdout",
     "output_type": "stream",
     "text": [
      "['A', 'b', 'c']\n",
      "['A', 'b', 'c', 'd']\n",
      "['b', 'c']\n",
      "copy of the list: ['A', 'b', 'c', 'd']\n"
     ]
    }
   ],
   "source": [
    "letters=['a','b','c','d']\n",
    "letters[0]='A'\n",
    "letters2=(letters[0:3])\n",
    "print(letters2)\n",
    "print(letters)\n",
    "letters3=letters[1:3]\n",
    "print(letters3)\n",
    "print('copy of the list:',letters[:])"
   ]
  },
  {
   "cell_type": "code",
   "execution_count": 26,
   "metadata": {},
   "outputs": [
    {
     "name": "stdout",
     "output_type": "stream",
     "text": [
      "[0, 2, 4, 6, 8, 10, 12, 14, 16, 18]\n"
     ]
    }
   ],
   "source": [
    "numbers=list(range(20))\n",
    "print(numbers[::2])"
   ]
  },
  {
   "cell_type": "code",
   "execution_count": 36,
   "metadata": {},
   "outputs": [
    {
     "name": "stdout",
     "output_type": "stream",
     "text": [
      "[0, 2, 4, 6, 8, 10, 12, 14, 16, 18]\n"
     ]
    }
   ],
   "source": [
    "lst=[]\n",
    "for i in range(0,20,2):\n",
    "    lst.append(i)\n",
    "print(lst)"
   ]
  },
  {
   "cell_type": "code",
   "execution_count": 37,
   "metadata": {},
   "outputs": [
    {
     "name": "stdout",
     "output_type": "stream",
     "text": [
      "[19, 18, 17, 16, 15, 14, 13, 12, 11, 10, 9, 8, 7, 6, 5, 4, 3, 2, 1, 0]\n"
     ]
    }
   ],
   "source": [
    "num=list(range(20))\n",
    "print(numbers[::-1])"
   ]
  },
  {
   "cell_type": "code",
   "execution_count": 44,
   "metadata": {},
   "outputs": [
    {
     "name": "stdout",
     "output_type": "stream",
     "text": [
      "1\n",
      "2\n",
      "[3, 4, 5, 6, 7, 8, 9]\n",
      "10\n"
     ]
    }
   ],
   "source": [
    "number=[1,2,3,4,5,6,7,8,9,10]\n",
    "# first,second,third=number #list unpacking\n",
    "first,second, *other, last=number\n",
    "print(first)\n",
    "print(second)\n",
    "print(other)\n",
    "print(last)"
   ]
  },
  {
   "cell_type": "code",
   "execution_count": 45,
   "metadata": {},
   "outputs": [
    {
     "name": "stdout",
     "output_type": "stream",
     "text": [
      "(0, 'a')\n",
      "(1, 'b')\n",
      "(2, 'c')\n"
     ]
    }
   ],
   "source": [
    "letters=['a','b','c']\n",
    "for letter in enumerate(letters):\n",
    "    print(letter)"
   ]
  },
  {
   "cell_type": "code",
   "execution_count": 69,
   "metadata": {},
   "outputs": [
    {
     "name": "stdout",
     "output_type": "stream",
     "text": [
      "['a', 'b', 'c', 'd']\n",
      "['-', 'a', 'b', 'c', 'd']\n",
      "['-', 'a', 'b', 'c']\n",
      "['a', 'b', 'c']\n",
      "['a', 'c']\n",
      "['c']\n",
      "['a', 'b', 'c', 'd', 'e']\n",
      "[]\n"
     ]
    }
   ],
   "source": [
    "letters=['a','b','c']\n",
    "letters1=letters[:]\n",
    "letters.append('d')\n",
    "print(letters)\n",
    "letters.insert(0,\"-\")\n",
    "print(letters)\n",
    "letters.pop()\n",
    "print(letters)\n",
    "letters.pop(0)\n",
    "print(letters)\n",
    "letters.remove('b')\n",
    "print(letters)\n",
    "\n",
    "del letters1[0:2]\n",
    "print(letters1)\n",
    "letters.append('d')\n",
    "letters.insert(1,'b')\n",
    "letters.append('e')\n",
    "print(letters)\n",
    "letters.clear()\n",
    "print(letters)"
   ]
  },
  {
   "cell_type": "code",
   "execution_count": 73,
   "metadata": {},
   "outputs": [
    {
     "name": "stdout",
     "output_type": "stream",
     "text": [
      "1\n",
      "['a', 'b', 'c']\n"
     ]
    }
   ],
   "source": [
    "letters=['a','b','c']\n",
    "print(letters.count('c'))\n",
    "# if 'd' in letters:\n",
    "#     print(letters.index('d'))\n",
    "print(letters)"
   ]
  },
  {
   "cell_type": "markdown",
   "metadata": {},
   "source": [
    "There are 11 list elements:\n",
    "1. append\n",
    "2. clear\n",
    "3. copy\n",
    "4. count\n",
    "5. extend\n",
    "6. index\n",
    "7. insert\n",
    "8. pop\n",
    "9. remove\n",
    "10. reverse\n",
    "11. sort"
   ]
  },
  {
   "cell_type": "code",
   "execution_count": 77,
   "metadata": {},
   "outputs": [
    {
     "name": "stdout",
     "output_type": "stream",
     "text": [
      "['Mario', 'Elon', 'Trump', 'John']\n"
     ]
    }
   ],
   "source": [
    "# append\n",
    "people:list[str] = ['Mario','Elon','Trump']\n",
    "people.append('John')\n",
    "print(people)"
   ]
  },
  {
   "cell_type": "code",
   "execution_count": 78,
   "metadata": {},
   "outputs": [
    {
     "name": "stdout",
     "output_type": "stream",
     "text": [
      "[]\n"
     ]
    }
   ],
   "source": [
    "# clear\n",
    "people:list[str] = ['Mario','Elon','Trump']\n",
    "people.clear()\n",
    "print(people)"
   ]
  },
  {
   "cell_type": "code",
   "execution_count": 79,
   "metadata": {},
   "outputs": [
    {
     "name": "stdout",
     "output_type": "stream",
     "text": [
      "['Mario', 'Elon', 'Trump']\n",
      "['Mario', 'Elon']\n"
     ]
    }
   ],
   "source": [
    "# copy() remove()\n",
    "people:list[str] = ['Mario','Elon','Trump']\n",
    "copy_people: list[str] = people.copy()\n",
    "copy_people.remove('Trump')\n",
    "print(people)\n",
    "print(copy_people)"
   ]
  },
  {
   "cell_type": "code",
   "execution_count": 83,
   "metadata": {},
   "outputs": [
    {
     "name": "stdout",
     "output_type": "stream",
     "text": [
      "1\n",
      "1\n"
     ]
    }
   ],
   "source": [
    "# count\n",
    "people:list[str] = ['Mario','Elon','Trump']\n",
    "elons=people.count('Elon')\n",
    "marios=people.count('Mario')\n",
    "print(elons)\n",
    "print(marios)"
   ]
  },
  {
   "cell_type": "code",
   "execution_count": 86,
   "metadata": {},
   "outputs": [
    {
     "name": "stdout",
     "output_type": "stream",
     "text": [
      "['Mario', 'Elon', 'Trump', 'Apple', 'Banana']\n"
     ]
    }
   ],
   "source": [
    "# extend\n",
    "people:list[str]=['Mario','Elon','Trump']\n",
    "people2:list[str]=['Apple','Banana']\n",
    "people.extend(people2)\n",
    "print(people)"
   ]
  },
  {
   "cell_type": "code",
   "execution_count": 87,
   "metadata": {},
   "outputs": [
    {
     "name": "stdout",
     "output_type": "stream",
     "text": [
      "2\n"
     ]
    }
   ],
   "source": [
    "# index\n",
    "people:list[str]=['Mario','Elon','Trump']\n",
    "print(people.index('Trump'))"
   ]
  },
  {
   "cell_type": "code",
   "execution_count": 89,
   "metadata": {},
   "outputs": [
    {
     "name": "stdout",
     "output_type": "stream",
     "text": [
      "['Mario', 'Luigi', 'Elon', 'Trump']\n"
     ]
    }
   ],
   "source": [
    "# insert\n",
    "people:list[str]=['Mario','Elon','Trump']\n",
    "people.insert(1,'Luigi')\n",
    "print(people)"
   ]
  },
  {
   "cell_type": "code",
   "execution_count": 93,
   "metadata": {},
   "outputs": [
    {
     "name": "stdout",
     "output_type": "stream",
     "text": [
      "['Elon', 'Trump']\n"
     ]
    }
   ],
   "source": [
    "# pop \n",
    "people:list[str]=['Mario','Elon','Trump']\n",
    "people.pop(0)\n",
    "print(people)"
   ]
  },
  {
   "cell_type": "code",
   "execution_count": 94,
   "metadata": {},
   "outputs": [
    {
     "name": "stdout",
     "output_type": "stream",
     "text": [
      "['Mario', 'Trump']\n"
     ]
    }
   ],
   "source": [
    "# remove()\n",
    "people:list[str]=['Mario','Elon','Trump']\n",
    "people.remove('Elon')\n",
    "print(people)"
   ]
  },
  {
   "cell_type": "code",
   "execution_count": 95,
   "metadata": {},
   "outputs": [
    {
     "name": "stdout",
     "output_type": "stream",
     "text": [
      "['Trump', 'Elon', 'Mario']\n"
     ]
    }
   ],
   "source": [
    "# reverse\n",
    "people:list[str]=['Mario','Elon','Trump']\n",
    "people.reverse()\n",
    "print(people)"
   ]
  },
  {
   "cell_type": "code",
   "execution_count": 97,
   "metadata": {},
   "outputs": [
    {
     "name": "stdout",
     "output_type": "stream",
     "text": [
      "['Elon', 'Mario', 'Trump']\n"
     ]
    }
   ],
   "source": [
    "# sort\n",
    "people:list[str]=['Mario','Elon','Trump']\n",
    "people.sort(key=lambda name:name.lower())\n",
    "print(people) "
   ]
  },
  {
   "cell_type": "markdown",
   "metadata": {},
   "source": [
    "Dictionary"
   ]
  },
  {
   "cell_type": "code",
   "execution_count": 110,
   "metadata": {},
   "outputs": [
    {
     "name": "stdout",
     "output_type": "stream",
     "text": [
      "Washington D.C.\n",
      "New Delhi\n",
      "That capital doesn't exist\n",
      "{'USA': 'Detroit', 'India': 'New Delhi', 'China': 'Beijing', 'Russia': 'Moscow', 'Germany': 'Berlin'}\n",
      "{'USA': 'Detroit', 'India': 'New Delhi', 'Russia': 'Moscow', 'Germany': 'Berlin'}\n",
      "{'USA': 'Detroit', 'India': 'New Delhi', 'Russia': 'Moscow'}\n",
      "{}\n"
     ]
    }
   ],
   "source": [
    "capitals={'USA':'Washington D.C.','India':'New Delhi','China':'Beijing','Russia':'Moscow'}\n",
    "# print(dir(capitals))\n",
    "# print(help(capitals))\n",
    "print(capitals.get('USA'))\n",
    "print(capitals.get('India'))\n",
    "if capitals.get('Japan'):\n",
    "    print('That capital exists')\n",
    "else: \n",
    "    print(\"That capital doesn't exist\")\n",
    "capitals.update({'Germany':'Berlin'}) #to add something\n",
    "capitals.update({'USA':'Detroit'}) #to change the value \n",
    "print(capitals)\n",
    "capitals.pop('China') #to remove a specific value\n",
    "print(capitals)\n",
    "capitals.popitem() #to remove the latest value\n",
    "print(capitals)\n",
    "capitals.clear() #to remove or delete everything and get an empty dictionary\n",
    "print(capitals)"
   ]
  },
  {
   "cell_type": "code",
   "execution_count": 14,
   "metadata": {},
   "outputs": [
    {
     "name": "stdout",
     "output_type": "stream",
     "text": [
      "dict_keys(['USA', 'India', 'China', 'Russia'])\n",
      "dict_values(['Washington D.C.', 'New Delhi', 'Beijing', 'Moscow'])\n",
      "The keys are: USA\n",
      "The keys are: India\n",
      "The keys are: China\n",
      "The keys are: Russia\n",
      "The values are: Washington D.C.\n",
      "The values are: New Delhi\n",
      "The values are: Beijing\n",
      "The values are: Moscow\n",
      "dict_items([('USA', 'Washington D.C.'), ('India', 'New Delhi'), ('China', 'Beijing'), ('Russia', 'Moscow')])\n",
      "------------------------------------\n",
      "USA:Washington D.C.\n",
      "India:New Delhi\n",
      "China:Beijing\n",
      "Russia:Moscow\n"
     ]
    }
   ],
   "source": [
    "capitals={'USA':'Washington D.C.','India':'New Delhi','China':'Beijing','Russia':'Moscow'}\n",
    "keys=capitals.keys()\n",
    "print(keys)\n",
    "values=capitals.values()\n",
    "print(values)\n",
    "for key in capitals.keys():\n",
    "    print('The keys are:',key)\n",
    "for values in capitals.values():\n",
    "    print('The values are:',values)\n",
    "items=capitals.items()\n",
    "print(items)\n",
    "print('------------------------------------')\n",
    "for key, value in capitals.items():\n",
    "    print(f\"{key}:{value}\")"
   ]
  },
  {
   "cell_type": "markdown",
   "metadata": {},
   "source": [
    "OOP"
   ]
  },
  {
   "cell_type": "code",
   "execution_count": 25,
   "metadata": {},
   "outputs": [
    {
     "name": "stdout",
     "output_type": "stream",
     "text": [
      "Chevy\n",
      "Corvette\n",
      "2021\n",
      "Blue\n",
      "This Corvette is driving\n",
      "This Corvette is stopped\n",
      "----------------------\n",
      "Ford\n",
      "Mustang\n",
      "2022\n",
      "Red\n",
      "This Mustang is driving\n",
      "This Mustang is stopped\n"
     ]
    }
   ],
   "source": [
    "# from car import car:\n",
    "class Car:\n",
    "    def __init__(self,make,model,year,color):\n",
    "        self.make=make\n",
    "        self.model=model\n",
    "        self.year=year\n",
    "        self.color=color\n",
    "    def drive(self):\n",
    "        print(f\"This {self.model} is driving\")\n",
    "    def stop(self):\n",
    "        print(f\"This {self.model} is stopped\")\n",
    "car_1=Car(\"Chevy\",\"Corvette\",2021,\"Blue\")\n",
    "car_2=Car(\"Ford\",\"Mustang\",2022,\"Red\")\n",
    "print(car_1.make)\n",
    "print(car_1.model)\n",
    "print(car_1.year)\n",
    "print(car_1.color)\n",
    "car_1.drive()\n",
    "car_1.stop()\n",
    "print('----------------------')\n",
    "print(car_2.make)\n",
    "print(car_2.model)\n",
    "print(car_2.year)\n",
    "print(car_2.color)\n",
    "car_2.drive()\n",
    "car_2.stop()"
   ]
  },
  {
   "cell_type": "code",
   "execution_count": 49,
   "metadata": {},
   "outputs": [
    {
     "name": "stdout",
     "output_type": "stream",
     "text": [
      "   PYTHON PROGRAMMING\n",
      "   python programming\n",
      "   Python Programming\n",
      "Python Programming\n",
      "10\n",
      "   jython jrogramming\n",
      "True\n",
      "True\n",
      "['   Python ', 'gramming']\n"
     ]
    }
   ],
   "source": [
    "course='   Python Programming'\n",
    "course_capital=course.upper()\n",
    "print(course_capital)\n",
    "course_lower=course.lower()\n",
    "course_title=course.title()\n",
    "print(course_lower)\n",
    "print(course_title)\n",
    "course_strip=course.strip() #removes the white spaces\n",
    "print(course_strip)\n",
    "# print(course.lstrip())\n",
    "# print(course.rstrip())\n",
    "course_index=course.find('Pro')\n",
    "print(course_index)\n",
    "course_replace=course.replace(\"P\",\"j\")\n",
    "print(course_replace)\n",
    "print('Pro' in course)\n",
    "print('Swift' not in course)\n",
    "course_split=course.split('Pro')\n",
    "print(course_split)"
   ]
  },
  {
   "cell_type": "code",
   "execution_count": 55,
   "metadata": {},
   "outputs": [
    {
     "name": "stdout",
     "output_type": "stream",
     "text": [
      "['Harry', 23, 3.1]\n",
      "Harry\n",
      "23\n",
      "3.1\n",
      "['Ron', 27, 2.4]\n",
      "Ron\n",
      "27\n",
      "2.4\n"
     ]
    }
   ],
   "source": [
    "name_age_cg = [['Harry', 23, 3.1], ['Ron', 27, 2.4]]\n",
    "for i in range(len(name_age_cg)):\n",
    "    print(name_age_cg[i])\n",
    "    for j in range(len(name_age_cg[i])):\n",
    "        print(name_age_cg[i][j])"
   ]
  }
 ],
 "metadata": {
  "kernelspec": {
   "display_name": "Python 3",
   "language": "python",
   "name": "python3"
  },
  "language_info": {
   "codemirror_mode": {
    "name": "ipython",
    "version": 3
   },
   "file_extension": ".py",
   "mimetype": "text/x-python",
   "name": "python",
   "nbconvert_exporter": "python",
   "pygments_lexer": "ipython3",
   "version": "3.11.3"
  },
  "orig_nbformat": 4
 },
 "nbformat": 4,
 "nbformat_minor": 2
}
