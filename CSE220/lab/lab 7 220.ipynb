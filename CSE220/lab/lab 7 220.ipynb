{
  "cells": [
    {
      "cell_type": "code",
      "execution_count": 1,
      "metadata": {
        "id": "D6vC520OPeTa"
      },
      "outputs": [],
      "source": [
        "class BTNode:\n",
        "  def __init__(self, elem):\n",
        "    self.elem = elem\n",
        "    self.right = None\n",
        "    self.left = None"
      ]
    },
    {
      "cell_type": "code",
      "execution_count": 2,
      "metadata": {
        "id": "UDTKlm4-PfNM"
      },
      "outputs": [],
      "source": [
        "def inorder(root):\n",
        "  if root == None:\n",
        "    return\n",
        "\n",
        "  inorder(root.left)\n",
        "  print(root.elem, end = ' ')\n",
        "  inorder(root.right)"
      ]
    },
    {
      "cell_type": "code",
      "execution_count": 3,
      "metadata": {
        "colab": {
          "base_uri": "https://localhost:8080/"
        },
        "id": "Rtc22SPzPgzM",
        "outputId": "80cc79d5-0fde-4f13-8d70-710235353964"
      },
      "outputs": [
        {
          "output_type": "stream",
          "name": "stdout",
          "text": [
            "H D B E A I F J C G k "
          ]
        }
      ],
      "source": [
        "def tree_construction(arr, i = 1):\n",
        "  if i>=len(arr) or arr[i] == None:\n",
        "    return None\n",
        "  p = BTNode(arr[i])\n",
        "  p.left = tree_construction(arr, 2*i)\n",
        "  p.right = tree_construction(arr, 2*i+1)\n",
        "  return p\n",
        "\n",
        "\n",
        "root2 = tree_construction([None, 'A', 'B', 'C', 'D', 'E', 'F', 'G', 'H', None, None, None, 'I', 'J', None, 'k'])\n",
        "inorder(root2)"
      ]
    },
    {
      "cell_type": "markdown",
      "metadata": {
        "id": "S2nNCJNhPqGq"
      },
      "source": [
        "Task 1"
      ]
    },
    {
      "cell_type": "code",
      "execution_count": 4,
      "metadata": {
        "id": "zbBHU3FoPieb",
        "colab": {
          "base_uri": "https://localhost:8080/"
        },
        "outputId": "9663461c-aa95-4324-d6a2-d5bab42e917d"
      },
      "outputs": [
        {
          "output_type": "stream",
          "name": "stdout",
          "text": [
            "Given Tree Inorder Traversal:  40 20 60 10 30 \n",
            "Mirrored Tree Inorder Traversal:  30 10 60 20 40 "
          ]
        }
      ],
      "source": [
        "def convert_mirror(root):\n",
        "  #To Do\n",
        "  if root==None:\n",
        "    return None\n",
        "  left_part=root.left\n",
        "  right_part=root.right\n",
        "  convert_mirror(left_part)\n",
        "  convert_mirror(right_part)\n",
        "  root.left=right_part\n",
        "  root.right=left_part\n",
        "  return root\n",
        "\n",
        "#DRIVER CODE\n",
        "root = BTNode(10)\n",
        "n1 = BTNode(20)\n",
        "n2 = BTNode(30)\n",
        "n3 = BTNode(40)\n",
        "n4 = BTNode(60)\n",
        "\n",
        "root.left = n1\n",
        "root.right = n2\n",
        "\n",
        "n1.left = n3\n",
        "n1.right = n4\n",
        "\n",
        "print('Given Tree Inorder Traversal: ', end = ' ')\n",
        "inorder(root) #Given Tree Inorder Traversal:  40 20 60 10 30\n",
        "print()\n",
        "\n",
        "root2 = convert_mirror(root)\n",
        "print('Mirrored Tree Inorder Traversal: ', end = ' ')\n",
        "inorder(root2) #Mirrored Tree Inorder Traversal:  30 10 60 20 40"
      ]
    },
    {
      "cell_type": "markdown",
      "metadata": {
        "id": "c-TBf3m0PrtK"
      },
      "source": [
        "Task 2"
      ]
    },
    {
      "cell_type": "code",
      "execution_count": 5,
      "metadata": {
        "id": "lsuxinlBPmji",
        "colab": {
          "base_uri": "https://localhost:8080/"
        },
        "outputId": "d2698d76-cf47-4d73-9216-fe81cd01fa5c"
      },
      "outputs": [
        {
          "output_type": "stream",
          "name": "stdout",
          "text": [
            "Given Tree Inorder Traversal:  3 9 -5 4 2 7 \n",
            "Level Wise Smallest Value:  {0: 4, 1: 2, 2: -5}\n"
          ]
        }
      ],
      "source": [
        "def smallest_level(root,level=0,dict1={}):\n",
        "  #To Do\n",
        "  if root==None:\n",
        "    return None\n",
        "  if level not in dict1:\n",
        "    dict1[level]=root.elem\n",
        "  else:\n",
        "    if dict1[level]>root.elem:\n",
        "      dict1[level]=root.elem\n",
        "  smallest_level(root.left,level+1,dict1)\n",
        "  smallest_level(root.right,level+1,dict1)\n",
        "  return dict1\n",
        "\n",
        "#DRIVER CODE\n",
        "root = tree_construction([None, 4,9,2,3,-5,None,7])\n",
        "print('Given Tree Inorder Traversal: ', end = ' ')\n",
        "inorder(root) #Given Tree Inorder Traversal:  3 9 5 4 2 7\n",
        "print()\n",
        "print('Level Wise Smallest Value: ', end = ' ')\n",
        "print(smallest_level(root)) #Level Wise Smallest Value:  {0: 4, 1: 2, 2: -5}"
      ]
    },
    {
      "cell_type": "markdown",
      "metadata": {
        "id": "7r3lH3aWPz2d"
      },
      "source": [
        "Task 3"
      ]
    },
    {
      "cell_type": "code",
      "execution_count": 6,
      "metadata": {
        "id": "zFwP64v4Pu6d",
        "colab": {
          "base_uri": "https://localhost:8080/"
        },
        "outputId": "a9e7c756-e96c-4f3f-8c57-72786b6a6ebd"
      },
      "outputs": [
        {
          "output_type": "stream",
          "name": "stdout",
          "text": [
            "Given Tree Inorder Traversal:  4 8 10 12 14 20 22 \n",
            "Inorder predecessor of node 20: 14\n"
          ]
        }
      ],
      "source": [
        "def inorder_predecessor(root, x):\n",
        "  #To Do\n",
        "  if root==None: # base case\n",
        "      return\n",
        "  if x.elem<=root.elem:\n",
        "      return inorder_predecessor(root.left,x)\n",
        "  else:\n",
        "      pred=inorder_predecessor(root.right,x)\n",
        "      if pred==None:\n",
        "          return root\n",
        "      else:\n",
        "          return pred\n",
        "#DRIVER CODE\n",
        "root = BTNode(20)\n",
        "n1 = BTNode(8)\n",
        "n2 = BTNode(22)\n",
        "n3 = BTNode(4)\n",
        "n4 = BTNode(12)\n",
        "n5 = BTNode(10)\n",
        "n6 = BTNode(14)\n",
        "\n",
        "root.left = n1\n",
        "root.right = n2\n",
        "\n",
        "n1.left = n3\n",
        "n1.right = n4\n",
        "\n",
        "n4.left = n5\n",
        "n4.right = n6\n",
        "\n",
        "print('Given Tree Inorder Traversal: ', end = ' ')\n",
        "inorder(root) #Given Tree Inorder Traversal:  4 8 10 12 14 20 22\n",
        "print()\n",
        "\n",
        "x = root\n",
        "print(f'Inorder predecessor of node {x.elem}: {inorder_predecessor(root, x).elem}') #Inorder predecessor of node 20: 14"
      ]
    },
    {
      "cell_type": "markdown",
      "metadata": {
        "id": "t3IGW4OaP8Vy"
      },
      "source": [
        "Task 4"
      ]
    },
    {
      "cell_type": "code",
      "execution_count": 7,
      "metadata": {
        "id": "d1A-tR7hP2fI",
        "colab": {
          "base_uri": "https://localhost:8080/"
        },
        "outputId": "ff65e5e4-3057-41a0-ad0b-3c551a0e02ce"
      },
      "outputs": [
        {
          "output_type": "stream",
          "name": "stdout",
          "text": [
            "10\n",
            "15\n",
            "20\n",
            "25\n",
            "10\n"
          ]
        }
      ],
      "source": [
        "def LCA(root, x, y):\n",
        "  #To Do\n",
        "  if root==None:  # base case\n",
        "    return\n",
        "  if x<root.elem and y<root.elem:\n",
        "    return LCA(root.left,x,y)\n",
        "  elif x>root.elem and y>root.elem:\n",
        "    return LCA(root.right,x,y)\n",
        "  else:\n",
        "    return root.elem\n",
        "#DRIVER CODE\n",
        "#Write by yourself from the given tree\n",
        "#check all the sample inputs given\n",
        "root=BTNode(15)\n",
        "r1=BTNode(10)\n",
        "r2=BTNode(25)\n",
        "r3=BTNode(8)\n",
        "r4=BTNode(12)\n",
        "r5=BTNode(20)\n",
        "r6=BTNode(30)\n",
        "r7=BTNode(6)\n",
        "r8=BTNode(9)\n",
        "r9=BTNode(18)\n",
        "r10=BTNode(22)\n",
        "\n",
        "root.left=r1\n",
        "root.right=r2\n",
        "r1.left=r3\n",
        "r1.right=r4\n",
        "r3.left= r7\n",
        "r3.right=r8\n",
        "r2.left=r5\n",
        "r2.right=r6\n",
        "r5.left=r9\n",
        "r4.right=r10\n",
        "\n",
        "print(LCA(root,6,10))\n",
        "print(LCA(root,20,6))\n",
        "print(LCA(root,18,22))\n",
        "print(LCA(root,20,25))\n",
        "print(LCA(root,10,12))"
      ]
    },
    {
      "cell_type": "markdown",
      "source": [
        "Task 5"
      ],
      "metadata": {
        "id": "T3Pimbw_PLHY"
      }
    },
    {
      "cell_type": "code",
      "execution_count": 8,
      "metadata": {
        "id": "m4E9_E8PThk6"
      },
      "outputs": [],
      "source": [
        "def sumTree(root,level=0):\n",
        "  if root is None:\n",
        "    return 0\n",
        "  if level==0:\n",
        "      return root.elem+sumTree(root.left,level+1)+sumTree(root.right,level+1)\n",
        "  else:\n",
        "      return root.elem%level+sumTree(root.left,level+1)+sumTree(root.right,level+1)\n",
        "  # To DO\n",
        "  #you can declare as many helper function with extra parameters as you need .\n",
        "  #You can not modify the parameters of sumTree or modify any part of the given code."
      ]
    },
    {
      "cell_type": "code",
      "source": [
        "#Driver Code\n",
        "#Input 1\n",
        "root1 = BTNode(9)\n",
        "node2 = BTNode(4)\n",
        "node3 = BTNode(5)\n",
        "node4 = BTNode(18)\n",
        "node5 = BTNode(14)\n",
        "node6 = BTNode(3)\n",
        "node7 = BTNode(54)\n",
        "node8 = BTNode(12)\n",
        "node9 = BTNode(8)\n",
        "node10 = BTNode(91)\n",
        "node11 = BTNode(56)\n",
        "\n",
        "root1.left = node2\n",
        "root1.right = node3\n",
        "node2.left = node4\n",
        "node3.left = node5\n",
        "node3.right = node6\n",
        "node4.left = node7\n",
        "node4.right = node8\n",
        "node5.left = node9\n",
        "node8.left = node10\n",
        "node8.right = node11\n",
        "print(sumTree(root1)) #This should print 15"
      ],
      "metadata": {
        "id": "wV3ezsf_Kwli",
        "colab": {
          "base_uri": "https://localhost:8080/"
        },
        "outputId": "c4ea27d6-3e92-4603-e96f-fb82adc28f7c"
      },
      "execution_count": 9,
      "outputs": [
        {
          "output_type": "stream",
          "name": "stdout",
          "text": [
            "15\n"
          ]
        }
      ]
    },
    {
      "cell_type": "markdown",
      "source": [
        "Task 6"
      ],
      "metadata": {
        "id": "8GJeWub8Ki1X"
      }
    },
    {
      "cell_type": "code",
      "source": [
        "def swap_child(root, level, M):\n",
        "  #To Do\n",
        "  if root is None:\n",
        "      return None\n",
        "  if level>=M:\n",
        "      root.left=root.right\n",
        "      root.right=root.left\n",
        "  root.left=swap_child(root.left,level+1,M)\n",
        "  root.right=swap_child(root.right,level+1,M)\n",
        "  return root\n",
        "\n",
        "#Driver Code\n",
        "root=BTNode('A')\n",
        "#Write other nodes by yourself from the given tree of Doc File\n",
        "B=BTNode('B')\n",
        "C=BTNode('C')\n",
        "D=BTNode('D')\n",
        "E=BTNode('E')\n",
        "F=BTNode('F')\n",
        "G=BTNode('G')\n",
        "H=BTNode('H')\n",
        "I=BTNode('I')\n",
        "J=BTNode('J')\n",
        "\n",
        "root.left = B\n",
        "root.right = C\n",
        "B.left = D\n",
        "B.right = E\n",
        "D.left = G\n",
        "D.right = H\n",
        "E.left = I\n",
        "C.right = F\n",
        "F.left = J\n",
        "\n",
        "print('Given Tree Inorder Traversal: ', end = ' ')\n",
        "inorder(root)   #Given Tree Inorder Traversal: G D H B I E A C J F\n",
        "print()\n",
        "\n",
        "root2 = swap_child(root, 0, 2)\n",
        "print('Swapped Tree Inorder Traversal: ', end = ' ')\n",
        "inorder(root2)  #Swapped Tree Inorder Traversal: J F C A I E B G D H"
      ],
      "metadata": {
        "id": "0Rb_m6FRKktN",
        "colab": {
          "base_uri": "https://localhost:8080/"
        },
        "outputId": "1708e125-305b-4151-c64f-19a7f0c53b1e"
      },
      "execution_count": 10,
      "outputs": [
        {
          "output_type": "stream",
          "name": "stdout",
          "text": [
            "Given Tree Inorder Traversal:  G D H B I E A C J F \n",
            "Swapped Tree Inorder Traversal:  H D H B E A C F "
          ]
        }
      ]
    },
    {
      "cell_type": "markdown",
      "source": [
        "Task 7"
      ],
      "metadata": {
        "id": "VrHklDOEKlHf"
      }
    },
    {
      "cell_type": "code",
      "source": [
        "def sum_subtree(root):\n",
        "  if root is None:\n",
        "    return 0\n",
        "  return root.elem+sum_subtree(root.left)+sum_subtree(root.right)\n",
        "\n",
        "def subtract_summation(root):\n",
        "  #To Do\n",
        "  if root is None:\n",
        "      return 0\n",
        "  left_sum=sum_subtree(root.left)\n",
        "  right_sum=sum_subtree(root.right)\n",
        "  return left_sum-right_sum\n",
        "\n",
        "#Driver Code\n",
        "root=BTNode(71)\n",
        "#Write other nodes by yourself from the given tree of Doc File\n",
        "r1=BTNode(27)\n",
        "r2=BTNode(62)\n",
        "r3=BTNode(80)\n",
        "r4=BTNode(75)\n",
        "r5=BTNode(41)\n",
        "r6=BTNode(3)\n",
        "r7=BTNode(87)\n",
        "r8=BTNode(56)\n",
        "r9=BTNode(19)\n",
        "r10=BTNode(89)\n",
        "\n",
        "root.left=r1\n",
        "root.right=r2\n",
        "r1.left=r3\n",
        "r1.right=r4\n",
        "r3.left=r7\n",
        "r3.right=r8\n",
        "r2.left=r5\n",
        "r2.right=r6\n",
        "r6.left=r9\n",
        "r6.right=r10\n",
        "\n",
        "print(subtract_summation(root)) #This should print 111"
      ],
      "metadata": {
        "id": "dMXJ2qxkNn_F",
        "colab": {
          "base_uri": "https://localhost:8080/"
        },
        "outputId": "c1833df9-b25e-4d18-b7e4-097af4d2d316"
      },
      "execution_count": 11,
      "outputs": [
        {
          "output_type": "stream",
          "name": "stdout",
          "text": [
            "111\n"
          ]
        }
      ]
    },
    {
      "cell_type": "markdown",
      "metadata": {
        "id": "SBD-0xoZP_ni"
      },
      "source": [
        "Bonus Task"
      ]
    },
    {
      "cell_type": "code",
      "source": [
        "def level_sum(root):\n",
        "  #To Do\n",
        "\n",
        "#DRIVER CODE\n",
        "root = BTNode(1)\n",
        "n2 = BTNode(2)\n",
        "n3 = BTNode(3)\n",
        "n4 = BTNode(4)\n",
        "n5 = BTNode(5)\n",
        "n6 = BTNode(6)\n",
        "n7 = BTNode(7)\n",
        "n8 = BTNode(8)\n",
        "root.left = n2\n",
        "root.right = n3\n",
        "\n",
        "n2.left = n4\n",
        "n3.left = n5\n",
        "n3.right = n6\n",
        "\n",
        "n5.left = n7\n",
        "n5.right = n8\n",
        "\n",
        "\n",
        "print(level_sum(root)) #This should print 4"
      ],
      "metadata": {
        "id": "U_LYhaRIxZCb"
      },
      "execution_count": null,
      "outputs": []
    }
  ],
  "metadata": {
    "colab": {
      "provenance": []
    },
    "kernelspec": {
      "display_name": "Python 3",
      "name": "python3"
    },
    "language_info": {
      "name": "python"
    }
  },
  "nbformat": 4,
  "nbformat_minor": 0
}