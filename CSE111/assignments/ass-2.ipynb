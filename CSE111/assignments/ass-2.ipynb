{
 "cells": [
  {
   "cell_type": "code",
   "execution_count": 266,
   "metadata": {},
   "outputs": [
    {
     "name": "stdout",
     "output_type": "stream",
     "text": [
      "Highest fee was 1000 tk which was paid by Neymar, Bale, John.\n",
      "Highest fee was 1200 tk which was paid by Steyn.\n"
     ]
    }
   ],
   "source": [
    "def hospital_fee(**kwargs):\n",
    "    # Initialize variables to keep track of the highest fee and its payers\n",
    "    max_amount = 0\n",
    "    max_payers = []\n",
    "\n",
    "    # Iterate through the keyword arguments and find the highest fee and payers\n",
    "    for payer, fee in kwargs.items():\n",
    "        if fee > max_amount:\n",
    "            max_amount = fee\n",
    "            max_payers = [payer]\n",
    "        elif fee == max_amount:\n",
    "            max_payers.append(payer)\n",
    "\n",
    "    # Format the output\n",
    "    # max_payers_str = \", \".join(max_payers)\n",
    "    # max_payers_string=max_payers+', '\n",
    "    # max_payers_str=max_payers_string\n",
    "\n",
    "    max_payers_str = \"\"\n",
    "    for payer in max_payers:\n",
    "        max_payers_str += payer + \", \"\n",
    "\n",
    "    # Remove the trailing comma and space\n",
    "    max_payers_str = max_payers_str[:-2:]\n",
    "\n",
    "    output = f\"Highest fee was {max_amount} tk which was paid by {max_payers_str}.\"\n",
    "\n",
    "    return max_amount, max_payers, output\n",
    "\n",
    "# Example 1\n",
    "max_amount, max_payers, output = hospital_fee(Neymar=1000, Dembele=600, Reus=500, Bale=1000, John=1000)\n",
    "print(output)\n",
    "\n",
    "# Example 2\n",
    "max_amount, max_payers, output = hospital_fee(Mashrafe=400, Bumrah=900, Steyn=1200, Cummins=900, Wood=400, Marsh=700)\n",
    "print(output)\n"
   ]
  },
  {
   "cell_type": "code",
   "execution_count": 8,
   "metadata": {},
   "outputs": [
    {
     "name": "stdout",
     "output_type": "stream",
     "text": [
      "True\n"
     ]
    }
   ],
   "source": [
    "def is_james_bond(var):\n",
    "    num_0=False\n",
    "    num_00=False\n",
    "    for i in var:\n",
    "        if i == 0:\n",
    "            found_0=True\n",
    "        elif i==7 and found_0:\n",
    "            found_00=True\n",
    "    return found_0 and found_00\n",
    "result=is_james_bond([1, 2, 4, 0, 0, 7, 5])\n",
    "print(result)"
   ]
  },
  {
   "cell_type": "code",
   "execution_count": 9,
   "metadata": {},
   "outputs": [
    {
     "name": "stdout",
     "output_type": "stream",
     "text": [
      "True\n"
     ]
    }
   ],
   "source": [
    "def is_james_bond(var):\n",
    "    num_0=False\n",
    "    num_00=False\n",
    "    for i in var:\n",
    "        if i == 0:\n",
    "            found_0=True\n",
    "        elif i==7 and found_0:\n",
    "            found_00=True\n",
    "    print(found_0 and found_00)\n",
    "is_james_bond([1, 2, 4, 0, 0, 7, 5])\n"
   ]
  },
  {
   "cell_type": "code",
   "execution_count": 10,
   "metadata": {},
   "outputs": [
    {
     "ename": "TypeError",
     "evalue": "ord() expected a character, but string of length 5 found",
     "output_type": "error",
     "traceback": [
      "\u001b[1;31m---------------------------------------------------------------------------\u001b[0m",
      "\u001b[1;31mTypeError\u001b[0m                                 Traceback (most recent call last)",
      "\u001b[1;32md:\\code code code\\ass-2.ipynb Cell 3\u001b[0m line \u001b[0;36m8\n\u001b[0;32m      <a href='vscode-notebook-cell:/d%3A/code%20code%20code/ass-2.ipynb#W3sZmlsZQ%3D%3D?line=5'>6</a>\u001b[0m         mod_sum\u001b[39m=\u001b[39m\u001b[39msum\u001b[39m\u001b[39m%\u001b[39m\u001b[39m5\u001b[39m\n\u001b[0;32m      <a href='vscode-notebook-cell:/d%3A/code%20code%20code/ass-2.ipynb#W3sZmlsZQ%3D%3D?line=6'>7</a>\u001b[0m         \u001b[39mprint\u001b[39m(mod_sum)\n\u001b[1;32m----> <a href='vscode-notebook-cell:/d%3A/code%20code%20code/ass-2.ipynb#W3sZmlsZQ%3D%3D?line=7'>8</a>\u001b[0m assign_student_to_sections(\u001b[39m'\u001b[39;49m\u001b[39mABCDE\u001b[39;49m\u001b[39m'\u001b[39;49m, \u001b[39m'\u001b[39;49m\u001b[39mAlice\u001b[39;49m\u001b[39m'\u001b[39;49m,\u001b[39m'\u001b[39;49m\u001b[39mBob\u001b[39;49m\u001b[39m'\u001b[39;49m, \u001b[39m'\u001b[39;49m\u001b[39mCharlie\u001b[39;49m\u001b[39m'\u001b[39;49m, \u001b[39m'\u001b[39;49m\u001b[39mDavid\u001b[39;49m\u001b[39m'\u001b[39;49m, \u001b[39m'\u001b[39;49m\u001b[39mEve\u001b[39;49m\u001b[39m'\u001b[39;49m, \u001b[39m'\u001b[39;49m\u001b[39mFrank\u001b[39;49m\u001b[39m'\u001b[39;49m, \u001b[39m'\u001b[39;49m\u001b[39mGrace\u001b[39;49m\u001b[39m'\u001b[39;49m)\n",
      "\u001b[1;32md:\\code code code\\ass-2.ipynb Cell 3\u001b[0m line \u001b[0;36m4\n\u001b[0;32m      <a href='vscode-notebook-cell:/d%3A/code%20code%20code/ass-2.ipynb#W3sZmlsZQ%3D%3D?line=1'>2</a>\u001b[0m \u001b[39msum\u001b[39m\u001b[39m=\u001b[39m\u001b[39m0\u001b[39m\n\u001b[0;32m      <a href='vscode-notebook-cell:/d%3A/code%20code%20code/ass-2.ipynb#W3sZmlsZQ%3D%3D?line=2'>3</a>\u001b[0m \u001b[39mfor\u001b[39;00m i \u001b[39min\u001b[39;00m names:\n\u001b[1;32m----> <a href='vscode-notebook-cell:/d%3A/code%20code%20code/ass-2.ipynb#W3sZmlsZQ%3D%3D?line=3'>4</a>\u001b[0m     ascii\u001b[39m=\u001b[39m\u001b[39mord\u001b[39;49m(i)\n\u001b[0;32m      <a href='vscode-notebook-cell:/d%3A/code%20code%20code/ass-2.ipynb#W3sZmlsZQ%3D%3D?line=4'>5</a>\u001b[0m     \u001b[39msum\u001b[39m\u001b[39m+\u001b[39m\u001b[39m=\u001b[39mascii\n\u001b[0;32m      <a href='vscode-notebook-cell:/d%3A/code%20code%20code/ass-2.ipynb#W3sZmlsZQ%3D%3D?line=5'>6</a>\u001b[0m     mod_sum\u001b[39m=\u001b[39m\u001b[39msum\u001b[39m\u001b[39m%\u001b[39m\u001b[39m5\u001b[39m\n",
      "\u001b[1;31mTypeError\u001b[0m: ord() expected a character, but string of length 5 found"
     ]
    }
   ],
   "source": [
    "def assign_student_to_sections(sections,*names):\n",
    "    sum=0\n",
    "    for i in names:\n",
    "        ascii=ord(i)\n",
    "        sum+=ascii\n",
    "        mod_sum=sum%5\n",
    "        print(mod_sum)\n",
    "assign_student_to_sections('ABCDE', 'Alice','Bob', 'Charlie', 'David', 'Eve', 'Frank', 'Grace')"
   ]
  },
  {
   "cell_type": "code",
   "execution_count": 11,
   "metadata": {},
   "outputs": [
    {
     "name": "stdout",
     "output_type": "stream",
     "text": [
      "{'A': ['Bob'], 'B': ['Charlie'], 'C': ['Grace'], 'D': ['Alice', 'David', 'Eve', 'Frank'], 'E': []}\n"
     ]
    }
   ],
   "source": [
    "def assign_students_to_sections(sections, *student_names):\n",
    "    # Initialize a dictionary to store the assigned sections\n",
    "    section_assignments = {section: [] for section in sections}\n",
    "    \n",
    "    # Iterate through the student names\n",
    "    for student_name in student_names:\n",
    "        # Calculate the sum of ASCII values of characters in the student's name\n",
    "        name_ascii_sum = sum(ord(char) for char in student_name)\n",
    "        \n",
    "        # Use modulo operation to determine the section index\n",
    "        section_index = name_ascii_sum % len(sections)\n",
    "        \n",
    "        # Assign the student to the corresponding section\n",
    "        section = sections[section_index]\n",
    "        section_assignments[section].append(student_name)\n",
    "    \n",
    "    return section_assignments\n",
    "\n",
    "# Test the function\n",
    "sections = 'ABCDE'\n",
    "student_names = ['Alice', 'Bob', 'Charlie', 'David', 'Eve', 'Frank', 'Grace']\n",
    "result = assign_students_to_sections(sections, *student_names)\n",
    "print(result)\n"
   ]
  },
  {
   "cell_type": "code",
   "execution_count": 295,
   "metadata": {},
   "outputs": [
    {
     "name": "stdout",
     "output_type": "stream",
     "text": [
      "{'A': ['Bob'], 'B': ['Charlie'], 'C': ['Grace'], 'D': ['Alice', 'David', 'Eve', 'Frank'], 'E': []}\n"
     ]
    }
   ],
   "source": [
    "def assign_students_to_sections(sections, *student_names):\n",
    "    # Create an empty dictionary to store section assignments\n",
    "    section_assignments = {}\n",
    "    \n",
    "    # Initialize the dictionary with section names as keys\n",
    "    for section in sections:\n",
    "        section_assignments[section] = []\n",
    "    \n",
    "    # Iterate through the student names\n",
    "    for student_name in student_names:\n",
    "        # Calculate the sum of ASCII values of characters in the student's name\n",
    "        name_ascii_sum = 0\n",
    "        for char in student_name:\n",
    "            name_ascii_sum += ord(char)\n",
    "        \n",
    "        # Use modulo operation to determine the section index\n",
    "        section_index = name_ascii_sum % len(sections)\n",
    "        \n",
    "        # Find the section corresponding to the index\n",
    "        section = sections[section_index]\n",
    "        \n",
    "        # Assign the student to the corresponding section\n",
    "        section_assignments[section].append(student_name)\n",
    "    \n",
    "    return section_assignments\n",
    "\n",
    "# Test the function\n",
    "sections = 'ABCDE'\n",
    "student_names = ['Alice', 'Bob', 'Charlie', 'David', 'Eve', 'Frank', 'Grace']\n",
    "result = assign_students_to_sections(sections, *student_names)\n",
    "print(result)\n"
   ]
  },
  {
   "cell_type": "code",
   "execution_count": 1,
   "metadata": {},
   "outputs": [
    {
     "ename": "IndentationError",
     "evalue": "expected an indented block after 'for' statement on line 5 (3518218033.py, line 8)",
     "output_type": "error",
     "traceback": [
      "\u001b[1;36m  Cell \u001b[1;32mIn[1], line 8\u001b[1;36m\u001b[0m\n\u001b[1;33m    for student_name in student_names:\u001b[0m\n\u001b[1;37m    ^\u001b[0m\n\u001b[1;31mIndentationError\u001b[0m\u001b[1;31m:\u001b[0m expected an indented block after 'for' statement on line 5\n"
     ]
    }
   ],
   "source": [
    "def assign_students_to_sections(sections, *student_names):\n",
    "    # Initialize a dictionary to store the assigned sections\n",
    "    section_assignments={}\n",
    "    section=[]\n",
    "    for section in sections:\n",
    "\n",
    "    # Iterate through the student names\n",
    "    for student_name in student_names:\n",
    "        # Calculate the sum of ASCII values of characters in the student's name\n",
    "        name_ascii_sum = sum(ord(char) for char in student_name)\n",
    "        \n",
    "        # Use modulo operation to determine the section index\n",
    "        section_index = name_ascii_sum % len(sections)\n",
    "        \n",
    "        # Assign the student to the corresponding section\n",
    "        section = sections[section_index]\n",
    "        section_assignments[section].append(student_name)\n",
    "    \n",
    "    return section_assignments\n",
    "\n",
    "# Test the function\n",
    "sections = 'ABCDE'\n",
    "student_names = ['Alice', 'Bob', 'Charlie', 'David', 'Eve', 'Frank', 'Grace']\n",
    "result = assign_students_to_sections(sections, *student_names)\n",
    "print(result)\n"
   ]
  },
  {
   "cell_type": "code",
   "execution_count": 64,
   "metadata": {},
   "outputs": [
    {
     "ename": "ValueError",
     "evalue": "invalid literal for int() with base 10: 't_id'",
     "output_type": "error",
     "traceback": [
      "\u001b[1;31m---------------------------------------------------------------------------\u001b[0m",
      "\u001b[1;31mValueError\u001b[0m                                Traceback (most recent call last)",
      "\u001b[1;32md:\\code code code\\ass-2.ipynb Cell 6\u001b[0m line \u001b[0;36m1\n\u001b[0;32m      <a href='vscode-notebook-cell:/d%3A/code%20code%20code/ass-2.ipynb#X16sZmlsZQ%3D%3D?line=7'>8</a>\u001b[0m         username\u001b[39m=\u001b[39mfirst_name[:\u001b[39m3\u001b[39m:]\u001b[39m.\u001b[39mupper()\u001b[39m+\u001b[39mlast_name[\u001b[39mlen\u001b[39m(last_name)\u001b[39m-\u001b[39m\u001b[39m3\u001b[39m:\u001b[39mlen\u001b[39m(last_name):]\u001b[39m.\u001b[39mlower()\u001b[39m+\u001b[39m\u001b[39m'\u001b[39m\u001b[39m_\u001b[39m\u001b[39m'\u001b[39m\u001b[39m+\u001b[39mout1[\u001b[39m-\u001b[39m\u001b[39m4\u001b[39m::]\n\u001b[0;32m      <a href='vscode-notebook-cell:/d%3A/code%20code%20code/ass-2.ipynb#X16sZmlsZQ%3D%3D?line=8'>9</a>\u001b[0m     \u001b[39mprint\u001b[39m(username)\n\u001b[1;32m---> <a href='vscode-notebook-cell:/d%3A/code%20code%20code/ass-2.ipynb#X16sZmlsZQ%3D%3D?line=9'>10</a>\u001b[0m username_generator(\u001b[39m'\u001b[39;49m\u001b[39mfirst_name\u001b[39;49m\u001b[39m'\u001b[39;49m,\u001b[39m'\u001b[39;49m\u001b[39mlast_name\u001b[39;49m\u001b[39m'\u001b[39;49m,\u001b[39m'\u001b[39;49m\u001b[39mstudent_id\u001b[39;49m\u001b[39m'\u001b[39;49m,\u001b[39m'\u001b[39;49m\u001b[39mmiddle_name\u001b[39;49m\u001b[39m'\u001b[39;49m)\n",
      "\u001b[1;32md:\\code code code\\ass-2.ipynb Cell 6\u001b[0m line \u001b[0;36m4\n\u001b[0;32m      <a href='vscode-notebook-cell:/d%3A/code%20code%20code/ass-2.ipynb#X16sZmlsZQ%3D%3D?line=1'>2</a>\u001b[0m first_name,last_name,student_names,middle_names\u001b[39m=\u001b[39m\u001b[39minput\u001b[39m(),\u001b[39minput\u001b[39m(),\u001b[39minput\u001b[39m()\u001b[39m.\u001b[39msplit(\u001b[39m'\u001b[39m\u001b[39m_\u001b[39m\u001b[39m'\u001b[39m),\u001b[39minput\u001b[39m()\n\u001b[0;32m      <a href='vscode-notebook-cell:/d%3A/code%20code%20code/ass-2.ipynb#X16sZmlsZQ%3D%3D?line=2'>3</a>\u001b[0m out\u001b[39m=\u001b[39m\u001b[39mstr\u001b[39m(student_id)\n\u001b[1;32m----> <a href='vscode-notebook-cell:/d%3A/code%20code%20code/ass-2.ipynb#X16sZmlsZQ%3D%3D?line=3'>4</a>\u001b[0m out1\u001b[39m=\u001b[39m\u001b[39mint\u001b[39;49m(student_id[\u001b[39m-\u001b[39;49m\u001b[39m4\u001b[39;49m::])\n\u001b[0;32m      <a href='vscode-notebook-cell:/d%3A/code%20code%20code/ass-2.ipynb#X16sZmlsZQ%3D%3D?line=4'>5</a>\u001b[0m \u001b[39mif\u001b[39;00m middle_name\u001b[39m!=\u001b[39m\u001b[39mNone\u001b[39;00m:\n\u001b[0;32m      <a href='vscode-notebook-cell:/d%3A/code%20code%20code/ass-2.ipynb#X16sZmlsZQ%3D%3D?line=5'>6</a>\u001b[0m     username\u001b[39m=\u001b[39mfirst_name[:\u001b[39m3\u001b[39m:]\u001b[39m.\u001b[39mupper()\u001b[39m+\u001b[39m\u001b[39m+\u001b[39mmiddle_name\u001b[39m+\u001b[39mlast_name[\u001b[39mlen\u001b[39m(last_name)\u001b[39m-\u001b[39m\u001b[39m3\u001b[39m:\u001b[39mlen\u001b[39m(last_name):]\u001b[39m.\u001b[39mlower()\u001b[39m+\u001b[39m\u001b[39m'\u001b[39m\u001b[39m_\u001b[39m\u001b[39m'\u001b[39m\u001b[39m+\u001b[39mout1[\u001b[39m-\u001b[39m\u001b[39m4\u001b[39m::]\n",
      "\u001b[1;31mValueError\u001b[0m: invalid literal for int() with base 10: 't_id'"
     ]
    }
   ],
   "source": [
    "def username_generator(first_name,last_name,student_id,middle_name=None):\n",
    "    first_name,last_name,student_names,middle_names=input(),input(),input().split('_'),input()\n",
    "    out=str(student_id)\n",
    "    out1=int(student_id[-4::])\n",
    "    if middle_name!=None:\n",
    "        username=first_name[:3:].upper()++middle_name+last_name[len(last_name)-3:len(last_name):].lower()+'_'+out1[-4::]\n",
    "    else:\n",
    "        username=first_name[:3:].upper()+last_name[len(last_name)-3:len(last_name):].lower()+'_'+out1[-4::]\n",
    "    print(username)\n",
    "username_generator('first_name','last_name','student_id','middle_name')"
   ]
  },
  {
   "cell_type": "code",
   "execution_count": 70,
   "metadata": {},
   "outputs": [
    {
     "name": "stdout",
     "output_type": "stream",
     "text": [
      "Shakib[:3:]middle_name+Hasan[len(last_name)-3:len(last_name):]+str(['12345675'])[-4:]\n"
     ]
    }
   ],
   "source": [
    "def username_generator(first_name,last_name,student_id,middle_name=None):\n",
    "    first_name,last_name,student_id,middle_names=input('first'),input('last'),input('id').split('_'),input('middle')\n",
    "    # for capital\n",
    "    out=''\n",
    "    for i in first_name:\n",
    "        if 'a'<i<'z':\n",
    "            out+=chr(ord(i)-32)\n",
    "        else:\n",
    "            out+=i\n",
    "    # print(out)\n",
    "    # for lower\n",
    "    out1=''\n",
    "    for i in last_name:\n",
    "        if 'A'<i<'Z':\n",
    "            out1+=chr(ord(i)+32)\n",
    "        else:\n",
    "            out1+=i\n",
    "    if middle_name!=None:\n",
    "        username=f\"{first_name}[:3:]{middle_name}+{last_name}[len(last_name)-3:len(last_name):]+str({student_id})[-4:]\"\n",
    "    else:\n",
    "        username=first_name[:3:]+last_name[len(last_name)-3:len(last_name):]+str(student_id)[-4:]\n",
    "    print(username)\n",
    "username_generator('first_name','last_name','student_id','middle_name')"
   ]
  },
  {
   "cell_type": "code",
   "execution_count": 69,
   "metadata": {},
   "outputs": [
    {
     "name": "stdout",
     "output_type": "stream",
     "text": [
      "JAHlam_1954\n"
     ]
    }
   ],
   "source": [
    "# def username_generator(first_name, last_name, student_id, middle_name=None):\n",
    "#     # Capitalize the first_name\n",
    "#     first_name = first_name[:3].upper()\n",
    "\n",
    "#     # Lowercase the last_name\n",
    "#     last_name = last_name[-3:].lower()\n",
    "\n",
    "#     # Get the last 4 digits of the student_id\n",
    "#     student_id = str(student_id)[-4:]\n",
    "\n",
    "#     if middle_name is not None:\n",
    "#         username = f\"{first_name}{middle_name}{last_name}_{student_id}\"\n",
    "#     else:\n",
    "#         username = f\"{first_name}{last_name}_{student_id}\"\n",
    "\n",
    "#     print(username)\n",
    "\n",
    "# # Example usage\n",
    "# first_name = 'Jahanara'\n",
    "# last_name = 'Islam'\n",
    "# student_id = 18101954\n",
    "# middle_name = None\n",
    "# # \n",
    "# username_generator(first_name, last_name, student_id, middle_name)\n"
   ]
  },
  {
   "cell_type": "code",
   "execution_count": 73,
   "metadata": {},
   "outputs": [
    {
     "name": "stdout",
     "output_type": "stream",
     "text": [
      "JaHjah_1954\n"
     ]
    }
   ],
   "source": [
    "def username_generator(first_name,last_name,student_id,middle_name=None):\n",
    "    out_C=''\n",
    "    for i in first_name:\n",
    "        if 'a'<i<'z':\n",
    "            out_C+=chr(ord(i)-32)\n",
    "        else:\n",
    "            out_C+=i\n",
    "    first_name=out_C[:3]\n",
    "    out_L=''\n",
    "    for i in first_name:\n",
    "        if 'A'<i<'Z':\n",
    "            out_L+=chr(ord(i)+32)\n",
    "        else:\n",
    "            out_L+=i\n",
    "    last_name=out_L[-3:]\n",
    "    student_id=str(student_id)[-4:]\n",
    "    if middle_name!=None:\n",
    "        print(f'{first_name}{last_name}{middle_name}_{student_id}')\n",
    "    else:\n",
    "        print(f'{first_name}{last_name}_{student_id}')\n",
    "    first_name,last_name,student_id,middle_name=input('first'),input('last'),input('id'),input('middle')\n",
    "username_generator('first_name','last_name','student_id','middle_name')"
   ]
  },
  {
   "cell_type": "markdown",
   "metadata": {},
   "source": [
    "********************* fully working *************************"
   ]
  },
  {
   "cell_type": "code",
   "execution_count": 76,
   "metadata": {},
   "outputs": [
    {
     "name": "stdout",
     "output_type": "stream",
     "text": [
      "SHABinsan_6789\n"
     ]
    }
   ],
   "source": [
    "def username_generator(first_name,last_name,student_id,middle_name=None):\n",
    "    out_C=''\n",
    "    for i in first_name:\n",
    "        if 'a'<=i<='z':\n",
    "            out_C+=chr(ord(i)-32)\n",
    "        else:\n",
    "            out_C+=i\n",
    "    first_name=out_C[:3]\n",
    "    out_L=''\n",
    "    for i in last_name:\n",
    "        if 'A'<=i<='Z':\n",
    "            out_L+=chr(ord(i)+32)\n",
    "        else:\n",
    "            out_L+=i\n",
    "    last_name=out_L[-3:]\n",
    "    student_id=str(student_id)[-4:]\n",
    "    if middle_name!=None:\n",
    "        user_name=(f'{first_name}{middle_name}{last_name}_{student_id}')\n",
    "    else:\n",
    "        user_name=(f'{first_name}{last_name}_{student_id}')\n",
    "    print(user_name)\n",
    "    # first_name='Shakib';second_name='Hasan';student_id=12345678,middle_name='Bin'\n",
    "    # first_name,last_name,student_id,middle_name=input('first'),input('last'),input('id'),input('middle')\n",
    "username_generator(input('firstname: '),input('lastname: '),input('studentid: '),input('middlename: '))\n"
   ]
  },
  {
   "cell_type": "code",
   "execution_count": 288,
   "metadata": {},
   "outputs": [
    {
     "name": "stdout",
     "output_type": "stream",
     "text": [
      "Encrypted Keys: ['a101108X', 'b111B', 't100117114Y']\n"
     ]
    }
   ],
   "source": [
    "def key_generator(*names):\n",
    "    encrypted_keys = []\n",
    "\n",
    "    for name in names:\n",
    "        # Extract the first and last characters\n",
    "        # first_char = name[0].lower()\n",
    "        # last_char = name[-1].upper()\n",
    "        first_char=chr(ord(name[0])+32)\n",
    "        last_char=chr(ord(name[-1])-32)\n",
    "\n",
    "        # Reverse and substitute characters in the middle\n",
    "        middle_chars = []\n",
    "        for char in name[1:-1]:\n",
    "            # middle_chars += str(ord(char))\n",
    "            middle_chars.append(str(ord(char)))\n",
    "        output=''\n",
    "        for i in middle_chars[::-1]:\n",
    "            output+=i\n",
    "        # print(output)\n",
    "        # Create the encrypted key\n",
    "        encrypted_key = first_char + output + last_char\n",
    "        encrypted_keys.append(encrypted_key)\n",
    "\n",
    "    return encrypted_keys\n",
    "\n",
    "# Example function call\n",
    "key_list = key_generator(\"Alex\", \"Bob\", \"Trudy\")\n",
    "print(\"Encrypted Keys:\", key_list)\n"
   ]
  },
  {
   "cell_type": "code",
   "execution_count": 294,
   "metadata": {},
   "outputs": [
    {
     "name": "stdout",
     "output_type": "stream",
     "text": [
      "Computer: paper\n",
      "Computer: paper\n",
      "Computer: paper\n",
      "Your Score: 1\n",
      "Computer's Score: 2\n",
      "Computer has won the game!\n"
     ]
    }
   ],
   "source": [
    "import random\n",
    "\n",
    "def playRockPaperScissor(rounds):\n",
    "    player_score = 0\n",
    "    computer_score = 0\n",
    "\n",
    "    for _ in range(rounds):\n",
    "        # Get the player's choice\n",
    "        player_choice = input(\"Enter your choice (rock, paper, scissors): \").lower()\n",
    "        \n",
    "        # Randomly choose the computer's action\n",
    "        computer_choice = random.choice([\"rock\", \"paper\", \"scissors\"])\n",
    "        print(f\"Computer: {computer_choice}\")\n",
    "\n",
    "        # Determine the winner for this round\n",
    "        # if player_choice == computer_choice:\n",
    "        #     print(\"It's a tie!\")\n",
    "        if (\n",
    "            (player_choice == \"rock\" and computer_choice == \"scissors\") or\n",
    "            (player_choice == \"scissors\" and computer_choice == \"paper\") or\n",
    "            (player_choice == \"paper\" and computer_choice == \"rock\")):\n",
    "            # print(\"You win this round!\")\n",
    "            player_score += 1\n",
    "        else:\n",
    "            # print(\"Computer wins this round!\")\n",
    "            computer_score += 1\n",
    "\n",
    "    # Determine the overall winner\n",
    "    if player_score > computer_score:\n",
    "        winner = \"Player\"\n",
    "    elif player_score < computer_score:\n",
    "        winner = \"Computer\"\n",
    "    else:\n",
    "        winner = \"It's a tie!\"\n",
    "\n",
    "    print(f\"Your Score: {player_score}\")\n",
    "    print(f\"Computer's Score: {computer_score}\")\n",
    "    print(f\"{winner} has won the game!\")\n",
    "\n",
    "# Example function call\n",
    "rounds = int(input(\"Enter the number of rounds: \"))\n",
    "playRockPaperScissor(rounds)\n"
   ]
  },
  {
   "cell_type": "code",
   "execution_count": 29,
   "metadata": {},
   "outputs": [
    {
     "name": "stdout",
     "output_type": "stream",
     "text": [
      "MIHIRDaS\n",
      "DaS\n"
     ]
    }
   ],
   "source": [
    "name='MihirDas'\n",
    "out=''\n",
    "for i in name:\n",
    "    if 'a'<i<'z':\n",
    "        out+=chr(ord(i)-32)\n",
    "    else:\n",
    "        out+=i\n",
    "print(out)\n",
    "out1=out[len(out)-3:len(out):]\n",
    "print(out1)"
   ]
  },
  {
   "cell_type": "code",
   "execution_count": 41,
   "metadata": {},
   "outputs": [
    {
     "name": "stdout",
     "output_type": "stream",
     "text": [
      "The number of digits in the number are: 6\n"
     ]
    }
   ],
   "source": [
    "n=int(input(\"Enter number:\"))\n",
    "count=0\n",
    "while(n>0):\n",
    "    count=count+1\n",
    "    n=n//10\n",
    "print(\"The number of digits in the number are:\",count)\n",
    "# print(n[-5])"
   ]
  },
  {
   "cell_type": "code",
   "execution_count": 56,
   "metadata": {},
   "outputs": [
    {
     "name": "stdout",
     "output_type": "stream",
     "text": [
      "6789\n"
     ]
    }
   ],
   "source": [
    "n=123456789\n",
    "n1=str(n)\n",
    "out=n1[-4::]\n",
    "print(int(out))\n"
   ]
  },
  {
   "cell_type": "code",
   "execution_count": 48,
   "metadata": {},
   "outputs": [
    {
     "name": "stdout",
     "output_type": "stream",
     "text": [
      "The last digit of 162329 is 2329\n"
     ]
    }
   ],
   "source": [
    "n = 162329\n",
    "# 1. Get the string representation\n",
    "num_str = repr(n)\n",
    "# 2. Access the last string of the digit string:\n",
    "last_digit_str = num_str[-4::]\n",
    "# 3. Convert the last digit string to an integer:\n",
    "last_digit = int(last_digit_str)\n",
    "print(f\"The last digit of {n} is {last_digit}\")"
   ]
  },
  {
   "cell_type": "code",
   "execution_count": 84,
   "metadata": {},
   "outputs": [
    {
     "name": "stdout",
     "output_type": "stream",
     "text": [
      "r\n",
      "M\n"
     ]
    }
   ],
   "source": [
    "name='Mihir'\n",
    "print(name[-1:])\n",
    "print(name[:1])"
   ]
  },
  {
   "cell_type": "code",
   "execution_count": 91,
   "metadata": {},
   "outputs": [
    {
     "name": "stdout",
     "output_type": "stream",
     "text": [
      "John\n",
      "n\n",
      "Doe\n",
      "ne\n",
      "Sturgis\n",
      "nes\n"
     ]
    }
   ],
   "source": [
    "def key_generator(*args):\n",
    "    out=''\n",
    "    names=list(args)\n",
    "    for name in names:\n",
    "        print(name)\n",
    "        first_chr=name[:1]\n",
    "        last_chr=name[-1:]\n",
    "        if 'a'<first_chr<'z':\n",
    "            out+=chr(ord(first_chr)-32)\n",
    "        else:\n",
    "            out+=last_chr\n",
    "        print(out)\n",
    "key_generator('John','Doe','Sturgis')"
   ]
  },
  {
   "cell_type": "code",
   "execution_count": 92,
   "metadata": {},
   "outputs": [
    {
     "name": "stdout",
     "output_type": "stream",
     "text": [
      "Employee: John, Encrypted Key: j401111N\n",
      "Employee: Alice, Encrypted Key: a99501801E\n",
      "Employee: Bob, Encrypted Key: b111B\n",
      "Employee: 1234, Encrypted Key: 1324\n",
      "Employee: EmployeeNameWithSpaces, Encrypted Key: e101997921138401611501781019017987101101121111801211901S\n"
     ]
    }
   ],
   "source": [
    "def create_encrypted_key(employee_name):\n",
    "    if len(employee_name) < 3:\n",
    "        return \"Name is too short to create an encrypted key.\"\n",
    "\n",
    "    first_char = employee_name[0].lower()\n",
    "    last_char = employee_name[-1].upper()\n",
    "    middle_chars = \"\"\n",
    "\n",
    "    for char in employee_name[1:-1]:\n",
    "        if 'a' <= char <= 'z' or 'A' <= char <= 'Z':\n",
    "            middle_chars += str(ord(char))\n",
    "        else:\n",
    "            middle_chars += char\n",
    "\n",
    "    encrypted_key = first_char + middle_chars[::-1] + last_char\n",
    "    return encrypted_key\n",
    "\n",
    "# Example usage with multiple names:\n",
    "employee_names = [\"John\", \"Alice\", \"Bob\", \"1234\", \"EmployeeNameWithSpaces\"]\n",
    "encrypted_keys = [create_encrypted_key(name) for name in employee_names]\n",
    "\n",
    "# for name, key in zip(employee_names, encrypted_keys):\n",
    "#     print(f\"Employee: {name}, Encrypted Key: {key}\")\n",
    "\n"
   ]
  },
  {
   "cell_type": "code",
   "execution_count": 243,
   "metadata": {},
   "outputs": [
    {
     "name": "stdout",
     "output_type": "stream",
     "text": [
      "['x', 'e', 'l', 'A', 'x', 'e', 'l', 'A']\n",
      "101101101101101101101101\n",
      "['b', 'o', 'B']\n",
      "111111111\n",
      "['y', 'd', 'u', 'r', 'T', 'y', 'd', 'u', 'r', 'T', 'y', 'd', 'u', 'r', 'T']\n",
      "100100100100100100100100100100100100100100100\n",
      "Encrypted Keys: ['a101101101101101101101101X', 'b111111111B', 't100100100100100100100100100100100100100100100Y']\n"
     ]
    }
   ],
   "source": [
    "def key_generator(*names):\n",
    "    encrypted_keys = []\n",
    "    middle_ascii=[]\n",
    "    for name in names:\n",
    "        # Extract the first and last characters\n",
    "        first_char = name[0].lower()\n",
    "        last_char = name[-1].upper()\n",
    "\n",
    "        # Reverse and substitute characters in the middle\n",
    "        middle_chars = ''\n",
    "        reverse=[]\n",
    "        for char in name[1:-1]:\n",
    "            for i in name[::-1]:\n",
    "                reverse.append(i)\n",
    "        print(reverse)\n",
    "        for chr in reverse:\n",
    "            middle_chars += str(ord(char))[::1]\n",
    "        print(middle_chars)\n",
    "            # for i in range(len(middle_chars)-1,-1,-1):\n",
    "            #     print(i,end=' ')\n",
    "        #     middle_ascii.append(ord(char))\n",
    "        # print(middle_ascii)\n",
    "\n",
    "        # Create the encrypted key\n",
    "        encrypted_key = first_char + middle_chars + last_char\n",
    "        encrypted_keys.append(encrypted_key)\n",
    "\n",
    "    return encrypted_keys\n",
    "\n",
    "# Example function call\n",
    "key_list = key_generator(\"Alex\", \"Bob\", \"Trudy\")\n",
    "print(\"Encrypted Keys:\", key_list)\n"
   ]
  },
  {
   "cell_type": "code",
   "execution_count": 215,
   "metadata": {},
   "outputs": [
    {
     "name": "stdout",
     "output_type": "stream",
     "text": [
      "[108, 101, 111, 114, 117, 100]\n",
      "[100, 117, 114, 111, 101, 108]\n"
     ]
    },
    {
     "ename": "TypeError",
     "evalue": "ord() expected string of length 1, but int found",
     "output_type": "error",
     "traceback": [
      "\u001b[1;31m---------------------------------------------------------------------------\u001b[0m",
      "\u001b[1;31mTypeError\u001b[0m                                 Traceback (most recent call last)",
      "\u001b[1;32md:\\code code code\\ass-2.ipynb Cell 20\u001b[0m line \u001b[0;36m2\n\u001b[0;32m     <a href='vscode-notebook-cell:/d%3A/code%20code%20code/ass-2.ipynb#X35sZmlsZQ%3D%3D?line=23'>24</a>\u001b[0m     encrypted_keys\u001b[39m.\u001b[39mappend(encrypted_key)\n\u001b[0;32m     <a href='vscode-notebook-cell:/d%3A/code%20code%20code/ass-2.ipynb#X35sZmlsZQ%3D%3D?line=25'>26</a>\u001b[0m     \u001b[39mreturn\u001b[39;00m encrypted_keys\n\u001b[1;32m---> <a href='vscode-notebook-cell:/d%3A/code%20code%20code/ass-2.ipynb#X35sZmlsZQ%3D%3D?line=26'>27</a>\u001b[0m key_list \u001b[39m=\u001b[39m key_generator(\u001b[39m\"\u001b[39;49m\u001b[39mAlex\u001b[39;49m\u001b[39m\"\u001b[39;49m, \u001b[39m\"\u001b[39;49m\u001b[39mBob\u001b[39;49m\u001b[39m\"\u001b[39;49m, \u001b[39m\"\u001b[39;49m\u001b[39mTrudy\u001b[39;49m\u001b[39m\"\u001b[39;49m)\n\u001b[0;32m     <a href='vscode-notebook-cell:/d%3A/code%20code%20code/ass-2.ipynb#X35sZmlsZQ%3D%3D?line=27'>28</a>\u001b[0m \u001b[39mprint\u001b[39m(\u001b[39m\"\u001b[39m\u001b[39mEncrypted Keys:\u001b[39m\u001b[39m\"\u001b[39m, key_list)\n",
      "\u001b[1;32md:\\code code code\\ass-2.ipynb Cell 20\u001b[0m line \u001b[0;36m2\n\u001b[0;32m     <a href='vscode-notebook-cell:/d%3A/code%20code%20code/ass-2.ipynb#X35sZmlsZQ%3D%3D?line=18'>19</a>\u001b[0m middle \u001b[39m=\u001b[39m \u001b[39m'\u001b[39m\u001b[39m'\u001b[39m\n\u001b[0;32m     <a href='vscode-notebook-cell:/d%3A/code%20code%20code/ass-2.ipynb#X35sZmlsZQ%3D%3D?line=19'>20</a>\u001b[0m \u001b[39mfor\u001b[39;00m char \u001b[39min\u001b[39;00m reverse_list:\n\u001b[1;32m---> <a href='vscode-notebook-cell:/d%3A/code%20code%20code/ass-2.ipynb#X35sZmlsZQ%3D%3D?line=20'>21</a>\u001b[0m     middle \u001b[39m+\u001b[39m\u001b[39m=\u001b[39m \u001b[39mstr\u001b[39m(\u001b[39mord\u001b[39m(char))\n\u001b[0;32m     <a href='vscode-notebook-cell:/d%3A/code%20code%20code/ass-2.ipynb#X35sZmlsZQ%3D%3D?line=22'>23</a>\u001b[0m encrypted_key \u001b[39m=\u001b[39m first_char \u001b[39m+\u001b[39m middle \u001b[39m+\u001b[39m last_char\n\u001b[0;32m     <a href='vscode-notebook-cell:/d%3A/code%20code%20code/ass-2.ipynb#X35sZmlsZQ%3D%3D?line=23'>24</a>\u001b[0m encrypted_keys\u001b[39m.\u001b[39mappend(encrypted_key)\n",
      "\u001b[1;31mTypeError\u001b[0m: ord() expected string of length 1, but int found"
     ]
    }
   ],
   "source": [
    "def key_generator(*names):\n",
    "    list_names=[]\n",
    "    middle_ascii=[]\n",
    "    for name in names:\n",
    "        # Extract the first and last characters\n",
    "        first_char = name[0].lower()\n",
    "        last_char = name[-1].upper()\n",
    "    for name in names:\n",
    "        for i in name[1:-1]:\n",
    "            out=(ord(i))\n",
    "            middle_ascii.append(out)\n",
    "    print(middle_ascii)\n",
    "        # list1=list(reversed(middle_ascii))\n",
    "        # print(list1)\n",
    "    reverse_list=[]\n",
    "    for j in middle_ascii[::-1]:\n",
    "        reverse_list.append(j)\n",
    "    print(reverse_list)\n",
    "    middle = ''\n",
    "    for char in reverse_list:\n",
    "        middle += str(ord(char))\n",
    "        \n",
    "    encrypted_key = first_char + middle + last_char\n",
    "    encrypted_keys.append(encrypted_key)\n",
    "\n",
    "    return encrypted_keys\n",
    "key_list = key_generator(\"Alex\", \"Bob\", \"Trudy\")\n",
    "print(\"Encrypted Keys:\", key_list)"
   ]
  },
  {
   "cell_type": "markdown",
   "metadata": {},
   "source": [
    "classwork"
   ]
  },
  {
   "cell_type": "code",
   "execution_count": 14,
   "metadata": {},
   "outputs": [
    {
     "name": "stdout",
     "output_type": "stream",
     "text": [
      "Score is 31.3. You are Obese\n"
     ]
    }
   ],
   "source": [
    "# task1\n",
    "def BMI(height,weight):\n",
    "  height=int(input())/100\n",
    "  weight=int(input())\n",
    "  bmi=round(weight/(height**2),1)\n",
    "  if bmi<18.5:\n",
    "    res=\"Underweight\"\n",
    "  elif 18.5<bmi<24.9:\n",
    "    res=\"Normal\"\n",
    "  elif 25<bmi<30:\n",
    "    res=\"Overweight\"\n",
    "  elif bmi>30:\n",
    "    res=\"Obese\"\n",
    "  print(f\"Score is {bmi}. You are {res}\")\n",
    "BMI('height','weight')"
   ]
  },
  {
   "cell_type": "code",
   "execution_count": 25,
   "metadata": {},
   "outputs": [
    {
     "name": "stdout",
     "output_type": "stream",
     "text": [
      "243.6\n"
     ]
    }
   ],
   "source": [
    "# task2\n",
    "def food_order(food,place=\"Mohakhali\"):\n",
    "  if place==\"Mohakhali\":\n",
    "    delivery_cost=40\n",
    "  else:\n",
    "    delivery_cost=60\n",
    "  if food==\"BBQ Chicken Cheese Burger\":\n",
    "    pri=250\n",
    "  elif food==\"Beef Burger\":\n",
    "    pri=170\n",
    "  elif food==\"Naga Drums\":\n",
    "    pri=200\n",
    "  price=pri+delivery_cost+(pri*0.08)\n",
    "  print(price)\n",
    "food_order('Beef Burger','Dhanmondi')"
   ]
  },
  {
   "cell_type": "code",
   "execution_count": 20,
   "metadata": {},
   "outputs": [
    {
     "name": "stdout",
     "output_type": "stream",
     "text": [
      "Changed: alice@sheba.xyz\n"
     ]
    }
   ],
   "source": [
    "# task3\n",
    "def replace_domain(check, new_domain, old_domain=\"kaaj.com\"):\n",
    "  old_email = check\n",
    "  check = check.split(\"@\")\n",
    "  if (check[1] != 'new_domain'):\n",
    "    check[1] = new_domain\n",
    "  new_email = check[0]+ \"@\" + check[1]\n",
    "  \n",
    "  if (new_email != old_email):\n",
    "    print(f\"Changed: {new_email}\")\n",
    "  else:\n",
    "    print(f\"Unchanged: {new_email}\")\n",
    "replace_domain('alice@kaaj.com', 'sheba.xyz')"
   ]
  },
  {
   "cell_type": "code",
   "execution_count": 22,
   "metadata": {},
   "outputs": [
    {
     "name": "stdout",
     "output_type": "stream",
     "text": [
      "Palindrome\n"
     ]
    }
   ],
   "source": [
    "# task4\n",
    "def check_palindrome(word):\n",
    "  reverse_word = ''\n",
    "  old_word = ''\n",
    "  \n",
    "  for i in range(len(word)):\n",
    "    if word[i] == '':\n",
    "      pass\n",
    "    else:\n",
    "      old_word += word[i]\n",
    "\n",
    "  for i in range(len(old_word)-1, -1, -1):\n",
    "    reverse_word += old_word[i]\n",
    "\n",
    "  if (old_word == reverse_word):\n",
    "    return (\"Palindrome\")\n",
    "  else:\n",
    "    return (\"Not a palindrome\")\n",
    "\n",
    "word = input()\n",
    "print(check_palindrome(word))"
   ]
  },
  {
   "cell_type": "code",
   "execution_count": 23,
   "metadata": {},
   "outputs": [
    {
     "name": "stdout",
     "output_type": "stream",
     "text": [
      "11 years, 10 months and 5 days\n"
     ]
    }
   ],
   "source": [
    "# task5\n",
    "def time_counter(number_of_days):\n",
    "  number_of_days=int(input())\n",
    "  years=number_of_days//365\n",
    "  months=(number_of_days-years*365) // 30\n",
    "  days=number_of_days-years*365-months*30\n",
    "  print(f\"{years} years, {months} months and {days} days\")\n",
    "time_counter('number_of_days')"
   ]
  },
  {
   "cell_type": "code",
   "execution_count": 26,
   "metadata": {},
   "outputs": [
    {
     "name": "stdout",
     "output_type": "stream",
     "text": [
      "My favourite animal is a dog. A dog has sharp teeth so that it can eat flesh very easily. Do you know my pet dog’s name? I love my pet very much\n"
     ]
    }
   ],
   "source": [
    "# task6\n",
    "def make_capital(str1):\n",
    "    res = \"\"\n",
    "    if 'a' <= str1[0] <= 'z':\n",
    "        res += chr(ord(str1[0]) - 32)  # Convert the first character to uppercase\n",
    "    c = len(str1) - 1\n",
    "    x = 1\n",
    "    while x < c:\n",
    "        if str1[x] == 'i' and str1[x - 1] == ' ' and str1[x + 1] == ' ':\n",
    "            res += 'I'\n",
    "        if x == len(str1):\n",
    "            break\n",
    "        if str1[x] in '.?!' and 'a' <= str1[x + 2] <= 'z':\n",
    "            res += str1[x] + str1[x + 1] + chr(ord(str1[x + 2]) - 32)  # Convert next character to uppercase\n",
    "            x += 3\n",
    "        else:\n",
    "            res += str1[x]\n",
    "            x += 1\n",
    "    return res\n",
    "print(make_capital('my favourite animal is a dog. a dog has sharp teeth so that it can eat flesh very easily. do you know my pet dog’s name? i love my pet very much.'))"
   ]
  },
  {
   "cell_type": "code",
   "execution_count": 29,
   "metadata": {},
   "outputs": [
    {
     "name": "stdout",
     "output_type": "stream",
     "text": [
      "1\n"
     ]
    }
   ],
   "source": [
    "# task-5\n",
    "list1=input().split(' ')\n",
    "list2=input().split(' ')\n",
    "list3=[]\n",
    "for i in list2:\n",
    "    if int(i)<=5-int(list1[1]):\n",
    "        list3.append(i)\n",
    "print(len(list3)//3)"
   ]
  }
 ],
 "metadata": {
  "kernelspec": {
   "display_name": "Python 3",
   "language": "python",
   "name": "python3"
  },
  "language_info": {
   "codemirror_mode": {
    "name": "ipython",
    "version": 3
   },
   "file_extension": ".py",
   "mimetype": "text/x-python",
   "name": "python",
   "nbconvert_exporter": "python",
   "pygments_lexer": "ipython3",
   "version": "3.11.3"
  },
  "orig_nbformat": 4
 },
 "nbformat": 4,
 "nbformat_minor": 2
}
