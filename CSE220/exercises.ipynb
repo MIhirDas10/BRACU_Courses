{
 "cells": [
  {
   "cell_type": "code",
   "execution_count": 2,
   "metadata": {},
   "outputs": [],
   "source": [
    "import numpy as np"
   ]
  },
  {
   "cell_type": "markdown",
   "metadata": {},
   "source": [
    "array to new array"
   ]
  },
  {
   "cell_type": "code",
   "execution_count": 115,
   "metadata": {},
   "outputs": [
    {
     "name": "stdout",
     "output_type": "stream",
     "text": [
      "[1 2 3 4 5 6 7 8]\n"
     ]
    }
   ],
   "source": [
    "def arrToNewArr(arr):\n",
    "    newArr=np.zeros(len(arr),dtype=int)\n",
    "    index=0\n",
    "    for i in range(len(newArr)):\n",
    "        # newArr[i]+=arr[i]\n",
    "        newArr[index]+=arr[i]   # index = 0 is the right way to do this thing\n",
    "        index+=1\n",
    "    print(newArr)\n",
    "arr=[1,2,3,4,5,6,7,8]\n",
    "arrToNewArr(arr)"
   ]
  },
  {
   "cell_type": "markdown",
   "metadata": {},
   "source": [
    "## **2D ARRAY**"
   ]
  },
  {
   "cell_type": "markdown",
   "metadata": {},
   "source": [
    "2D to array"
   ]
  },
  {
   "cell_type": "code",
   "execution_count": 16,
   "metadata": {},
   "outputs": [
    {
     "name": "stdout",
     "output_type": "stream",
     "text": [
      "[[ 1  2  3  4]\n",
      " [ 5  6  7  8]\n",
      " [ 9 10 11 12]]\n",
      "[ 1  2  3  4  5  6  7  8  9 10 11 12]\n"
     ]
    }
   ],
   "source": [
    "def twodToArr(matrix):\n",
    "    row,col=matrix.shape\n",
    "    arr=np.zeros((row*col),dtype=int)\n",
    "    # don't need to use a third for loop here just take a variable and update it and that's your index number \n",
    "    index=0\n",
    "    for i in range(row):\n",
    "        for j in range(col):\n",
    "            arr[index]+=matrix[i][j]\n",
    "            index+=1\n",
    "    print(arr)\n",
    "matrix=np.array([[1,2,3,4],[5,6,7,8],[9,10,11,12]])\n",
    "print(matrix)\n",
    "twodToArr(matrix)"
   ]
  },
  {
   "cell_type": "markdown",
   "metadata": {},
   "source": [
    "row wise sum"
   ]
  },
  {
   "cell_type": "code",
   "execution_count": 39,
   "metadata": {},
   "outputs": [
    {
     "name": "stdout",
     "output_type": "stream",
     "text": [
      "[[ 1  2  3  4]\n",
      " [ 5  6  7  8]\n",
      " [ 9 10 11 12]]\n",
      "[[10]\n",
      " [26]\n",
      " [42]]\n"
     ]
    }
   ],
   "source": [
    "def rowSum(matrix):\n",
    "    row,col=matrix.shape\n",
    "    arr=np.zeros((row,1),dtype=int) # row = 3, 1 because in every column there should 1 row if that makes sense\n",
    "    for i in range(row):\n",
    "        for j in range(col):\n",
    "            # sum+=matrix[i][j] this gives the entire sum (every number)\n",
    "            arr[i][0]+=matrix[i][j]\n",
    "    print(arr)\n",
    "matrix=np.array([[1,2,3,4],[5,6,7,8],[9,10,11,12]])\n",
    "print(matrix)\n",
    "rowSum(matrix)"
   ]
  },
  {
   "cell_type": "markdown",
   "metadata": {},
   "source": [
    "column wise sum"
   ]
  },
  {
   "cell_type": "code",
   "execution_count": 41,
   "metadata": {},
   "outputs": [
    {
     "name": "stdout",
     "output_type": "stream",
     "text": [
      "[[ 1  2  3  4]\n",
      " [ 5  6  7  8]\n",
      " [ 9 10 11 12]]\n",
      "ouput: [[15 18 21 24]]\n"
     ]
    }
   ],
   "source": [
    "def colSum(matrix):\n",
    "    row,col=matrix.shape\n",
    "    arr=np.zeros((1,col),dtype=int) # row = 3, 1 because in every column there should 1 row if that makes sense\n",
    "    for i in range(row):\n",
    "        for j in range(col):\n",
    "            # sum+=matrix[i][j] this gives the entire sum (every number)\n",
    "            arr[0][j]+=matrix[i][j]\n",
    "    print(f'ouput: {arr}')\n",
    "matrix=np.array([[1,2,3,4],[5,6,7,8],[9,10,11,12]])\n",
    "print(matrix)\n",
    "colSum(matrix)"
   ]
  },
  {
   "cell_type": "markdown",
   "metadata": {},
   "source": [
    "flip down and up wise"
   ]
  },
  {
   "cell_type": "code",
   "execution_count": 81,
   "metadata": {},
   "outputs": [
    {
     "name": "stdout",
     "output_type": "stream",
     "text": [
      "[[ 1  2  3  4]\n",
      " [ 5  6  7  8]\n",
      " [ 9 10 11 12]]\n",
      "output:\n",
      "[[ 9 10 11 12]\n",
      " [ 5  6  7  8]\n",
      " [ 1  2  3  4]]\n"
     ]
    }
   ],
   "source": [
    "def upDownFlip(matrix):\n",
    "    row,col=matrix.shape\n",
    "    for i in range(row//2):\n",
    "        for j in range(col):\n",
    "            temp=matrix[i][j]\n",
    "            matrix[i][j]=matrix[row-i-1][j]\n",
    "            matrix[row-i-1][j]=temp\n",
    "    print(matrix)\n",
    "matrix=np.array([[1,2,3,4],[5,6,7,8],[9,10,11,12]])\n",
    "print(matrix)\n",
    "print('output:')\n",
    "upDownFlip(matrix)"
   ]
  },
  {
   "cell_type": "code",
   "execution_count": 62,
   "metadata": {},
   "outputs": [
    {
     "name": "stdout",
     "output_type": "stream",
     "text": [
      "[[ 1  2  3  4]\n",
      " [ 5  6  7  8]\n",
      " [ 9 10 11 12]] 3 4\n",
      "12\n"
     ]
    }
   ],
   "source": [
    "matrix=np.array([[1,2,3,4],[5,6,7,8],[9,10,11,12]])\n",
    "row,col=matrix.shape\n",
    "print(matrix,row,col)\n",
    "print(matrix[row-1][col-1]) # this gives the last elements"
   ]
  },
  {
   "cell_type": "markdown",
   "metadata": {},
   "source": [
    "flip right to left wise"
   ]
  },
  {
   "cell_type": "code",
   "execution_count": 82,
   "metadata": {},
   "outputs": [
    {
     "name": "stdout",
     "output_type": "stream",
     "text": [
      "[[ 1  2  3  4]\n",
      " [ 5  6  7  8]\n",
      " [ 9 10 11 12]]\n",
      "output:\n",
      "[[ 4  3  2  1]\n",
      " [ 8  7  6  5]\n",
      " [12 11 10  9]]\n"
     ]
    }
   ],
   "source": [
    "def leftRightFlip(matrix):\n",
    "    row,col=matrix.shape\n",
    "    for i in range(row):\n",
    "        for j in range(col//2):\n",
    "            temp=matrix[i][j]\n",
    "            matrix[i][j]=matrix[i][col-j-1]\n",
    "            matrix[i][col-j-1]=temp\n",
    "    print(matrix)\n",
    "matrix=np.array([[1,2,3,4],[5,6,7,8],[9,10,11,12]])\n",
    "print(matrix)\n",
    "print('output:')\n",
    "leftRightFlip(matrix)"
   ]
  },
  {
   "cell_type": "markdown",
   "metadata": {},
   "source": [
    "diagonal sum"
   ]
  },
  {
   "cell_type": "code",
   "execution_count": 83,
   "metadata": {},
   "outputs": [
    {
     "name": "stdout",
     "output_type": "stream",
     "text": [
      "[[1 2 3]\n",
      " [4 5 6]\n",
      " [7 8 9]]\n",
      "15\n"
     ]
    }
   ],
   "source": [
    "def digSum(matrix):\n",
    "    sum=0\n",
    "    row,col=matrix.shape\n",
    "    for i in range(row):\n",
    "        sum+=matrix[i][i]\n",
    "    print(sum)\n",
    "matrix=np.array([[1,2,3],[4,5,6],[7,8,9]])\n",
    "print(matrix)\n",
    "digSum(matrix)"
   ]
  },
  {
   "cell_type": "markdown",
   "metadata": {},
   "source": [
    "find min"
   ]
  },
  {
   "cell_type": "code",
   "execution_count": 106,
   "metadata": {},
   "outputs": [
    {
     "name": "stdout",
     "output_type": "stream",
     "text": [
      "[[16  2  3]\n",
      " [ 4  1  6]\n",
      " [ 7  8  9]]\n",
      "1\n"
     ]
    }
   ],
   "source": [
    "def findMin(matrix):\n",
    "    row,col=matrix.shape\n",
    "    minVal=matrix[0][0]\n",
    "    for i in range(row):\n",
    "        for j in range(col):\n",
    "            if matrix[i][j]<minVal:\n",
    "                minVal=matrix[i][j]\n",
    "    print(minVal)\n",
    "matrix=np.array([[16,2,3],[4,1,6],[7,8,9]])\n",
    "print(matrix)\n",
    "findMin(matrix)"
   ]
  },
  {
   "cell_type": "markdown",
   "metadata": {},
   "source": [
    "find max"
   ]
  },
  {
   "cell_type": "code",
   "execution_count": 109,
   "metadata": {},
   "outputs": [
    {
     "name": "stdout",
     "output_type": "stream",
     "text": [
      "[[ 16   2   3]\n",
      " [100   5  60]\n",
      " [  7   8   9]]\n",
      "100\n"
     ]
    }
   ],
   "source": [
    "def findMax(matrix):\n",
    "    row,col=matrix.shape\n",
    "    maxVal=matrix[0][0]\n",
    "    for i in range(row):\n",
    "        for j in range(col):\n",
    "            if matrix[i][j]>maxVal:\n",
    "                maxVal=matrix[i][j]\n",
    "    print(maxVal)\n",
    "matrix=np.array([[16,2,3],[100,5,60],[7,8,9]])\n",
    "print(matrix)\n",
    "findMax(matrix)"
   ]
  },
  {
   "cell_type": "markdown",
   "metadata": {},
   "source": [
    "adding two matrix"
   ]
  },
  {
   "cell_type": "code",
   "execution_count": 3,
   "metadata": {},
   "outputs": [
    {
     "name": "stdout",
     "output_type": "stream",
     "text": [
      "[[ 1  2  3  4  5]\n",
      " [ 6  7  8  9 10]\n",
      " [11 12 13 14 15]]\n",
      "+\n",
      "[[16 17 18 19 20]\n",
      " [21 22 23 24 25]\n",
      " [26 27 28 29 30]]\n",
      "Mismatch of dimention\n",
      "[[17 19 21 23 25]\n",
      " [27 29 31 33 35]\n",
      " [37 39 41 43 45]]\n"
     ]
    }
   ],
   "source": [
    "def addMatrix(m,n):\n",
    "    row_m,col_m=m.shape\n",
    "    row_n,col_n=n.shape\n",
    "    if row_m==row_n and col_m==col_n:\n",
    "        print('Mismatch of dimention')\n",
    "    result=np.zeros((row_m,col_m),dtype=int)\n",
    "    for i in range(row_m):\n",
    "        for j in range(col_m):\n",
    "            result[i][j]=m[i][j]+n[i][j]\n",
    "    return result\n",
    "m=np.array([[1,2,3,4,5],[6,7,8,9,10],[11,12,13,14,15]])\n",
    "n=np.array([[16,17,18,19,20],[21,22,23,24,25],[26,27,28,29,30]])\n",
    "print(m)\n",
    "print('+')\n",
    "print(n)\n",
    "print(addMatrix(m,n))"
   ]
  },
  {
   "cell_type": "markdown",
   "metadata": {},
   "source": [
    "multiplying two matrix"
   ]
  },
  {
   "cell_type": "code",
   "execution_count": 5,
   "metadata": {},
   "outputs": [
    {
     "name": "stdout",
     "output_type": "stream",
     "text": [
      "[[3 0 8 7]\n",
      " [6 4 8 8]\n",
      " [2 4 1 6]]\n",
      "x\n",
      "[[6 4 1]\n",
      " [6 2 0]\n",
      " [1 5 6]\n",
      " [1 3 4]]\n",
      "Result:\n",
      "[[33 73 79]\n",
      " [76 96 86]\n",
      " [43 39 32]]\n"
     ]
    }
   ],
   "source": [
    "def multiply_matrix(m,n):\n",
    "    row_m,col_m=m.shape\n",
    "    row_n,col_n=n.shape\n",
    "    if col_m==row_n:\n",
    "        row,col=row_m,col_n\n",
    "        result=np.zeros((row,col),dtype=int)\n",
    "        for i in range(row):\n",
    "            for j in range(col):\n",
    "                for k in range(col_m):\n",
    "                    result[i][j]+=m[i][k]*n[k][j]\n",
    "        return result\n",
    "m=np.random.randint(9,size=(3,4))\n",
    "n=np.random.randint(8,size=(4,3))\n",
    "print(m)\n",
    "print('x')\n",
    "print(n)\n",
    "print('Result:')\n",
    "print(multiply_matrix(m,n))"
   ]
  },
  {
   "cell_type": "markdown",
   "metadata": {},
   "source": [
    "## **LINKED LIST**"
   ]
  },
  {
   "cell_type": "code",
   "execution_count": 6,
   "metadata": {},
   "outputs": [],
   "source": [
    "class Node:\n",
    "    def __init__(self,elem,next=None,prev=None):\n",
    "        self.elem=elem;self.next=next;self.prev=prev"
   ]
  },
  {
   "cell_type": "markdown",
   "metadata": {},
   "source": [
    "creating a LL from an array"
   ]
  },
  {
   "cell_type": "code",
   "execution_count": 7,
   "metadata": {},
   "outputs": [],
   "source": [
    "def createLL(arr):\n",
    "    head=Node(arr[0],None,None)\n",
    "    temp=head\n",
    "    for i in range(1,len(arr)):\n",
    "        newNode=Node(arr[i],None,None)\n",
    "        temp.next=newNode\n",
    "        newNode.prev=temp\n",
    "        temp=newNode\n",
    "    temp=temp.next\n",
    "    return head\n",
    "arr=[1,2,3,4,5,6,7,8]\n",
    "h=createLL(arr)"
   ]
  },
  {
   "cell_type": "markdown",
   "metadata": {},
   "source": [
    "printing the LL"
   ]
  },
  {
   "cell_type": "code",
   "execution_count": 8,
   "metadata": {},
   "outputs": [
    {
     "name": "stdout",
     "output_type": "stream",
     "text": [
      "1--->2--->3--->4--->5--->6--->7--->8\n"
     ]
    }
   ],
   "source": [
    "def printLL(head):\n",
    "    temp=head\n",
    "    while temp!=None:\n",
    "        if temp.next!=None:\n",
    "            print(temp.elem,end='--->')\n",
    "        else:\n",
    "            print(temp.elem)\n",
    "        temp=temp.next\n",
    "h=createLL(arr)\n",
    "printLL(h)"
   ]
  },
  {
   "cell_type": "markdown",
   "metadata": {},
   "source": [
    "node at"
   ]
  },
  {
   "cell_type": "code",
   "execution_count": 54,
   "metadata": {},
   "outputs": [
    {
     "name": "stdout",
     "output_type": "stream",
     "text": [
      "1--->2--->3--->4--->5--->6--->7--->8\n",
      "4\n"
     ]
    }
   ],
   "source": [
    "# node at given index ---> elem\n",
    "def nodeAt(head,idx):\n",
    "    count=0\n",
    "    temp=head\n",
    "    output=None\n",
    "    while temp!=None:\n",
    "        if count==idx:\n",
    "            output=temp\n",
    "            break\n",
    "        else:\n",
    "            count+=1\n",
    "        temp=temp.next\n",
    "    if output==None:\n",
    "        print('Invalid')\n",
    "    else:\n",
    "        return output.elem\n",
    "printLL(h)\n",
    "print(nodeAt(h,3))"
   ]
  },
  {
   "cell_type": "code",
   "execution_count": 47,
   "metadata": {},
   "outputs": [
    {
     "name": "stdout",
     "output_type": "stream",
     "text": [
      "There is not such element in the linked list\n",
      "3\n"
     ]
    }
   ],
   "source": [
    "def indexOf(head,elem):\n",
    "    current_node=head\n",
    "    count=0\n",
    "    while current_node!=None:\n",
    "        if current_node.elem==elem:\n",
    "            return count\n",
    "        count+=1\n",
    "        current_node=current_node.next\n",
    "    return f'There is not such element in the linked list'\n",
    "arr=np.array([10,20,53,84,75,76,97,21,90,15]) # Defining an array\n",
    "mod_h=createLL(arr) # Creating a Link List\n",
    "print(indexOf(mod_h,85))\n",
    "print(indexOf(mod_h,84))\n",
    "# printList(h)"
   ]
  },
  {
   "cell_type": "markdown",
   "metadata": {},
   "source": [
    "append"
   ]
  },
  {
   "cell_type": "code",
   "execution_count": 12,
   "metadata": {},
   "outputs": [
    {
     "name": "stdout",
     "output_type": "stream",
     "text": [
      "1--->2--->3--->4--->5--->6--->7--->8--->15\n"
     ]
    }
   ],
   "source": [
    "def append(head,val):\n",
    "    temp=head\n",
    "    while temp.next!=None:\n",
    "        temp=temp.next\n",
    "    newNode=Node(val,None,None)\n",
    "    temp.next=newNode\n",
    "    return head\n",
    "printLL(append(h,15))"
   ]
  },
  {
   "cell_type": "code",
   "execution_count": 16,
   "metadata": {},
   "outputs": [
    {
     "name": "stdout",
     "output_type": "stream",
     "text": [
      "1--->2--->3--->4--->5--->6--->7--->8--->15\n"
     ]
    }
   ],
   "source": [
    "def append(head,val):   # for doubly linked list ---> append\n",
    "    temp=head\n",
    "    while temp.next!=None:\n",
    "        temp=temp.next\n",
    "    newNode=Node(val,None,None)\n",
    "    temp.next=newNode\n",
    "    newNode.prev=temp   # just 1 line different\n",
    "    return head\n",
    "printLL(append(h,15))"
   ]
  },
  {
   "cell_type": "code",
   "execution_count": null,
   "metadata": {},
   "outputs": [],
   "source": [
    "def append(head,val):   # for doubly CIRCULAR linked list ---> append\n",
    "    temp=head\n",
    "    while temp.next!=head:\n",
    "        temp=temp.next\n",
    "    newNode=Node(val,None,None)\n",
    "    temp.next=newNode\n",
    "    newNode.next=head   # to make it circular\n",
    "    newNode.prev=temp   # just 1 line different\n",
    "    head.prev=newNode\n",
    "    return head\n",
    "printLL(append(h,15))"
   ]
  },
  {
   "cell_type": "code",
   "execution_count": null,
   "metadata": {},
   "outputs": [],
   "source": [
    "# the concept is correct here but for some reason it's not working"
   ]
  },
  {
   "cell_type": "code",
   "execution_count": null,
   "metadata": {},
   "outputs": [],
   "source": [
    "def append(head, val):\n",
    "  \"\"\"Appends a new node with the value 'val' to the end of a doubly circular linked list.\"\"\"\n",
    "  if head is None:\n",
    "    return Node(val)\n",
    "\n",
    "  temp = head\n",
    "  while temp.next != head:\n",
    "    temp = temp.next\n",
    "\n",
    "  newNode = Node(val)\n",
    "  temp.next = newNode\n",
    "  newNode.next = head\n",
    "\n",
    "  newNode.prev = temp\n",
    "  head.prev = newNode\n",
    "\n",
    "  return head\n",
    "printLL(append(h,85))"
   ]
  },
  {
   "cell_type": "markdown",
   "metadata": {},
   "source": [
    "prepend"
   ]
  },
  {
   "cell_type": "code",
   "execution_count": 191,
   "metadata": {},
   "outputs": [
    {
     "name": "stdout",
     "output_type": "stream",
     "text": [
      "25--->1--->2--->3--->4--->5--->6--->7--->8--->15\n"
     ]
    }
   ],
   "source": [
    "def prepend(head,val):\n",
    "    newNode=Node(val,None,None)\n",
    "    newNode.next=head\n",
    "    return newNode\n",
    "printLL(prepend(h,25))"
   ]
  },
  {
   "cell_type": "code",
   "execution_count": 17,
   "metadata": {},
   "outputs": [
    {
     "name": "stdout",
     "output_type": "stream",
     "text": [
      "25--->1--->2--->3--->4--->5--->6--->7--->8--->15\n"
     ]
    }
   ],
   "source": [
    "def prepend(head,val):  # for doubly linked list ---> prepend\n",
    "    newNode=Node(val,None,None)\n",
    "    newNode.next=head\n",
    "    head.prev=newNode   # difference\n",
    "    return newNode\n",
    "printLL(prepend(h,25))"
   ]
  },
  {
   "cell_type": "code",
   "execution_count": null,
   "metadata": {},
   "outputs": [],
   "source": [
    "def prepend(head,val):  # for doubly CIRCULAR linked list ---> prepend\n",
    "    newNode=Node(val,None,None)\n",
    "    newNode.next=head\n",
    "    head.prev=newNode   # difference\n",
    "    temp=head\n",
    "    while temp.next!=newNode:\n",
    "        temp=temp.next\n",
    "    temp.next=newNode\n",
    "    newNode.prev=temp\n",
    "    return newNode\n",
    "printLL(prepend(h,25))"
   ]
  },
  {
   "cell_type": "markdown",
   "metadata": {},
   "source": [
    "insert"
   ]
  },
  {
   "cell_type": "code",
   "execution_count": 192,
   "metadata": {},
   "outputs": [
    {
     "name": "stdout",
     "output_type": "stream",
     "text": [
      "1--->2--->3--->4--->150--->5--->6--->7--->8--->15\n"
     ]
    }
   ],
   "source": [
    "def insert(head,idx,val):\n",
    "    temp=head\n",
    "    count=0\n",
    "    while count!=idx:\n",
    "        temp=temp.next\n",
    "        count+=1\n",
    "    newNode=Node(val,None,None)\n",
    "    newNode.next=temp.next\n",
    "    temp.next=newNode\n",
    "    return head\n",
    "printLL(insert(h,3,150))"
   ]
  },
  {
   "cell_type": "code",
   "execution_count": 22,
   "metadata": {},
   "outputs": [
    {
     "name": "stdout",
     "output_type": "stream",
     "text": [
      "1--->2--->3--->4--->5--->330--->6--->7--->8\n"
     ]
    }
   ],
   "source": [
    "def insert(head,idx,val):   # for doubly linked list ---> insert\n",
    "    temp=head\n",
    "    count=0\n",
    "    while count!=idx:\n",
    "        temp=temp.next\n",
    "        count+=1\n",
    "    newNode=Node(val,None,None)\n",
    "    newNode.next=temp.next\n",
    "    temp.next=newNode\n",
    "    temp.next.prev=newNode  # this line \n",
    "    newNode.prev=temp       # this line\n",
    "    return head\n",
    "printLL(insert(h,4,330))"
   ]
  },
  {
   "cell_type": "markdown",
   "metadata": {},
   "source": [
    "delete"
   ]
  },
  {
   "cell_type": "code",
   "execution_count": 193,
   "metadata": {},
   "outputs": [
    {
     "name": "stdout",
     "output_type": "stream",
     "text": [
      "1--->2--->3--->4--->5--->6--->7--->8--->15\n"
     ]
    }
   ],
   "source": [
    "def delete(head,idx):\n",
    "    temp=head\n",
    "    count=0\n",
    "    while count!=idx-1:\n",
    "        temp=temp.next\n",
    "        count+=1\n",
    "    temp.next=temp.next.next\n",
    "    return head\n",
    "printLL(delete(h,4))"
   ]
  },
  {
   "cell_type": "code",
   "execution_count": 23,
   "metadata": {},
   "outputs": [
    {
     "name": "stdout",
     "output_type": "stream",
     "text": [
      "1--->2--->3--->4--->330--->6--->7--->8\n"
     ]
    }
   ],
   "source": [
    "def delete(head,idx):   # for doubly linked list ---> delete\n",
    "    temp=head\n",
    "    count=0\n",
    "    while count!=idx-1:\n",
    "        temp=temp.next\n",
    "        count+=1\n",
    "    temp.next=temp.next.next\n",
    "    t1=temp.next.next   # this line\n",
    "    t1.prev=temp        # this line\n",
    "    return head\n",
    "printLL(delete(h,4))"
   ]
  },
  {
   "cell_type": "code",
   "execution_count": 194,
   "metadata": {},
   "outputs": [
    {
     "name": "stdout",
     "output_type": "stream",
     "text": [
      "Original array:\n",
      "1--->2--->3--->4--->5--->6--->7--->8\n"
     ]
    }
   ],
   "source": [
    "print('Original array:')\n",
    "printLL(createLL(arr))  # so whatever changes made --- it doesn't really affect the original array (stores the changes in h)"
   ]
  },
  {
   "cell_type": "markdown",
   "metadata": {},
   "source": [
    "dummy head doubly LL"
   ]
  },
  {
   "cell_type": "code",
   "execution_count": 69,
   "metadata": {},
   "outputs": [],
   "source": [
    "def createDummyLL(arr):\n",
    "    dh=Node(None,None,None)\n",
    "    dh.next=dh\n",
    "    dh.prev=dh\n",
    "    temp=dh\n",
    "    for i in range(len(arr)):\n",
    "        newNode=Node(arr[i],dh,temp)\n",
    "        temp.next=newNode\n",
    "        temp=temp.next\n",
    "        dh.prev=temp\n",
    "    return dh\n",
    "arr=[1,2,3,4,5,6,7,8]\n",
    "v=createDummyLL(arr)"
   ]
  },
  {
   "cell_type": "markdown",
   "metadata": {},
   "source": [
    "printing dummy head doubly LL"
   ]
  },
  {
   "cell_type": "code",
   "execution_count": 70,
   "metadata": {},
   "outputs": [
    {
     "name": "stdout",
     "output_type": "stream",
     "text": [
      "1-->2-->3-->4-->5-->6-->7-->8\n",
      "\n"
     ]
    }
   ],
   "source": [
    "def printDummyLL(dh):\n",
    "  temp = dh.next\n",
    "  while temp != dh:\n",
    "    if temp.next != dh:\n",
    "      print(temp.elem, end = '-->')\n",
    "    else:\n",
    "      print(temp.elem)\n",
    "    temp = temp.next\n",
    "  print()\n",
    "printDummyLL(v)"
   ]
  },
  {
   "cell_type": "markdown",
   "metadata": {},
   "source": [
    "insert in doubly circular LL"
   ]
  },
  {
   "cell_type": "code",
   "execution_count": null,
   "metadata": {},
   "outputs": [],
   "source": [
    "# def insertDoublyLL(head,idx,elem):\n",
    "#     new_node = Node(elem)\n",
    "#     if idx == 0:\n",
    "#         new_node.next = head\n",
    "#         if head:\n",
    "#             head.prev = new_node\n",
    "#         return new_node\n",
    "\n",
    "#     current = head\n",
    "#     count = 0\n",
    "#     while current.next and count < idx - 1:\n",
    "#         current = current.next\n",
    "#         count += 1\n",
    "\n",
    "#     if count != idx - 1:\n",
    "#         print(\"Index out of bounds.\")\n",
    "#         return head\n",
    "\n",
    "#     new_node.next = current.next\n",
    "#     new_node.prev = current\n",
    "#     if current.next:\n",
    "#         current.next.prev = new_node\n",
    "#     current.next = new_node\n",
    "\n",
    "#     return head\n",
    "# m=insertDoublyLL(h,4,150)\n",
    "# printLL(m)\n",
    "# printDummyLL(m)"
   ]
  },
  {
   "cell_type": "code",
   "execution_count": 78,
   "metadata": {},
   "outputs": [
    {
     "name": "stdout",
     "output_type": "stream",
     "text": [
      "1--->2--->3--->4\n",
      "\n",
      "Second LL\n",
      "5--->6--->7--->8\n",
      "After reverse\n",
      "1\n",
      "4--->3--->2--->1\n",
      "After merge\n",
      "4--->3--->2--->1--->5--->6--->7--->8\n"
     ]
    }
   ],
   "source": [
    "def change_LL(head):\n",
    "    count = 0\n",
    "    temp = head\n",
    "    while temp!=None:\n",
    "        count += 1\n",
    "        temp = temp.next\n",
    "    # print(count)\n",
    "    mid = count // 2\n",
    "    temp = head\n",
    "    for i in range(mid-1):\n",
    "        temp = temp.next\n",
    "    second_LL = temp.next\n",
    "    temp.next = None\n",
    "\n",
    "    printLL(head)\n",
    "    print(\"\\nSecond LL\")\n",
    "    printLL(second_LL)\n",
    "    print(\"After reverse\")\n",
    "    head = reverse_LL(head)\n",
    "    printLL(head)\n",
    "\n",
    "    temp = head\n",
    "    while temp.next != None:\n",
    "        temp = temp.next\n",
    "    temp.next = second_LL\n",
    "    print(\"After merge\")    # this is the important part\n",
    "    printLL(head)\n",
    "\n",
    "change_LL(h)"
   ]
  },
  {
   "cell_type": "markdown",
   "metadata": {},
   "source": [
    "reverse"
   ]
  },
  {
   "cell_type": "code",
   "execution_count": 66,
   "metadata": {},
   "outputs": [
    {
     "name": "stdout",
     "output_type": "stream",
     "text": [
      "1\n",
      "8--->7--->6--->5--->150--->150--->4--->3--->2--->1\n"
     ]
    }
   ],
   "source": [
    "def reverse_LL(head):\n",
    "    head2=Node(head.elem,None)\n",
    "    printLL(head2)\n",
    "    temp=head.next\n",
    "    while temp!=None:\n",
    "        newNode=Node(temp.elem,None)\n",
    "        newNode.next=head2\n",
    "        head2=newNode\n",
    "        temp=temp.next\n",
    "    return head2\n",
    "r=reverse_LL(h)\n",
    "printLL(r)"
   ]
  }
 ],
 "metadata": {
  "kernelspec": {
   "display_name": "Python 3",
   "language": "python",
   "name": "python3"
  },
  "language_info": {
   "codemirror_mode": {
    "name": "ipython",
    "version": 3
   },
   "file_extension": ".py",
   "mimetype": "text/x-python",
   "name": "python",
   "nbconvert_exporter": "python",
   "pygments_lexer": "ipython3",
   "version": "3.12.2"
  }
 },
 "nbformat": 4,
 "nbformat_minor": 2
}
