{
 "cells": [
  {
   "cell_type": "markdown",
   "metadata": {},
   "source": [
    "Iteration"
   ]
  },
  {
   "cell_type": "code",
   "execution_count": 1,
   "metadata": {},
   "outputs": [
    {
     "name": "stdout",
     "output_type": "stream",
     "text": [
      "1\n",
      "2\n",
      "3\n",
      "4\n",
      "5\n"
     ]
    }
   ],
   "source": [
    "import numpy as np\n",
    "def iteration(source):\n",
    "    for i in range(len(source)):\n",
    "        print(source[i])\n",
    "arr=np.array([1,2,3,4,5])\n",
    "iteration(arr)"
   ]
  },
  {
   "cell_type": "markdown",
   "metadata": {},
   "source": [
    "Reverse Iteration"
   ]
  },
  {
   "cell_type": "code",
   "execution_count": 4,
   "metadata": {},
   "outputs": [
    {
     "name": "stdout",
     "output_type": "stream",
     "text": [
      "5\n",
      "4\n",
      "3\n",
      "2\n",
      "1\n"
     ]
    }
   ],
   "source": [
    "def reverseIteration(source):\n",
    "    for i in range(len(arr)-1,-1,-1):\n",
    "        print(source[i])\n",
    "arr=np.array([1,2,3,4,5])\n",
    "reverseIteration(arr)"
   ]
  },
  {
   "cell_type": "markdown",
   "metadata": {},
   "source": [
    "Copy Array"
   ]
  },
  {
   "cell_type": "code",
   "execution_count": 10,
   "metadata": {},
   "outputs": [
    {
     "name": "stdout",
     "output_type": "stream",
     "text": [
      "[1 2 3 4 5]\n"
     ]
    }
   ],
   "source": [
    "def copyArray(source):\n",
    "    # newArray=[None]*len(source)               [None,None,None,None,None]\n",
    "    newArray=np.zeros(len(source),dtype=int)    #this also works---[0,0,0,0,0]\n",
    "    for i in range(len(source)):\n",
    "        newArray[i]=source[i]\n",
    "    return newArray\n",
    "arr=np.array([1,2,3,4,5])\n",
    "print(copyArray(arr))"
   ]
  },
  {
   "cell_type": "markdown",
   "metadata": {},
   "source": [
    "Resize Array"
   ]
  },
  {
   "cell_type": "code",
   "execution_count": 14,
   "metadata": {},
   "outputs": [
    {
     "data": {
      "text/plain": [
       "array([10, 20, 30, 40, 50])"
      ]
     },
     "execution_count": 14,
     "metadata": {},
     "output_type": "execute_result"
    }
   ],
   "source": [
    "def resizeArray(oldArray,newCapacity):\n",
    "    newArray=np.zeros(len(oldArray),dtype=int)\n",
    "    for i in range(len(oldArray)):\n",
    "        newArray[i]=oldArray[i]\n",
    "    return newArray\n",
    "arr=np.array([10,20,30,40,50])\n",
    "resizeArray(arr,8)"
   ]
  },
  {
   "cell_type": "code",
   "execution_count": 7,
   "metadata": {},
   "outputs": [
    {
     "name": "stdout",
     "output_type": "stream",
     "text": [
      "[10 20 30 40 50  0  0  0]\n",
      "the old size was - 5\n",
      "the new size is now - 8\n"
     ]
    }
   ],
   "source": [
    "def resizeArray(oldArray,newCapacity):\n",
    "    newArray=np.zeros(newCapacity,dtype=int)\n",
    "    for i in range(len(oldArray)):\n",
    "        newArray[i]=oldArray[i]\n",
    "    return newArray\n",
    "arr=np.array([10,20,30,40,50])\n",
    "print(resizeArray(arr,8))\n",
    "\n",
    "\n",
    "print(\"the old size was - 5\")\n",
    "print(\"the new size is now - 8\")"
   ]
  },
  {
   "cell_type": "markdown",
   "metadata": {},
   "source": [
    "Left Shift"
   ]
  },
  {
   "cell_type": "code",
   "execution_count": 70,
   "metadata": {},
   "outputs": [
    {
     "name": "stdout",
     "output_type": "stream",
     "text": [
      "[2 3 4 5 0]\n"
     ]
    }
   ],
   "source": [
    "def leftShift(arr):\n",
    "    for i in range(1,len(arr)):\n",
    "        arr[i-1]=arr[i]\n",
    "    arr[len(arr)-1]=0\n",
    "    return arr\n",
    "arr=np.array([1,2,3,4,5])\n",
    "print(leftShift(arr))"
   ]
  },
  {
   "cell_type": "code",
   "execution_count": 24,
   "metadata": {},
   "outputs": [
    {
     "data": {
      "text/plain": [
       "array([1, 2, 3, 5, 0])"
      ]
     },
     "execution_count": 24,
     "metadata": {},
     "output_type": "execute_result"
    }
   ],
   "source": [
    "def leftShiftAnywhere(arr,index):\n",
    "    for i in range(index,len(arr)):\n",
    "        arr[i-1]=arr[i]\n",
    "    arr[len(arr)-1]=0\n",
    "    return arr\n",
    "arr=np.array([1,2,3,4,5])\n",
    "leftShiftAnywhere(arr,4)"
   ]
  },
  {
   "cell_type": "markdown",
   "metadata": {},
   "source": [
    "Right Shift"
   ]
  },
  {
   "cell_type": "code",
   "execution_count": 69,
   "metadata": {},
   "outputs": [
    {
     "name": "stdout",
     "output_type": "stream",
     "text": [
      "[0 1 2 3 4]\n"
     ]
    }
   ],
   "source": [
    "def rightShift(arr):\n",
    "    for i in range(len(arr)-1,0,-1):\n",
    "        arr[i]=arr[i-1]\n",
    "    arr[0]=0\n",
    "    return arr\n",
    "arr=np.array([1,2,3,4,5])\n",
    "print(rightShift(arr))"
   ]
  },
  {
   "cell_type": "markdown",
   "metadata": {},
   "source": [
    "Insert Element"
   ]
  },
  {
   "cell_type": "markdown",
   "metadata": {},
   "source": [
    "What I understand by size---it's there to get rid of the error that you are gonna get if you assign the size's value more than or equal to the actual lenght of an array.\n",
    "In this case, you can see: if size==len(arr) or size>len(arr): than show the message so that there's no error.\n",
    "It also doesn't really matter that how much you are assigning to the size variable if it's inside 0-4. 5 or any other number will show the message."
   ]
  },
  {
   "cell_type": "code",
   "execution_count": 68,
   "metadata": {},
   "outputs": [
    {
     "name": "stdout",
     "output_type": "stream",
     "text": [
      "[ 1  2  3 30  5]\n"
     ]
    }
   ],
   "source": [
    "def insertElement(arr,size,elem,index):\n",
    "    if size==len(arr) or size>len(arr):\n",
    "        print('No space left')\n",
    "    else:\n",
    "        for i in range(size,index,-1): \n",
    "            arr[i]=arr[i-1]\n",
    "        arr[index]=elem\n",
    "        return arr\n",
    "arr=np.array([1,2,3,4,5])\n",
    "print(insertElement(arr,1,30,3))"
   ]
  },
  {
   "cell_type": "markdown",
   "metadata": {},
   "source": [
    "Doesn't even need a for loop let alone size. Don't know if it's the correct way of doing it but it appears so..."
   ]
  },
  {
   "cell_type": "code",
   "execution_count": 8,
   "metadata": {},
   "outputs": [
    {
     "name": "stdout",
     "output_type": "stream",
     "text": [
      "[ 1  2  3 30  5]\n"
     ]
    }
   ],
   "source": [
    "def insertElement(arr,size,elem,index):\n",
    "    arr[index]=elem\n",
    "    return arr\n",
    "arr=np.array([1,2,3,4,5])\n",
    "print(insertElement(arr,1,30,3))"
   ]
  },
  {
   "cell_type": "markdown",
   "metadata": {},
   "source": [
    "Remove Element"
   ]
  },
  {
   "cell_type": "code",
   "execution_count": 138,
   "metadata": {},
   "outputs": [
    {
     "name": "stdout",
     "output_type": "stream",
     "text": [
      "[1 2 0 4 5]\n"
     ]
    }
   ],
   "source": [
    "def removeElement(arr,size,index):\n",
    "    for i in range(size+1,index):\n",
    "        arr[i-1]=arr[i]\n",
    "    arr[index-1]=0\n",
    "    return arr\n",
    "arr=np.array([1,2,3,4,5])\n",
    "print(removeElement(arr,5,3))"
   ]
  },
  {
   "cell_type": "markdown",
   "metadata": {},
   "source": [
    "want to delete 3rd index"
   ]
  },
  {
   "cell_type": "code",
   "execution_count": 22,
   "metadata": {},
   "outputs": [
    {
     "name": "stdout",
     "output_type": "stream",
     "text": [
      "[ 1  2  3  4  5  6  7  8  9 10]\n",
      "delete with left shitf:\n",
      "[ 1  2  3  5  6  7  8  9 10  0]\n"
     ]
    }
   ],
   "source": [
    "def removeElement(arr,size,index):\n",
    "    arr[index]=0\n",
    "    for i in range(index+1,len(arr)):\n",
    "        arr[i-1]=arr[i]\n",
    "    arr[len(arr)-1]=0\n",
    "    return arr\n",
    "arr=np.array([1,2,3,4,5,6,7,8,9,10])\n",
    "print(arr)\n",
    "print(\"delete with left shitf:\")\n",
    "print(removeElement(arr,10,3))"
   ]
  },
  {
   "cell_type": "markdown",
   "metadata": {},
   "source": [
    "Left Rotate"
   ]
  },
  {
   "cell_type": "code",
   "execution_count": 140,
   "metadata": {},
   "outputs": [
    {
     "name": "stdout",
     "output_type": "stream",
     "text": [
      "[2 3 4 5 1]\n"
     ]
    }
   ],
   "source": [
    "def leftRotate(arr):\n",
    "    store=arr[0]\n",
    "    for i in range(1,len(arr)):\n",
    "        arr[i-1]=arr[i]\n",
    "    arr[len(arr)-1]=store\n",
    "    return arr\n",
    "arr=np.array([1,2,3,4,5])\n",
    "print(leftRotate(arr))"
   ]
  },
  {
   "cell_type": "markdown",
   "metadata": {},
   "source": [
    "Right Rotate"
   ]
  },
  {
   "cell_type": "code",
   "execution_count": 141,
   "metadata": {},
   "outputs": [
    {
     "name": "stdout",
     "output_type": "stream",
     "text": [
      "[5 1 2 3 4]\n"
     ]
    }
   ],
   "source": [
    "def leftRotate(arr):\n",
    "    store=arr[len(arr)-1]\n",
    "    for i in range(len(arr)-1,0,-1):\n",
    "        arr[i]=arr[i-1]\n",
    "    arr[0]=store\n",
    "    return arr\n",
    "arr=np.array([1,2,3,4,5])\n",
    "print(leftRotate(arr))"
   ]
  },
  {
   "cell_type": "markdown",
   "metadata": {},
   "source": [
    "Reverse Array --- Out of Place"
   ]
  },
  {
   "cell_type": "code",
   "execution_count": 24,
   "metadata": {},
   "outputs": [
    {
     "name": "stdout",
     "output_type": "stream",
     "text": [
      "[5 4 3 2 1]\n"
     ]
    }
   ],
   "source": [
    "def reverseArrayOutOfPlace(arr):\n",
    "    revArr=np.zeros(len(arr),dtype=int)\n",
    "    i=0\n",
    "    j=len(arr)-1\n",
    "    while i<len(arr):\n",
    "        revArr[i]=arr[j]\n",
    "        i+=1\n",
    "        j-=1\n",
    "    return revArr\n",
    "arr=np.array([1,2,3,4,5])\n",
    "print(reverseArrayOutOfPlace(arr))"
   ]
  },
  {
   "cell_type": "markdown",
   "metadata": {},
   "source": [
    "Reverse --- In Place"
   ]
  },
  {
   "cell_type": "code",
   "execution_count": 155,
   "metadata": {},
   "outputs": [
    {
     "name": "stdout",
     "output_type": "stream",
     "text": [
      "[5 4 3 2 1]\n"
     ]
    }
   ],
   "source": [
    "def reverseArrayInPlace(arr):\n",
    "    i=0\n",
    "    j=len(arr)-1\n",
    "    while i<j:\n",
    "        temp=arr[i]\n",
    "        arr[i]=arr[j]\n",
    "        arr[j]=temp\n",
    "        i+=1\n",
    "        j-=1\n",
    "    return arr\n",
    "arr=np.array([1,2,3,4,5])\n",
    "print(reverseArrayInPlace(arr))"
   ]
  },
  {
   "cell_type": "code",
   "execution_count": 169,
   "metadata": {},
   "outputs": [
    {
     "name": "stdout",
     "output_type": "stream",
     "text": [
      "[1 2 3 4 5]\n"
     ]
    }
   ],
   "source": [
    "def justReverse(arr):\n",
    "    revArr1=np.zeros(len(arr),dtype=int)\n",
    "    for i in range(len(arr)-1,-1,-1):\n",
    "        # print(arr[i],end=',')\n",
    "        revArr1[i]=arr[i]\n",
    "    return revArr1\n",
    "arr=np.array([1,2,3,4,5])\n",
    "print(justReverse(arr))"
   ]
  },
  {
   "cell_type": "markdown",
   "metadata": {},
   "source": [
    "find the lowest value"
   ]
  },
  {
   "cell_type": "code",
   "execution_count": 17,
   "metadata": {},
   "outputs": [
    {
     "name": "stdout",
     "output_type": "stream",
     "text": [
      "2\n"
     ]
    }
   ],
   "source": [
    "import numpy as np\n",
    "def findLowestValue(arr):\n",
    "    minVal=arr[0]\n",
    "    for i in arr:\n",
    "        if i<minVal:\n",
    "            minVal=i\n",
    "    print(minVal)\n",
    "arr=np.array([7,12,9,4,11])\n",
    "arr=np.array([85,12,9,4,2,11])\n",
    "findLowestValue(arr)"
   ]
  },
  {
   "cell_type": "markdown",
   "metadata": {},
   "source": [
    "find the highest value"
   ]
  },
  {
   "cell_type": "code",
   "execution_count": 22,
   "metadata": {},
   "outputs": [
    {
     "name": "stdout",
     "output_type": "stream",
     "text": [
      "85\n"
     ]
    }
   ],
   "source": [
    "import numpy as np\n",
    "def findLowestValue(arr):\n",
    "    maxValue=arr[0]\n",
    "    for i in arr:\n",
    "        if i>maxValue:\n",
    "            maxValue=i\n",
    "    print(maxValue)\n",
    "# arr=np.array([7,12,9,4,11])\n",
    "arr=np.array([85,12,9,4,2,11])\n",
    "findLowestValue(arr)"
   ]
  },
  {
   "cell_type": "markdown",
   "metadata": {},
   "source": [
    "Multidimentional Array"
   ]
  },
  {
   "cell_type": "markdown",
   "metadata": {},
   "source": [
    "Creating an array"
   ]
  },
  {
   "cell_type": "code",
   "execution_count": 7,
   "metadata": {},
   "outputs": [
    {
     "name": "stdout",
     "output_type": "stream",
     "text": [
      "Enter element of [0][0] index: \n",
      "Enter element of [0][1] index: \n",
      "Enter element of [0][2] index: \n",
      "Enter element of [1][0] index: \n",
      "Enter element of [1][1] index: \n",
      "Enter element of [1][2] index: \n",
      "[[100 200 300]\n",
      " [400 500 600]]\n"
     ]
    }
   ],
   "source": [
    "import numpy as np\n",
    "def createArray():\n",
    "    m=np.zeros((2,3),dtype=int)\n",
    "    row=m.shape[0]\n",
    "    col=m.shape[1]\n",
    "    for i in range(row):\n",
    "        for j in range(col):\n",
    "            print(f'Enter element of [{i}][{j}] index: ')\n",
    "            m[i][j]=int(input())\n",
    "    return m\n",
    "print(createArray())"
   ]
  },
  {
   "cell_type": "markdown",
   "metadata": {},
   "source": [
    "from class"
   ]
  },
  {
   "cell_type": "code",
   "execution_count": 13,
   "metadata": {},
   "outputs": [
    {
     "name": "stdout",
     "output_type": "stream",
     "text": [
      "4\n"
     ]
    }
   ],
   "source": [
    "def sumOfRow(arr):\n",
    "    row=arr.shape[0]\n",
    "    col=arr.shape[1]\n",
    "    ans=np.zeros(row,dtype=int)\n",
    "    for i in range(row):\n",
    "        total=0\n",
    "        for j in range(col):\n",
    "            total+=arr[i][j]\n",
    "    print(total)\n",
    "arr = np.array([[2, 5, 1, 1], [6, 7, 1, 1], [1, 1, 1, 1]])\n",
    "sumOfRow(arr)"
   ]
  },
  {
   "cell_type": "code",
   "execution_count": 16,
   "metadata": {},
   "outputs": [
    {
     "data": {
      "text/plain": [
       "array([[ 9],\n",
       "       [15],\n",
       "       [ 4]])"
      ]
     },
     "execution_count": 16,
     "metadata": {},
     "output_type": "execute_result"
    }
   ],
   "source": [
    "def row_wise_sum(m):\n",
    "    row, col = m.shape\n",
    "    result = np.zeros((row, 1), dtype=int)\n",
    "    for i in range(row):\n",
    "        for j in range(col):\n",
    "            result[i][0] += m[i][j]\n",
    "    return result\n",
    "arr = np.array([[2, 5, 1, 1], [6, 7, 1, 1], [1, 1, 1, 1]])\n",
    "print(row_wise_sum(arr))"
   ]
  },
  {
   "cell_type": "code",
   "execution_count": 19,
   "metadata": {},
   "outputs": [
    {
     "data": {
      "text/plain": [
       "array([[ 9, 13,  3,  3]])"
      ]
     },
     "execution_count": 19,
     "metadata": {},
     "output_type": "execute_result"
    }
   ],
   "source": [
    "def col_wise_sum(m):\n",
    "    row, col = m.shape\n",
    "    result = np.zeros((1, col), dtype=int)\n",
    "    for i in range(col):\n",
    "        for j in range(row):\n",
    "            result[0][i] += m[j][i]\n",
    "    return result\n",
    "arr = np.array([[2, 5, 1, 1], [6, 7, 1, 1], [1, 1, 1, 1]])\n",
    "print(col_wise_sum(arr))"
   ]
  },
  {
   "cell_type": "code",
   "execution_count": 2,
   "metadata": {},
   "outputs": [
    {
     "name": "stdout",
     "output_type": "stream",
     "text": [
      "[[0 0 0 0 0]\n",
      " [0 0 0 0 0]\n",
      " [0 0 0 0 0]]\n"
     ]
    }
   ],
   "source": [
    "import numpy as np\n",
    "arr=np.zeros((3,5),dtype=int)\n",
    "print(arr)"
   ]
  },
  {
   "cell_type": "markdown",
   "metadata": {},
   "source": [
    "interactively making a 2d array (partial because only creates 0 or 1)"
   ]
  },
  {
   "cell_type": "code",
   "execution_count": 56,
   "metadata": {},
   "outputs": [
    {
     "name": "stdout",
     "output_type": "stream",
     "text": [
      "[[0 0 0]\n",
      " [0 0 0]]\n"
     ]
    }
   ],
   "source": [
    "import numpy as np\n",
    "def creatingArray():\n",
    "    x=int(input());y=int(input())\n",
    "    for i in range(x):\n",
    "        for j in range(y):\n",
    "            arr=np.zeros((x,y),dtype=int)\n",
    "    print(arr)\n",
    "creatingArray()"
   ]
  },
  {
   "cell_type": "markdown",
   "metadata": {},
   "source": [
    "truely interactive"
   ]
  },
  {
   "cell_type": "code",
   "execution_count": 14,
   "metadata": {},
   "outputs": [
    {
     "name": "stdout",
     "output_type": "stream",
     "text": [
      "[[  1   2   3   4   5]\n",
      " [ 10  20  30  40  50]\n",
      " [100  90  80  70  60]]\n"
     ]
    }
   ],
   "source": [
    "import numpy as np\n",
    "def createTheArray():\n",
    "    row=int(input('Row: '))\n",
    "    col=int(input('Column: '))\n",
    "    arr=np.zeros((row,col),dtype=int)\n",
    "    for i in range(row):\n",
    "        for j in range(col):\n",
    "            arr[i][j]=int(input(f'Enter the elements: ({i},{j}): '))\n",
    "    return arr\n",
    "print(createTheArray())"
   ]
  },
  {
   "cell_type": "code",
   "execution_count": 9,
   "metadata": {},
   "outputs": [
    {
     "name": "stdout",
     "output_type": "stream",
     "text": [
      "[[ 1  2  3  4  5]\n",
      " [ 6  7  8  9 10]]\n"
     ]
    }
   ],
   "source": [
    "import numpy as np\n",
    "arr=np.array([[1,2,3,4,5],[6,7,8,9,10]])\n",
    "print(arr)"
   ]
  },
  {
   "cell_type": "markdown",
   "metadata": {},
   "source": [
    "Row Wise Iteration"
   ]
  },
  {
   "cell_type": "code",
   "execution_count": 18,
   "metadata": {},
   "outputs": [
    {
     "name": "stdout",
     "output_type": "stream",
     "text": [
      "1 2 3 4 5 10 20 30 40 50 100 90 80 70 60 "
     ]
    }
   ],
   "source": [
    "def print_row(arr):\n",
    "    row=arr.shape[0]\n",
    "    col=arr.shape[1]\n",
    "    for i in range(row):\n",
    "        for j in range(col):\n",
    "            print(arr[i][j],end=' ')\n",
    "# arr=np.zeros((2,3),dtype=int)\n",
    "arr=np.array([[1,2,3,4,5],[10,20,30,40,50],[100,90,80,70,60]])\n",
    "print_row(arr)"
   ]
  },
  {
   "cell_type": "markdown",
   "metadata": {},
   "source": [
    "Column Wise Iteration"
   ]
  },
  {
   "cell_type": "code",
   "execution_count": 19,
   "metadata": {},
   "outputs": [
    {
     "name": "stdout",
     "output_type": "stream",
     "text": [
      "1 10 100 2 20 90 3 30 80 4 40 70 5 50 60 "
     ]
    }
   ],
   "source": [
    "def print_row(arr):\n",
    "    row=arr.shape[0]\n",
    "    col=arr.shape[1]\n",
    "    for i in range(col):\n",
    "        for j in range(row):\n",
    "            print(arr[j][i],end=' ')\n",
    "# arr=np.zeros((2,3),dtype=int)\n",
    "arr=np.array([[1,2,3,4,5],[10,20,30,40,50],[100,90,80,70,60]])\n",
    "print_row(arr)"
   ]
  },
  {
   "cell_type": "markdown",
   "metadata": {},
   "source": [
    "Summation"
   ]
  },
  {
   "cell_type": "code",
   "execution_count": 24,
   "metadata": {},
   "outputs": [
    {
     "data": {
      "text/plain": [
       "165"
      ]
     },
     "execution_count": 24,
     "metadata": {},
     "output_type": "execute_result"
    }
   ],
   "source": [
    "def array_sum(arr):\n",
    "    sum=0\n",
    "    row=arr.shape[0]\n",
    "    col=arr.shape[1]\n",
    "    for i in range(row):\n",
    "        for j in range(col):\n",
    "            sum+=arr[i][j]\n",
    "    return sum\n",
    "arr=np.array([[1,2,3,4,5],[10,20,30,40,50]])\n",
    "array_sum(arr)"
   ]
  },
  {
   "cell_type": "markdown",
   "metadata": {},
   "source": [
    "Row Wise Sumation"
   ]
  },
  {
   "cell_type": "code",
   "execution_count": 37,
   "metadata": {},
   "outputs": [
    {
     "name": "stdout",
     "output_type": "stream",
     "text": [
      "[[ 15]\n",
      " [150]]\n"
     ]
    }
   ],
   "source": [
    "import numpy as np\n",
    "def row_wise_sum(arr):\n",
    "    row=arr.shape[0]\n",
    "    col=arr.shape[1]\n",
    "    result=np.zeros((row,1),dtype=int)\n",
    "    for i in range(row):\n",
    "        for j in range(col):\n",
    "            result[i][0]+=arr[i][j]\n",
    "    return result\n",
    "arr=np.array([[1,2,3,4,5],[10,20,30,40,50]])\n",
    "print(row_wise_sum(arr))"
   ]
  },
  {
   "cell_type": "markdown",
   "metadata": {},
   "source": [
    "Column Wise Sum"
   ]
  },
  {
   "cell_type": "code",
   "execution_count": 43,
   "metadata": {},
   "outputs": [
    {
     "name": "stdout",
     "output_type": "stream",
     "text": [
      "[[11 22 33 44 55]]\n"
     ]
    }
   ],
   "source": [
    "import numpy as np\n",
    "def column_wise_sum(ar):\n",
    "    row=arr.shape[0]\n",
    "    col=arr.shape[1]\n",
    "    result=np.zeros((1,col),dtype=int)\n",
    "    for i in range(col):\n",
    "        for j in range(row):\n",
    "            result[0][i]+=arr[j][i]\n",
    "    return result\n",
    "arr=np.array([[1,2,3,4,5],[10,20,30,40,50]])\n",
    "print(column_wise_sum(arr))"
   ]
  },
  {
   "cell_type": "markdown",
   "metadata": {},
   "source": [
    "Swapping"
   ]
  },
  {
   "cell_type": "code",
   "execution_count": 45,
   "metadata": {},
   "outputs": [
    {
     "name": "stdout",
     "output_type": "stream",
     "text": [
      "[[3 4]\n",
      " [5 2]\n",
      " [6 7]]\n"
     ]
    }
   ],
   "source": [
    "def swap_two_columns(arr):\n",
    "    row=arr.shape[0]\n",
    "    col=arr.shape[1]\n",
    "    for i in range(row):\n",
    "        arr[i][0],arr[i][1]=arr[i][1],arr[i][0]\n",
    "    return arr\n",
    "arr=np.array([[4,3],[2,5],[7,6]])\n",
    "print(swap_two_columns(arr))"
   ]
  },
  {
   "cell_type": "markdown",
   "metadata": {},
   "source": [
    "Swap Columns"
   ]
  },
  {
   "cell_type": "code",
   "execution_count": 46,
   "metadata": {},
   "outputs": [
    {
     "name": "stdout",
     "output_type": "stream",
     "text": [
      "[[ 8  3  4]\n",
      " [-1  5  2]\n",
      " [ 9 16 -6]\n",
      " [11 13  4]]\n"
     ]
    }
   ],
   "source": [
    "def swap_columns(arr):\n",
    "    row=arr.shape[0]\n",
    "    col=arr.shape[1]\n",
    "    for i in range(row):\n",
    "        for j in range(col//2):\n",
    "            arr[i][j],arr[i][col-1-j]=arr[i][col-1-j],arr[i][j]\n",
    "    return arr\n",
    "arr=np.array([[4,3,8],[2,5,-1],[-6,16,9],[4,13,11]])\n",
    "print(swap_columns(arr))"
   ]
  },
  {
   "cell_type": "markdown",
   "metadata": {},
   "source": [
    "Addition"
   ]
  },
  {
   "cell_type": "markdown",
   "metadata": {},
   "source": [
    "primary diagonal additionals"
   ]
  },
  {
   "cell_type": "code",
   "execution_count": 3,
   "metadata": {},
   "outputs": [
    {
     "name": "stdout",
     "output_type": "stream",
     "text": [
      "18\n"
     ]
    }
   ],
   "source": [
    "import numpy as np\n",
    "def sum_primary_diagonal(arr):\n",
    "    row=arr.shape[0]\n",
    "    col=arr.shape[1]\n",
    "    assert(row==col),'Not a square matrix'\n",
    "    sum=0\n",
    "    for i in range(row):\n",
    "        sum+=arr[i][i]\n",
    "    return sum\n",
    "arr=np.array([[4,3,8],[2,5,1],[7,6,9]])\n",
    "print(sum_primary_diagonal(arr))"
   ]
  },
  {
   "cell_type": "markdown",
   "metadata": {},
   "source": [
    "secondary diagonal additionals"
   ]
  },
  {
   "cell_type": "code",
   "execution_count": 71,
   "metadata": {},
   "outputs": [
    {
     "name": "stdout",
     "output_type": "stream",
     "text": [
      "[[ 4  3  8]\n",
      " [ 2  5  1]\n",
      " [ 5  6 12]]\n",
      "\n",
      "18\n"
     ]
    }
   ],
   "source": [
    "def sum_secondary_diagonal(array):\n",
    "    row=array.shape[0]\n",
    "    col=array.shape[1]\n",
    "    assert(row==col),'Not a square matrix'\n",
    "    sum=0\n",
    "    for i in range(row):\n",
    "        for j in range(col):\n",
    "            if i+j==row-1:\n",
    "               sum+=array[i][j] \n",
    "    return sum\n",
    "# m=np.random.randint(9,size=(4,4))\n",
    "# print(m)\n",
    "array=np.array([[4,3,8],[2,5,1],[5,6,12]])\n",
    "print(array)\n",
    "print('')\n",
    "print(sum_secondary_diagonal(array))"
   ]
  },
  {
   "cell_type": "markdown",
   "metadata": {},
   "source": [
    "Add Two Matrixes (same direction)"
   ]
  },
  {
   "cell_type": "code",
   "execution_count": 2,
   "metadata": {},
   "outputs": [
    {
     "name": "stdout",
     "output_type": "stream",
     "text": [
      "[[ 1  2  3  4  5]\n",
      " [ 6  7  8  9 10]\n",
      " [11 12 13 14 15]]\n",
      "+\n",
      "[[16 17 18 19 20]\n",
      " [21 22 23 24 25]\n",
      " [26 27 28 29 30]]\n",
      "Dimension mismatch\n",
      "[[17 19 21 23 25]\n",
      " [27 29 31 33 35]\n",
      " [37 39 41 43 45]]\n"
     ]
    }
   ],
   "source": [
    "def addMatrix(m,n):\n",
    "    row_m=m.shape[0]\n",
    "    col_m=m.shape[1]\n",
    "    row_n=n.shape[0]\n",
    "    col_n=n.shape[1]\n",
    "    if row_m==row_n and col_m==col_n:\n",
    "        print('Dimension mismatch')\n",
    "    result=np.zeros((row_m,col_m),dtype=int)\n",
    "    for i in range(row_m):\n",
    "        for j in range(col_m):\n",
    "            result[i][j]=m[i][j]+n[i][j]\n",
    "    return result\n",
    "m=np.array([[1,2,3,4,5],[6,7,8,9,10],[11,12,13,14,15]])\n",
    "n=np.array([[16,17,18,19,20],[21,22,23,24,25],[26,27,28,29,30]])\n",
    "print(m)\n",
    "print('+')\n",
    "print(n)\n",
    "print(addMatrix(m,n))"
   ]
  },
  {
   "cell_type": "markdown",
   "metadata": {},
   "source": [
    "Multiply two matrixes"
   ]
  },
  {
   "cell_type": "code",
   "execution_count": 46,
   "metadata": {},
   "outputs": [
    {
     "ename": "IndexError",
     "evalue": "index 3 is out of bounds for axis 0 with size 3",
     "output_type": "error",
     "traceback": [
      "\u001b[1;31m---------------------------------------------------------------------------\u001b[0m",
      "\u001b[1;31mIndexError\u001b[0m                                Traceback (most recent call last)",
      "Cell \u001b[1;32mIn[46], line 16\u001b[0m\n\u001b[0;32m     14\u001b[0m m\u001b[38;5;241m=\u001b[39mnp\u001b[38;5;241m.\u001b[39marray([[\u001b[38;5;241m1\u001b[39m,\u001b[38;5;241m2\u001b[39m,\u001b[38;5;241m3\u001b[39m,\u001b[38;5;241m4\u001b[39m,\u001b[38;5;241m5\u001b[39m],[\u001b[38;5;241m6\u001b[39m,\u001b[38;5;241m7\u001b[39m,\u001b[38;5;241m8\u001b[39m,\u001b[38;5;241m9\u001b[39m,\u001b[38;5;241m10\u001b[39m],[\u001b[38;5;241m11\u001b[39m,\u001b[38;5;241m12\u001b[39m,\u001b[38;5;241m13\u001b[39m,\u001b[38;5;241m14\u001b[39m,\u001b[38;5;241m15\u001b[39m]])\n\u001b[0;32m     15\u001b[0m n\u001b[38;5;241m=\u001b[39mnp\u001b[38;5;241m.\u001b[39marray([[\u001b[38;5;241m16\u001b[39m,\u001b[38;5;241m17\u001b[39m,\u001b[38;5;241m18\u001b[39m,\u001b[38;5;241m19\u001b[39m,\u001b[38;5;241m20\u001b[39m],[\u001b[38;5;241m21\u001b[39m,\u001b[38;5;241m22\u001b[39m,\u001b[38;5;241m23\u001b[39m,\u001b[38;5;241m24\u001b[39m,\u001b[38;5;241m25\u001b[39m],[\u001b[38;5;241m26\u001b[39m,\u001b[38;5;241m27\u001b[39m,\u001b[38;5;241m28\u001b[39m,\u001b[38;5;241m29\u001b[39m,\u001b[38;5;241m30\u001b[39m]])\n\u001b[1;32m---> 16\u001b[0m \u001b[38;5;28mprint\u001b[39m(\u001b[43maddMatrix\u001b[49m\u001b[43m(\u001b[49m\u001b[43mm\u001b[49m\u001b[43m,\u001b[49m\u001b[43mn\u001b[49m\u001b[43m)\u001b[49m)\n",
      "Cell \u001b[1;32mIn[46], line 12\u001b[0m, in \u001b[0;36maddMatrix\u001b[1;34m(m, n)\u001b[0m\n\u001b[0;32m     10\u001b[0m     \u001b[38;5;28;01mfor\u001b[39;00m j \u001b[38;5;129;01min\u001b[39;00m \u001b[38;5;28mrange\u001b[39m(col_n):\n\u001b[0;32m     11\u001b[0m         \u001b[38;5;28;01mfor\u001b[39;00m k \u001b[38;5;129;01min\u001b[39;00m \u001b[38;5;28mrange\u001b[39m(col_m):\n\u001b[1;32m---> 12\u001b[0m             result[i][j]\u001b[38;5;241m+\u001b[39m\u001b[38;5;241m=\u001b[39mm[i][k]\u001b[38;5;241m*\u001b[39m\u001b[43mn\u001b[49m\u001b[43m[\u001b[49m\u001b[43mk\u001b[49m\u001b[43m]\u001b[49m[j]\n\u001b[0;32m     13\u001b[0m \u001b[38;5;28;01mreturn\u001b[39;00m result\n",
      "\u001b[1;31mIndexError\u001b[0m: index 3 is out of bounds for axis 0 with size 3"
     ]
    }
   ],
   "source": [
    "def addMatrix(m,n):\n",
    "    row_m=m.shape[0]\n",
    "    col_m=m.shape[1]\n",
    "    row_n=n.shape[0]\n",
    "    col_n=n.shape[1]\n",
    "    if col_m==row_n:\n",
    "        print('Cannot multiply')\n",
    "    result=np.zeros((row_m,col_n),dtype=int)\n",
    "    for i in range(row_m):\n",
    "        for j in range(col_n):\n",
    "            for k in range(col_m):\n",
    "                result[i][j]+=m[i][k]*n[k][j]\n",
    "    return result\n",
    "m=np.array([[1,2,3,4,5],[6,7,8,9,10],[11,12,13,14,15]])\n",
    "n=np.array([[16,17,18,19,20],[21,22,23,24,25],[26,27,28,29,30]])\n",
    "print(addMatrix(m,n))"
   ]
  },
  {
   "cell_type": "markdown",
   "metadata": {},
   "source": [
    "sum of two matrix"
   ]
  },
  {
   "cell_type": "code",
   "execution_count": 52,
   "metadata": {},
   "outputs": [
    {
     "name": "stdout",
     "output_type": "stream",
     "text": [
      "[[3 6 4 1]\n",
      " [2 0 7 7]\n",
      " [3 4 0 4]]\n",
      "+\n",
      "[[5 3 0 6]\n",
      " [7 5 3 6]\n",
      " [5 7 1 6]]\n",
      "Result:\n",
      "[[ 8  9  4  7]\n",
      " [ 9  5 10 13]\n",
      " [ 8 11  1 10]]\n"
     ]
    }
   ],
   "source": [
    "import random\n",
    "import numpy as np\n",
    "def add_matrix(m,n):\n",
    "    row,col=m.shape\n",
    "    result=np.zeros((row,col),dtype=int)\n",
    "    for i in range(row):\n",
    "        for j in range(col):\n",
    "            result[i][j]=m[i][j]+n[i][j]\n",
    "    return result\n",
    "m=np.random.randint(9,size=(3,4))\n",
    "n=np.random.randint(8,size=(3,4))\n",
    "# print(add_matrix(m,n))\n",
    "print(m)\n",
    "print('+')\n",
    "print(n)\n",
    "print('Result:')\n",
    "print(add_matrix(m,n))"
   ]
  },
  {
   "cell_type": "markdown",
   "metadata": {},
   "source": [
    "Multiplication of two matrix"
   ]
  },
  {
   "cell_type": "code",
   "execution_count": 1,
   "metadata": {},
   "outputs": [
    {
     "name": "stdout",
     "output_type": "stream",
     "text": [
      "[[8 1 2 3]\n",
      " [2 1 2 1]\n",
      " [3 5 3 3]]\n",
      "x\n",
      "[[2 5 7]\n",
      " [3 1 7]\n",
      " [5 4 5]\n",
      " [5 0 2]]\n",
      "Result:\n",
      "[[44 49 79]\n",
      " [22 19 33]\n",
      " [51 32 77]]\n"
     ]
    }
   ],
   "source": [
    "import numpy as np\n",
    "import math\n",
    "def multiply_matrix(m,n):\n",
    "    row_m,col_m=m.shape\n",
    "    row_n,col_n=n.shape\n",
    "    if col_m==row_n:\n",
    "        row,col=row_m,col_n\n",
    "        result=np.zeros((row,col),dtype=int)\n",
    "        for i in range(row):\n",
    "            for j in range(col):\n",
    "                for k in range(col_m):\n",
    "                    result[i][j]+=m[i][k]*n[k][j]\n",
    "        return result\n",
    "m=np.random.randint(9,size=(3,4))\n",
    "n=np.random.randint(8,size=(4,3))\n",
    "print(m)\n",
    "print('x')\n",
    "print(n)\n",
    "print('Result:')\n",
    "print(multiply_matrix(m,n))"
   ]
  },
  {
   "cell_type": "markdown",
   "metadata": {},
   "source": [
    "Flip Vertical"
   ]
  },
  {
   "cell_type": "code",
   "execution_count": 12,
   "metadata": {},
   "outputs": [
    {
     "name": "stdout",
     "output_type": "stream",
     "text": [
      "Current Matrix\n",
      "[[ 3 14  0  9]\n",
      " [ 9  4  0 12]\n",
      " [10 14  8  6]\n",
      " [12  0 10  8]]\n",
      "\n",
      "Vertically flipped matrix\n",
      "[[12  0 10  8]\n",
      " [10 14  8  6]\n",
      " [ 9  4  0 12]\n",
      " [ 3 14  0  9]]\n"
     ]
    }
   ],
   "source": [
    "def flip_vertical(matrix):\n",
    "    row,col=matrix.shape\n",
    "    for i in range(row//2):\n",
    "        for j in range(col):\n",
    "            temp=matrix[i][j]\n",
    "            matrix[i][j]=matrix[row-1-i][j]\n",
    "            matrix[row-1-i][j]=temp\n",
    "    return matrix\n",
    "m=np.random.randint(15,size=(4,4))\n",
    "print('Current Matrix')\n",
    "print(m)\n",
    "print('')\n",
    "print('Vertically flipped matrix')\n",
    "print(flip_vertical(m))"
   ]
  },
  {
   "cell_type": "markdown",
   "metadata": {},
   "source": [
    "Flip Horizontal"
   ]
  },
  {
   "cell_type": "code",
   "execution_count": 13,
   "metadata": {},
   "outputs": [
    {
     "name": "stdout",
     "output_type": "stream",
     "text": [
      "Current Matrix\n",
      "[[ 2 13 13  0]\n",
      " [ 1  9  7  3]\n",
      " [14  1  9 14]\n",
      " [ 4  5 12 12]]\n",
      "\n",
      "Horizontally flipped matrix\n",
      "[[ 0 13 13  2]\n",
      " [ 3  7  9  1]\n",
      " [14  9  1 14]\n",
      " [12 12  5  4]]\n"
     ]
    }
   ],
   "source": [
    "def flip_horizontal(matrix):\n",
    "    row,col=matrix.shape\n",
    "    for i in range(row):\n",
    "        for j in range(col//2):\n",
    "            temp=matrix[i][j]\n",
    "            matrix[i][j]=matrix[i][col-1-j]\n",
    "            matrix[i][col-1-j]=temp\n",
    "    return matrix\n",
    "m=np.random.randint(15,size=(4,4))\n",
    "print('Current Matrix')\n",
    "print(m)\n",
    "print('')\n",
    "print('Horizontally flipped matrix')\n",
    "print(flip_horizontal(m))"
   ]
  },
  {
   "cell_type": "code",
   "execution_count": 2,
   "metadata": {},
   "outputs": [
    {
     "name": "stdout",
     "output_type": "stream",
     "text": [
      "[[ 1  2  3  4]\n",
      " [ 5  6  7  8]\n",
      " [ 1  3  5  2]\n",
      " [-2  0  6 -3]]\n",
      "[[14 22]\n",
      " [ 2 10]]\n"
     ]
    }
   ],
   "source": [
    "import numpy as np\n",
    "def compress2Darray(arr):\n",
    "  row,col=arr.shape\n",
    "  result=np.zeros((2,2),dtype=int)\n",
    "  for i in range(2):\n",
    "    for j in range(2):\n",
    "      if i ==0:\n",
    "        start_row=0\n",
    "        end_row=row//2\n",
    "      elif i==1:\n",
    "        start_row=row//2\n",
    "        end_row=row\n",
    "      if j==0:\n",
    "        start_col=0\n",
    "        end_col=col//2\n",
    "      elif j==1:\n",
    "        start_col=col//2\n",
    "        end_col=col\n",
    "      sum=0\n",
    "      for r in range(start_row,end_row):\n",
    "        for c in range(start_col,end_col):\n",
    "          sum+=arr[r][c]\n",
    "      result[i][j]=sum\n",
    "  return result\n",
    "\n",
    "# arr1=np.random.randint(15,size=(4,4))\n",
    "arr1=np.array([[1,2,3,4],[5,6,7,8],[1,3,5,2],[-2,0,6,-3]])\n",
    "print(arr1)\n",
    "print(compress2Darray(arr1))"
   ]
  },
  {
   "cell_type": "markdown",
   "metadata": {},
   "source": [
    "to print the output in a structured way"
   ]
  },
  {
   "cell_type": "code",
   "execution_count": 1,
   "metadata": {},
   "outputs": [],
   "source": [
    "#You must run this cell to print matrix and for the driver code to work\n",
    "def print_matrix(m):\n",
    "  row,col = m.shape\n",
    "  for i in range(row):\n",
    "    c = 1\n",
    "    print('|', end='')\n",
    "    for j in range(col):\n",
    "      c += 1\n",
    "      if(len(str(m[i][j])) == 1):\n",
    "        print(' ',m[i][j], end = '  |')\n",
    "        c += 6\n",
    "      else:\n",
    "        print(' ',m[i][j], end = ' |')\n",
    "        c += 6\n",
    "    print()\n",
    "    print('-'*(c-col))"
   ]
  },
  {
   "cell_type": "markdown",
   "metadata": {},
   "source": [
    "finding the minimum value of a row in 2D array"
   ]
  },
  {
   "cell_type": "code",
   "execution_count": 27,
   "metadata": {},
   "outputs": [
    {
     "ename": "UnboundLocalError",
     "evalue": "cannot access local variable 'minVal' where it is not associated with a value",
     "output_type": "error",
     "traceback": [
      "\u001b[1;31m---------------------------------------------------------------------------\u001b[0m",
      "\u001b[1;31mUnboundLocalError\u001b[0m                         Traceback (most recent call last)",
      "Cell \u001b[1;32mIn[27], line 13\u001b[0m\n\u001b[0;32m     11\u001b[0m         \u001b[38;5;28mprint\u001b[39m(minVal)\n\u001b[0;32m     12\u001b[0m arr\u001b[38;5;241m=\u001b[39mnp\u001b[38;5;241m.\u001b[39marray([[\u001b[38;5;241m10\u001b[39m,\u001b[38;5;241m2\u001b[39m,\u001b[38;5;241m3\u001b[39m,\u001b[38;5;241m4\u001b[39m],[\u001b[38;5;241m5\u001b[39m,\u001b[38;5;241m6\u001b[39m,\u001b[38;5;241m7\u001b[39m,\u001b[38;5;241m8\u001b[39m],[\u001b[38;5;241m4\u001b[39m,\u001b[38;5;241m9\u001b[39m,\u001b[38;5;241m3\u001b[39m,\u001b[38;5;241m2\u001b[39m]])\n\u001b[1;32m---> 13\u001b[0m \u001b[43mfindMin2D\u001b[49m\u001b[43m(\u001b[49m\u001b[43marr\u001b[49m\u001b[43m)\u001b[49m\n",
      "Cell \u001b[1;32mIn[27], line 4\u001b[0m, in \u001b[0;36mfindMin2D\u001b[1;34m(arr)\u001b[0m\n\u001b[0;32m      2\u001b[0m \u001b[38;5;28;01mdef\u001b[39;00m \u001b[38;5;21mfindMin2D\u001b[39m(arr):\n\u001b[0;32m      3\u001b[0m     row,col\u001b[38;5;241m=\u001b[39marr\u001b[38;5;241m.\u001b[39mshape\n\u001b[1;32m----> 4\u001b[0m     \u001b[38;5;28mprint\u001b[39m(\u001b[43mminVal\u001b[49m)\n\u001b[0;32m      5\u001b[0m     \u001b[38;5;28;01mfor\u001b[39;00m i \u001b[38;5;129;01min\u001b[39;00m \u001b[38;5;28mrange\u001b[39m(row):\n\u001b[0;32m      6\u001b[0m         minVal\u001b[38;5;241m=\u001b[39marr[i][\u001b[38;5;241m0\u001b[39m]\n",
      "\u001b[1;31mUnboundLocalError\u001b[0m: cannot access local variable 'minVal' where it is not associated with a value"
     ]
    }
   ],
   "source": [
    "import numpy as np\n",
    "def findMin2D(arr):\n",
    "    row,col=arr.shape\n",
    "    print(minVal)\n",
    "    for i in range(row):\n",
    "        minVal=arr[i][0]\n",
    "        for j in range(col):\n",
    "            # print(arr[i][j])\n",
    "            if arr[i][j]<minVal:\n",
    "                minVal=arr[i][j]\n",
    "        print(minVal)\n",
    "arr=np.array([[10,2,3,4],[5,6,7,8],[4,9,3,2]])\n",
    "findMin2D(arr)"
   ]
  },
  {
   "cell_type": "markdown",
   "metadata": {},
   "source": [
    "Node and Linked List"
   ]
  },
  {
   "cell_type": "markdown",
   "metadata": {},
   "source": [
    "Node class design"
   ]
  },
  {
   "cell_type": "code",
   "execution_count": 18,
   "metadata": {},
   "outputs": [],
   "source": [
    "import numpy as np\n",
    "class Node:\n",
    "    def __init__(self,elem,next):\n",
    "        self.elem=elem\n",
    "        self.next=next"
   ]
  },
  {
   "cell_type": "markdown",
   "metadata": {},
   "source": [
    "Creating a linked list"
   ]
  },
  {
   "cell_type": "code",
   "execution_count": 19,
   "metadata": {},
   "outputs": [],
   "source": [
    "def createList(arr):\n",
    "    head=Node(arr[0],None)\n",
    "    tail=head\n",
    "    for i in range(1,len(arr)):\n",
    "        newNode=Node(arr[i],None)\n",
    "        tail.next=newNode\n",
    "        tail=tail.next\n",
    "    return head\n",
    "arr=np.array([1,2,3,4,5,6])\n",
    "h=createList(arr)"
   ]
  },
  {
   "cell_type": "markdown",
   "metadata": {},
   "source": [
    "Printing a list"
   ]
  },
  {
   "cell_type": "code",
   "execution_count": 20,
   "metadata": {},
   "outputs": [
    {
     "name": "stdout",
     "output_type": "stream",
     "text": [
      "1--->2--->3--->4--->5--->6\n",
      "\n"
     ]
    }
   ],
   "source": [
    "def printList(head):\n",
    "    current_node=head\n",
    "    while current_node!=None:\n",
    "        if current_node.next!=None:\n",
    "            print(current_node.elem,end='--->')\n",
    "        else:\n",
    "            print(current_node.elem)\n",
    "        current_node=current_node.next\n",
    "    print()\n",
    "arr=np.array([1,2,3,4,5,6])\n",
    "h=createList(arr)\n",
    "printList(h)"
   ]
  },
  {
   "cell_type": "markdown",
   "metadata": {},
   "source": [
    "Iteration over a linked list"
   ]
  },
  {
   "cell_type": "code",
   "execution_count": 49,
   "metadata": {},
   "outputs": [
    {
     "name": "stdout",
     "output_type": "stream",
     "text": [
      "1\n",
      "2\n",
      "3\n",
      "4\n",
      "5\n",
      "6\n"
     ]
    }
   ],
   "source": [
    "def iteration(head):\n",
    "    temp=head\n",
    "    while temp!=None:\n",
    "        print(temp.elem)\n",
    "        temp=temp.next\n",
    "arr=np.array([1,2,3,4,5,6]) # Defining an array\n",
    "h=createList(arr) # Creating a Link List\n",
    "h1=iteration(h) # Iterating through an array --- print is already happening inside the function"
   ]
  },
  {
   "cell_type": "markdown",
   "metadata": {},
   "source": [
    "Count (finding the length of the linked list)"
   ]
  },
  {
   "cell_type": "code",
   "execution_count": 5,
   "metadata": {},
   "outputs": [
    {
     "name": "stdout",
     "output_type": "stream",
     "text": [
      "10\n"
     ]
    }
   ],
   "source": [
    "def countLinked(head):\n",
    "    count=0\n",
    "    temp=head\n",
    "    while temp!=None:\n",
    "        count+=1\n",
    "        temp=temp.next\n",
    "    return count\n",
    "arr=np.array([1,2,3,4,5,6,7,8,9,10]) # Defining an array\n",
    "h=createList(arr) # Creating a Link List\n",
    "print(countLinked(h))"
   ]
  },
  {
   "cell_type": "markdown",
   "metadata": {},
   "source": [
    "Node At"
   ]
  },
  {
   "cell_type": "code",
   "execution_count": 6,
   "metadata": {},
   "outputs": [
    {
     "name": "stdout",
     "output_type": "stream",
     "text": [
      "main linked list:\n",
      "1--->2--->3--->4--->5--->6--->7--->8--->9--->10\n",
      "\n",
      "ML of the picked node:\n",
      "<__main__.Node object at 0x00000298538C5790>\n",
      "the value of the picked node:\n",
      "4\n",
      "ML of the next node:\n",
      "<__main__.Node object at 0x00000298538C65D0>\n",
      "the value of the picked node:\n",
      "5\n"
     ]
    }
   ],
   "source": [
    "def nodeAt(head,idx):\n",
    "    count=0\n",
    "    temp=head\n",
    "    obj=None\n",
    "    while temp!=None:\n",
    "        if count==idx:\n",
    "            obj=temp\n",
    "            break\n",
    "        else:\n",
    "            count+=1\n",
    "        temp=temp.next\n",
    "    if obj==None:\n",
    "        print('Invalid index')\n",
    "    else:\n",
    "        return obj\n",
    "h3=nodeAt(h,3)\n",
    "print('main linked list:')\n",
    "printList(h)\n",
    "print('ML of the picked node:')\n",
    "print(h3)\n",
    "print('the value of the picked node:')\n",
    "print(h3.elem)\n",
    "print('ML of the next node:')\n",
    "print(h3.next)\n",
    "print('the value of the picked node:')\n",
    "print(h3.next.elem)"
   ]
  },
  {
   "cell_type": "markdown",
   "metadata": {},
   "source": [
    "Getting element of an specific index"
   ]
  },
  {
   "cell_type": "code",
   "execution_count": 7,
   "metadata": {},
   "outputs": [
    {
     "name": "stdout",
     "output_type": "stream",
     "text": [
      "the element is at index no.:\n"
     ]
    },
    {
     "data": {
      "text/plain": [
       "5"
      ]
     },
     "execution_count": 7,
     "metadata": {},
     "output_type": "execute_result"
    }
   ],
   "source": [
    "def elemAt(head,idx):\n",
    "    count=0\n",
    "    temp=head\n",
    "    while temp!=None:\n",
    "        if temp.next!=None:\n",
    "            if count==idx:\n",
    "                return temp.elem\n",
    "            temp=temp.next\n",
    "            count+=1\n",
    "        else:\n",
    "            return f'Out of range. Index {idx} is unavailable'\n",
    "    return None\n",
    "arr=np.array([1,2,3,4,5,6,7,8,9,10]) # Defining an array\n",
    "h=createList(arr) # Creating a Link List\n",
    "print('the element is at index no.:')\n",
    "elemAt(h,4)\n",
    "# elemAt(h,10)"
   ]
  },
  {
   "cell_type": "markdown",
   "metadata": {},
   "source": [
    "Setting new element of an specific index (Replacing a value)"
   ]
  },
  {
   "cell_type": "code",
   "execution_count": 8,
   "metadata": {},
   "outputs": [
    {
     "name": "stdout",
     "output_type": "stream",
     "text": [
      "Value successfully updated!\n",
      "1--->2--->3--->4--->16--->6--->7--->8--->9--->10\n",
      "\n"
     ]
    }
   ],
   "source": [
    "def setIdx(head,idx,elem):\n",
    "    count=0\n",
    "    current_node=head\n",
    "    isUpdated=False\n",
    "    while current_node!=None:\n",
    "        if count==idx:\n",
    "            current_node.elem=elem\n",
    "            isUpdated=True\n",
    "            break\n",
    "        current_node=current_node.next\n",
    "        count+=1\n",
    "    if isUpdated:\n",
    "        print('Value successfully updated!')\n",
    "    else:\n",
    "        print('Invalid index')\n",
    "arr1=np.array([1,2,3,4,5,6,7,8,9,10]) # Defining an array\n",
    "modh=createList(arr1) # Creating a Link List\n",
    "setIdx(modh,4,16)\n",
    "printList(modh)"
   ]
  },
  {
   "cell_type": "markdown",
   "metadata": {},
   "source": [
    "Getting index of an specific element (will search from the linked list)"
   ]
  },
  {
   "cell_type": "code",
   "execution_count": 12,
   "metadata": {},
   "outputs": [
    {
     "name": "stdout",
     "output_type": "stream",
     "text": [
      "There is not such element in the linked list\n",
      "3\n"
     ]
    }
   ],
   "source": [
    "def indexOf(head,elem):\n",
    "    current_node=head\n",
    "    count=0\n",
    "    while current_node!=None:\n",
    "        if current_node.elem==elem:\n",
    "            return count\n",
    "        count+=1\n",
    "        current_node=current_node.next\n",
    "    return f'There is not such element in the linked list'\n",
    "arr=np.array([10,20,53,84,75,76,97,21,90,15]) # Defining an array\n",
    "mod_h=createList(arr) # Creating a Link List\n",
    "print(indexOf(mod_h,85))\n",
    "print(indexOf(mod_h,84))\n",
    "# printList(h)"
   ]
  },
  {
   "cell_type": "markdown",
   "metadata": {},
   "source": [
    "Contains the element or not in the linked list (True or False)"
   ]
  },
  {
   "cell_type": "code",
   "execution_count": 18,
   "metadata": {},
   "outputs": [
    {
     "name": "stdout",
     "output_type": "stream",
     "text": [
      "True\n",
      "1--->2--->3--->4--->5--->6--->7--->8--->9--->10\n",
      "\n"
     ]
    }
   ],
   "source": [
    "def contains(head,elem):\n",
    "    current_node=head\n",
    "    while current_node!=None:\n",
    "        if current_node.elem==elem:\n",
    "            return True\n",
    "        current_node=current_node.next\n",
    "    return False\n",
    "arr=np.array([1,2,3,4,5,6,7,8,9,10]) # Defining an array\n",
    "h=createList(arr) # Creating a Link List\n",
    "print(contains(h,5))\n",
    "printList(h)"
   ]
  },
  {
   "cell_type": "code",
   "execution_count": 19,
   "metadata": {},
   "outputs": [
    {
     "name": "stdout",
     "output_type": "stream",
     "text": [
      "1--->2--->3--->4--->5--->6--->7--->8--->9--->10\n",
      "\n"
     ]
    }
   ],
   "source": [
    "printList(h)"
   ]
  },
  {
   "cell_type": "markdown",
   "metadata": {},
   "source": [
    "Inserting an element in the linked list"
   ]
  },
  {
   "cell_type": "code",
   "execution_count": 20,
   "metadata": {},
   "outputs": [
    {
     "name": "stdout",
     "output_type": "stream",
     "text": [
      "1--->2--->3--->4--->5--->6--->30\n",
      "\n"
     ]
    }
   ],
   "source": [
    "def insert(head,elem,idx):\n",
    "    current_node=head\n",
    "    j=0\n",
    "    while j!=idx:\n",
    "        current_node=current_node.next\n",
    "        j+=1\n",
    "    newNode=Node(elem,None)\n",
    "    current_node.next=newNode\n",
    "    return head\n",
    "h2=insert(h,30,5)\n",
    "printList(h2)"
   ]
  },
  {
   "cell_type": "code",
   "execution_count": 21,
   "metadata": {},
   "outputs": [
    {
     "name": "stdout",
     "output_type": "stream",
     "text": [
      "Value successfully updated!\n",
      "1--->2--->3--->4--->16--->6--->7--->8--->9--->10\n",
      "\n"
     ]
    }
   ],
   "source": [
    "def insert(head,idx,elem):\n",
    "    count=0\n",
    "    current_node=head\n",
    "    isUpdated=False\n",
    "    while current_node!=None:\n",
    "        if count==idx:\n",
    "            current_node.elem=elem\n",
    "            isUpdated=True\n",
    "            break\n",
    "        current_node=current_node.next\n",
    "        count+=1\n",
    "    if isUpdated:\n",
    "        print('Value successfully updated!')\n",
    "    else:\n",
    "        print('Invalid index')\n",
    "arr=np.array([1,2,3,4,5,6,7,8,9,10]) # Defining an array\n",
    "h=createList(arr) # Creating a Link List\n",
    "insert(h,4,16)\n",
    "printList(h)"
   ]
  },
  {
   "cell_type": "markdown",
   "metadata": {},
   "source": [
    "Remove an element by it's index number"
   ]
  },
  {
   "cell_type": "code",
   "execution_count": null,
   "metadata": {},
   "outputs": [],
   "source": [
    "def remove(head,idx):\n",
    "    if idx==0:\n",
    "        head=head.next\n",
    "    elif idx>1 and idx<countLinked(head):\n",
    "        n1=nodeAt"
   ]
  },
  {
   "cell_type": "markdown",
   "metadata": {},
   "source": [
    "Copy the linked list"
   ]
  },
  {
   "cell_type": "code",
   "execution_count": 34,
   "metadata": {},
   "outputs": [
    {
     "name": "stdout",
     "output_type": "stream",
     "text": [
      "main linked list:\n",
      "1--->2--->3--->4--->16--->6--->7--->8--->9--->10\n",
      "\n",
      "ML of original LL:\n",
      "<__main__.Node object at 0x000002CE3728CF80>\n",
      "Original linked list:\n",
      "1--->2--->3--->4--->16--->6--->7--->8--->9--->10\n",
      "\n",
      "Copied linked list\n",
      "ML of the copied LL:\n",
      "<__main__.Node object at 0x000002CE4E1879B0>    <---this changes\n",
      "1--->2--->3--->4--->16--->6--->7--->8--->9--->10\n",
      "\n"
     ]
    }
   ],
   "source": [
    "def copyList(source):\n",
    "    copy_head=None\n",
    "    copy_tail=None\n",
    "    current_node=source\n",
    "    while current_node!=None:\n",
    "        newNode=Node(current_node.elem,None)\n",
    "        if copy_head==None:\n",
    "            copy_head=newNode\n",
    "            copy_tail=copy_head\n",
    "        else:\n",
    "            copy_tail.next=newNode\n",
    "            copy_tail=copy_tail.next\n",
    "        current_node=current_node.next\n",
    "    return copy_head\n",
    "print('main linked list:')\n",
    "printList(h)\n",
    "print('ML of original LL:')\n",
    "print(h)\n",
    "print('Original linked list:')\n",
    "h4=copyList(h) # ---> only this line is needed for this code, other lines are for just background check\n",
    "printList(h4)\n",
    "print('Copied linked list')\n",
    "print('ML of the copied LL:')\n",
    "print(f'{h4}    <---this changes')\n",
    "printList(h4)"
   ]
  },
  {
   "cell_type": "markdown",
   "metadata": {},
   "source": [
    "--------insert--------append--------prepend--------remove--------"
   ]
  },
  {
   "cell_type": "code",
   "execution_count": 35,
   "metadata": {},
   "outputs": [
    {
     "name": "stdout",
     "output_type": "stream",
     "text": [
      "1--->2--->3--->4--->16--->6--->7--->8--->9--->10\n",
      "\n"
     ]
    }
   ],
   "source": [
    "printList(h)"
   ]
  },
  {
   "cell_type": "markdown",
   "metadata": {},
   "source": [
    "Insert"
   ]
  },
  {
   "cell_type": "code",
   "execution_count": 39,
   "metadata": {},
   "outputs": [],
   "source": [
    "def insert(head,idx,elem):\n",
    "    count=0\n",
    "    temp=head\n",
    "    while count!=idx:\n",
    "        temp=temp.next\n",
    "        count+=1\n",
    "    newNode=Node(elem,None)\n",
    "    newNode=newNode.next\n",
    "    temp.next=newNode\n",
    "    return head\n",
    "printList(insert(h,4,25))"
   ]
  },
  {
   "cell_type": "code",
   "execution_count": 26,
   "metadata": {},
   "outputs": [
    {
     "name": "stdout",
     "output_type": "stream",
     "text": [
      "main list:\n",
      "1--->2--->3--->4--->5--->6\n",
      "\n"
     ]
    }
   ],
   "source": [
    "def insert(head,idx,elem):\n",
    "    total_nodes=countLinked(head)\n",
    "    if idx==0:\n",
    "        n=Node(elem,head)\n",
    "        head=n\n",
    "    elif idx>1 and idx<total_nodes:\n",
    "        n=Node(elem,head)\n",
    "        n1=nodeAt(head,idx-1)\n",
    "        n2=nodeAt(head,idx)\n",
    "        n.next=n2\n",
    "        n1.next=n\n",
    "    elif idx==total_nodes:\n",
    "        n=Node(elem,None)\n",
    "        n1.nodeAt(head,total_nodes-1)\n",
    "        n1.next=n\n",
    "    else:\n",
    "        print('Invalid Index')\n",
    "    return head\n",
    "print('main list:')\n",
    "printList(h)\n",
    "# # v=insert(h,4,105)\n",
    "# v=insert(h,9,2090)\n",
    "# printList(v)"
   ]
  },
  {
   "cell_type": "markdown",
   "metadata": {},
   "source": [
    "Reverse"
   ]
  },
  {
   "cell_type": "markdown",
   "metadata": {},
   "source": [
    "reverse out-of-place"
   ]
  },
  {
   "cell_type": "code",
   "execution_count": 27,
   "metadata": {},
   "outputs": [
    {
     "name": "stdout",
     "output_type": "stream",
     "text": [
      "6--->5--->4--->3--->2--->1\n",
      "\n"
     ]
    }
   ],
   "source": [
    "def reverse_out_of_place(head):\n",
    "  new_head = Node(head.elem, None)\n",
    "  temp = head.next\n",
    "  while temp != None:\n",
    "    n = Node(temp.elem, new_head)\n",
    "    new_head = n\n",
    "    temp = temp.next\n",
    "  return new_head\n",
    "v=reverse_out_of_place(h)\n",
    "printList(v)"
   ]
  }
 ],
 "metadata": {
  "kernelspec": {
   "display_name": "Python 3",
   "language": "python",
   "name": "python3"
  },
  "language_info": {
   "codemirror_mode": {
    "name": "ipython",
    "version": 3
   },
   "file_extension": ".py",
   "mimetype": "text/x-python",
   "name": "python",
   "nbconvert_exporter": "python",
   "pygments_lexer": "ipython3",
   "version": "3.12.3"
  }
 },
 "nbformat": 4,
 "nbformat_minor": 2
}
