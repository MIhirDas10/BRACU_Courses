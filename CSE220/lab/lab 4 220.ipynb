{
  "cells": [
    {
      "cell_type": "code",
      "execution_count": 1,
      "metadata": {
        "colab": {
          "base_uri": "https://localhost:8080/"
        },
        "id": "Pp1R95Pe7ID2",
        "outputId": "a93c5bd0-eb3b-41de-b27e-f9fe8a6dc89c"
      },
      "outputs": [
        {
          "name": "stdout",
          "output_type": "stream",
          "text": [
            "Defaulting to user installation because normal site-packages is not writeable\n",
            "Requirement already satisfied: fhm-unittest in c:\\users\\hp\\appdata\\local\\packages\\pythonsoftwarefoundation.python.3.12_qbz5n2kfra8p0\\localcache\\local-packages\\python312\\site-packages (1.0.1)\n"
          ]
        },
        {
          "name": "stderr",
          "output_type": "stream",
          "text": [
            "\n",
            "[notice] A new release of pip is available: 23.3.2 -> 24.0\n",
            "[notice] To update, run: C:\\Users\\Hp\\AppData\\Local\\Microsoft\\WindowsApps\\PythonSoftwareFoundation.Python.3.12_qbz5n2kfra8p0\\python.exe -m pip install --upgrade pip\n"
          ]
        },
        {
          "name": "stdout",
          "output_type": "stream",
          "text": [
            "Defaulting to user installation because normal site-packages is not writeable\n",
            "Requirement already satisfied: fuzzywuzzy in c:\\users\\hp\\appdata\\local\\packages\\pythonsoftwarefoundation.python.3.12_qbz5n2kfra8p0\\localcache\\local-packages\\python312\\site-packages (0.18.0)\n"
          ]
        },
        {
          "name": "stderr",
          "output_type": "stream",
          "text": [
            "\n",
            "[notice] A new release of pip is available: 23.3.2 -> 24.0\n",
            "[notice] To update, run: C:\\Users\\Hp\\AppData\\Local\\Microsoft\\WindowsApps\\PythonSoftwareFoundation.Python.3.12_qbz5n2kfra8p0\\python.exe -m pip install --upgrade pip\n",
            "C:\\Users\\Hp\\AppData\\Local\\Packages\\PythonSoftwareFoundation.Python.3.12_qbz5n2kfra8p0\\LocalCache\\local-packages\\Python312\\site-packages\\fuzzywuzzy\\fuzz.py:11: UserWarning: Using slow pure-python SequenceMatcher. Install python-Levenshtein to remove this warning\n",
            "  warnings.warn('Using slow pure-python SequenceMatcher. Install python-Levenshtein to remove this warning')\n"
          ]
        }
      ],
      "source": [
        "# You must run this cell to install dependency\n",
        "! pip3 install fhm-unittest\n",
        "! pip3 install fuzzywuzzy\n",
        "import fhm_unittest as unittest\n",
        "import numpy as np"
      ]
    },
    {
      "cell_type": "markdown",
      "metadata": {
        "id": "A1zD8GyBKEdA"
      },
      "source": [
        "**Assignment Part 1: Doubly Linked List**"
      ]
    },
    {
      "cell_type": "markdown",
      "metadata": {
        "id": "z4q4a-vSNoII"
      },
      "source": [
        "For Assignment Part 1, you should write your full code in the following cells along with your driver codes on your own."
      ]
    },
    {
      "cell_type": "code",
      "execution_count": 2,
      "metadata": {
        "id": "itoWpG7oNziA"
      },
      "outputs": [],
      "source": [
        "#Assignment Part 1\n",
        "class Patient:\n",
        "  #write a constructor\n",
        "  def __init__(self,id,name,age,bloodgroup,prev=None,next=None):\n",
        "    self.id=id\n",
        "    self.name=name\n",
        "    self.age=age\n",
        "    self.bloodgroup=bloodgroup\n",
        "    self.prev=prev\n",
        "    self.next=next"
      ]
    },
    {
      "cell_type": "code",
      "execution_count": 3,
      "metadata": {
        "id": "dNx7zTJ1OZNv"
      },
      "outputs": [],
      "source": [
        "class WRM:\n",
        "    def __init__(self):\n",
        "        self.dummy_head=Patient(None, None, None, None)\n",
        "        self.dummy_head.next=self.dummy_head\n",
        "        self.dummy_head.prev=self.dummy_head\n",
        "        self.tail=self.dummy_head\n",
        "\n",
        "    def registerPatient(self,id,name,age,bloodgroup):\n",
        "        new_patient=Patient(id,name,age,bloodgroup,self.tail,self.dummy_head)\n",
        "        self.tail.next=new_patient\n",
        "        self.dummy_head.prev=new_patient\n",
        "        self.tail=new_patient\n",
        "\n",
        "    def servePatient(self):\n",
        "        if self.dummy_head.next==self.dummy_head:\n",
        "            print(\"No patients to serve.\")\n",
        "        else:\n",
        "          serving_patient=self.dummy_head.next\n",
        "          self.dummy_head.next=serving_patient.next\n",
        "          serving_patient.next.prev=self.dummy_head\n",
        "          print(f'Serving patient: {serving_patient.name}')\n",
        "\n",
        "    def showAllPatient(self):\n",
        "        temp=self.dummy_head.next\n",
        "        while temp!=self.dummy_head:\n",
        "            print(f'Patient ID: {temp.id} Name: {temp.name} Bloodgroup: {temp.bloodgroup}')\n",
        "            temp = temp.next\n",
        "\n",
        "    def canDoctorGoHome(self):\n",
        "        if self.dummy_head.next==self.dummy_head:\n",
        "            print('Yes, doctor can go home.')\n",
        "        else:\n",
        "            print('No, doctor cannot go home.')\n",
        "\n",
        "    def cancelAll(self):\n",
        "        self.dummy_head.next=self.dummy_head\n",
        "        self.dummy_head.prev=self.dummy_head\n",
        "        print('All appointments canceled.')\n",
        "\n",
        "    def ReverseTheLine(self):\n",
        "        temp=self.dummy_head.next\n",
        "        self.dummy_head.prev=self.dummy_head.next\n",
        "        while temp!=self.dummy_head:\n",
        "            t=temp\n",
        "            temp=temp.next\n",
        "            next=t.next\n",
        "            prev=t.prev\n",
        "            t.next=prev\n",
        "            t.prev=next\n",
        "        self.dummy_head.next=t\n",
        "        print('Reverse successfull!')"
      ]
    },
    {
      "cell_type": "code",
      "execution_count": 6,
      "metadata": {
        "colab": {
          "base_uri": "https://localhost:8080/"
        },
        "id": "jKhbn1LAPfjr",
        "outputId": "e592eef4-fe86-41c6-c9c6-c71092213326"
      },
      "outputs": [
        {
          "name": "stdout",
          "output_type": "stream",
          "text": [
            "**Welcome to Waiting Room Management System**\n",
            "\n",
            "Options:\n",
            "1. Add Patient\n",
            "2. Serve Patient\n",
            "3. Show All patients\n",
            "4. Can Doctor go Home?\n",
            "5. Cancel all Appointment\n",
            "6. Reverse The Line\n",
            "7. Exit\n",
            "Patient added successfully.\n",
            "\n",
            "Options:\n",
            "1. Add Patient\n",
            "2. Serve Patient\n",
            "3. Show All patients\n",
            "4. Can Doctor go Home?\n",
            "5. Cancel all Appointment\n",
            "6. Reverse The Line\n",
            "7. Exit\n",
            "Patient added successfully.\n",
            "\n",
            "Options:\n",
            "1. Add Patient\n",
            "2. Serve Patient\n",
            "3. Show All patients\n",
            "4. Can Doctor go Home?\n",
            "5. Cancel all Appointment\n",
            "6. Reverse The Line\n",
            "7. Exit\n",
            "Patient added successfully.\n",
            "\n",
            "Options:\n",
            "1. Add Patient\n",
            "2. Serve Patient\n",
            "3. Show All patients\n",
            "4. Can Doctor go Home?\n",
            "5. Cancel all Appointment\n",
            "6. Reverse The Line\n",
            "7. Exit\n",
            "Patient added successfully.\n",
            "\n",
            "Options:\n",
            "1. Add Patient\n",
            "2. Serve Patient\n",
            "3. Show All patients\n",
            "4. Can Doctor go Home?\n",
            "5. Cancel all Appointment\n",
            "6. Reverse The Line\n",
            "7. Exit\n",
            "Patient ID: 1 Name: John Bloodgroup: B+\n",
            "Patient ID: 2 Name: Ross Bloodgroup: AB+\n",
            "Patient ID: 3 Name: Sheldon Bloodgroup: A+\n",
            "Patient ID: 4 Name: Peter Bloodgroup: B+\n",
            "\n",
            "Options:\n",
            "1. Add Patient\n",
            "2. Serve Patient\n",
            "3. Show All patients\n",
            "4. Can Doctor go Home?\n",
            "5. Cancel all Appointment\n",
            "6. Reverse The Line\n",
            "7. Exit\n",
            "Reverse successfull!\n",
            "\n",
            "Options:\n",
            "1. Add Patient\n",
            "2. Serve Patient\n",
            "3. Show All patients\n",
            "4. Can Doctor go Home?\n",
            "5. Cancel all Appointment\n",
            "6. Reverse The Line\n",
            "7. Exit\n",
            "Patient ID: 4 Name: Peter Bloodgroup: B+\n",
            "Patient ID: 3 Name: Sheldon Bloodgroup: A+\n",
            "Patient ID: 2 Name: Ross Bloodgroup: AB+\n",
            "Patient ID: 1 Name: John Bloodgroup: B+\n",
            "\n",
            "Options:\n",
            "1. Add Patient\n",
            "2. Serve Patient\n",
            "3. Show All patients\n",
            "4. Can Doctor go Home?\n",
            "5. Cancel all Appointment\n",
            "6. Reverse The Line\n",
            "7. Exit\n",
            "Reverse successfull!\n",
            "\n",
            "Options:\n",
            "1. Add Patient\n",
            "2. Serve Patient\n",
            "3. Show All patients\n",
            "4. Can Doctor go Home?\n",
            "5. Cancel all Appointment\n",
            "6. Reverse The Line\n",
            "7. Exit\n",
            "Patient ID: 1 Name: John Bloodgroup: B+\n",
            "Patient ID: 2 Name: Ross Bloodgroup: AB+\n",
            "Patient ID: 3 Name: Sheldon Bloodgroup: A+\n",
            "Patient ID: 4 Name: Peter Bloodgroup: B+\n",
            "\n",
            "Options:\n",
            "1. Add Patient\n",
            "2. Serve Patient\n",
            "3. Show All patients\n",
            "4. Can Doctor go Home?\n",
            "5. Cancel all Appointment\n",
            "6. Reverse The Line\n",
            "7. Exit\n",
            "No, doctor cannot go home.\n",
            "\n",
            "Options:\n",
            "1. Add Patient\n",
            "2. Serve Patient\n",
            "3. Show All patients\n",
            "4. Can Doctor go Home?\n",
            "5. Cancel all Appointment\n",
            "6. Reverse The Line\n",
            "7. Exit\n",
            "Serving patient: John\n",
            "\n",
            "Options:\n",
            "1. Add Patient\n",
            "2. Serve Patient\n",
            "3. Show All patients\n",
            "4. Can Doctor go Home?\n",
            "5. Cancel all Appointment\n",
            "6. Reverse The Line\n",
            "7. Exit\n",
            "Serving patient: Ross\n",
            "\n",
            "Options:\n",
            "1. Add Patient\n",
            "2. Serve Patient\n",
            "3. Show All patients\n",
            "4. Can Doctor go Home?\n",
            "5. Cancel all Appointment\n",
            "6. Reverse The Line\n",
            "7. Exit\n",
            "All appointments canceled.\n",
            "\n",
            "Options:\n",
            "1. Add Patient\n",
            "2. Serve Patient\n",
            "3. Show All patients\n",
            "4. Can Doctor go Home?\n",
            "5. Cancel all Appointment\n",
            "6. Reverse The Line\n",
            "7. Exit\n",
            "Yes, doctor can go home.\n",
            "\n",
            "Options:\n",
            "1. Add Patient\n",
            "2. Serve Patient\n",
            "3. Show All patients\n",
            "4. Can Doctor go Home?\n",
            "5. Cancel all Appointment\n",
            "6. Reverse The Line\n",
            "7. Exit\n",
            "Exiting the system. Goodbye!\n"
          ]
        }
      ],
      "source": [
        "#Write a Tester Code in this cell\n",
        "print(\"**Welcome to Waiting Room Management System**\")\n",
        "wrm = WRM()\n",
        "end_of_program = False\n",
        "while not end_of_program:\n",
        "    print(\"\\nOptions:\")\n",
        "    print(\"1. Add Patient\")\n",
        "    print(\"2. Serve Patient\")\n",
        "    print(\"3. Show All patients\")\n",
        "    print(\"4. Can Doctor go Home?\")\n",
        "    print(\"5. Cancel all Appointment\")\n",
        "    print(\"6. Reverse The Line\")\n",
        "    print(\"7. Exit\")\n",
        "    choice = int(input(\"Enter your choice: \"))\n",
        "# input wise calling the functions\n",
        "    if choice == 1:\n",
        "        id = int(input(\"Enter patient ID: \"))\n",
        "        name = input(\"Enter patient name: \")\n",
        "        age = int(input(\"Enter patient age: \"))\n",
        "        bloodgroup = input(\"Enter patient blood group: \")\n",
        "        wrm.registerPatient(id, name, age, bloodgroup)\n",
        "        print(\"Patient added successfully.\")\n",
        "    elif choice == 2:\n",
        "        wrm.servePatient()\n",
        "    elif choice == 3:\n",
        "        wrm.showAllPatient()\n",
        "    elif choice == 4:\n",
        "        wrm.canDoctorGoHome()\n",
        "    elif choice == 5:\n",
        "        wrm.cancelAll()\n",
        "    elif choice == 6:\n",
        "        wrm.ReverseTheLine()\n",
        "    elif choice == 7:\n",
        "        print(\"Exiting the system. Goodbye!\")\n",
        "        end_of_program = True\n",
        "    else:\n",
        "        print(\"Invalid choice. Please try again.\")\n"
      ]
    },
    {
      "cell_type": "markdown",
      "metadata": {
        "id": "CJWd_j6YEnPn"
      },
      "source": [
        "**Assignment Part 2: Stack**\n",
        "\n",
        "Linked List based Stack is implemented in the following cell."
      ]
    },
    {
      "cell_type": "code",
      "execution_count": 8,
      "metadata": {
        "id": "KHLhs5x0D-O6"
      },
      "outputs": [],
      "source": [
        "class Node:\n",
        "  def __init__(self,elem=None,next=None):\n",
        "    self.elem = elem\n",
        "    self.next = next\n",
        "\n",
        "class Stack:\n",
        "  def __init__(self):\n",
        "    self.__top = None\n",
        "\n",
        "  def push(self,elem):\n",
        "    nn = Node(elem,self.__top)\n",
        "    self.__top = nn\n",
        "\n",
        "  def pop(self):\n",
        "    if self.__top == None:\n",
        "      #print('Stack Underflow')\n",
        "      return None\n",
        "    e = self.__top\n",
        "    self.__top = self.__top.next\n",
        "    return e.elem\n",
        "\n",
        "  def peek(self):\n",
        "    if self.__top == None:\n",
        "      #print('Stack Underflow')\n",
        "      return None\n",
        "    return self.__top.elem\n",
        "\n",
        "  def isEmpty(self):\n",
        "    return self.__top == None\n"
      ]
    },
    {
      "cell_type": "code",
      "execution_count": 9,
      "metadata": {
        "id": "4XkuMA7gEjE7"
      },
      "outputs": [],
      "source": [
        "#You can run this driver code cell to understand the methods of Stack class\n",
        "st = Stack()\n",
        "st.push(4)\n",
        "st.push(3)\n",
        "st.push(5)\n",
        "st.push(1)\n",
        "st.push(9)\n",
        "\n",
        "# print('Peeked Element: ',st.peek())\n",
        "# print('Popped Element: ',st.pop())\n",
        "# print('Popped Element: ',st.pop())\n",
        "# print('Popped Element: ',st.pop())\n",
        "# print('Peeked Element: ',st.peek())\n",
        "# print('Popped Element: ',st.pop())\n",
        "# print('Popped Element: ',st.pop())\n",
        "# print('Peeked Element: ',st.peek())\n",
        "# print('Popped Element: ',st.pop())\n",
        "# print(st.isEmpty())"
      ]
    },
    {
      "cell_type": "markdown",
      "metadata": {
        "id": "xrfONLccG9Gi"
      },
      "source": [
        "You can print your stack using this code segment"
      ]
    },
    {
      "cell_type": "code",
      "execution_count": 10,
      "metadata": {
        "id": "S-EembO_GsWA"
      },
      "outputs": [],
      "source": [
        "def print_stack(st):\n",
        "  if st.isEmpty():\n",
        "    return\n",
        "  p = st.pop()\n",
        "  print('|',p,end=' ')\n",
        "  if p<10:\n",
        "    print(' |')\n",
        "  else:\n",
        "    print('|')\n",
        "  #print('------')\n",
        "  print_stack(st)\n",
        "  st.push(p)\n",
        "\n",
        "# st = Stack()\n",
        "# st.push(4)\n",
        "# st.push(3)\n",
        "# st.push(5)\n",
        "# st.push(1)\n",
        "# st.push(9)\n",
        "# print_stack(st)\n",
        "# print('------')"
      ]
    },
    {
      "cell_type": "markdown",
      "metadata": {
        "id": "iNMnfqqpIga2"
      },
      "source": [
        "Task 1: Diamond Count"
      ]
    },
    {
      "cell_type": "code",
      "execution_count": 11,
      "metadata": {
        "colab": {
          "base_uri": "https://localhost:8080/"
        },
        "id": "GnX70OIvG_gZ",
        "outputId": "3204bfeb-93ca-4a6d-e676-91bd8de06e60"
      },
      "outputs": [
        {
          "name": "stdout",
          "output_type": "stream",
          "text": [
            "Test 01\n",
            "Number of Diamonds: 3\n",
            "Accepted\n",
            "-----------------------------------------\n",
            "Test 02\n",
            "Number of Diamonds: 1\n",
            "Accepted\n",
            "-----------------------------------------\n",
            "Test 03\n",
            "Number of Diamonds: 3\n",
            "Accepted\n",
            "-----------------------------------------\n"
          ]
        }
      ],
      "source": [
        "def diamond_count(stack,string):\n",
        "  #TO DO\n",
        "  count=0\n",
        "  for i in range(len(string)):\n",
        "    if string[i]=='<':\n",
        "      stack.push('<')\n",
        "    elif string[i]=='>' and stack.peek()=='<':        # in occassions like '><' if the next value is > and the peek value is <\n",
        "      stack.pop()\n",
        "      count+=1\n",
        "  return count\n",
        "\n",
        "\n",
        "print('Test 01')\n",
        "stack = Stack()\n",
        "string = '<..><.<..>> '\n",
        "returned_value = diamond_count(stack,string)\n",
        "print(f'Number of Diamonds: {returned_value}') #This should print 3\n",
        "unittest.output_test(returned_value, 3)\n",
        "print('-----------------------------------------')\n",
        "\n",
        "\n",
        "print('Test 02')\n",
        "stack = Stack()\n",
        "string = '<<<..<......<<<<....>'\n",
        "returned_value = diamond_count(stack,string)\n",
        "print(f'Number of Diamonds: {returned_value}') #This should print 1\n",
        "unittest.output_test(returned_value, 1)\n",
        "print('-----------------------------------------')\n",
        "\n",
        "\n",
        "print('Test 03')\n",
        "stack = Stack()\n",
        "string = '>>><...<<..>>...>...>>>'\n",
        "returned_value = diamond_count(stack,string)\n",
        "print(f'Number of Diamonds: {returned_value}') #This should print 3\n",
        "unittest.output_test(returned_value, 3)\n",
        "print('-----------------------------------------')"
      ]
    },
    {
      "cell_type": "markdown",
      "metadata": {
        "id": "PhCF3SZ6IX5g"
      },
      "source": [
        "Task 2: Tower of Blocks"
      ]
    },
    {
      "cell_type": "code",
      "execution_count": 12,
      "metadata": {
        "colab": {
          "base_uri": "https://localhost:8080/"
        },
        "id": "W3N4q7YAHExr",
        "outputId": "976d6367-7594-42a0-95c2-e054451006a6"
      },
      "outputs": [
        {
          "name": "stdout",
          "output_type": "stream",
          "text": [
            "Test 01\n",
            "Stack:\n",
            "| 5  |\n",
            "| 17 |\n",
            "| 23 |\n",
            "| 19 |\n",
            "| 4  |\n",
            "------\n",
            "After Removal\n",
            "| 5  |\n",
            "| 23 |\n",
            "| 19 |\n",
            "| 4  |\n",
            "------\n",
            "\n",
            "======================================\n",
            "\n",
            "Test 02\n",
            "Stack:\n",
            "| 41 |\n",
            "| 15 |\n",
            "| 85 |\n",
            "| 73 |\n",
            "------\n",
            "After Removal\n",
            "| 41 |\n",
            "| 15 |\n",
            "| 73 |\n",
            "------\n",
            "\n",
            "======================================\n",
            "\n"
          ]
        }
      ],
      "source": [
        "def remove_block(stack, n):\n",
        "  #TO DO\n",
        "  temp_stack=Stack()         # created a temporary stack\n",
        "  count=0\n",
        "  while n!=count:\n",
        "    h=st.pop()\n",
        "    count+=1\n",
        "    temp_stack.push(h)\n",
        "  temp_stack.pop()\n",
        "  while temp_stack.isEmpty() is not True:\n",
        "    m=temp_stack.pop()\n",
        "    st.push(m)\n",
        "\n",
        "print('Test 01')\n",
        "st = Stack()\n",
        "st.push(4)\n",
        "st.push(19)\n",
        "st.push(23)\n",
        "st.push(17)\n",
        "st.push(5)\n",
        "print('Stack:')\n",
        "print_stack(st)\n",
        "print('------')\n",
        "remove_block(st,2)\n",
        "print('After Removal')\n",
        "print_stack(st)\n",
        "print('------')\n",
        "\n",
        "print()\n",
        "print('======================================')\n",
        "print()\n",
        "st = Stack()\n",
        "print('Test 02')\n",
        "\n",
        "st.push(73)\n",
        "st.push(85)\n",
        "st.push(15)\n",
        "st.push(41)\n",
        "print('Stack:')\n",
        "print_stack(st)\n",
        "print('------')\n",
        "remove_block(st,3)\n",
        "print('After Removal')\n",
        "print_stack(st)\n",
        "print('------')\n",
        "\n",
        "print()\n",
        "print('======================================')\n",
        "print()"
      ]
    },
    {
      "cell_type": "markdown",
      "metadata": {
        "id": "jcngRuqUWOfl"
      },
      "source": [
        "Task 3: Stack Reverse"
      ]
    },
    {
      "cell_type": "code",
      "execution_count": 13,
      "metadata": {
        "colab": {
          "base_uri": "https://localhost:8080/"
        },
        "id": "gLSgfDKPWPnP",
        "outputId": "f2e71d1e-729a-4af8-b77e-002d0ab05466"
      },
      "outputs": [
        {
          "name": "stdout",
          "output_type": "stream",
          "text": [
            "Test 01\n",
            "Stack:\n",
            "| 50 |\n",
            "| 10 |\n",
            "| 30 |\n",
            "| 20 |\n",
            "| 20 |\n",
            "| 10 |\n",
            "| 10 |\n",
            "------\n",
            "Conditional Reversed Stack:\n",
            "| 10 |\n",
            "| 20 |\n",
            "| 30 |\n",
            "| 10 |\n",
            "| 50 |\n",
            "------\n"
          ]
        }
      ],
      "source": [
        "def conditional_reverse(stack):\n",
        "  #To Do\n",
        "  temp_stack=Stack()\n",
        "  while st.isEmpty() is not True:\n",
        "    current=st.pop()\n",
        "    top=temp_stack.peek()\n",
        "    if current!=top:\n",
        "      temp_stack.push(current)\n",
        "  return temp_stack\n",
        "\n",
        "print('Test 01')\n",
        "st=Stack()\n",
        "st.push(10)\n",
        "st.push(10)\n",
        "st.push(20)\n",
        "st.push(20)\n",
        "st.push(30)\n",
        "st.push(10)\n",
        "st.push(50)\n",
        "print('Stack:')\n",
        "print_stack(st)\n",
        "print('------')\n",
        "reversed_stack=conditional_reverse(st)\n",
        "print('Conditional Reversed Stack:')\n",
        "print_stack(reversed_stack) # This stack contains 50, 10, 30, 20, 10 in this order whereas top element should be 10\n",
        "print('------')"
      ]
    }
  ],
  "metadata": {
    "colab": {
      "provenance": []
    },
    "kernelspec": {
      "display_name": "Python 3",
      "name": "python3"
    },
    "language_info": {
      "codemirror_mode": {
        "name": "ipython",
        "version": 3
      },
      "file_extension": ".py",
      "mimetype": "text/x-python",
      "name": "python",
      "nbconvert_exporter": "python",
      "pygments_lexer": "ipython3",
      "version": "3.12.2"
    }
  },
  "nbformat": 4,
  "nbformat_minor": 0
}
