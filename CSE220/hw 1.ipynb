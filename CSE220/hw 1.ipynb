{
 "cells": [
  {
   "cell_type": "markdown",
   "metadata": {},
   "source": [
    "1. create a DHDCLL from an array (student id)\n",
    "2. search --- input -> id | output -> index\n",
    "3. insert\n",
    "4. delete\n",
    "5. print the LL"
   ]
  },
  {
   "cell_type": "code",
   "execution_count": 2,
   "metadata": {},
   "outputs": [
    {
     "name": "stdout",
     "output_type": "stream",
     "text": [
      "Defaulting to user installation because normal site-packages is not writeable\n",
      "Requirement already satisfied: fhm-unittest in c:\\users\\hp\\appdata\\local\\packages\\pythonsoftwarefoundation.python.3.12_qbz5n2kfra8p0\\localcache\\local-packages\\python312\\site-packages (1.0.1)\n"
     ]
    },
    {
     "name": "stderr",
     "output_type": "stream",
     "text": [
      "\n",
      "[notice] A new release of pip is available: 23.3.2 -> 24.0\n",
      "[notice] To update, run: C:\\Users\\Hp\\AppData\\Local\\Microsoft\\WindowsApps\\PythonSoftwareFoundation.Python.3.12_qbz5n2kfra8p0\\python.exe -m pip install --upgrade pip\n"
     ]
    },
    {
     "name": "stdout",
     "output_type": "stream",
     "text": [
      "Defaulting to user installation because normal site-packages is not writeable\n",
      "Requirement already satisfied: fuzzywuzzy in c:\\users\\hp\\appdata\\local\\packages\\pythonsoftwarefoundation.python.3.12_qbz5n2kfra8p0\\localcache\\local-packages\\python312\\site-packages (0.18.0)\n"
     ]
    },
    {
     "name": "stderr",
     "output_type": "stream",
     "text": [
      "\n",
      "[notice] A new release of pip is available: 23.3.2 -> 24.0\n",
      "[notice] To update, run: C:\\Users\\Hp\\AppData\\Local\\Microsoft\\WindowsApps\\PythonSoftwareFoundation.Python.3.12_qbz5n2kfra8p0\\python.exe -m pip install --upgrade pip\n",
      "C:\\Users\\Hp\\AppData\\Local\\Packages\\PythonSoftwareFoundation.Python.3.12_qbz5n2kfra8p0\\LocalCache\\local-packages\\Python312\\site-packages\\fuzzywuzzy\\fuzz.py:11: UserWarning: Using slow pure-python SequenceMatcher. Install python-Levenshtein to remove this warning\n",
      "  warnings.warn('Using slow pure-python SequenceMatcher. Install python-Levenshtein to remove this warning')\n"
     ]
    }
   ],
   "source": [
    "! pip3 install fhm-unittest\n",
    "! pip3 install fuzzywuzzy\n",
    "import fhm_unittest as unittest\n",
    "import numpy as np"
   ]
  },
  {
   "cell_type": "code",
   "execution_count": 3,
   "metadata": {},
   "outputs": [],
   "source": [
    "class DoublyNode:\n",
    "  def __init__(self, elem, next, prev):\n",
    "    self.elem = elem\n",
    "    self.next = next\n",
    "    self.prev = prev"
   ]
  },
  {
   "cell_type": "code",
   "execution_count": 4,
   "metadata": {},
   "outputs": [],
   "source": [
    "def create_DC_List(arr):\n",
    "  dh = DoublyNode(None, None, None)\n",
    "  dh.next = dh\n",
    "  dh.prev = dh\n",
    "  tail = dh\n",
    "\n",
    "  for i in range(len(arr)):\n",
    "    n = DoublyNode(arr[i], dh, tail)\n",
    "    tail.next = n\n",
    "    tail = tail.next\n",
    "    dh.prev = tail\n",
    "  return dh\n",
    "h=create_DC_List(np.array([1,2,3,4,5]))\n"
   ]
  },
  {
   "cell_type": "code",
   "execution_count": 5,
   "metadata": {},
   "outputs": [
    {
     "name": "stdout",
     "output_type": "stream",
     "text": [
      "1-->2-->3-->4-->5\n",
      "\n"
     ]
    }
   ],
   "source": [
    "def print_DHSC_list(dh):\n",
    "  temp = dh.next\n",
    "  while temp != dh:\n",
    "    if temp.next != dh:\n",
    "      print(temp.elem, end = '-->')\n",
    "    else:\n",
    "      print(temp.elem)\n",
    "    temp = temp.next\n",
    "  print()\n",
    "print_DHSC_list(h)"
   ]
  },
  {
   "cell_type": "code",
   "execution_count": 6,
   "metadata": {},
   "outputs": [
    {
     "name": "stdout",
     "output_type": "stream",
     "text": [
      "The element is in 4th index\n"
     ]
    }
   ],
   "source": [
    "def search(head,elem):\n",
    "    temp=head.next\n",
    "    count=0\n",
    "    while temp!=head:\n",
    "        if temp.elem==elem:\n",
    "            return count\n",
    "        count+=1\n",
    "        temp=temp.next\n",
    "    return 'no such value'\n",
    "print(f'The element is in {search(h,5)}th index')"
   ]
  },
  {
   "cell_type": "code",
   "execution_count": 14,
   "metadata": {},
   "outputs": [],
   "source": [
    "def nodeAt(dh, idx):\n",
    "  temp = dh.next\n",
    "  c = 0\n",
    "  while temp != dh:\n",
    "    if c == idx:\n",
    "      return temp\n",
    "    c += 1\n",
    "    temp = temp.next\n",
    "  return None # Invalid Index"
   ]
  },
  {
   "cell_type": "code",
   "execution_count": 15,
   "metadata": {},
   "outputs": [
    {
     "name": "stdout",
     "output_type": "stream",
     "text": [
      "1-->2-->3-->4-->5\n",
      "\n",
      "1-->2-->3-->105-->4-->5\n",
      "\n",
      "1-->2-->3-->105-->4-->500-->5\n",
      "\n"
     ]
    }
   ],
   "source": [
    "def insert(dh, elem, idx):\n",
    "    # Assuming the idx is valid\n",
    "    node_to_insert = DoublyNode(elem, None, None)\n",
    "    indexed_node = nodeAt(dh, idx)  # finding out the node at that index\n",
    "    prev_node = indexed_node.prev  # previous node\n",
    "\n",
    "    node_to_insert.next = indexed_node\n",
    "    node_to_insert.prev = prev_node\n",
    "    prev_node.next = node_to_insert\n",
    "    indexed_node.prev = node_to_insert\n",
    "    return dh\n",
    "\n",
    "h = create_DC_List([1, 2, 3, 4, 5])\n",
    "print_DHSC_list(h)\n",
    "updated_head = insert(h, 105, 3)\n",
    "print_DHSC_list(updated_head)\n",
    "updated_head = insert(h, 500, 5)\n",
    "print_DHSC_list(updated_head)"
   ]
  },
  {
   "cell_type": "code",
   "execution_count": 16,
   "metadata": {},
   "outputs": [
    {
     "name": "stdout",
     "output_type": "stream",
     "text": [
      "1-->2-->3-->4-->5\n",
      "\n",
      "1-->2-->4-->5\n",
      "\n"
     ]
    }
   ],
   "source": [
    "def delete(dh, idx):\n",
    "    node_to_remove = nodeAt(dh, idx)\n",
    "    if node_to_remove is None:  # Check if the node to remove exists\n",
    "        print(\"Invalid index\")\n",
    "        return dh  # Return the original head node to handle error\n",
    "\n",
    "    prev_node = node_to_remove.prev\n",
    "    next_node = node_to_remove.next\n",
    "\n",
    "    prev_node.next = next_node\n",
    "    next_node.prev = prev_node\n",
    "    return dh # Return the updated head node\n",
    "\n",
    "h = create_DC_List([1, 2, 3, 4, 5])\n",
    "print_DHSC_list(h)\n",
    "updated_head = delete(h, 2)\n",
    "print_DHSC_list(updated_head)"
   ]
  },
  {
   "cell_type": "code",
   "execution_count": 17,
   "metadata": {},
   "outputs": [
    {
     "name": "stdout",
     "output_type": "stream",
     "text": [
      "The main Doubly Circular LL:\n",
      "1-->2-->4-->5\n",
      "\n"
     ]
    }
   ],
   "source": [
    "print('The main Doubly Circular LL:')\n",
    "print_DHSC_list(h)"
   ]
  }
 ],
 "metadata": {
  "kernelspec": {
   "display_name": "Python 3",
   "language": "python",
   "name": "python3"
  },
  "language_info": {
   "codemirror_mode": {
    "name": "ipython",
    "version": 3
   },
   "file_extension": ".py",
   "mimetype": "text/x-python",
   "name": "python",
   "nbconvert_exporter": "python",
   "pygments_lexer": "ipython3",
   "version": "3.12.2"
  }
 },
 "nbformat": 4,
 "nbformat_minor": 2
}
