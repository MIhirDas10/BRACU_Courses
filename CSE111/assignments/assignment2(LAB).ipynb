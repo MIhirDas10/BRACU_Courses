{
 "cells": [
  {
   "cell_type": "code",
   "execution_count": 59,
   "metadata": {},
   "outputs": [
    {
     "name": "stdout",
     "output_type": "stream",
     "text": [
      "My favourite animal is a dog. A dog has sharp teeth so that it can eat flesh very easily. Do you know my pet dog’s name? I love my pet very much\n"
     ]
    }
   ],
   "source": [
    "# task6 ----- CLASSWORK\n",
    "def make_capital(str1):\n",
    "    res = \"\"\n",
    "    if 'a' <= str1[0] <= 'z':\n",
    "        res += chr(ord(str1[0]) - 32)  # Convert the first character to uppercase\n",
    "    c = len(str1) - 1\n",
    "    x = 1\n",
    "    while x < c:\n",
    "        if str1[x] == 'i' and str1[x - 1] == ' ' and str1[x + 1] == ' ':\n",
    "            res += 'I'\n",
    "        if x == len(str1):\n",
    "            break\n",
    "        if str1[x] in '.?!' and 'a' <= str1[x + 2] <= 'z':\n",
    "            res += str1[x] + str1[x + 1] + chr(ord(str1[x + 2]) - 32)  # Convert next character to uppercase\n",
    "            x += 3\n",
    "        else:\n",
    "            res += str1[x]\n",
    "            x += 1\n",
    "    return res\n",
    "print(make_capital(\"my favourite animal is a dog. a dog has sharp teeth so that it can eat flesh very easily. do you know my pet dog’s name? i love my pet very much.\"))"
   ]
  },
  {
   "cell_type": "markdown",
   "metadata": {},
   "source": [
    "HOMEWORK"
   ]
  },
  {
   "cell_type": "code",
   "execution_count": 71,
   "metadata": {},
   "outputs": [
    {
     "name": "stdout",
     "output_type": "stream",
     "text": [
      "Highest fee was 1000 tk which was paid by Neymar, Bale.\n",
      "Highest fee was 1200 tk which was paid by Steyn.\n"
     ]
    }
   ],
   "source": [
    "def hospital_fee(**kargs):\n",
    "    max_amount = 0\n",
    "    max_payers = []\n",
    "    for payer, fee in kargs.items():\n",
    "        if fee > max_amount:\n",
    "            max_amount = fee\n",
    "            max_payers = [payer]\n",
    "        elif fee == max_amount:\n",
    "            max_payers.append(payer)\n",
    "\n",
    "    out=''\n",
    "    for i in max_payers:\n",
    "        out+=i+', '\n",
    "    print(f\"Highest fee was {max_amount} tk which was paid by {out[:-2]}.\")\n",
    "    return max_amount,out\n",
    "\n",
    "max_amount, max_payer = hospital_fee(Neymar =1000, Dembele = 600, Reus = 500, Bale = 1000)\n",
    "max_amount, max_payers = hospital_fee(Mashrafe =400, Bumrah = 900, Steyn = 1200, Cummins = 900,Wood = 400, Marsh = 700)"
   ]
  },
  {
   "cell_type": "code",
   "execution_count": 40,
   "metadata": {},
   "outputs": [
    {
     "name": "stdout",
     "output_type": "stream",
     "text": [
      "True\n"
     ]
    }
   ],
   "source": [
    "# task2 \n",
    "def is_james_bond(var):\n",
    "    once = False  # Initialize found_0\n",
    "    twice = False  # Initialize found_00\n",
    "    for i in var:\n",
    "        if i == 0:\n",
    "            once = True  # Set found_0 to True when 0 is found\n",
    "        elif i == 7 and once:\n",
    "            twice = True  # Set found_00 to True when 7 follows 0\n",
    "    return once and twice\n",
    "result = is_james_bond( [1, 0, 2, 0, 4, 7, 5] )\n",
    "print(result)\n"
   ]
  },
  {
   "cell_type": "code",
   "execution_count": 48,
   "metadata": {},
   "outputs": [
    {
     "name": "stdout",
     "output_type": "stream",
     "text": [
      "{'A': ['Bob'], 'B': ['Charlie'], 'C': ['Grace'], 'D': ['Alice', 'David', 'Eve', 'Frank'], 'E': []}\n"
     ]
    }
   ],
   "source": [
    "# task3\n",
    "def assign_students_to_sections(sections, *students):\n",
    "    sec_assign = {}\n",
    "    for i in sections:\n",
    "        sec_assign[i] = []\n",
    "    for name in students:\n",
    "        ascii = 0\n",
    "        for j in name:\n",
    "            ascii += ord(j)\n",
    "        sec_pos = ascii % len(sections)\n",
    "        i = sections[sec_pos]\n",
    "        sec_assign[i].append(name)\n",
    "    return sec_assign\n",
    "# Test the function\n",
    "# sections = 'ABCDE'\n",
    "# student_names = ['Alice', 'Bob', 'Charlie', 'David', 'Eve', 'Frank', 'Grace']\n",
    "result = assign_students_to_sections('ABCDE', 'Alice', 'Bob', 'Charlie', 'David', 'Eve', 'Frank', 'Grace')\n",
    "print(result)\n"
   ]
  },
  {
   "cell_type": "code",
   "execution_count": 55,
   "metadata": {},
   "outputs": [
    {
     "name": "stdout",
     "output_type": "stream",
     "text": [
      "SHABinsan_5165\n"
     ]
    }
   ],
   "source": [
    "# task4\n",
    "def username_generator(first_name,last_name,student_id,middle_name=None):\n",
    "    out_C=''\n",
    "    for i in first_name:\n",
    "        if 'a'<=i<='z':\n",
    "            out_C+=chr(ord(i)-32)\n",
    "        else:\n",
    "            out_C+=i\n",
    "    first_name=out_C[:3]\n",
    "    out_L=''\n",
    "    for i in last_name:\n",
    "        if 'A'<=i<='Z':\n",
    "            out_L+=chr(ord(i)+32)\n",
    "        else:\n",
    "            out_L+=i\n",
    "    last_name=out_L[-3:]\n",
    "    student_id=str(student_id)[-4:]\n",
    "    if middle_name!=None:\n",
    "        user_name=(f'{first_name}{middle_name}{last_name}_{student_id}')\n",
    "    else:\n",
    "        user_name=(f'{first_name}{last_name}_{student_id}')\n",
    "\n",
    "    return user_name\n",
    "\n",
    "first_name=input('First: ');middle_name=input('Middle: ')\n",
    "last_name=input('Last: ');student_id=input('Student Id: ')\n",
    "\n",
    "# output=username_generator(first_name=input('firstname: '),last_name=input('lastname: '),student_id=input('studentid: '),middle_name=input('middlename: '))\n",
    "print(username_generator(first_name,last_name,student_id,middle_name))\n",
    "\n",
    "# print(output)"
   ]
  },
  {
   "cell_type": "code",
   "execution_count": 57,
   "metadata": {},
   "outputs": [
    {
     "name": "stdout",
     "output_type": "stream",
     "text": [
      "Encrypted Keys: ['a101108X', 'b111B', 't100117114Y']\n"
     ]
    }
   ],
   "source": [
    "# task5\n",
    "def key_generator(*names):\n",
    "    encrypted_keys = []\n",
    "\n",
    "    for name in names:\n",
    "        \n",
    "        first_char=chr(ord(name[0])+32)\n",
    "        last_char=chr(ord(name[-1])-32)\n",
    "        middle_chars = []\n",
    "        for char in name[1:-1]:\n",
    "            middle_chars.append(str(ord(char)))\n",
    "        output=''\n",
    "        for i in middle_chars[::-1]:\n",
    "            output+=i\n",
    "        encrypted_key = first_char + output + last_char\n",
    "        encrypted_keys.append(encrypted_key)\n",
    "    return encrypted_keys\n",
    "key_list = key_generator(\"Alex\", \"Bob\", \"Trudy\")\n",
    "print(\"Encrypted Keys:\", key_list)\n"
   ]
  },
  {
   "cell_type": "code",
   "execution_count": 64,
   "metadata": {},
   "outputs": [
    {
     "name": "stdout",
     "output_type": "stream",
     "text": [
      "Computer: paper\n",
      "Computer: paper\n",
      "Computer: rock\n",
      "Computer: scissors\n",
      "Computer: paper\n",
      "Your Score: 2\n",
      "Computer's Score: 3\n",
      "Computer has won the game!\n"
     ]
    }
   ],
   "source": [
    "# task6\n",
    "import random\n",
    "def playRockPaperScissor(rounds):\n",
    "    p_score = 0\n",
    "    c_score = 0\n",
    "    for i in range(rounds):\n",
    "        p_choice = input(\"Enter your choice (rock, paper, scissors): \").lower()\n",
    "        c_choice = random.choice([\"rock\", \"paper\", \"scissors\"])\n",
    "        print(f\"Computer: {c_choice}\")\n",
    "        # if player_choice == computer_choice:\n",
    "        #     print(\"It's a tie!\")\n",
    "        if ((p_choice == \"rock\" and c_choice == \"scissors\") or\n",
    "            (p_choice == \"scissors\" and c_choice == \"paper\") or\n",
    "            (p_choice == \"paper\" and c_choice == \"rock\")):\n",
    "            # print(\"You win this round!\")\n",
    "            p_score += 1\n",
    "        else:\n",
    "            # print(\"Computer wins this round!\")\n",
    "            c_score += 1\n",
    "\n",
    "    if p_score > c_score:\n",
    "        winner = \"Player\"\n",
    "    elif p_score < c_score:\n",
    "        winner = \"Computer\"\n",
    "    else:\n",
    "        winner = \"It's a tie!\"\n",
    "        \n",
    "    print(f\"Your Score: {p_score}\")\n",
    "    print(f\"Computer's Score: {c_score}\")\n",
    "    print(f\"{winner} has won the game!\")\n",
    "rounds = int(input(\"Enter the number of rounds: \"))\n",
    "playRockPaperScissor(rounds)\n"
   ]
  }
 ],
 "metadata": {
  "kernelspec": {
   "display_name": "Python 3",
   "language": "python",
   "name": "python3"
  },
  "language_info": {
   "codemirror_mode": {
    "name": "ipython",
    "version": 3
   },
   "file_extension": ".py",
   "mimetype": "text/x-python",
   "name": "python",
   "nbconvert_exporter": "python",
   "pygments_lexer": "ipython3",
   "version": "3.11.3"
  },
  "orig_nbformat": 4
 },
 "nbformat": 4,
 "nbformat_minor": 2
}
