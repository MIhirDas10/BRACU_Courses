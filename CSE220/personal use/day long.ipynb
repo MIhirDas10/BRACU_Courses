{
 "cells": [
  {
   "cell_type": "code",
   "execution_count": 1,
   "metadata": {},
   "outputs": [
    {
     "name": "stdout",
     "output_type": "stream",
     "text": [
      "[1 2 3 4 5]\n"
     ]
    }
   ],
   "source": [
    "import numpy as np\n",
    "array=np.array([1,2,3,4,5])\n",
    "print(array)"
   ]
  },
  {
   "cell_type": "code",
   "execution_count": 4,
   "metadata": {},
   "outputs": [
    {
     "name": "stdout",
     "output_type": "stream",
     "text": [
      "[0 0 0 0 0]\n",
      "<class 'numpy.ndarray'>\n",
      "[1 2 3 4 5]\n",
      "<class 'numpy.ndarray'>\n",
      "[0 0 0 0 0 0]\n",
      "<class 'numpy.ndarray'>\n"
     ]
    }
   ],
   "source": [
    "import numpy as np\n",
    "arr=np.array([0]*5)\n",
    "print(arr)\n",
    "print(type(arr))\n",
    "\n",
    "arr1=np.array([1,2,3,4,5])\n",
    "print(arr1)\n",
    "print(type(arr1))\n",
    "\n",
    "arr2=np.zeros(6,dtype=int)\n",
    "print(arr2)\n",
    "print(type(arr2))"
   ]
  },
  {
   "cell_type": "code",
   "execution_count": 5,
   "metadata": {},
   "outputs": [
    {
     "name": "stdout",
     "output_type": "stream",
     "text": [
      "1\n",
      "2\n",
      "3\n",
      "4\n"
     ]
    }
   ],
   "source": [
    "arr1=np.array([1,2,3,4])\n",
    "for i in range(0,len(arr1),1):\n",
    "    print(arr1[i])"
   ]
  },
  {
   "cell_type": "code",
   "execution_count": 9,
   "metadata": {},
   "outputs": [
    {
     "name": "stdout",
     "output_type": "stream",
     "text": [
      "[1 2 3 4 0 0]\n"
     ]
    }
   ],
   "source": [
    "def resizeArray(arr,new_size):\n",
    "    # arr2=np.zeros(new_size)\n",
    "    arr2=np.array([0]*new_size)\n",
    "    for i in range(len(arr)):\n",
    "        arr2[i]=arr[i]\n",
    "    return arr2\n",
    "arr1=np.array([1,2,3,4])\n",
    "print(resizeArray(arr1,6))"
   ]
  },
  {
   "cell_type": "code",
   "execution_count": 15,
   "metadata": {},
   "outputs": [
    {
     "name": "stdout",
     "output_type": "stream",
     "text": [
      "[2 3 4 0]\n"
     ]
    }
   ],
   "source": [
    "# left shift\n",
    "def shiftLeft(arr):\n",
    "    for i in range(1,len(arr),1):\n",
    "        arr[i-1]=arr[i]\n",
    "    arr[len(arr)-1]=0\n",
    "    return arr\n",
    "arr=np.array([1,2,3,4])\n",
    "print(shiftLeft(arr))"
   ]
  },
  {
   "cell_type": "code",
   "execution_count": 39,
   "metadata": {},
   "outputs": [
    {
     "name": "stdout",
     "output_type": "stream",
     "text": [
      "i\n",
      "h\n",
      "i\n",
      "r\n"
     ]
    }
   ],
   "source": [
    "name='mihir'\n",
    "for i in range(1,len(name),1):\n",
    "    print(name[i])"
   ]
  },
  {
   "cell_type": "code",
   "execution_count": 41,
   "metadata": {},
   "outputs": [
    {
     "name": "stdout",
     "output_type": "stream",
     "text": [
      "2\n",
      "3\n",
      "4\n"
     ]
    }
   ],
   "source": [
    "array=[1,2,3,4]\n",
    "for i in range(1,len(array),1):\n",
    "    print(array[i])"
   ]
  },
  {
   "cell_type": "code",
   "execution_count": 17,
   "metadata": {},
   "outputs": [
    {
     "name": "stdout",
     "output_type": "stream",
     "text": [
      "[0 1 2 3]\n"
     ]
    }
   ],
   "source": [
    "# right shift\n",
    "def shiftRight(arr):\n",
    "    for i in range(len(arr)-1,0,-1):\n",
    "        arr[i]=arr[i-1]\n",
    "    arr[0]=0\n",
    "    return arr\n",
    "arr=np.array([1,2,3,4])\n",
    "print(shiftRight(arr))"
   ]
  },
  {
   "cell_type": "code",
   "execution_count": 20,
   "metadata": {},
   "outputs": [
    {
     "name": "stdout",
     "output_type": "stream",
     "text": [
      "[2 3 4 5 1]\n"
     ]
    }
   ],
   "source": [
    "def rotateLeft(arr):\n",
    "    temp=arr[0]\n",
    "    for i in range(1,len(arr),1):\n",
    "        arr[i-1]=arr[i]\n",
    "    arr[len(arr)-1]=temp\n",
    "    return arr\n",
    "arr=np.array([1,2,3,4,5])\n",
    "print(rotateLeft(arr))"
   ]
  },
  {
   "cell_type": "code",
   "execution_count": 21,
   "metadata": {},
   "outputs": [
    {
     "name": "stdout",
     "output_type": "stream",
     "text": [
      "[5 1 2 3 4]\n"
     ]
    }
   ],
   "source": [
    "def rotateRight(arr):\n",
    "    temp=arr[len(arr)-1]\n",
    "    for i in range(len(arr)-1,0,-1):\n",
    "        arr[i]=arr[i-1]\n",
    "    arr[0]=temp\n",
    "    return arr\n",
    "arr=np.array([1,2,3,4,5])\n",
    "print(rotateRight(arr))"
   ]
  },
  {
   "cell_type": "code",
   "execution_count": 23,
   "metadata": {},
   "outputs": [
    {
     "name": "stdout",
     "output_type": "stream",
     "text": [
      "[5 4 3 2 1]\n",
      "[90 80 70 60 50 40 30 20 10]\n"
     ]
    }
   ],
   "source": [
    "def reverse_out_of_place(arr):\n",
    "    arr2=np.zeros(len(arr),dtype=int)\n",
    "    i=0\n",
    "    while(i<=len(arr)-1):\n",
    "        arr2[i]=arr[len(arr)-1-i]\n",
    "        i+=1\n",
    "    return arr2\n",
    "arr=np.array([1,2,3,4,5])\n",
    "print(reverse_out_of_place(arr))\n",
    "\n",
    "arr=np.array([10,20,30,40,50,60,70,80,90])\n",
    "print(reverse_out_of_place(arr))"
   ]
  },
  {
   "cell_type": "code",
   "execution_count": null,
   "metadata": {},
   "outputs": [],
   "source": [
    "# def reverse_in_place(arr):\n",
    "#     x,j=0, len(arr)-1\n",
    "#     for i in range(len(arr)//2):\n"
   ]
  },
  {
   "cell_type": "code",
   "execution_count": 28,
   "metadata": {},
   "outputs": [
    {
     "name": "stdout",
     "output_type": "stream",
     "text": [
      "[4 6 5 0]\n",
      "[4 6 0 0]\n",
      "[4 0 0 0]\n"
     ]
    }
   ],
   "source": [
    "def delete_last_element(arr,size):\n",
    "    if size==0:\n",
    "        return 'deletion not possible'\n",
    "    arr[size-1]=0\n",
    "    return arr\n",
    "arr=np.zeros(4,dtype=int)\n",
    "arr[0],arr[1],arr[2]=4,6,5\n",
    "print(arr)\n",
    "print(delete_last_element(arr,3))\n",
    "print(delete_last_element(arr,2))"
   ]
  },
  {
   "cell_type": "code",
   "execution_count": 29,
   "metadata": {},
   "outputs": [
    {
     "name": "stdout",
     "output_type": "stream",
     "text": [
      "[4 6 5 2 0]\n",
      "[6 5 2 0 0]\n"
     ]
    }
   ],
   "source": [
    "def delete_any_element(arr,size,index):\n",
    "    if size==0 or (index<0 and index>=size):\n",
    "        return 'deletion not possible'\n",
    "    else:\n",
    "        for i in range(index,size,1):\n",
    "            arr[i]=arr[i+1]\n",
    "        arr[size-1]=0\n",
    "        return arr\n",
    "arr=np.zeros(5,dtype=int)\n",
    "arr[0],arr[1],arr[2],arr[3]=4,6,5,2\n",
    "print(arr)\n",
    "print(delete_any_element(arr,4,0))"
   ]
  },
  {
   "cell_type": "code",
   "execution_count": 42,
   "metadata": {},
   "outputs": [
    {
     "ename": "NameError",
     "evalue": "name 'cards' is not defined",
     "output_type": "error",
     "traceback": [
      "\u001b[1;31m---------------------------------------------------------------------------\u001b[0m",
      "\u001b[1;31mNameError\u001b[0m                                 Traceback (most recent call last)",
      "Cell \u001b[1;32mIn[42], line 4\u001b[0m\n\u001b[0;32m      1\u001b[0m \u001b[38;5;28;01mdef\u001b[39;00m \u001b[38;5;21mdiscardCards\u001b[39m(cards,t):\n\u001b[0;32m      3\u001b[0m     cards\u001b[38;5;241m=\u001b[39mnp\u001b[38;5;241m.\u001b[39marray([\u001b[38;5;241m10\u001b[39m,\u001b[38;5;241m2\u001b[39m,\u001b[38;5;241m30\u001b[39m,\u001b[38;5;241m2\u001b[39m,\u001b[38;5;241m50\u001b[39m,\u001b[38;5;241m2\u001b[39m,\u001b[38;5;241m2\u001b[39m,\u001b[38;5;241m0\u001b[39m,\u001b[38;5;241m0\u001b[39m])\n\u001b[1;32m----> 4\u001b[0m \u001b[38;5;28mprint\u001b[39m(discardCards(\u001b[43mcards\u001b[49m,\u001b[38;5;241m2\u001b[39m))\n",
      "\u001b[1;31mNameError\u001b[0m: name 'cards' is not defined"
     ]
    }
   ],
   "source": [
    "def discardCards(cards,t):\n",
    "    \n",
    "    cards=np.array([10,2,30,2,50,2,2,0,0])\n",
    "print(discardCards(cards,2))"
   ]
  }
 ],
 "metadata": {
  "kernelspec": {
   "display_name": "Python 3",
   "language": "python",
   "name": "python3"
  },
  "language_info": {
   "codemirror_mode": {
    "name": "ipython",
    "version": 3
   },
   "file_extension": ".py",
   "mimetype": "text/x-python",
   "name": "python",
   "nbconvert_exporter": "python",
   "pygments_lexer": "ipython3",
   "version": "3.12.1"
  }
 },
 "nbformat": 4,
 "nbformat_minor": 2
}
